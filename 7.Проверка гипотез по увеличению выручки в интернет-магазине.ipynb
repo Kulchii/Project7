{
 "cells": [
  {
   "cell_type": "markdown",
   "metadata": {},
   "source": [
    "# Проверка гипотез по увеличению выручки в интернет-магазине - оценить результаты A/B теста.\n",
    "\n",
    "Вы — аналитик крупного интернет-магазина. Вместе с отделом маркетинга вы подготовили список гипотез для увеличения выручки.\n",
    "Приоритизируйте гипотезы, запустите A/B-тест и проанализируйте результаты."
   ]
  },
  {
   "cell_type": "markdown",
   "metadata": {},
   "source": [
    "# Описание данных\n",
    "\n",
    "1. Данные для первой части\n",
    "\n",
    "Файл /datasets/hypothesis.csv.\n",
    "\n",
    "Hypothesis — краткое описание гипотезы;\n",
    "\n",
    "Reach — охват пользователей по 10-балльной шкале;\n",
    "\n",
    "Impact — влияние на пользователей по 10-балльной шкале;\n",
    "\n",
    "Confidence — уверенность в гипотезе по 10-балльной шкале;\n",
    "\n",
    "Efforts — затраты ресурсов на проверку гипотезы по 10-балльной шкале. Чем больше значение Efforts, тем дороже проверка гипотезы.\n",
    "\n",
    "2. Данные для второй части\n",
    "\n",
    "Файл /datasets/orders.csv. \n",
    "\n",
    "transactionId — идентификатор заказа;\n",
    "\n",
    "visitorId — идентификатор пользователя, совершившего заказ;\n",
    "\n",
    "date — дата, когда был совершён заказ;\n",
    "\n",
    "revenue — выручка заказа;\n",
    "\n",
    "group — группа A/B-теста, в которую попал заказ.\n",
    "\n",
    "Файл /datasets/visitors.csv. \n",
    "\n",
    "date — дата;\n",
    "\n",
    "group — группа A/B-теста;\n",
    "\n",
    "visitors — количество пользователей в указанную дату в указанной группе A/B-теста"
   ]
  },
  {
   "cell_type": "markdown",
   "metadata": {},
   "source": [
    "## Изучение данных из файла."
   ]
  },
  {
   "cell_type": "markdown",
   "metadata": {},
   "source": [
    "Импортируем библиотеки."
   ]
  },
  {
   "cell_type": "code",
   "execution_count": 1,
   "metadata": {},
   "outputs": [],
   "source": [
    "import pandas as pd\n",
    "import scipy.stats as stats\n",
    "import datetime as dt\n",
    "import numpy as np\n",
    "import matplotlib.pyplot as plt\n",
    "import seaborn as sns\n",
    "pd.set_option('display.max_colwidth', 0)\n",
    "from scipy import stats as st\n",
    "import warnings\n",
    "warnings.filterwarnings('ignore')"
   ]
  },
  {
   "cell_type": "code",
   "execution_count": 2,
   "metadata": {},
   "outputs": [
    {
     "data": {
      "text/html": [
       "<div>\n",
       "<style scoped>\n",
       "    .dataframe tbody tr th:only-of-type {\n",
       "        vertical-align: middle;\n",
       "    }\n",
       "\n",
       "    .dataframe tbody tr th {\n",
       "        vertical-align: top;\n",
       "    }\n",
       "\n",
       "    .dataframe thead th {\n",
       "        text-align: right;\n",
       "    }\n",
       "</style>\n",
       "<table border=\"1\" class=\"dataframe\">\n",
       "  <thead>\n",
       "    <tr style=\"text-align: right;\">\n",
       "      <th></th>\n",
       "      <th>Hypothesis</th>\n",
       "      <th>Reach</th>\n",
       "      <th>Impact</th>\n",
       "      <th>Confidence</th>\n",
       "      <th>Efforts</th>\n",
       "    </tr>\n",
       "  </thead>\n",
       "  <tbody>\n",
       "    <tr>\n",
       "      <td>0</td>\n",
       "      <td>Добавить два новых канала привлечения трафика, что позволит привлекать на 30% больше пользователей</td>\n",
       "      <td>3</td>\n",
       "      <td>10</td>\n",
       "      <td>8</td>\n",
       "      <td>6</td>\n",
       "    </tr>\n",
       "    <tr>\n",
       "      <td>1</td>\n",
       "      <td>Запустить собственную службу доставки, что сократит срок доставки заказов</td>\n",
       "      <td>2</td>\n",
       "      <td>5</td>\n",
       "      <td>4</td>\n",
       "      <td>10</td>\n",
       "    </tr>\n",
       "    <tr>\n",
       "      <td>2</td>\n",
       "      <td>Добавить блоки рекомендаций товаров на сайт интернет магазина, чтобы повысить конверсию и средний чек заказа</td>\n",
       "      <td>8</td>\n",
       "      <td>3</td>\n",
       "      <td>7</td>\n",
       "      <td>3</td>\n",
       "    </tr>\n",
       "    <tr>\n",
       "      <td>3</td>\n",
       "      <td>Изменить структура категорий, что увеличит конверсию, т.к. пользователи быстрее найдут нужный товар</td>\n",
       "      <td>8</td>\n",
       "      <td>3</td>\n",
       "      <td>3</td>\n",
       "      <td>8</td>\n",
       "    </tr>\n",
       "    <tr>\n",
       "      <td>4</td>\n",
       "      <td>Изменить цвет фона главной страницы, чтобы увеличить вовлеченность пользователей</td>\n",
       "      <td>3</td>\n",
       "      <td>1</td>\n",
       "      <td>1</td>\n",
       "      <td>1</td>\n",
       "    </tr>\n",
       "    <tr>\n",
       "      <td>5</td>\n",
       "      <td>Добавить страницу отзывов клиентов о магазине, что позволит увеличить количество заказов</td>\n",
       "      <td>3</td>\n",
       "      <td>2</td>\n",
       "      <td>2</td>\n",
       "      <td>3</td>\n",
       "    </tr>\n",
       "    <tr>\n",
       "      <td>6</td>\n",
       "      <td>Показать на главной странице баннеры с актуальными акциями и распродажами, чтобы увеличить конверсию</td>\n",
       "      <td>5</td>\n",
       "      <td>3</td>\n",
       "      <td>8</td>\n",
       "      <td>3</td>\n",
       "    </tr>\n",
       "    <tr>\n",
       "      <td>7</td>\n",
       "      <td>Добавить форму подписки на все основные страницы, чтобы собрать базу клиентов для email-рассылок</td>\n",
       "      <td>10</td>\n",
       "      <td>7</td>\n",
       "      <td>8</td>\n",
       "      <td>5</td>\n",
       "    </tr>\n",
       "    <tr>\n",
       "      <td>8</td>\n",
       "      <td>Запустить акцию, дающую скидку на товар в день рождения</td>\n",
       "      <td>1</td>\n",
       "      <td>9</td>\n",
       "      <td>9</td>\n",
       "      <td>5</td>\n",
       "    </tr>\n",
       "  </tbody>\n",
       "</table>\n",
       "</div>"
      ],
      "text/plain": [
       "                                                                                                     Hypothesis  \\\n",
       "0  Добавить два новых канала привлечения трафика, что позволит привлекать на 30% больше пользователей             \n",
       "1  Запустить собственную службу доставки, что сократит срок доставки заказов                                      \n",
       "2  Добавить блоки рекомендаций товаров на сайт интернет магазина, чтобы повысить конверсию и средний чек заказа   \n",
       "3  Изменить структура категорий, что увеличит конверсию, т.к. пользователи быстрее найдут нужный товар            \n",
       "4  Изменить цвет фона главной страницы, чтобы увеличить вовлеченность пользователей                               \n",
       "5  Добавить страницу отзывов клиентов о магазине, что позволит увеличить количество заказов                       \n",
       "6  Показать на главной странице баннеры с актуальными акциями и распродажами, чтобы увеличить конверсию           \n",
       "7  Добавить форму подписки на все основные страницы, чтобы собрать базу клиентов для email-рассылок               \n",
       "8  Запустить акцию, дающую скидку на товар в день рождения                                                        \n",
       "\n",
       "   Reach  Impact  Confidence  Efforts  \n",
       "0  3      10      8           6        \n",
       "1  2      5       4           10       \n",
       "2  8      3       7           3        \n",
       "3  8      3       3           8        \n",
       "4  3      1       1           1        \n",
       "5  3      2       2           3        \n",
       "6  5      3       8           3        \n",
       "7  10     7       8           5        \n",
       "8  1      9       9           5        "
      ]
     },
     "execution_count": 2,
     "metadata": {},
     "output_type": "execute_result"
    }
   ],
   "source": [
    "try:\n",
    "    data = pd.read_csv('/datasets/hypothesis.csv', sep=',')\n",
    "except:\n",
    "    data = pd.read_csv('/datasets/hypothesis.csv', sep=',')\n",
    "data"
   ]
  },
  {
   "cell_type": "code",
   "execution_count": 3,
   "metadata": {},
   "outputs": [
    {
     "name": "stdout",
     "output_type": "stream",
     "text": [
      "<class 'pandas.core.frame.DataFrame'>\n",
      "RangeIndex: 9 entries, 0 to 8\n",
      "Data columns (total 5 columns):\n",
      "Hypothesis    9 non-null object\n",
      "Reach         9 non-null int64\n",
      "Impact        9 non-null int64\n",
      "Confidence    9 non-null int64\n",
      "Efforts       9 non-null int64\n",
      "dtypes: int64(4), object(1)\n",
      "memory usage: 488.0+ bytes\n"
     ]
    }
   ],
   "source": [
    "data.info()"
   ]
  },
  {
   "cell_type": "markdown",
   "metadata": {},
   "source": [
    "- Датасет состоит из 5 столбцов и 9 строк с гипотезами. Заменим названия столбцов к нижнему регистру."
   ]
  },
  {
   "cell_type": "code",
   "execution_count": 4,
   "metadata": {},
   "outputs": [],
   "source": [
    "try:\n",
    "    orders = pd.read_csv('/datasets/orders.csv', sep=',')\n",
    "except:\n",
    "    orders = pd.read_csv('/datasets/orders.csv', sep=',')"
   ]
  },
  {
   "cell_type": "code",
   "execution_count": 5,
   "metadata": {},
   "outputs": [
    {
     "name": "stdout",
     "output_type": "stream",
     "text": [
      "<class 'pandas.core.frame.DataFrame'>\n",
      "RangeIndex: 1197 entries, 0 to 1196\n",
      "Data columns (total 5 columns):\n",
      "transactionId    1197 non-null int64\n",
      "visitorId        1197 non-null int64\n",
      "date             1197 non-null object\n",
      "revenue          1197 non-null int64\n",
      "group            1197 non-null object\n",
      "dtypes: int64(3), object(2)\n",
      "memory usage: 46.9+ KB\n"
     ]
    }
   ],
   "source": [
    "orders.info()"
   ]
  },
  {
   "cell_type": "code",
   "execution_count": 6,
   "metadata": {},
   "outputs": [
    {
     "data": {
      "text/html": [
       "<div>\n",
       "<style scoped>\n",
       "    .dataframe tbody tr th:only-of-type {\n",
       "        vertical-align: middle;\n",
       "    }\n",
       "\n",
       "    .dataframe tbody tr th {\n",
       "        vertical-align: top;\n",
       "    }\n",
       "\n",
       "    .dataframe thead th {\n",
       "        text-align: right;\n",
       "    }\n",
       "</style>\n",
       "<table border=\"1\" class=\"dataframe\">\n",
       "  <thead>\n",
       "    <tr style=\"text-align: right;\">\n",
       "      <th></th>\n",
       "      <th>transactionId</th>\n",
       "      <th>visitorId</th>\n",
       "      <th>date</th>\n",
       "      <th>revenue</th>\n",
       "      <th>group</th>\n",
       "    </tr>\n",
       "  </thead>\n",
       "  <tbody>\n",
       "    <tr>\n",
       "      <td>0</td>\n",
       "      <td>3667963787</td>\n",
       "      <td>3312258926</td>\n",
       "      <td>2019-08-15</td>\n",
       "      <td>1650</td>\n",
       "      <td>B</td>\n",
       "    </tr>\n",
       "    <tr>\n",
       "      <td>1</td>\n",
       "      <td>2804400009</td>\n",
       "      <td>3642806036</td>\n",
       "      <td>2019-08-15</td>\n",
       "      <td>730</td>\n",
       "      <td>B</td>\n",
       "    </tr>\n",
       "    <tr>\n",
       "      <td>2</td>\n",
       "      <td>2961555356</td>\n",
       "      <td>4069496402</td>\n",
       "      <td>2019-08-15</td>\n",
       "      <td>400</td>\n",
       "      <td>A</td>\n",
       "    </tr>\n",
       "    <tr>\n",
       "      <td>3</td>\n",
       "      <td>3797467345</td>\n",
       "      <td>1196621759</td>\n",
       "      <td>2019-08-15</td>\n",
       "      <td>9759</td>\n",
       "      <td>B</td>\n",
       "    </tr>\n",
       "    <tr>\n",
       "      <td>4</td>\n",
       "      <td>2282983706</td>\n",
       "      <td>2322279887</td>\n",
       "      <td>2019-08-15</td>\n",
       "      <td>2308</td>\n",
       "      <td>B</td>\n",
       "    </tr>\n",
       "  </tbody>\n",
       "</table>\n",
       "</div>"
      ],
      "text/plain": [
       "   transactionId   visitorId        date  revenue group\n",
       "0  3667963787     3312258926  2019-08-15  1650     B   \n",
       "1  2804400009     3642806036  2019-08-15  730      B   \n",
       "2  2961555356     4069496402  2019-08-15  400      A   \n",
       "3  3797467345     1196621759  2019-08-15  9759     B   \n",
       "4  2282983706     2322279887  2019-08-15  2308     B   "
      ]
     },
     "execution_count": 6,
     "metadata": {},
     "output_type": "execute_result"
    }
   ],
   "source": [
    "orders.head()"
   ]
  },
  {
   "cell_type": "code",
   "execution_count": 7,
   "metadata": {},
   "outputs": [
    {
     "data": {
      "text/html": [
       "<div>\n",
       "<style scoped>\n",
       "    .dataframe tbody tr th:only-of-type {\n",
       "        vertical-align: middle;\n",
       "    }\n",
       "\n",
       "    .dataframe tbody tr th {\n",
       "        vertical-align: top;\n",
       "    }\n",
       "\n",
       "    .dataframe thead th {\n",
       "        text-align: right;\n",
       "    }\n",
       "</style>\n",
       "<table border=\"1\" class=\"dataframe\">\n",
       "  <thead>\n",
       "    <tr style=\"text-align: right;\">\n",
       "      <th></th>\n",
       "      <th>transactionId</th>\n",
       "      <th>visitorId</th>\n",
       "      <th>date</th>\n",
       "      <th>revenue</th>\n",
       "      <th>group</th>\n",
       "    </tr>\n",
       "  </thead>\n",
       "  <tbody>\n",
       "    <tr>\n",
       "      <td>1192</td>\n",
       "      <td>2662137336</td>\n",
       "      <td>3733762160</td>\n",
       "      <td>2019-08-14</td>\n",
       "      <td>6490</td>\n",
       "      <td>B</td>\n",
       "    </tr>\n",
       "    <tr>\n",
       "      <td>1193</td>\n",
       "      <td>2203539145</td>\n",
       "      <td>370388673</td>\n",
       "      <td>2019-08-14</td>\n",
       "      <td>3190</td>\n",
       "      <td>A</td>\n",
       "    </tr>\n",
       "    <tr>\n",
       "      <td>1194</td>\n",
       "      <td>1807773912</td>\n",
       "      <td>573423106</td>\n",
       "      <td>2019-08-14</td>\n",
       "      <td>10550</td>\n",
       "      <td>A</td>\n",
       "    </tr>\n",
       "    <tr>\n",
       "      <td>1195</td>\n",
       "      <td>1947021204</td>\n",
       "      <td>1614305549</td>\n",
       "      <td>2019-08-14</td>\n",
       "      <td>100</td>\n",
       "      <td>A</td>\n",
       "    </tr>\n",
       "    <tr>\n",
       "      <td>1196</td>\n",
       "      <td>3936777065</td>\n",
       "      <td>2108080724</td>\n",
       "      <td>2019-08-15</td>\n",
       "      <td>202740</td>\n",
       "      <td>B</td>\n",
       "    </tr>\n",
       "  </tbody>\n",
       "</table>\n",
       "</div>"
      ],
      "text/plain": [
       "      transactionId   visitorId        date  revenue group\n",
       "1192  2662137336     3733762160  2019-08-14  6490     B   \n",
       "1193  2203539145     370388673   2019-08-14  3190     A   \n",
       "1194  1807773912     573423106   2019-08-14  10550    A   \n",
       "1195  1947021204     1614305549  2019-08-14  100      A   \n",
       "1196  3936777065     2108080724  2019-08-15  202740   B   "
      ]
     },
     "execution_count": 7,
     "metadata": {},
     "output_type": "execute_result"
    }
   ],
   "source": [
    "orders.tail()"
   ]
  },
  {
   "cell_type": "code",
   "execution_count": 8,
   "metadata": {},
   "outputs": [
    {
     "data": {
      "text/plain": [
       "transactionId    0\n",
       "visitorId        0\n",
       "date             0\n",
       "revenue          0\n",
       "group            0\n",
       "dtype: int64"
      ]
     },
     "execution_count": 8,
     "metadata": {},
     "output_type": "execute_result"
    }
   ],
   "source": [
    "orders.isnull().sum()"
   ]
  },
  {
   "cell_type": "code",
   "execution_count": 9,
   "metadata": {},
   "outputs": [
    {
     "name": "stdout",
     "output_type": "stream",
     "text": [
      "3574407166    1\n",
      "2470658885    1\n",
      "1476831880    1\n",
      "3709669952    1\n",
      "2764584088    1\n",
      "             ..\n",
      "1168756094    1\n",
      "1185885568    1\n",
      "11068804      1\n",
      "486237576     1\n",
      "1192185169    1\n",
      "Name: transactionId, Length: 1197, dtype: int64\n",
      "4256040402    11\n",
      "2458001652    11\n",
      "2378935119    9 \n",
      "2038680547    8 \n",
      "3717692402    5 \n",
      "             .. \n",
      "3254689071    1 \n",
      "4186744110    1 \n",
      "1455861274    1 \n",
      "3612778094    1 \n",
      "3149228032    1 \n",
      "Name: visitorId, Length: 1031, dtype: int64\n",
      "2019-08-05    48\n",
      "2019-08-14    47\n",
      "2019-08-12    47\n",
      "2019-08-15    46\n",
      "2019-08-06    46\n",
      "2019-08-28    45\n",
      "2019-08-01    45\n",
      "2019-08-27    44\n",
      "2019-08-02    44\n",
      "2019-08-19    43\n",
      "2019-08-08    43\n",
      "2019-08-29    42\n",
      "2019-08-07    42\n",
      "2019-08-09    41\n",
      "2019-08-26    41\n",
      "2019-08-22    41\n",
      "2019-08-23    40\n",
      "2019-08-03    40\n",
      "2019-08-10    39\n",
      "2019-08-16    38\n",
      "2019-08-21    37\n",
      "2019-08-13    35\n",
      "2019-08-30    35\n",
      "2019-08-04    33\n",
      "2019-08-20    32\n",
      "2019-08-31    32\n",
      "2019-08-24    31\n",
      "2019-08-18    26\n",
      "2019-08-11    26\n",
      "2019-08-25    24\n",
      "2019-08-17    24\n",
      "Name: date, dtype: int64\n",
      "990      17\n",
      "890      13\n",
      "390      13\n",
      "1490     10\n",
      "1190     10\n",
      "         ..\n",
      "1139     1 \n",
      "25250    1 \n",
      "3180     1 \n",
      "10970    1 \n",
      "6145     1 \n",
      "Name: revenue, Length: 713, dtype: int64\n",
      "B    640\n",
      "A    557\n",
      "Name: group, dtype: int64\n"
     ]
    }
   ],
   "source": [
    "for row in orders: \n",
    "    print(orders[row].value_counts()) "
   ]
  },
  {
   "cell_type": "code",
   "execution_count": 10,
   "metadata": {},
   "outputs": [
    {
     "data": {
      "text/plain": [
       "0"
      ]
     },
     "execution_count": 10,
     "metadata": {},
     "output_type": "execute_result"
    }
   ],
   "source": [
    "orders.duplicated().sum()"
   ]
  },
  {
   "cell_type": "markdown",
   "metadata": {},
   "source": [
    "- Датасет состоит из 5 столбцов и 1197 строк. Пропущенных значений нет, полных дубликатов нет, нулей нет.Преобразовать в нужные типы данных."
   ]
  },
  {
   "cell_type": "code",
   "execution_count": 11,
   "metadata": {},
   "outputs": [],
   "source": [
    "try:\n",
    "    visitors = pd.read_csv('/datasets/visitors.csv', sep=',')\n",
    "except:\n",
    "    visitors = pd.read_csv('/datasets/visitors.csv', sep=',')"
   ]
  },
  {
   "cell_type": "code",
   "execution_count": 12,
   "metadata": {},
   "outputs": [
    {
     "name": "stdout",
     "output_type": "stream",
     "text": [
      "<class 'pandas.core.frame.DataFrame'>\n",
      "RangeIndex: 62 entries, 0 to 61\n",
      "Data columns (total 3 columns):\n",
      "date        62 non-null object\n",
      "group       62 non-null object\n",
      "visitors    62 non-null int64\n",
      "dtypes: int64(1), object(2)\n",
      "memory usage: 1.6+ KB\n"
     ]
    }
   ],
   "source": [
    "visitors.info()"
   ]
  },
  {
   "cell_type": "code",
   "execution_count": 13,
   "metadata": {},
   "outputs": [
    {
     "data": {
      "text/html": [
       "<div>\n",
       "<style scoped>\n",
       "    .dataframe tbody tr th:only-of-type {\n",
       "        vertical-align: middle;\n",
       "    }\n",
       "\n",
       "    .dataframe tbody tr th {\n",
       "        vertical-align: top;\n",
       "    }\n",
       "\n",
       "    .dataframe thead th {\n",
       "        text-align: right;\n",
       "    }\n",
       "</style>\n",
       "<table border=\"1\" class=\"dataframe\">\n",
       "  <thead>\n",
       "    <tr style=\"text-align: right;\">\n",
       "      <th></th>\n",
       "      <th>date</th>\n",
       "      <th>group</th>\n",
       "      <th>visitors</th>\n",
       "    </tr>\n",
       "  </thead>\n",
       "  <tbody>\n",
       "    <tr>\n",
       "      <td>0</td>\n",
       "      <td>2019-08-01</td>\n",
       "      <td>A</td>\n",
       "      <td>719</td>\n",
       "    </tr>\n",
       "    <tr>\n",
       "      <td>1</td>\n",
       "      <td>2019-08-02</td>\n",
       "      <td>A</td>\n",
       "      <td>619</td>\n",
       "    </tr>\n",
       "    <tr>\n",
       "      <td>2</td>\n",
       "      <td>2019-08-03</td>\n",
       "      <td>A</td>\n",
       "      <td>507</td>\n",
       "    </tr>\n",
       "    <tr>\n",
       "      <td>3</td>\n",
       "      <td>2019-08-04</td>\n",
       "      <td>A</td>\n",
       "      <td>717</td>\n",
       "    </tr>\n",
       "    <tr>\n",
       "      <td>4</td>\n",
       "      <td>2019-08-05</td>\n",
       "      <td>A</td>\n",
       "      <td>756</td>\n",
       "    </tr>\n",
       "  </tbody>\n",
       "</table>\n",
       "</div>"
      ],
      "text/plain": [
       "         date group  visitors\n",
       "0  2019-08-01  A     719     \n",
       "1  2019-08-02  A     619     \n",
       "2  2019-08-03  A     507     \n",
       "3  2019-08-04  A     717     \n",
       "4  2019-08-05  A     756     "
      ]
     },
     "execution_count": 13,
     "metadata": {},
     "output_type": "execute_result"
    }
   ],
   "source": [
    "visitors.head()"
   ]
  },
  {
   "cell_type": "code",
   "execution_count": 14,
   "metadata": {},
   "outputs": [
    {
     "data": {
      "text/html": [
       "<div>\n",
       "<style scoped>\n",
       "    .dataframe tbody tr th:only-of-type {\n",
       "        vertical-align: middle;\n",
       "    }\n",
       "\n",
       "    .dataframe tbody tr th {\n",
       "        vertical-align: top;\n",
       "    }\n",
       "\n",
       "    .dataframe thead th {\n",
       "        text-align: right;\n",
       "    }\n",
       "</style>\n",
       "<table border=\"1\" class=\"dataframe\">\n",
       "  <thead>\n",
       "    <tr style=\"text-align: right;\">\n",
       "      <th></th>\n",
       "      <th>date</th>\n",
       "      <th>group</th>\n",
       "      <th>visitors</th>\n",
       "    </tr>\n",
       "  </thead>\n",
       "  <tbody>\n",
       "    <tr>\n",
       "      <td>57</td>\n",
       "      <td>2019-08-27</td>\n",
       "      <td>B</td>\n",
       "      <td>720</td>\n",
       "    </tr>\n",
       "    <tr>\n",
       "      <td>58</td>\n",
       "      <td>2019-08-28</td>\n",
       "      <td>B</td>\n",
       "      <td>654</td>\n",
       "    </tr>\n",
       "    <tr>\n",
       "      <td>59</td>\n",
       "      <td>2019-08-29</td>\n",
       "      <td>B</td>\n",
       "      <td>531</td>\n",
       "    </tr>\n",
       "    <tr>\n",
       "      <td>60</td>\n",
       "      <td>2019-08-30</td>\n",
       "      <td>B</td>\n",
       "      <td>490</td>\n",
       "    </tr>\n",
       "    <tr>\n",
       "      <td>61</td>\n",
       "      <td>2019-08-31</td>\n",
       "      <td>B</td>\n",
       "      <td>718</td>\n",
       "    </tr>\n",
       "  </tbody>\n",
       "</table>\n",
       "</div>"
      ],
      "text/plain": [
       "          date group  visitors\n",
       "57  2019-08-27  B     720     \n",
       "58  2019-08-28  B     654     \n",
       "59  2019-08-29  B     531     \n",
       "60  2019-08-30  B     490     \n",
       "61  2019-08-31  B     718     "
      ]
     },
     "execution_count": 14,
     "metadata": {},
     "output_type": "execute_result"
    }
   ],
   "source": [
    "visitors.tail()"
   ]
  },
  {
   "cell_type": "code",
   "execution_count": 15,
   "metadata": {},
   "outputs": [
    {
     "data": {
      "text/plain": [
       "date        0\n",
       "group       0\n",
       "visitors    0\n",
       "dtype: int64"
      ]
     },
     "execution_count": 15,
     "metadata": {},
     "output_type": "execute_result"
    }
   ],
   "source": [
    "visitors.isnull().sum()"
   ]
  },
  {
   "cell_type": "code",
   "execution_count": 16,
   "metadata": {
    "scrolled": true
   },
   "outputs": [
    {
     "name": "stdout",
     "output_type": "stream",
     "text": [
      "2019-08-11    2\n",
      "2019-08-03    2\n",
      "2019-08-09    2\n",
      "2019-08-28    2\n",
      "2019-08-08    2\n",
      "2019-08-14    2\n",
      "2019-08-10    2\n",
      "2019-08-13    2\n",
      "2019-08-12    2\n",
      "2019-08-30    2\n",
      "2019-08-16    2\n",
      "2019-08-04    2\n",
      "2019-08-05    2\n",
      "2019-08-15    2\n",
      "2019-08-07    2\n",
      "2019-08-01    2\n",
      "2019-08-25    2\n",
      "2019-08-22    2\n",
      "2019-08-21    2\n",
      "2019-08-27    2\n",
      "2019-08-20    2\n",
      "2019-08-23    2\n",
      "2019-08-24    2\n",
      "2019-08-18    2\n",
      "2019-08-31    2\n",
      "2019-08-29    2\n",
      "2019-08-06    2\n",
      "2019-08-17    2\n",
      "2019-08-02    2\n",
      "2019-08-19    2\n",
      "2019-08-26    2\n",
      "Name: date, dtype: int64\n",
      "A    31\n",
      "B    31\n",
      "Name: group, dtype: int64\n",
      "610    2\n",
      "718    2\n",
      "654    2\n",
      "490    2\n",
      "509    1\n",
      "575    1\n",
      "699    1\n",
      "709    1\n",
      "361    1\n",
      "560    1\n",
      "679    1\n",
      "421    1\n",
      "676    1\n",
      "546    1\n",
      "544    1\n",
      "543    1\n",
      "722    1\n",
      "707    1\n",
      "668    1\n",
      "667    1\n",
      "406    1\n",
      "531    1\n",
      "656    1\n",
      "655    1\n",
      "395    1\n",
      "650    1\n",
      "646    1\n",
      "644    1\n",
      "770    1\n",
      "577    1\n",
      "711    1\n",
      "581    1\n",
      "617    1\n",
      "378    1\n",
      "413    1\n",
      "746    1\n",
      "502    1\n",
      "628    1\n",
      "756    1\n",
      "369    1\n",
      "412    1\n",
      "621    1\n",
      "748    1\n",
      "619    1\n",
      "487    1\n",
      "507    1\n",
      "609    1\n",
      "737    1\n",
      "735    1\n",
      "468    1\n",
      "595    1\n",
      "594    1\n",
      "721    1\n",
      "720    1\n",
      "719    1\n",
      "717    1\n",
      "713    1\n",
      "769    1\n",
      "Name: visitors, dtype: int64\n"
     ]
    }
   ],
   "source": [
    "for row in visitors: \n",
    "    print(visitors[row].value_counts()) "
   ]
  },
  {
   "cell_type": "code",
   "execution_count": 17,
   "metadata": {},
   "outputs": [
    {
     "data": {
      "text/plain": [
       "0"
      ]
     },
     "execution_count": 17,
     "metadata": {},
     "output_type": "execute_result"
    }
   ],
   "source": [
    "visitors.duplicated().sum()"
   ]
  },
  {
   "cell_type": "markdown",
   "metadata": {},
   "source": [
    "- Датасет состоит из 3 столбцов и 62 строк. Пропущенных значений нет, полных дубликатов нет, нулей нет.Преобразовать в нужные типы данных."
   ]
  },
  {
   "cell_type": "markdown",
   "metadata": {},
   "source": [
    "- Предобработка данных."
   ]
  },
  {
   "cell_type": "code",
   "execution_count": 18,
   "metadata": {},
   "outputs": [
    {
     "name": "stdout",
     "output_type": "stream",
     "text": [
      "<class 'pandas.core.frame.DataFrame'>\n",
      "RangeIndex: 9 entries, 0 to 8\n",
      "Data columns (total 5 columns):\n",
      "hypothesis    9 non-null object\n",
      "reach         9 non-null int64\n",
      "impact        9 non-null int64\n",
      "confidence    9 non-null int64\n",
      "efforts       9 non-null int64\n",
      "dtypes: int64(4), object(1)\n",
      "memory usage: 488.0+ bytes\n"
     ]
    }
   ],
   "source": [
    "data.columns = data.columns.str.lower()\n",
    "data.info()"
   ]
  },
  {
   "cell_type": "code",
   "execution_count": 19,
   "metadata": {},
   "outputs": [],
   "source": [
    "visitors['date'] = pd.to_datetime(visitors['date'], format = '%Y.%m.%d')\n",
    "orders['date'] = pd.to_datetime(orders['date'], format = '%Y.%m.%d')"
   ]
  },
  {
   "cell_type": "code",
   "execution_count": 20,
   "metadata": {},
   "outputs": [
    {
     "name": "stdout",
     "output_type": "stream",
     "text": [
      "<class 'pandas.core.frame.DataFrame'>\n",
      "RangeIndex: 62 entries, 0 to 61\n",
      "Data columns (total 3 columns):\n",
      "date        62 non-null datetime64[ns]\n",
      "group       62 non-null object\n",
      "visitors    62 non-null int64\n",
      "dtypes: datetime64[ns](1), int64(1), object(1)\n",
      "memory usage: 1.6+ KB\n"
     ]
    }
   ],
   "source": [
    "visitors.info()"
   ]
  },
  {
   "cell_type": "code",
   "execution_count": 21,
   "metadata": {},
   "outputs": [
    {
     "name": "stdout",
     "output_type": "stream",
     "text": [
      "<class 'pandas.core.frame.DataFrame'>\n",
      "RangeIndex: 1197 entries, 0 to 1196\n",
      "Data columns (total 5 columns):\n",
      "transactionId    1197 non-null int64\n",
      "visitorId        1197 non-null int64\n",
      "date             1197 non-null datetime64[ns]\n",
      "revenue          1197 non-null int64\n",
      "group            1197 non-null object\n",
      "dtypes: datetime64[ns](1), int64(3), object(1)\n",
      "memory usage: 46.9+ KB\n"
     ]
    }
   ],
   "source": [
    "orders.info()"
   ]
  },
  {
   "cell_type": "code",
   "execution_count": 22,
   "metadata": {},
   "outputs": [
    {
     "data": {
      "text/plain": [
       "0"
      ]
     },
     "metadata": {},
     "output_type": "display_data"
    },
    {
     "data": {
      "text/plain": [
       "0"
      ]
     },
     "execution_count": 22,
     "metadata": {},
     "output_type": "execute_result"
    }
   ],
   "source": [
    "display(orders.duplicated().sum())\n",
    "visitors.duplicated().sum()"
   ]
  },
  {
   "cell_type": "markdown",
   "metadata": {},
   "source": [
    "Размеры групп."
   ]
  },
  {
   "cell_type": "code",
   "execution_count": 23,
   "metadata": {},
   "outputs": [
    {
     "data": {
      "text/plain": [
       "A    31\n",
       "B    31\n",
       "Name: group, dtype: int64"
      ]
     },
     "execution_count": 23,
     "metadata": {},
     "output_type": "execute_result"
    }
   ],
   "source": [
    "visitors['group'].value_counts()"
   ]
  },
  {
   "cell_type": "code",
   "execution_count": 24,
   "metadata": {},
   "outputs": [
    {
     "data": {
      "text/plain": [
       "B    640\n",
       "A    557\n",
       "Name: group, dtype: int64"
      ]
     },
     "execution_count": 24,
     "metadata": {},
     "output_type": "execute_result"
    }
   ],
   "source": [
    "orders['group'].value_counts()"
   ]
  },
  {
   "cell_type": "markdown",
   "metadata": {},
   "source": [
    "Количество покупок в группе А=557,в группе В=640."
   ]
  },
  {
   "cell_type": "code",
   "execution_count": 25,
   "metadata": {},
   "outputs": [
    {
     "data": {
      "text/plain": [
       "58"
      ]
     },
     "execution_count": 25,
     "metadata": {},
     "output_type": "execute_result"
    }
   ],
   "source": [
    "len(np.intersect1d(orders.query('group ==\"A\"')['visitorId'].unique(),orders.query('group ==\"B\"')['visitorId'].unique()))"
   ]
  },
  {
   "cell_type": "code",
   "execution_count": 26,
   "metadata": {},
   "outputs": [
    {
     "data": {
      "text/plain": [
       "1197"
      ]
     },
     "execution_count": 26,
     "metadata": {},
     "output_type": "execute_result"
    }
   ],
   "source": [
    "len(orders['group'])"
   ]
  },
  {
   "cell_type": "markdown",
   "metadata": {},
   "source": [
    "4,8% пользователей,попавшие в обе группы."
   ]
  },
  {
   "cell_type": "markdown",
   "metadata": {},
   "source": [
    "# Часть 1. Приоритизация гипотез.\n",
    "## Задачи.Приотизация.\n",
    "- Примените фреймворк ICE для приоритизации гипотез. Отсортируйте их по убыванию приоритета.\n",
    "- Примените фреймворк RICE для приоритизации гипотез. Отсортируйте их по убыванию приоритета.\n",
    "- Укажите, как изменилась приоритизация гипотез при применении RICE вместо ICE. Объясните, почему так произошло."
   ]
  },
  {
   "cell_type": "markdown",
   "metadata": {},
   "source": [
    "$$ICE = \\frac{Impact * Confidence}{Efforts}$$\n"
   ]
  },
  {
   "cell_type": "code",
   "execution_count": 27,
   "metadata": {},
   "outputs": [
    {
     "data": {
      "text/html": [
       "<div>\n",
       "<style scoped>\n",
       "    .dataframe tbody tr th:only-of-type {\n",
       "        vertical-align: middle;\n",
       "    }\n",
       "\n",
       "    .dataframe tbody tr th {\n",
       "        vertical-align: top;\n",
       "    }\n",
       "\n",
       "    .dataframe thead th {\n",
       "        text-align: right;\n",
       "    }\n",
       "</style>\n",
       "<table border=\"1\" class=\"dataframe\">\n",
       "  <thead>\n",
       "    <tr style=\"text-align: right;\">\n",
       "      <th></th>\n",
       "      <th>hypothesis</th>\n",
       "      <th>ICE</th>\n",
       "    </tr>\n",
       "  </thead>\n",
       "  <tbody>\n",
       "    <tr>\n",
       "      <td>8</td>\n",
       "      <td>Запустить акцию, дающую скидку на товар в день рождения</td>\n",
       "      <td>16.20</td>\n",
       "    </tr>\n",
       "    <tr>\n",
       "      <td>0</td>\n",
       "      <td>Добавить два новых канала привлечения трафика, что позволит привлекать на 30% больше пользователей</td>\n",
       "      <td>13.33</td>\n",
       "    </tr>\n",
       "    <tr>\n",
       "      <td>7</td>\n",
       "      <td>Добавить форму подписки на все основные страницы, чтобы собрать базу клиентов для email-рассылок</td>\n",
       "      <td>11.20</td>\n",
       "    </tr>\n",
       "    <tr>\n",
       "      <td>6</td>\n",
       "      <td>Показать на главной странице баннеры с актуальными акциями и распродажами, чтобы увеличить конверсию</td>\n",
       "      <td>8.00</td>\n",
       "    </tr>\n",
       "    <tr>\n",
       "      <td>2</td>\n",
       "      <td>Добавить блоки рекомендаций товаров на сайт интернет магазина, чтобы повысить конверсию и средний чек заказа</td>\n",
       "      <td>7.00</td>\n",
       "    </tr>\n",
       "    <tr>\n",
       "      <td>1</td>\n",
       "      <td>Запустить собственную службу доставки, что сократит срок доставки заказов</td>\n",
       "      <td>2.00</td>\n",
       "    </tr>\n",
       "    <tr>\n",
       "      <td>5</td>\n",
       "      <td>Добавить страницу отзывов клиентов о магазине, что позволит увеличить количество заказов</td>\n",
       "      <td>1.33</td>\n",
       "    </tr>\n",
       "    <tr>\n",
       "      <td>3</td>\n",
       "      <td>Изменить структура категорий, что увеличит конверсию, т.к. пользователи быстрее найдут нужный товар</td>\n",
       "      <td>1.12</td>\n",
       "    </tr>\n",
       "    <tr>\n",
       "      <td>4</td>\n",
       "      <td>Изменить цвет фона главной страницы, чтобы увеличить вовлеченность пользователей</td>\n",
       "      <td>1.00</td>\n",
       "    </tr>\n",
       "  </tbody>\n",
       "</table>\n",
       "</div>"
      ],
      "text/plain": [
       "                                                                                                     hypothesis  \\\n",
       "8  Запустить акцию, дающую скидку на товар в день рождения                                                        \n",
       "0  Добавить два новых канала привлечения трафика, что позволит привлекать на 30% больше пользователей             \n",
       "7  Добавить форму подписки на все основные страницы, чтобы собрать базу клиентов для email-рассылок               \n",
       "6  Показать на главной странице баннеры с актуальными акциями и распродажами, чтобы увеличить конверсию           \n",
       "2  Добавить блоки рекомендаций товаров на сайт интернет магазина, чтобы повысить конверсию и средний чек заказа   \n",
       "1  Запустить собственную службу доставки, что сократит срок доставки заказов                                      \n",
       "5  Добавить страницу отзывов клиентов о магазине, что позволит увеличить количество заказов                       \n",
       "3  Изменить структура категорий, что увеличит конверсию, т.к. пользователи быстрее найдут нужный товар            \n",
       "4  Изменить цвет фона главной страницы, чтобы увеличить вовлеченность пользователей                               \n",
       "\n",
       "     ICE  \n",
       "8  16.20  \n",
       "0  13.33  \n",
       "7  11.20  \n",
       "6  8.00   \n",
       "2  7.00   \n",
       "1  2.00   \n",
       "5  1.33   \n",
       "3  1.12   \n",
       "4  1.00   "
      ]
     },
     "execution_count": 27,
     "metadata": {},
     "output_type": "execute_result"
    }
   ],
   "source": [
    "data['ICE'] = (data['impact'] * data['confidence']) / data['efforts']\n",
    "\n",
    "data[['hypothesis','ICE']].sort_values(by = 'ICE', ascending = False).round(2)"
   ]
  },
  {
   "cell_type": "markdown",
   "metadata": {},
   "source": [
    "Наиболее перспективные гипотезы по ICE: 8,0,7 и 6.Наиболее не перспективные 4,3,5 и 1."
   ]
  },
  {
   "cell_type": "markdown",
   "metadata": {},
   "source": [
    "$$RICE = \\frac{Rearch * Impact * Confidence}{Efforts}$$"
   ]
  },
  {
   "cell_type": "code",
   "execution_count": 28,
   "metadata": {},
   "outputs": [
    {
     "data": {
      "text/html": [
       "<div>\n",
       "<style scoped>\n",
       "    .dataframe tbody tr th:only-of-type {\n",
       "        vertical-align: middle;\n",
       "    }\n",
       "\n",
       "    .dataframe tbody tr th {\n",
       "        vertical-align: top;\n",
       "    }\n",
       "\n",
       "    .dataframe thead th {\n",
       "        text-align: right;\n",
       "    }\n",
       "</style>\n",
       "<table border=\"1\" class=\"dataframe\">\n",
       "  <thead>\n",
       "    <tr style=\"text-align: right;\">\n",
       "      <th></th>\n",
       "      <th>hypothesis</th>\n",
       "      <th>RICE</th>\n",
       "    </tr>\n",
       "  </thead>\n",
       "  <tbody>\n",
       "    <tr>\n",
       "      <td>7</td>\n",
       "      <td>Добавить форму подписки на все основные страницы, чтобы собрать базу клиентов для email-рассылок</td>\n",
       "      <td>112.0</td>\n",
       "    </tr>\n",
       "    <tr>\n",
       "      <td>2</td>\n",
       "      <td>Добавить блоки рекомендаций товаров на сайт интернет магазина, чтобы повысить конверсию и средний чек заказа</td>\n",
       "      <td>56.0</td>\n",
       "    </tr>\n",
       "    <tr>\n",
       "      <td>0</td>\n",
       "      <td>Добавить два новых канала привлечения трафика, что позволит привлекать на 30% больше пользователей</td>\n",
       "      <td>40.0</td>\n",
       "    </tr>\n",
       "    <tr>\n",
       "      <td>6</td>\n",
       "      <td>Показать на главной странице баннеры с актуальными акциями и распродажами, чтобы увеличить конверсию</td>\n",
       "      <td>40.0</td>\n",
       "    </tr>\n",
       "    <tr>\n",
       "      <td>8</td>\n",
       "      <td>Запустить акцию, дающую скидку на товар в день рождения</td>\n",
       "      <td>16.2</td>\n",
       "    </tr>\n",
       "    <tr>\n",
       "      <td>3</td>\n",
       "      <td>Изменить структура категорий, что увеличит конверсию, т.к. пользователи быстрее найдут нужный товар</td>\n",
       "      <td>9.0</td>\n",
       "    </tr>\n",
       "    <tr>\n",
       "      <td>1</td>\n",
       "      <td>Запустить собственную службу доставки, что сократит срок доставки заказов</td>\n",
       "      <td>4.0</td>\n",
       "    </tr>\n",
       "    <tr>\n",
       "      <td>5</td>\n",
       "      <td>Добавить страницу отзывов клиентов о магазине, что позволит увеличить количество заказов</td>\n",
       "      <td>4.0</td>\n",
       "    </tr>\n",
       "    <tr>\n",
       "      <td>4</td>\n",
       "      <td>Изменить цвет фона главной страницы, чтобы увеличить вовлеченность пользователей</td>\n",
       "      <td>3.0</td>\n",
       "    </tr>\n",
       "  </tbody>\n",
       "</table>\n",
       "</div>"
      ],
      "text/plain": [
       "                                                                                                     hypothesis  \\\n",
       "7  Добавить форму подписки на все основные страницы, чтобы собрать базу клиентов для email-рассылок               \n",
       "2  Добавить блоки рекомендаций товаров на сайт интернет магазина, чтобы повысить конверсию и средний чек заказа   \n",
       "0  Добавить два новых канала привлечения трафика, что позволит привлекать на 30% больше пользователей             \n",
       "6  Показать на главной странице баннеры с актуальными акциями и распродажами, чтобы увеличить конверсию           \n",
       "8  Запустить акцию, дающую скидку на товар в день рождения                                                        \n",
       "3  Изменить структура категорий, что увеличит конверсию, т.к. пользователи быстрее найдут нужный товар            \n",
       "1  Запустить собственную службу доставки, что сократит срок доставки заказов                                      \n",
       "5  Добавить страницу отзывов клиентов о магазине, что позволит увеличить количество заказов                       \n",
       "4  Изменить цвет фона главной страницы, чтобы увеличить вовлеченность пользователей                               \n",
       "\n",
       "    RICE  \n",
       "7  112.0  \n",
       "2  56.0   \n",
       "0  40.0   \n",
       "6  40.0   \n",
       "8  16.2   \n",
       "3  9.0    \n",
       "1  4.0    \n",
       "5  4.0    \n",
       "4  3.0    "
      ]
     },
     "execution_count": 28,
     "metadata": {},
     "output_type": "execute_result"
    }
   ],
   "source": [
    "data['RICE'] = (data['reach'] * data['impact'] * data['confidence']) / data['efforts']\n",
    "\n",
    "data[['hypothesis' , 'RICE']].sort_values(by = 'RICE', ascending = False)"
   ]
  },
  {
   "cell_type": "markdown",
   "metadata": {},
   "source": [
    "Наиболее перспективные гипотезы по RICE: 7,2,0 и 6.Наиболее не перспективные 4,5,1 и 3."
   ]
  },
  {
   "cell_type": "code",
   "execution_count": 29,
   "metadata": {},
   "outputs": [
    {
     "data": {
      "text/html": [
       "<style  type=\"text/css\" >\n",
       "    #T_8ae7a696_927f_11ec_a9f1_02420a394f5arow0_col1 {\n",
       "            background-color:  #ff4c4c;\n",
       "            color:  #000000;\n",
       "        }    #T_8ae7a696_927f_11ec_a9f1_02420a394f5arow0_col2 {\n",
       "            background-color:  #ff0000;\n",
       "            color:  #f1f1f1;\n",
       "        }    #T_8ae7a696_927f_11ec_a9f1_02420a394f5arow1_col1 {\n",
       "            background-color:  #ff8b8b;\n",
       "            color:  #000000;\n",
       "        }    #T_8ae7a696_927f_11ec_a9f1_02420a394f5arow1_col2 {\n",
       "            background-color:  #ff7676;\n",
       "            color:  #000000;\n",
       "        }    #T_8ae7a696_927f_11ec_a9f1_02420a394f5arow2_col1 {\n",
       "            background-color:  #ff2b2b;\n",
       "            color:  #f1f1f1;\n",
       "        }    #T_8ae7a696_927f_11ec_a9f1_02420a394f5arow2_col2 {\n",
       "            background-color:  #ff9898;\n",
       "            color:  #000000;\n",
       "        }    #T_8ae7a696_927f_11ec_a9f1_02420a394f5arow3_col1 {\n",
       "            background-color:  #ff7c7c;\n",
       "            color:  #000000;\n",
       "        }    #T_8ae7a696_927f_11ec_a9f1_02420a394f5arow3_col2 {\n",
       "            background-color:  #ff9898;\n",
       "            color:  #000000;\n",
       "        }    #T_8ae7a696_927f_11ec_a9f1_02420a394f5arow4_col1 {\n",
       "            background-color:  #ff0000;\n",
       "            color:  #f1f1f1;\n",
       "        }    #T_8ae7a696_927f_11ec_a9f1_02420a394f5arow4_col2 {\n",
       "            background-color:  #ffcaca;\n",
       "            color:  #000000;\n",
       "        }    #T_8ae7a696_927f_11ec_a9f1_02420a394f5arow5_col1 {\n",
       "            background-color:  #ffe4e4;\n",
       "            color:  #000000;\n",
       "        }    #T_8ae7a696_927f_11ec_a9f1_02420a394f5arow5_col2 {\n",
       "            background-color:  #ffd9d9;\n",
       "            color:  #000000;\n",
       "        }    #T_8ae7a696_927f_11ec_a9f1_02420a394f5arow6_col1 {\n",
       "            background-color:  #ffd7d7;\n",
       "            color:  #000000;\n",
       "        }    #T_8ae7a696_927f_11ec_a9f1_02420a394f5arow6_col2 {\n",
       "            background-color:  #ffe4e4;\n",
       "            color:  #000000;\n",
       "        }    #T_8ae7a696_927f_11ec_a9f1_02420a394f5arow7_col1 {\n",
       "            background-color:  #ffe1e1;\n",
       "            color:  #000000;\n",
       "        }    #T_8ae7a696_927f_11ec_a9f1_02420a394f5arow7_col2 {\n",
       "            background-color:  #ffe4e4;\n",
       "            color:  #000000;\n",
       "        }    #T_8ae7a696_927f_11ec_a9f1_02420a394f5arow8_col1 {\n",
       "            background-color:  #ffe5e5;\n",
       "            color:  #000000;\n",
       "        }    #T_8ae7a696_927f_11ec_a9f1_02420a394f5arow8_col2 {\n",
       "            background-color:  #ffe5e5;\n",
       "            color:  #000000;\n",
       "        }</style><table id=\"T_8ae7a696_927f_11ec_a9f1_02420a394f5a\" ><thead>    <tr>        <th class=\"blank level0\" ></th>        <th class=\"col_heading level0 col0\" >hypothesis</th>        <th class=\"col_heading level0 col1\" >ICE</th>        <th class=\"col_heading level0 col2\" >RICE</th>    </tr></thead><tbody>\n",
       "                <tr>\n",
       "                        <th id=\"T_8ae7a696_927f_11ec_a9f1_02420a394f5alevel0_row0\" class=\"row_heading level0 row0\" >7</th>\n",
       "                        <td id=\"T_8ae7a696_927f_11ec_a9f1_02420a394f5arow0_col0\" class=\"data row0 col0\" >Добавить форму подписки на все основные страницы, чтобы собрать базу клиентов для email-рассылок</td>\n",
       "                        <td id=\"T_8ae7a696_927f_11ec_a9f1_02420a394f5arow0_col1\" class=\"data row0 col1\" >11.2</td>\n",
       "                        <td id=\"T_8ae7a696_927f_11ec_a9f1_02420a394f5arow0_col2\" class=\"data row0 col2\" >112</td>\n",
       "            </tr>\n",
       "            <tr>\n",
       "                        <th id=\"T_8ae7a696_927f_11ec_a9f1_02420a394f5alevel0_row1\" class=\"row_heading level0 row1\" >2</th>\n",
       "                        <td id=\"T_8ae7a696_927f_11ec_a9f1_02420a394f5arow1_col0\" class=\"data row1 col0\" >Добавить блоки рекомендаций товаров на сайт интернет магазина, чтобы повысить конверсию и средний чек заказа</td>\n",
       "                        <td id=\"T_8ae7a696_927f_11ec_a9f1_02420a394f5arow1_col1\" class=\"data row1 col1\" >7</td>\n",
       "                        <td id=\"T_8ae7a696_927f_11ec_a9f1_02420a394f5arow1_col2\" class=\"data row1 col2\" >56</td>\n",
       "            </tr>\n",
       "            <tr>\n",
       "                        <th id=\"T_8ae7a696_927f_11ec_a9f1_02420a394f5alevel0_row2\" class=\"row_heading level0 row2\" >0</th>\n",
       "                        <td id=\"T_8ae7a696_927f_11ec_a9f1_02420a394f5arow2_col0\" class=\"data row2 col0\" >Добавить два новых канала привлечения трафика, что позволит привлекать на 30% больше пользователей</td>\n",
       "                        <td id=\"T_8ae7a696_927f_11ec_a9f1_02420a394f5arow2_col1\" class=\"data row2 col1\" >13.3333</td>\n",
       "                        <td id=\"T_8ae7a696_927f_11ec_a9f1_02420a394f5arow2_col2\" class=\"data row2 col2\" >40</td>\n",
       "            </tr>\n",
       "            <tr>\n",
       "                        <th id=\"T_8ae7a696_927f_11ec_a9f1_02420a394f5alevel0_row3\" class=\"row_heading level0 row3\" >6</th>\n",
       "                        <td id=\"T_8ae7a696_927f_11ec_a9f1_02420a394f5arow3_col0\" class=\"data row3 col0\" >Показать на главной странице баннеры с актуальными акциями и распродажами, чтобы увеличить конверсию</td>\n",
       "                        <td id=\"T_8ae7a696_927f_11ec_a9f1_02420a394f5arow3_col1\" class=\"data row3 col1\" >8</td>\n",
       "                        <td id=\"T_8ae7a696_927f_11ec_a9f1_02420a394f5arow3_col2\" class=\"data row3 col2\" >40</td>\n",
       "            </tr>\n",
       "            <tr>\n",
       "                        <th id=\"T_8ae7a696_927f_11ec_a9f1_02420a394f5alevel0_row4\" class=\"row_heading level0 row4\" >8</th>\n",
       "                        <td id=\"T_8ae7a696_927f_11ec_a9f1_02420a394f5arow4_col0\" class=\"data row4 col0\" >Запустить акцию, дающую скидку на товар в день рождения</td>\n",
       "                        <td id=\"T_8ae7a696_927f_11ec_a9f1_02420a394f5arow4_col1\" class=\"data row4 col1\" >16.2</td>\n",
       "                        <td id=\"T_8ae7a696_927f_11ec_a9f1_02420a394f5arow4_col2\" class=\"data row4 col2\" >16.2</td>\n",
       "            </tr>\n",
       "            <tr>\n",
       "                        <th id=\"T_8ae7a696_927f_11ec_a9f1_02420a394f5alevel0_row5\" class=\"row_heading level0 row5\" >3</th>\n",
       "                        <td id=\"T_8ae7a696_927f_11ec_a9f1_02420a394f5arow5_col0\" class=\"data row5 col0\" >Изменить структура категорий, что увеличит конверсию, т.к. пользователи быстрее найдут нужный товар</td>\n",
       "                        <td id=\"T_8ae7a696_927f_11ec_a9f1_02420a394f5arow5_col1\" class=\"data row5 col1\" >1.125</td>\n",
       "                        <td id=\"T_8ae7a696_927f_11ec_a9f1_02420a394f5arow5_col2\" class=\"data row5 col2\" >9</td>\n",
       "            </tr>\n",
       "            <tr>\n",
       "                        <th id=\"T_8ae7a696_927f_11ec_a9f1_02420a394f5alevel0_row6\" class=\"row_heading level0 row6\" >1</th>\n",
       "                        <td id=\"T_8ae7a696_927f_11ec_a9f1_02420a394f5arow6_col0\" class=\"data row6 col0\" >Запустить собственную службу доставки, что сократит срок доставки заказов</td>\n",
       "                        <td id=\"T_8ae7a696_927f_11ec_a9f1_02420a394f5arow6_col1\" class=\"data row6 col1\" >2</td>\n",
       "                        <td id=\"T_8ae7a696_927f_11ec_a9f1_02420a394f5arow6_col2\" class=\"data row6 col2\" >4</td>\n",
       "            </tr>\n",
       "            <tr>\n",
       "                        <th id=\"T_8ae7a696_927f_11ec_a9f1_02420a394f5alevel0_row7\" class=\"row_heading level0 row7\" >5</th>\n",
       "                        <td id=\"T_8ae7a696_927f_11ec_a9f1_02420a394f5arow7_col0\" class=\"data row7 col0\" >Добавить страницу отзывов клиентов о магазине, что позволит увеличить количество заказов</td>\n",
       "                        <td id=\"T_8ae7a696_927f_11ec_a9f1_02420a394f5arow7_col1\" class=\"data row7 col1\" >1.33333</td>\n",
       "                        <td id=\"T_8ae7a696_927f_11ec_a9f1_02420a394f5arow7_col2\" class=\"data row7 col2\" >4</td>\n",
       "            </tr>\n",
       "            <tr>\n",
       "                        <th id=\"T_8ae7a696_927f_11ec_a9f1_02420a394f5alevel0_row8\" class=\"row_heading level0 row8\" >4</th>\n",
       "                        <td id=\"T_8ae7a696_927f_11ec_a9f1_02420a394f5arow8_col0\" class=\"data row8 col0\" >Изменить цвет фона главной страницы, чтобы увеличить вовлеченность пользователей</td>\n",
       "                        <td id=\"T_8ae7a696_927f_11ec_a9f1_02420a394f5arow8_col1\" class=\"data row8 col1\" >1</td>\n",
       "                        <td id=\"T_8ae7a696_927f_11ec_a9f1_02420a394f5arow8_col2\" class=\"data row8 col2\" >3</td>\n",
       "            </tr>\n",
       "    </tbody></table>"
      ],
      "text/plain": [
       "<pandas.io.formats.style.Styler at 0x7fae329dc450>"
      ]
     },
     "execution_count": 29,
     "metadata": {},
     "output_type": "execute_result"
    }
   ],
   "source": [
    "cm = sns.light_palette(\"red\", as_cmap=True)\n",
    "\n",
    "data_new = data[['hypothesis', 'ICE', 'RICE']].sort_values(by = 'RICE', ascending = False).\\\n",
    "                                             style.background_gradient(cmap=cm)\n",
    "data_new"
   ]
  },
  {
   "cell_type": "markdown",
   "metadata": {},
   "source": [
    "- Лучшие гипотезы для ICE-8,0,7,6; для RICE 7,2,0,6. Общие 0,7,6 в разных очередностях.Гипотеза 8 стала гораздо не перспективней,а ее место заняла гипотеза 2.Так получилось,потому что параметр reach для 8-1,а для 2-8.А гипотеза 7 стала первой из-за параметра-10.Важно количество пользователей, которых затронет гипотеза."
   ]
  },
  {
   "cell_type": "markdown",
   "metadata": {},
   "source": [
    "# Часть 2. Анализ A/B-теста\n",
    "\n",
    "## Задачи.Тест.\n",
    " Проанализируйте A/B-тест:\n",
    "\n",
    "- Постройте график кумулятивной выручки по группам. Сделайте выводы и предположения.\n",
    "- Постройте график кумулятивного среднего чека по группам. Сделайте выводы и предположения.\n",
    "- Постройте график относительного изменения кумулятивного среднего чека группы B к группе A. Сделайте выводы и предположения.\n",
    "- Постройте график кумулятивной конверсии по группам. Сделайте выводы и предположения.\n",
    "- Постройте график относительного изменения кумулятивной конверсии группы B к группе A. Сделайте выводы и предположения.\n",
    "- Постройте точечный график количества заказов по пользователям. Сделайте выводы и предположения.\n",
    "- Посчитайте 95-й и 99-й перцентили количества заказов на пользователя. Выберите границу для определения аномальных пользователей.\n",
    "- Постройте точечный график стоимостей заказов. Сделайте выводы и предположения.\n",
    "- Посчитайте 95-й и 99-й перцентили стоимости заказов. Выберите границу для определения аномальных заказов.\n",
    "- Посчитайте статистическую значимость различий в конверсии между группами по «сырым» данным. Сделайте выводы и предположения.\n",
    "- Посчитайте статистическую значимость различий в среднем чеке заказа между группами по «сырым» данным. Сделайте выводы и предположения.\n",
    "- Посчитайте статистическую значимость различий в конверсии между группами по «очищенным» данным. Сделайте выводы и предположения.\n",
    "- Посчитайте статистическую значимость различий в среднем чеке заказа между группами по «очищенным» данным. Сделайте выводы и предположения.\n",
    "- Примите решение по результатам теста и объясните его. Варианты решений: 1. Остановить тест, зафиксировать победу одной из групп. 2. Остановить тест, зафиксировать отсутствие различий между группами. 3. Продолжить тест."
   ]
  },
  {
   "cell_type": "markdown",
   "metadata": {},
   "source": [
    "### Построим график кумулятивной выручки по группам. Сделаем выводы и предположения."
   ]
  },
  {
   "cell_type": "markdown",
   "metadata": {},
   "source": [
    "Создаем массив уникальных пар значений дат и групп теста."
   ]
  },
  {
   "cell_type": "code",
   "execution_count": 30,
   "metadata": {},
   "outputs": [
    {
     "data": {
      "text/html": [
       "<div>\n",
       "<style scoped>\n",
       "    .dataframe tbody tr th:only-of-type {\n",
       "        vertical-align: middle;\n",
       "    }\n",
       "\n",
       "    .dataframe tbody tr th {\n",
       "        vertical-align: top;\n",
       "    }\n",
       "\n",
       "    .dataframe thead th {\n",
       "        text-align: right;\n",
       "    }\n",
       "</style>\n",
       "<table border=\"1\" class=\"dataframe\">\n",
       "  <thead>\n",
       "    <tr style=\"text-align: right;\">\n",
       "      <th></th>\n",
       "      <th>transactionId</th>\n",
       "      <th>visitorId</th>\n",
       "      <th>date</th>\n",
       "      <th>revenue</th>\n",
       "      <th>group</th>\n",
       "    </tr>\n",
       "  </thead>\n",
       "  <tbody>\n",
       "    <tr>\n",
       "      <td>0</td>\n",
       "      <td>3667963787</td>\n",
       "      <td>3312258926</td>\n",
       "      <td>2019-08-15</td>\n",
       "      <td>1650</td>\n",
       "      <td>B</td>\n",
       "    </tr>\n",
       "    <tr>\n",
       "      <td>1</td>\n",
       "      <td>2804400009</td>\n",
       "      <td>3642806036</td>\n",
       "      <td>2019-08-15</td>\n",
       "      <td>730</td>\n",
       "      <td>B</td>\n",
       "    </tr>\n",
       "    <tr>\n",
       "      <td>2</td>\n",
       "      <td>2961555356</td>\n",
       "      <td>4069496402</td>\n",
       "      <td>2019-08-15</td>\n",
       "      <td>400</td>\n",
       "      <td>A</td>\n",
       "    </tr>\n",
       "    <tr>\n",
       "      <td>3</td>\n",
       "      <td>3797467345</td>\n",
       "      <td>1196621759</td>\n",
       "      <td>2019-08-15</td>\n",
       "      <td>9759</td>\n",
       "      <td>B</td>\n",
       "    </tr>\n",
       "    <tr>\n",
       "      <td>4</td>\n",
       "      <td>2282983706</td>\n",
       "      <td>2322279887</td>\n",
       "      <td>2019-08-15</td>\n",
       "      <td>2308</td>\n",
       "      <td>B</td>\n",
       "    </tr>\n",
       "  </tbody>\n",
       "</table>\n",
       "</div>"
      ],
      "text/plain": [
       "   transactionId   visitorId       date  revenue group\n",
       "0  3667963787     3312258926 2019-08-15  1650     B   \n",
       "1  2804400009     3642806036 2019-08-15  730      B   \n",
       "2  2961555356     4069496402 2019-08-15  400      A   \n",
       "3  3797467345     1196621759 2019-08-15  9759     B   \n",
       "4  2282983706     2322279887 2019-08-15  2308     B   "
      ]
     },
     "execution_count": 30,
     "metadata": {},
     "output_type": "execute_result"
    }
   ],
   "source": [
    "orders.head()"
   ]
  },
  {
   "cell_type": "code",
   "execution_count": 31,
   "metadata": {},
   "outputs": [
    {
     "data": {
      "text/html": [
       "<div>\n",
       "<style scoped>\n",
       "    .dataframe tbody tr th:only-of-type {\n",
       "        vertical-align: middle;\n",
       "    }\n",
       "\n",
       "    .dataframe tbody tr th {\n",
       "        vertical-align: top;\n",
       "    }\n",
       "\n",
       "    .dataframe thead th {\n",
       "        text-align: right;\n",
       "    }\n",
       "</style>\n",
       "<table border=\"1\" class=\"dataframe\">\n",
       "  <thead>\n",
       "    <tr style=\"text-align: right;\">\n",
       "      <th></th>\n",
       "      <th>date</th>\n",
       "      <th>group</th>\n",
       "    </tr>\n",
       "  </thead>\n",
       "  <tbody>\n",
       "    <tr>\n",
       "      <td>0</td>\n",
       "      <td>2019-08-15</td>\n",
       "      <td>B</td>\n",
       "    </tr>\n",
       "    <tr>\n",
       "      <td>2</td>\n",
       "      <td>2019-08-15</td>\n",
       "      <td>A</td>\n",
       "    </tr>\n",
       "    <tr>\n",
       "      <td>45</td>\n",
       "      <td>2019-08-16</td>\n",
       "      <td>A</td>\n",
       "    </tr>\n",
       "    <tr>\n",
       "      <td>47</td>\n",
       "      <td>2019-08-16</td>\n",
       "      <td>B</td>\n",
       "    </tr>\n",
       "    <tr>\n",
       "      <td>55</td>\n",
       "      <td>2019-08-01</td>\n",
       "      <td>A</td>\n",
       "    </tr>\n",
       "  </tbody>\n",
       "</table>\n",
       "</div>"
      ],
      "text/plain": [
       "         date group\n",
       "0  2019-08-15  B   \n",
       "2  2019-08-15  A   \n",
       "45 2019-08-16  A   \n",
       "47 2019-08-16  B   \n",
       "55 2019-08-01  A   "
      ]
     },
     "execution_count": 31,
     "metadata": {},
     "output_type": "execute_result"
    }
   ],
   "source": [
    "datesGroups = orders[['date', 'group']].drop_duplicates()\n",
    "\n",
    "datesGroups.head()"
   ]
  },
  {
   "cell_type": "markdown",
   "metadata": {},
   "source": [
    "Агрегируем значения."
   ]
  },
  {
   "cell_type": "code",
   "execution_count": 32,
   "metadata": {},
   "outputs": [
    {
     "data": {
      "text/html": [
       "<div>\n",
       "<style scoped>\n",
       "    .dataframe tbody tr th:only-of-type {\n",
       "        vertical-align: middle;\n",
       "    }\n",
       "\n",
       "    .dataframe tbody tr th {\n",
       "        vertical-align: top;\n",
       "    }\n",
       "\n",
       "    .dataframe thead th {\n",
       "        text-align: right;\n",
       "    }\n",
       "</style>\n",
       "<table border=\"1\" class=\"dataframe\">\n",
       "  <thead>\n",
       "    <tr style=\"text-align: right;\">\n",
       "      <th></th>\n",
       "      <th>date</th>\n",
       "      <th>group</th>\n",
       "      <th>transactionId</th>\n",
       "      <th>visitorId</th>\n",
       "      <th>revenue</th>\n",
       "    </tr>\n",
       "  </thead>\n",
       "  <tbody>\n",
       "    <tr>\n",
       "      <td>55</td>\n",
       "      <td>2019-08-01</td>\n",
       "      <td>A</td>\n",
       "      <td>24</td>\n",
       "      <td>20</td>\n",
       "      <td>148579</td>\n",
       "    </tr>\n",
       "    <tr>\n",
       "      <td>66</td>\n",
       "      <td>2019-08-01</td>\n",
       "      <td>B</td>\n",
       "      <td>21</td>\n",
       "      <td>20</td>\n",
       "      <td>101217</td>\n",
       "    </tr>\n",
       "    <tr>\n",
       "      <td>175</td>\n",
       "      <td>2019-08-02</td>\n",
       "      <td>A</td>\n",
       "      <td>44</td>\n",
       "      <td>38</td>\n",
       "      <td>242401</td>\n",
       "    </tr>\n",
       "    <tr>\n",
       "      <td>173</td>\n",
       "      <td>2019-08-02</td>\n",
       "      <td>B</td>\n",
       "      <td>45</td>\n",
       "      <td>43</td>\n",
       "      <td>266748</td>\n",
       "    </tr>\n",
       "    <tr>\n",
       "      <td>291</td>\n",
       "      <td>2019-08-03</td>\n",
       "      <td>A</td>\n",
       "      <td>68</td>\n",
       "      <td>62</td>\n",
       "      <td>354874</td>\n",
       "    </tr>\n",
       "  </tbody>\n",
       "</table>\n",
       "</div>"
      ],
      "text/plain": [
       "          date group  transactionId  visitorId  revenue\n",
       "55  2019-08-01  A     24             20         148579 \n",
       "66  2019-08-01  B     21             20         101217 \n",
       "175 2019-08-02  A     44             38         242401 \n",
       "173 2019-08-02  B     45             43         266748 \n",
       "291 2019-08-03  A     68             62         354874 "
      ]
     },
     "execution_count": 32,
     "metadata": {},
     "output_type": "execute_result"
    }
   ],
   "source": [
    "ordersAggregated = datesGroups.apply(lambda x: orders[np.logical_and(orders['date'] <= x['date'], \\\n",
    "                                                                     orders['group'] == x['group'])]\\\n",
    ".agg({'date' : 'max', 'group' : 'max', 'transactionId' : pd.Series.nunique, 'visitorId' : pd.Series.nunique, \\\n",
    "      'revenue' : 'sum'}), axis=1).sort_values(by=['date', 'group'])\n",
    "\n",
    "ordersAggregated.head()"
   ]
  },
  {
   "cell_type": "code",
   "execution_count": 33,
   "metadata": {},
   "outputs": [
    {
     "data": {
      "text/html": [
       "<div>\n",
       "<style scoped>\n",
       "    .dataframe tbody tr th:only-of-type {\n",
       "        vertical-align: middle;\n",
       "    }\n",
       "\n",
       "    .dataframe tbody tr th {\n",
       "        vertical-align: top;\n",
       "    }\n",
       "\n",
       "    .dataframe thead th {\n",
       "        text-align: right;\n",
       "    }\n",
       "</style>\n",
       "<table border=\"1\" class=\"dataframe\">\n",
       "  <thead>\n",
       "    <tr style=\"text-align: right;\">\n",
       "      <th></th>\n",
       "      <th>date</th>\n",
       "      <th>group</th>\n",
       "      <th>visitors</th>\n",
       "    </tr>\n",
       "  </thead>\n",
       "  <tbody>\n",
       "    <tr>\n",
       "      <td>0</td>\n",
       "      <td>2019-08-01</td>\n",
       "      <td>A</td>\n",
       "      <td>719</td>\n",
       "    </tr>\n",
       "    <tr>\n",
       "      <td>1</td>\n",
       "      <td>2019-08-02</td>\n",
       "      <td>A</td>\n",
       "      <td>619</td>\n",
       "    </tr>\n",
       "    <tr>\n",
       "      <td>2</td>\n",
       "      <td>2019-08-03</td>\n",
       "      <td>A</td>\n",
       "      <td>507</td>\n",
       "    </tr>\n",
       "    <tr>\n",
       "      <td>3</td>\n",
       "      <td>2019-08-04</td>\n",
       "      <td>A</td>\n",
       "      <td>717</td>\n",
       "    </tr>\n",
       "    <tr>\n",
       "      <td>4</td>\n",
       "      <td>2019-08-05</td>\n",
       "      <td>A</td>\n",
       "      <td>756</td>\n",
       "    </tr>\n",
       "  </tbody>\n",
       "</table>\n",
       "</div>"
      ],
      "text/plain": [
       "        date group  visitors\n",
       "0 2019-08-01  A     719     \n",
       "1 2019-08-02  A     619     \n",
       "2 2019-08-03  A     507     \n",
       "3 2019-08-04  A     717     \n",
       "4 2019-08-05  A     756     "
      ]
     },
     "execution_count": 33,
     "metadata": {},
     "output_type": "execute_result"
    }
   ],
   "source": [
    "visitors.head()"
   ]
  },
  {
   "cell_type": "code",
   "execution_count": 34,
   "metadata": {},
   "outputs": [
    {
     "data": {
      "text/html": [
       "<div>\n",
       "<style scoped>\n",
       "    .dataframe tbody tr th:only-of-type {\n",
       "        vertical-align: middle;\n",
       "    }\n",
       "\n",
       "    .dataframe tbody tr th {\n",
       "        vertical-align: top;\n",
       "    }\n",
       "\n",
       "    .dataframe thead th {\n",
       "        text-align: right;\n",
       "    }\n",
       "</style>\n",
       "<table border=\"1\" class=\"dataframe\">\n",
       "  <thead>\n",
       "    <tr style=\"text-align: right;\">\n",
       "      <th></th>\n",
       "      <th>date</th>\n",
       "      <th>group</th>\n",
       "      <th>visitors</th>\n",
       "    </tr>\n",
       "  </thead>\n",
       "  <tbody>\n",
       "    <tr>\n",
       "      <td>55</td>\n",
       "      <td>2019-08-01</td>\n",
       "      <td>A</td>\n",
       "      <td>719</td>\n",
       "    </tr>\n",
       "    <tr>\n",
       "      <td>66</td>\n",
       "      <td>2019-08-01</td>\n",
       "      <td>B</td>\n",
       "      <td>713</td>\n",
       "    </tr>\n",
       "    <tr>\n",
       "      <td>175</td>\n",
       "      <td>2019-08-02</td>\n",
       "      <td>A</td>\n",
       "      <td>1338</td>\n",
       "    </tr>\n",
       "    <tr>\n",
       "      <td>173</td>\n",
       "      <td>2019-08-02</td>\n",
       "      <td>B</td>\n",
       "      <td>1294</td>\n",
       "    </tr>\n",
       "    <tr>\n",
       "      <td>291</td>\n",
       "      <td>2019-08-03</td>\n",
       "      <td>A</td>\n",
       "      <td>1845</td>\n",
       "    </tr>\n",
       "  </tbody>\n",
       "</table>\n",
       "</div>"
      ],
      "text/plain": [
       "          date group  visitors\n",
       "55  2019-08-01  A     719     \n",
       "66  2019-08-01  B     713     \n",
       "175 2019-08-02  A     1338    \n",
       "173 2019-08-02  B     1294    \n",
       "291 2019-08-03  A     1845    "
      ]
     },
     "execution_count": 34,
     "metadata": {},
     "output_type": "execute_result"
    }
   ],
   "source": [
    "visitorsAggregated = datesGroups.apply(lambda x: visitors[np.logical_and(visitors['date'] <= x['date'], \\\n",
    "                         visitors['group'] == x['group'])].agg({'date' : 'max', 'group' : 'max', 'visitors' : 'sum'}), \\\n",
    "                         axis=1).sort_values(by=['date', 'group'])\n",
    "\n",
    "visitorsAggregated.head()"
   ]
  },
  {
   "cell_type": "markdown",
   "metadata": {},
   "source": [
    "Объединим обе таблицы в одну с понятными названиями столбцов."
   ]
  },
  {
   "cell_type": "code",
   "execution_count": 35,
   "metadata": {},
   "outputs": [
    {
     "data": {
      "text/html": [
       "<div>\n",
       "<style scoped>\n",
       "    .dataframe tbody tr th:only-of-type {\n",
       "        vertical-align: middle;\n",
       "    }\n",
       "\n",
       "    .dataframe tbody tr th {\n",
       "        vertical-align: top;\n",
       "    }\n",
       "\n",
       "    .dataframe thead th {\n",
       "        text-align: right;\n",
       "    }\n",
       "</style>\n",
       "<table border=\"1\" class=\"dataframe\">\n",
       "  <thead>\n",
       "    <tr style=\"text-align: right;\">\n",
       "      <th></th>\n",
       "      <th>date</th>\n",
       "      <th>group</th>\n",
       "      <th>orders</th>\n",
       "      <th>buyers</th>\n",
       "      <th>revenue</th>\n",
       "      <th>visitors</th>\n",
       "    </tr>\n",
       "  </thead>\n",
       "  <tbody>\n",
       "    <tr>\n",
       "      <td>0</td>\n",
       "      <td>2019-08-01</td>\n",
       "      <td>A</td>\n",
       "      <td>24</td>\n",
       "      <td>20</td>\n",
       "      <td>148579</td>\n",
       "      <td>719</td>\n",
       "    </tr>\n",
       "    <tr>\n",
       "      <td>1</td>\n",
       "      <td>2019-08-01</td>\n",
       "      <td>B</td>\n",
       "      <td>21</td>\n",
       "      <td>20</td>\n",
       "      <td>101217</td>\n",
       "      <td>713</td>\n",
       "    </tr>\n",
       "    <tr>\n",
       "      <td>2</td>\n",
       "      <td>2019-08-02</td>\n",
       "      <td>A</td>\n",
       "      <td>44</td>\n",
       "      <td>38</td>\n",
       "      <td>242401</td>\n",
       "      <td>1338</td>\n",
       "    </tr>\n",
       "    <tr>\n",
       "      <td>3</td>\n",
       "      <td>2019-08-02</td>\n",
       "      <td>B</td>\n",
       "      <td>45</td>\n",
       "      <td>43</td>\n",
       "      <td>266748</td>\n",
       "      <td>1294</td>\n",
       "    </tr>\n",
       "    <tr>\n",
       "      <td>4</td>\n",
       "      <td>2019-08-03</td>\n",
       "      <td>A</td>\n",
       "      <td>68</td>\n",
       "      <td>62</td>\n",
       "      <td>354874</td>\n",
       "      <td>1845</td>\n",
       "    </tr>\n",
       "  </tbody>\n",
       "</table>\n",
       "</div>"
      ],
      "text/plain": [
       "        date group  orders  buyers  revenue  visitors\n",
       "0 2019-08-01  A     24      20      148579   719     \n",
       "1 2019-08-01  B     21      20      101217   713     \n",
       "2 2019-08-02  A     44      38      242401   1338    \n",
       "3 2019-08-02  B     45      43      266748   1294    \n",
       "4 2019-08-03  A     68      62      354874   1845    "
      ]
     },
     "execution_count": 35,
     "metadata": {},
     "output_type": "execute_result"
    }
   ],
   "source": [
    "cumulativeData = ordersAggregated.merge(visitorsAggregated, left_on=['date', 'group'], right_on=['date', 'group'])\n",
    "cumulativeData.columns = ['date', 'group', 'orders', 'buyers', 'revenue', 'visitors']\n",
    "\n",
    "cumulativeData.head()"
   ]
  },
  {
   "cell_type": "markdown",
   "metadata": {},
   "source": [
    "Построим графики кумулятивной выручки по дням и группам A/B-тестирования."
   ]
  },
  {
   "cell_type": "markdown",
   "metadata": {},
   "source": [
    "Датафрейм с кумулятивным количеством заказов и кумулятивной выручкой по дням в группе А"
   ]
  },
  {
   "cell_type": "code",
   "execution_count": 36,
   "metadata": {},
   "outputs": [],
   "source": [
    "cumulativeRevenueA = cumulativeData[cumulativeData['group'] == 'A'][['date', 'revenue', 'orders']]"
   ]
  },
  {
   "cell_type": "markdown",
   "metadata": {},
   "source": [
    "Датафрейм с кумулятивным количеством заказов и кумулятивной выручкой по дням в группе B"
   ]
  },
  {
   "cell_type": "code",
   "execution_count": 37,
   "metadata": {},
   "outputs": [],
   "source": [
    "cumulativeRevenueB = cumulativeData[cumulativeData['group'] == 'B'][['date', 'revenue', 'orders']]"
   ]
  },
  {
   "cell_type": "markdown",
   "metadata": {},
   "source": [
    "Строим график выручки групп"
   ]
  },
  {
   "cell_type": "code",
   "execution_count": 38,
   "metadata": {},
   "outputs": [
    {
     "data": {
      "image/png": "[encoded data removed]",
      "text/plain": [
       "<Figure size 1080x720 with 1 Axes>"
      ]
     },
     "metadata": {
      "needs_background": "light"
     },
     "output_type": "display_data"
    }
   ],
   "source": [
    "plt.figure(figsize=(15, 10))\n",
    "plt.plot(cumulativeRevenueA['date'], cumulativeRevenueA['revenue'], label = 'A')\n",
    "plt.plot(cumulativeRevenueB['date'], cumulativeRevenueB['revenue'], label = 'B')\n",
    "plt.legend()\n",
    "plt.grid()\n",
    "plt.title('Kумулятивная выручка по группам')\n",
    "plt.ylabel('Выручка')\n",
    "plt.xlabel('Дата')\n",
    "plt.show()"
   ]
  },
  {
   "cell_type": "markdown",
   "metadata": {},
   "source": [
    "Выручка почти равномерно увеличивается в течение всего теста.\n",
    "Однако график выручки группы В в период 2019-08-18 и 2019-08-19 резко растет,в середине теста сегмент В вырвался вперед и продолжал лидировать весь остаток теста. Это может сигнализировать о всплесках числа заказов, либо о появлении очень дорогих заказов в выборке.При заключительном анализе их нужно удалить."
   ]
  },
  {
   "cell_type": "markdown",
   "metadata": {},
   "source": [
    "### Построим график кумулятивного среднего чека по группам. Сделаем выводы и предположения."
   ]
  },
  {
   "cell_type": "code",
   "execution_count": 39,
   "metadata": {},
   "outputs": [
    {
     "data": {
      "image/png": "[encoded data removed]",
      "text/plain": [
       "<Figure size 1080x720 with 1 Axes>"
      ]
     },
     "metadata": {
      "needs_background": "light"
     },
     "output_type": "display_data"
    }
   ],
   "source": [
    "plt.figure(figsize=(15, 10))\n",
    "plt.plot(cumulativeRevenueA['date'], cumulativeRevenueA['revenue'] / cumulativeRevenueA['orders'], label = 'A')\n",
    "plt.plot(cumulativeRevenueB['date'], cumulativeRevenueB['revenue'] / cumulativeRevenueB['orders'], label = 'B')\n",
    "plt.legend()\n",
    "plt.grid()\n",
    "plt.title('Kумулятивный средний чек по группам')\n",
    "plt.ylabel('Средний чек')\n",
    "plt.xlabel('Дата')\n",
    "plt.show()"
   ]
  },
  {
   "cell_type": "markdown",
   "metadata": {},
   "source": [
    "Кумулятивное значение среднего чека по сегментам продолжает колебаться. В группе В в период 2019-08-18 и 2019-08-19 резкий рост,видимо крупный заказ.Принимать решения по этой метрике рано.И требуется дополнительный анализ выбросов,которые так сильно искажают результаты."
   ]
  },
  {
   "cell_type": "markdown",
   "metadata": {},
   "source": [
    "### Построим график относительного изменения кумулятивного среднего чека группы B к группе A. Сделаем выводы и предположения."
   ]
  },
  {
   "cell_type": "markdown",
   "metadata": {},
   "source": [
    "Собираем данные в одном датафрейме."
   ]
  },
  {
   "cell_type": "code",
   "execution_count": 40,
   "metadata": {},
   "outputs": [],
   "source": [
    "mergedCumulativeRevenue = cumulativeRevenueA.merge(cumulativeRevenueB, left_on='date',\\\n",
    "                                                   right_on='date', how='left', suffixes=['A', 'B'])"
   ]
  },
  {
   "cell_type": "code",
   "execution_count": 41,
   "metadata": {},
   "outputs": [
    {
     "data": {
      "image/png": "[encoded data removed]",
      "text/plain": [
       "<Figure size 720x360 with 1 Axes>"
      ]
     },
     "metadata": {
      "needs_background": "light"
     },
     "output_type": "display_data"
    }
   ],
   "source": [
    "plt.figure(figsize=(10, 5))\n",
    "plt.plot(mergedCumulativeRevenue['date'], (mergedCumulativeRevenue['revenueB'] / \\\n",
    "                                           mergedCumulativeRevenue['ordersB']) / \\\n",
    "                                          (mergedCumulativeRevenue['revenueA'] / \\\n",
    "                                           mergedCumulativeRevenue['ordersA'])-1)\n",
    "plt.axhline(y=0, color='black', linestyle='--')\n",
    "plt.grid()\n",
    "plt.title('Изменения кумулятивного среднего чека группы B к группе A')\n",
    "plt.ylabel('Средний чек')\n",
    "plt.xlabel('Дата')\n",
    "plt.show()"
   ]
  },
  {
   "cell_type": "markdown",
   "metadata": {},
   "source": [
    "Результаты теста значительно и резко менялись в несколько дат.Видимо,именно тогда были совершены анамальные заказы."
   ]
  },
  {
   "cell_type": "markdown",
   "metadata": {},
   "source": [
    "### Построим график кумулятивной конверсии по группам. Сделаем выводы и предположения."
   ]
  },
  {
   "cell_type": "markdown",
   "metadata": {},
   "source": [
    "Считаем кумулятивную конверсию."
   ]
  },
  {
   "cell_type": "code",
   "execution_count": 42,
   "metadata": {},
   "outputs": [
    {
     "data": {
      "text/plain": [
       "0    0.033380\n",
       "1    0.029453\n",
       "2    0.032885\n",
       "3    0.034776\n",
       "4    0.036856\n",
       "Name: conversion, dtype: float64"
      ]
     },
     "execution_count": 42,
     "metadata": {},
     "output_type": "execute_result"
    }
   ],
   "source": [
    "cumulativeData['conversion'] = cumulativeData['orders'] / cumulativeData['visitors']\n",
    "cumulativeData['conversion'].head()"
   ]
  },
  {
   "cell_type": "markdown",
   "metadata": {},
   "source": [
    "Отделяем данные по группе A."
   ]
  },
  {
   "cell_type": "code",
   "execution_count": 43,
   "metadata": {},
   "outputs": [
    {
     "data": {
      "text/html": [
       "<div>\n",
       "<style scoped>\n",
       "    .dataframe tbody tr th:only-of-type {\n",
       "        vertical-align: middle;\n",
       "    }\n",
       "\n",
       "    .dataframe tbody tr th {\n",
       "        vertical-align: top;\n",
       "    }\n",
       "\n",
       "    .dataframe thead th {\n",
       "        text-align: right;\n",
       "    }\n",
       "</style>\n",
       "<table border=\"1\" class=\"dataframe\">\n",
       "  <thead>\n",
       "    <tr style=\"text-align: right;\">\n",
       "      <th></th>\n",
       "      <th>date</th>\n",
       "      <th>group</th>\n",
       "      <th>orders</th>\n",
       "      <th>buyers</th>\n",
       "      <th>revenue</th>\n",
       "      <th>visitors</th>\n",
       "      <th>conversion</th>\n",
       "    </tr>\n",
       "  </thead>\n",
       "  <tbody>\n",
       "    <tr>\n",
       "      <td>0</td>\n",
       "      <td>2019-08-01</td>\n",
       "      <td>A</td>\n",
       "      <td>24</td>\n",
       "      <td>20</td>\n",
       "      <td>148579</td>\n",
       "      <td>719</td>\n",
       "      <td>0.033380</td>\n",
       "    </tr>\n",
       "    <tr>\n",
       "      <td>2</td>\n",
       "      <td>2019-08-02</td>\n",
       "      <td>A</td>\n",
       "      <td>44</td>\n",
       "      <td>38</td>\n",
       "      <td>242401</td>\n",
       "      <td>1338</td>\n",
       "      <td>0.032885</td>\n",
       "    </tr>\n",
       "    <tr>\n",
       "      <td>4</td>\n",
       "      <td>2019-08-03</td>\n",
       "      <td>A</td>\n",
       "      <td>68</td>\n",
       "      <td>62</td>\n",
       "      <td>354874</td>\n",
       "      <td>1845</td>\n",
       "      <td>0.036856</td>\n",
       "    </tr>\n",
       "    <tr>\n",
       "      <td>6</td>\n",
       "      <td>2019-08-04</td>\n",
       "      <td>A</td>\n",
       "      <td>84</td>\n",
       "      <td>77</td>\n",
       "      <td>425699</td>\n",
       "      <td>2562</td>\n",
       "      <td>0.032787</td>\n",
       "    </tr>\n",
       "    <tr>\n",
       "      <td>8</td>\n",
       "      <td>2019-08-05</td>\n",
       "      <td>A</td>\n",
       "      <td>109</td>\n",
       "      <td>100</td>\n",
       "      <td>549917</td>\n",
       "      <td>3318</td>\n",
       "      <td>0.032851</td>\n",
       "    </tr>\n",
       "  </tbody>\n",
       "</table>\n",
       "</div>"
      ],
      "text/plain": [
       "        date group  orders  buyers  revenue  visitors  conversion\n",
       "0 2019-08-01  A     24      20      148579   719       0.033380  \n",
       "2 2019-08-02  A     44      38      242401   1338      0.032885  \n",
       "4 2019-08-03  A     68      62      354874   1845      0.036856  \n",
       "6 2019-08-04  A     84      77      425699   2562      0.032787  \n",
       "8 2019-08-05  A     109     100     549917   3318      0.032851  "
      ]
     },
     "execution_count": 43,
     "metadata": {},
     "output_type": "execute_result"
    }
   ],
   "source": [
    "cumulativeDataA = cumulativeData[cumulativeData['group'] == 'A']\n",
    "cumulativeDataA.head()"
   ]
  },
  {
   "cell_type": "markdown",
   "metadata": {},
   "source": [
    "Отделяем данные по группе B."
   ]
  },
  {
   "cell_type": "code",
   "execution_count": 44,
   "metadata": {},
   "outputs": [
    {
     "data": {
      "text/html": [
       "<div>\n",
       "<style scoped>\n",
       "    .dataframe tbody tr th:only-of-type {\n",
       "        vertical-align: middle;\n",
       "    }\n",
       "\n",
       "    .dataframe tbody tr th {\n",
       "        vertical-align: top;\n",
       "    }\n",
       "\n",
       "    .dataframe thead th {\n",
       "        text-align: right;\n",
       "    }\n",
       "</style>\n",
       "<table border=\"1\" class=\"dataframe\">\n",
       "  <thead>\n",
       "    <tr style=\"text-align: right;\">\n",
       "      <th></th>\n",
       "      <th>date</th>\n",
       "      <th>group</th>\n",
       "      <th>orders</th>\n",
       "      <th>buyers</th>\n",
       "      <th>revenue</th>\n",
       "      <th>visitors</th>\n",
       "      <th>conversion</th>\n",
       "    </tr>\n",
       "  </thead>\n",
       "  <tbody>\n",
       "    <tr>\n",
       "      <td>1</td>\n",
       "      <td>2019-08-01</td>\n",
       "      <td>B</td>\n",
       "      <td>21</td>\n",
       "      <td>20</td>\n",
       "      <td>101217</td>\n",
       "      <td>713</td>\n",
       "      <td>0.029453</td>\n",
       "    </tr>\n",
       "    <tr>\n",
       "      <td>3</td>\n",
       "      <td>2019-08-02</td>\n",
       "      <td>B</td>\n",
       "      <td>45</td>\n",
       "      <td>43</td>\n",
       "      <td>266748</td>\n",
       "      <td>1294</td>\n",
       "      <td>0.034776</td>\n",
       "    </tr>\n",
       "    <tr>\n",
       "      <td>5</td>\n",
       "      <td>2019-08-03</td>\n",
       "      <td>B</td>\n",
       "      <td>61</td>\n",
       "      <td>59</td>\n",
       "      <td>380996</td>\n",
       "      <td>1803</td>\n",
       "      <td>0.033833</td>\n",
       "    </tr>\n",
       "    <tr>\n",
       "      <td>7</td>\n",
       "      <td>2019-08-04</td>\n",
       "      <td>B</td>\n",
       "      <td>78</td>\n",
       "      <td>75</td>\n",
       "      <td>489567</td>\n",
       "      <td>2573</td>\n",
       "      <td>0.030315</td>\n",
       "    </tr>\n",
       "    <tr>\n",
       "      <td>9</td>\n",
       "      <td>2019-08-05</td>\n",
       "      <td>B</td>\n",
       "      <td>101</td>\n",
       "      <td>98</td>\n",
       "      <td>581995</td>\n",
       "      <td>3280</td>\n",
       "      <td>0.030793</td>\n",
       "    </tr>\n",
       "  </tbody>\n",
       "</table>\n",
       "</div>"
      ],
      "text/plain": [
       "        date group  orders  buyers  revenue  visitors  conversion\n",
       "1 2019-08-01  B     21      20      101217   713       0.029453  \n",
       "3 2019-08-02  B     45      43      266748   1294      0.034776  \n",
       "5 2019-08-03  B     61      59      380996   1803      0.033833  \n",
       "7 2019-08-04  B     78      75      489567   2573      0.030315  \n",
       "9 2019-08-05  B     101     98      581995   3280      0.030793  "
      ]
     },
     "execution_count": 44,
     "metadata": {},
     "output_type": "execute_result"
    }
   ],
   "source": [
    "cumulativeDataB = cumulativeData[cumulativeData['group'] == 'B']\n",
    "cumulativeDataB.head()"
   ]
  },
  {
   "cell_type": "markdown",
   "metadata": {},
   "source": [
    "Строим график и задаем масштаб осей."
   ]
  },
  {
   "cell_type": "code",
   "execution_count": 45,
   "metadata": {},
   "outputs": [
    {
     "data": {
      "image/png": "[encoded data removed]",
      "text/plain": [
       "<Figure size 720x360 with 1 Axes>"
      ]
     },
     "metadata": {
      "needs_background": "light"
     },
     "output_type": "display_data"
    }
   ],
   "source": [
    "plt.figure(figsize=(10, 5))\n",
    "plt.plot(cumulativeDataA['date'], cumulativeDataA['conversion'], label = 'A')\n",
    "plt.plot(cumulativeDataB['date'], cumulativeDataB['conversion'], label = 'B')\n",
    "plt.legend()\n",
    "plt.grid()\n",
    "plt.title('График кумулятивной конверсии по группам')\n",
    "plt.ylabel('Кумулятивная конверсия')\n",
    "plt.xlabel('Дата')\n",
    "plt.axis([\"2019-08-01\", '2019-08-31', 0.029, 0.037])\n",
    "plt.show()"
   ]
  },
  {
   "cell_type": "markdown",
   "metadata": {},
   "source": [
    "В начале теста сегмент А имел большую конверсию,но затем конверсия сегмента В стала стабильно выше конверсии сегмента A."
   ]
  },
  {
   "cell_type": "markdown",
   "metadata": {},
   "source": [
    "### Построим график относительного изменения кумулятивной конверсии группы B к группе A. Сделаем выводы и предположения."
   ]
  },
  {
   "cell_type": "code",
   "execution_count": 46,
   "metadata": {},
   "outputs": [
    {
     "data": {
      "text/html": [
       "<div>\n",
       "<style scoped>\n",
       "    .dataframe tbody tr th:only-of-type {\n",
       "        vertical-align: middle;\n",
       "    }\n",
       "\n",
       "    .dataframe tbody tr th {\n",
       "        vertical-align: top;\n",
       "    }\n",
       "\n",
       "    .dataframe thead th {\n",
       "        text-align: right;\n",
       "    }\n",
       "</style>\n",
       "<table border=\"1\" class=\"dataframe\">\n",
       "  <thead>\n",
       "    <tr style=\"text-align: right;\">\n",
       "      <th></th>\n",
       "      <th>date</th>\n",
       "      <th>conversionA</th>\n",
       "      <th>conversionB</th>\n",
       "    </tr>\n",
       "  </thead>\n",
       "  <tbody>\n",
       "    <tr>\n",
       "      <td>0</td>\n",
       "      <td>2019-08-01</td>\n",
       "      <td>0.033380</td>\n",
       "      <td>0.029453</td>\n",
       "    </tr>\n",
       "    <tr>\n",
       "      <td>1</td>\n",
       "      <td>2019-08-02</td>\n",
       "      <td>0.032885</td>\n",
       "      <td>0.034776</td>\n",
       "    </tr>\n",
       "    <tr>\n",
       "      <td>2</td>\n",
       "      <td>2019-08-03</td>\n",
       "      <td>0.036856</td>\n",
       "      <td>0.033833</td>\n",
       "    </tr>\n",
       "    <tr>\n",
       "      <td>3</td>\n",
       "      <td>2019-08-04</td>\n",
       "      <td>0.032787</td>\n",
       "      <td>0.030315</td>\n",
       "    </tr>\n",
       "    <tr>\n",
       "      <td>4</td>\n",
       "      <td>2019-08-05</td>\n",
       "      <td>0.032851</td>\n",
       "      <td>0.030793</td>\n",
       "    </tr>\n",
       "  </tbody>\n",
       "</table>\n",
       "</div>"
      ],
      "text/plain": [
       "        date  conversionA  conversionB\n",
       "0 2019-08-01  0.033380     0.029453   \n",
       "1 2019-08-02  0.032885     0.034776   \n",
       "2 2019-08-03  0.036856     0.033833   \n",
       "3 2019-08-04  0.032787     0.030315   \n",
       "4 2019-08-05  0.032851     0.030793   "
      ]
     },
     "execution_count": 46,
     "metadata": {},
     "output_type": "execute_result"
    }
   ],
   "source": [
    "mergedCumulativeConversions = cumulativeDataA[['date','conversion']].merge(cumulativeDataB[['date','conversion']],\\\n",
    "                              left_on='date', right_on='date', how='left', suffixes=['A', 'B'])\n",
    "mergedCumulativeConversions.head()"
   ]
  },
  {
   "cell_type": "code",
   "execution_count": 47,
   "metadata": {},
   "outputs": [
    {
     "data": {
      "image/png": "[encoded data removed]",
      "text/plain": [
       "<Figure size 720x360 with 1 Axes>"
      ]
     },
     "metadata": {
      "needs_background": "light"
     },
     "output_type": "display_data"
    }
   ],
   "source": [
    "plt.figure(figsize=(10, 5))\n",
    "plt.plot(mergedCumulativeConversions['date'], mergedCumulativeConversions['conversionB'] / \\\n",
    "         mergedCumulativeConversions['conversionA']-1,\n",
    "label=\"Относительный прирост конверсии группы B относительно группы A\")\n",
    "\n",
    "plt.axhline(y=0, color='black', linestyle='--')\n",
    "plt.axhline(y=0.15, color='grey', linestyle='--')\n",
    "plt.axis([\"2019-08-01\", '2019-08-31', -0.15, 0.22])\n",
    "plt.grid()\n",
    "plt.legend()\n",
    "plt.title('Изменения кумулятивной конверсии группы B к группе A')\n",
    "plt.ylabel('Кумулятивная конверсия')\n",
    "plt.xlabel('Дата')\n",
    "plt.show()"
   ]
  },
  {
   "cell_type": "markdown",
   "metadata": {},
   "source": [
    "Почти с самого начала группа В лидирует по конверсии.Первые 10 дней видны скачки,на пятый день резкий рост,потом колеблится у прироста 15%-20%,на двадцатый день снижается и к концу теста начинает опять расти."
   ]
  },
  {
   "cell_type": "markdown",
   "metadata": {},
   "source": [
    "### Построим точечный график количества заказов по пользователям. Сделаем выводы и предположения."
   ]
  },
  {
   "cell_type": "code",
   "execution_count": 48,
   "metadata": {},
   "outputs": [
    {
     "data": {
      "text/html": [
       "<div>\n",
       "<style scoped>\n",
       "    .dataframe tbody tr th:only-of-type {\n",
       "        vertical-align: middle;\n",
       "    }\n",
       "\n",
       "    .dataframe tbody tr th {\n",
       "        vertical-align: top;\n",
       "    }\n",
       "\n",
       "    .dataframe thead th {\n",
       "        text-align: right;\n",
       "    }\n",
       "</style>\n",
       "<table border=\"1\" class=\"dataframe\">\n",
       "  <thead>\n",
       "    <tr style=\"text-align: right;\">\n",
       "      <th></th>\n",
       "      <th>userId</th>\n",
       "      <th>orders</th>\n",
       "    </tr>\n",
       "  </thead>\n",
       "  <tbody>\n",
       "    <tr>\n",
       "      <td>1023</td>\n",
       "      <td>4256040402</td>\n",
       "      <td>11</td>\n",
       "    </tr>\n",
       "    <tr>\n",
       "      <td>591</td>\n",
       "      <td>2458001652</td>\n",
       "      <td>11</td>\n",
       "    </tr>\n",
       "    <tr>\n",
       "      <td>569</td>\n",
       "      <td>2378935119</td>\n",
       "      <td>9</td>\n",
       "    </tr>\n",
       "    <tr>\n",
       "      <td>487</td>\n",
       "      <td>2038680547</td>\n",
       "      <td>8</td>\n",
       "    </tr>\n",
       "    <tr>\n",
       "      <td>44</td>\n",
       "      <td>199603092</td>\n",
       "      <td>5</td>\n",
       "    </tr>\n",
       "  </tbody>\n",
       "</table>\n",
       "</div>"
      ],
      "text/plain": [
       "          userId  orders\n",
       "1023  4256040402  11    \n",
       "591   2458001652  11    \n",
       "569   2378935119  9     \n",
       "487   2038680547  8     \n",
       "44    199603092   5     "
      ]
     },
     "execution_count": 48,
     "metadata": {},
     "output_type": "execute_result"
    }
   ],
   "source": [
    "ordersByUsers = orders.drop(['group', 'revenue', 'date'], axis=1).groupby('visitorId', as_index=False).agg(\n",
    "    {'transactionId' : pd.Series.nunique})\n",
    "\n",
    "ordersByUsers.columns = ['userId','orders']\n",
    "\n",
    "ordersByUsers.sort_values(by='orders',ascending=False).head()"
   ]
  },
  {
   "cell_type": "markdown",
   "metadata": {},
   "source": [
    "Есть пользователи у которых 5 и больше заказов."
   ]
  },
  {
   "cell_type": "code",
   "execution_count": 49,
   "metadata": {},
   "outputs": [
    {
     "data": {
      "text/html": [
       "<div>\n",
       "<style scoped>\n",
       "    .dataframe tbody tr th:only-of-type {\n",
       "        vertical-align: middle;\n",
       "    }\n",
       "\n",
       "    .dataframe tbody tr th {\n",
       "        vertical-align: top;\n",
       "    }\n",
       "\n",
       "    .dataframe thead th {\n",
       "        text-align: right;\n",
       "    }\n",
       "</style>\n",
       "<table border=\"1\" class=\"dataframe\">\n",
       "  <thead>\n",
       "    <tr style=\"text-align: right;\">\n",
       "      <th></th>\n",
       "      <th>userId</th>\n",
       "      <th>orders</th>\n",
       "    </tr>\n",
       "  </thead>\n",
       "  <tbody>\n",
       "    <tr>\n",
       "      <td>count</td>\n",
       "      <td>1.031000e+03</td>\n",
       "      <td>1031.000000</td>\n",
       "    </tr>\n",
       "    <tr>\n",
       "      <td>mean</td>\n",
       "      <td>2.130713e+09</td>\n",
       "      <td>1.161009</td>\n",
       "    </tr>\n",
       "    <tr>\n",
       "      <td>std</td>\n",
       "      <td>1.228157e+09</td>\n",
       "      <td>0.724919</td>\n",
       "    </tr>\n",
       "    <tr>\n",
       "      <td>min</td>\n",
       "      <td>5.114589e+06</td>\n",
       "      <td>1.000000</td>\n",
       "    </tr>\n",
       "    <tr>\n",
       "      <td>25%</td>\n",
       "      <td>1.048013e+09</td>\n",
       "      <td>1.000000</td>\n",
       "    </tr>\n",
       "    <tr>\n",
       "      <td>50%</td>\n",
       "      <td>2.147999e+09</td>\n",
       "      <td>1.000000</td>\n",
       "    </tr>\n",
       "    <tr>\n",
       "      <td>75%</td>\n",
       "      <td>3.154897e+09</td>\n",
       "      <td>1.000000</td>\n",
       "    </tr>\n",
       "    <tr>\n",
       "      <td>max</td>\n",
       "      <td>4.283872e+09</td>\n",
       "      <td>11.000000</td>\n",
       "    </tr>\n",
       "  </tbody>\n",
       "</table>\n",
       "</div>"
      ],
      "text/plain": [
       "             userId       orders\n",
       "count  1.031000e+03  1031.000000\n",
       "mean   2.130713e+09  1.161009   \n",
       "std    1.228157e+09  0.724919   \n",
       "min    5.114589e+06  1.000000   \n",
       "25%    1.048013e+09  1.000000   \n",
       "50%    2.147999e+09  1.000000   \n",
       "75%    3.154897e+09  1.000000   \n",
       "max    4.283872e+09  11.000000  "
      ]
     },
     "execution_count": 49,
     "metadata": {},
     "output_type": "execute_result"
    }
   ],
   "source": [
    "ordersByUsers.describe()"
   ]
  },
  {
   "cell_type": "markdown",
   "metadata": {},
   "source": [
    "Среднее и медиана 1 заказ."
   ]
  },
  {
   "cell_type": "code",
   "execution_count": 50,
   "metadata": {},
   "outputs": [
    {
     "data": {
      "image/png": "[encoded data removed]",
      "text/plain": [
       "<Figure size 1080x360 with 1 Axes>"
      ]
     },
     "metadata": {
      "needs_background": "light"
     },
     "output_type": "display_data"
    }
   ],
   "source": [
    "x_values = pd.Series(range(0,len(ordersByUsers)))\n",
    "\n",
    "plt.figure(figsize=(15, 5))\n",
    "plt.scatter(x_values, ordersByUsers['orders']) \n",
    "plt.grid()\n",
    "plt.title('Количество заказов по пользователям')\n",
    "plt.ylabel('Заказ')\n",
    "plt.xlabel('Пользователь')\n",
    "plt.show()"
   ]
  },
  {
   "cell_type": "markdown",
   "metadata": {},
   "source": [
    "Есть немного больших заказов.В основном сделали 1 заказ. "
   ]
  },
  {
   "cell_type": "markdown",
   "metadata": {},
   "source": [
    "### Посчитаем 95-й и 99-й перцентили количества заказов на пользователя. Выберем границу для определения аномальных пользователей."
   ]
  },
  {
   "cell_type": "code",
   "execution_count": 51,
   "metadata": {},
   "outputs": [
    {
     "data": {
      "text/plain": [
       "array([2., 4.])"
      ]
     },
     "execution_count": 51,
     "metadata": {},
     "output_type": "execute_result"
    }
   ],
   "source": [
    "np.percentile(ordersByUsers['orders'], [95, 99])"
   ]
  },
  {
   "cell_type": "markdown",
   "metadata": {},
   "source": [
    "Не более 5% пользователей совершали более 2 заказов и не более 1% дороже 4 заказов.За анамальные заказы возьмем больше 2."
   ]
  },
  {
   "cell_type": "markdown",
   "metadata": {},
   "source": [
    "### Построим точечный график стоимостей заказов. Сделаем выводы и предположения."
   ]
  },
  {
   "cell_type": "code",
   "execution_count": 52,
   "metadata": {
    "scrolled": false
   },
   "outputs": [
    {
     "data": {
      "image/png": "[encoded data removed]",
      "text/plain": [
       "<Figure size 1080x360 with 1 Axes>"
      ]
     },
     "metadata": {
      "needs_background": "light"
     },
     "output_type": "display_data"
    }
   ],
   "source": [
    "x_values = pd.Series(range(0,len(orders['revenue'])))\n",
    "\n",
    "plt.figure(figsize=(15, 5))\n",
    "plt.scatter(x_values, orders['revenue']) \n",
    "plt.grid()\n",
    "plt.title('График стоимостей заказов')\n",
    "plt.xlabel('Количество')\n",
    "plt.ylabel('Цена')\n",
    "plt.show()"
   ]
  },
  {
   "cell_type": "markdown",
   "metadata": {},
   "source": [
    "Трудно сделать выводы.Рассмотрим поближе."
   ]
  },
  {
   "cell_type": "code",
   "execution_count": 53,
   "metadata": {
    "scrolled": false
   },
   "outputs": [
    {
     "data": {
      "image/png": "[encoded data removed]",
      "text/plain": [
       "<Figure size 1080x360 with 1 Axes>"
      ]
     },
     "metadata": {
      "needs_background": "light"
     },
     "output_type": "display_data"
    }
   ],
   "source": [
    "x_values = pd.Series(range(0,len(orders.query('revenue < 100000')['revenue'])))\n",
    "\n",
    "plt.figure(figsize=(15, 5))\n",
    "plt.scatter(x_values, orders.query('revenue < 100000')['revenue'])\n",
    "plt.grid()\n",
    "plt.title('График стоимостей заказов')\n",
    "plt.xlabel('Количество')\n",
    "plt.ylabel('Цена')\n",
    "plt.show()"
   ]
  },
  {
   "cell_type": "markdown",
   "metadata": {},
   "source": [
    "Есть немного дорогих заказов. По графику видно,что очень много заказов до 20000."
   ]
  },
  {
   "cell_type": "markdown",
   "metadata": {},
   "source": [
    "### Посчитаем 95-й и 99-й перцентили стоимости заказов. Выберем границу для определения аномальных заказов."
   ]
  },
  {
   "cell_type": "code",
   "execution_count": 54,
   "metadata": {},
   "outputs": [
    {
     "data": {
      "text/plain": [
       "array([28000. , 58233.2])"
      ]
     },
     "execution_count": 54,
     "metadata": {},
     "output_type": "execute_result"
    }
   ],
   "source": [
    "np.percentile(orders['revenue'], [95, 99])"
   ]
  },
  {
   "cell_type": "markdown",
   "metadata": {},
   "source": [
    "Есть немного дорогих заказов. По графику можно выбрать границу аномальных заказов между 28000 и 58233.2 рублей."
   ]
  },
  {
   "cell_type": "markdown",
   "metadata": {},
   "source": [
    "### Посчитаем статистическую значимость различий в конверсии между группами по «сырым» данным. Сделаем выводы и предположения."
   ]
  },
  {
   "cell_type": "markdown",
   "metadata": {},
   "source": [
    "- Hуливая гипотеза - конверсии в группах А и В не различаются.\n",
    "- Альтернотивная гипотеза - конверсии в группах А и В отличаются.\n",
    "- Пороговое значение alpha (критический уровень статистической значимости) зададим 5%. Признаю 5%-ю вероятность слишком малой и на этом основании отвергаете нулевую гипотезу."
   ]
  },
  {
   "cell_type": "markdown",
   "metadata": {},
   "source": [
    "Создадим переменные ordersByUsersA и ordersByUsersB со столбцами ['userId', 'orders']. В них для пользователей, которые заказывали хотя бы 1 раз, укажем число совершённых заказов."
   ]
  },
  {
   "cell_type": "code",
   "execution_count": 55,
   "metadata": {},
   "outputs": [],
   "source": [
    "ordersByUsersA = (\n",
    "    orders[orders['group'] == 'A']\n",
    "    .groupby('visitorId', as_index=False)\n",
    "    .agg({'transactionId' : pd.Series.nunique})\n",
    ")\n",
    "ordersByUsersA.columns = ['userId', 'orders']\n",
    "\n",
    "ordersByUsersB = (\n",
    "    orders[orders['group'] == 'B']\n",
    "    .groupby('visitorId', as_index=False)\n",
    "    .agg({'transactionId': pd.Series.nunique})\n",
    ")\n",
    "ordersByUsersB.columns = ['userId', 'orders']"
   ]
  },
  {
   "cell_type": "code",
   "execution_count": 56,
   "metadata": {},
   "outputs": [],
   "source": [
    "visitorsADaily = visitors[visitors['group'] == 'A'][['date', 'visitors']]\n",
    "visitorsADaily.columns = ['date', 'visitorsPerDateA']\n",
    "\n",
    "visitorsBDaily = visitors[visitors['group'] == 'B'][['date', 'visitors']]\n",
    "visitorsBDaily.columns = ['date', 'visitorsPerDateB']"
   ]
  },
  {
   "cell_type": "markdown",
   "metadata": {},
   "source": [
    "Объявим переменные sampleA и sampleB, в которых пользователям из разных групп будет соответствовать количество заказов. Тем, кто ничего не заказал, будут соответствовать нули. Это нужно, чтобы подготовить выборки к проверке критерием Манна-Уитни."
   ]
  },
  {
   "cell_type": "code",
   "execution_count": 57,
   "metadata": {},
   "outputs": [
    {
     "data": {
      "text/plain": [
       "'0.01679'"
      ]
     },
     "execution_count": 57,
     "metadata": {},
     "output_type": "execute_result"
    }
   ],
   "source": [
    "sampleA = pd.concat(\n",
    "    [\n",
    "        ordersByUsersA['orders'],\n",
    "        pd.Series(\n",
    "            0,\n",
    "            index=np.arange(\n",
    "                visitorsADaily['visitorsPerDateA'].sum() - len(ordersByUsersA['orders'])\n",
    "            ),\n",
    "            name='orders',\n",
    "        ),\n",
    "    ],\n",
    "    axis=0,\n",
    ")\n",
    "\n",
    "sampleB = pd.concat(\n",
    "    [\n",
    "        ordersByUsersB['orders'],\n",
    "        pd.Series(\n",
    "            0,\n",
    "            index=np.arange(\n",
    "                visitorsBDaily['visitorsPerDateB'].sum() - len(ordersByUsersB['orders'])\n",
    "            ),\n",
    "            name='orders',\n",
    "        ),\n",
    "    ],\n",
    "    axis=0,\n",
    ")\n",
    "\n",
    "\"{0:.5f}\".format(stats.mannwhitneyu(sampleA, sampleB, alternative=\"two-sided\")[1])"
   ]
  },
  {
   "cell_type": "markdown",
   "metadata": {},
   "source": [
    "p-value=0.01679,он значительно меньше 0.05, потому нулевую гипотезу отвергаем.Анализ \"сырых\" данных сообщает,что в конверсиимежду группами есть статистически значимые различия."
   ]
  },
  {
   "cell_type": "code",
   "execution_count": 58,
   "metadata": {},
   "outputs": [
    {
     "data": {
      "text/plain": [
       "'0.138'"
      ]
     },
     "execution_count": 58,
     "metadata": {},
     "output_type": "execute_result"
    }
   ],
   "source": [
    "\"{0:.3f}\".format(sampleB.mean()/sampleA.mean()-1)"
   ]
  },
  {
   "cell_type": "markdown",
   "metadata": {},
   "source": [
    "Относительный прирост=0.138.По \"сырым\" данным относительный прирост конверсии группы В к конверсии группы А равен 13%."
   ]
  },
  {
   "cell_type": "markdown",
   "metadata": {},
   "source": [
    "### Посчитаем статистическую значимость различий в среднем чеке заказа между группами по «сырым» данным. Сделаем выводы и предположения."
   ]
  },
  {
   "cell_type": "code",
   "execution_count": 59,
   "metadata": {},
   "outputs": [
    {
     "data": {
      "text/plain": [
       "'0.729'"
      ]
     },
     "metadata": {},
     "output_type": "display_data"
    },
    {
     "data": {
      "text/plain": [
       "'0.259'"
      ]
     },
     "execution_count": 59,
     "metadata": {},
     "output_type": "execute_result"
    }
   ],
   "source": [
    "display('{0:.3f}'.format(stats.mannwhitneyu(orders[orders['group'] == 'A']['revenue'], \\\n",
    "                                            orders[orders['group'] == 'B']['revenue'],alternative=\"two-sided\")[1]))\n",
    "'{0:.3f}'.format(orders[orders['group'] == 'B']['revenue'].mean() / orders[orders['group'] == 'A']['revenue'].mean()-1)"
   ]
  },
  {
   "cell_type": "markdown",
   "metadata": {},
   "source": [
    "P-value=0.729,он значительно больше 0.05(72%). Значит, причин отвергать нулевую гипотезу и считать, что в среднем чеке есть различия, нет. Относительное отличие=0.259.Средний чек группы B значительно выше(25%) среднего чека группы A."
   ]
  },
  {
   "cell_type": "markdown",
   "metadata": {},
   "source": [
    "### Посчитаем статистическую значимость различий в конверсии между группами по «очищенным» данным. Сделаем выводы и предположения."
   ]
  },
  {
   "cell_type": "markdown",
   "metadata": {},
   "source": [
    "Узнаем, сколько всего аномальных пользователей методом shape()"
   ]
  },
  {
   "cell_type": "code",
   "execution_count": 60,
   "metadata": {},
   "outputs": [
    {
     "data": {
      "text/plain": [
       "1099    148427295\n",
       "18      199603092\n",
       "23      237748145\n",
       "37      249864742\n",
       "684     358944393\n",
       "dtype: int64"
      ]
     },
     "metadata": {},
     "output_type": "display_data"
    },
    {
     "data": {
      "text/plain": [
       "(45,)"
      ]
     },
     "execution_count": 60,
     "metadata": {},
     "output_type": "execute_result"
    }
   ],
   "source": [
    "usersWithManyOrders = pd.concat(\n",
    "    [\n",
    "        ordersByUsersA[ordersByUsersA['orders'] > 2]['userId'], \n",
    "        ordersByUsersB[ordersByUsersB['orders'] > 2]['userId']\n",
    "    ],\n",
    "    axis = 0,\n",
    ")\n",
    "\n",
    "usersWithExpensiveOrders = orders[orders['revenue'] > 40000]['visitorId']\n",
    "\n",
    "abnormalUsers = (\n",
    "    pd.concat([usersWithManyOrders, usersWithExpensiveOrders], axis = 0)\n",
    "    .drop_duplicates()\n",
    "    .sort_values()\n",
    ")\n",
    "\n",
    "display(abnormalUsers.head(5))\n",
    "abnormalUsers.shape"
   ]
  },
  {
   "cell_type": "markdown",
   "metadata": {},
   "source": [
    "45 анамалий."
   ]
  },
  {
   "cell_type": "markdown",
   "metadata": {},
   "source": [
    "Проверим данные на нормальность распределения. Для этого используем критерий Шапиро-Уилка."
   ]
  },
  {
   "cell_type": "code",
   "execution_count": 61,
   "metadata": {},
   "outputs": [
    {
     "name": "stdout",
     "output_type": "stream",
     "text": [
      "p-значение:  1.739703399801917e-34\n",
      "Отвергаем нулевую гипотезу: распределение не нормально\n"
     ]
    }
   ],
   "source": [
    "alpha = 0.05\n",
    "\n",
    "results = st.shapiro(orders[orders['group']=='A']['revenue'])\n",
    "p_value = results[\n",
    "    1\n",
    "]\n",
    "\n",
    "print('p-значение: ', p_value)\n",
    "\n",
    "if p_value < alpha:\n",
    "    print('Отвергаем нулевую гипотезу: распределение не нормально')\n",
    "else:\n",
    "    print('Не получилось отвергнуть нулевую гипотезу, распределение нормально') "
   ]
  },
  {
   "cell_type": "code",
   "execution_count": 62,
   "metadata": {},
   "outputs": [
    {
     "name": "stdout",
     "output_type": "stream",
     "text": [
      "p-значение:  0.0\n",
      "Отвергаем нулевую гипотезу: распределение не нормально\n"
     ]
    }
   ],
   "source": [
    "alpha = 0.05\n",
    "\n",
    "results = st.shapiro(orders[orders['group']=='B']['revenue'])\n",
    "p_value = results[\n",
    "    1\n",
    "]\n",
    "\n",
    "print('p-значение: ', p_value)\n",
    "\n",
    "if p_value < alpha:\n",
    "    print('Отвергаем нулевую гипотезу: распределение не нормально')\n",
    "else:\n",
    "    print('Не получилось отвергнуть нулевую гипотезу, распределение нормально') "
   ]
  },
  {
   "cell_type": "markdown",
   "metadata": {},
   "source": [
    "Подготовим выборки количества заказов по пользователям по группам теста."
   ]
  },
  {
   "cell_type": "code",
   "execution_count": 63,
   "metadata": {},
   "outputs": [],
   "source": [
    "sampleAFiltered = pd.concat(\n",
    "    [\n",
    "        ordersByUsersA[\n",
    "            np.logical_not(ordersByUsersA['userId'].isin(abnormalUsers))\n",
    "        ]['orders'],\n",
    "        pd.Series(\n",
    "            0, \n",
    "            index=np.arange(\n",
    "                visitorsADaily['visitorsPerDateA'].sum() - len(ordersByUsersA['orders'])\n",
    "            ),\n",
    "            name='orders',\n",
    "        ),\n",
    "    ],\n",
    "    axis=0,\n",
    ")\n",
    "\n",
    "sampleBFiltered = pd.concat(\n",
    "    [\n",
    "        ordersByUsersB[\n",
    "            np.logical_not(ordersByUsersB['userId'].isin(abnormalUsers))\n",
    "        ]['orders'],\n",
    "        pd.Series(\n",
    "            0, \n",
    "            index=np.arange(\n",
    "                visitorsBDaily['visitorsPerDateB'].sum() - len(ordersByUsersB['orders'])\n",
    "            ),\n",
    "            name='orders',\n",
    "        ),\n",
    "    ],\n",
    "    axis=0,\n",
    ")"
   ]
  },
  {
   "cell_type": "markdown",
   "metadata": {},
   "source": [
    "Применим статистический критерий Манна-Уитни к полученным выборкам."
   ]
  },
  {
   "cell_type": "code",
   "execution_count": 64,
   "metadata": {},
   "outputs": [
    {
     "data": {
      "text/plain": [
       "'0.00661'"
      ]
     },
     "metadata": {},
     "output_type": "display_data"
    },
    {
     "data": {
      "text/plain": [
       "'0.188'"
      ]
     },
     "execution_count": 64,
     "metadata": {},
     "output_type": "execute_result"
    }
   ],
   "source": [
    "display('{0:.5f}'.format(stats.mannwhitneyu(sampleAFiltered, sampleBFiltered, alternative=\"two-sided\")[1]))\n",
    "'{0:.3f}'.format(sampleBFiltered.mean()/sampleAFiltered.mean()-1)"
   ]
  },
  {
   "cell_type": "markdown",
   "metadata": {},
   "source": [
    "P-value=0.00661,он получился еще ниже, чем по \"сырым\" данным(0,01679).Как и в случае с сырыми данными,статистическая значимость достигнута.Относительный прирост=0.188, сегмента B увеличился по сравнению с приростом по \"сырым\" данным(0,138)."
   ]
  },
  {
   "cell_type": "markdown",
   "metadata": {},
   "source": [
    "### Посчитаем статистическую значимость различий в среднем чеке заказа между группами по «очищенным» данным. Сделаем выводы и предположения."
   ]
  },
  {
   "cell_type": "code",
   "execution_count": 65,
   "metadata": {},
   "outputs": [
    {
     "data": {
      "text/plain": [
       "'0.944'"
      ]
     },
     "execution_count": 65,
     "metadata": {},
     "output_type": "execute_result"
    }
   ],
   "source": [
    "'{0:.3f}'.format(\n",
    "    stats.mannwhitneyu(\n",
    "        orders[\n",
    "            np.logical_and(\n",
    "                orders['group'] == 'A',\n",
    "                np.logical_not(orders['visitorId'].isin(abnormalUsers)),\n",
    "            )\n",
    "        ]['revenue'],\n",
    "        orders[\n",
    "            np.logical_and(\n",
    "            orders['group'] == 'B',\n",
    "            np.logical_not(orders['visitorId'].isin(abnormalUsers)),\n",
    "                )\n",
    "            ]['revenue'],alternative=\"two-sided\"\n",
    "        )[1]\n",
    ")"
   ]
  },
  {
   "cell_type": "markdown",
   "metadata": {},
   "source": [
    "P-value=0.944,он увеличился, по \"сырым\" данным(0,729),он гораздо больше 0.05.Значит мы не можем отвергнуть нулевую гипотезу,что различий в среднем чеке по \"очищенным\" данным нет."
   ]
  },
  {
   "cell_type": "code",
   "execution_count": 66,
   "metadata": {},
   "outputs": [
    {
     "data": {
      "text/plain": [
       "'0.058'"
      ]
     },
     "execution_count": 66,
     "metadata": {},
     "output_type": "execute_result"
    }
   ],
   "source": [
    "\"{0:.3f}\".format(\n",
    "        orders[\n",
    "            np.logical_and(\n",
    "                orders['group'] == 'B',\n",
    "                np.logical_not(orders['visitorId'].isin(abnormalUsers)),\n",
    "            )\n",
    "        ]['revenue'].mean()\n",
    "        / orders[\n",
    "            np.logical_and(\n",
    "                orders['group'] == 'A',\n",
    "                np.logical_not(orders['visitorId'].isin(abnormalUsers)),\n",
    "            )\n",
    "        ]['revenue'].mean()\n",
    "        - 1\n",
    ")"
   ]
  },
  {
   "cell_type": "markdown",
   "metadata": {},
   "source": [
    "Относительные различия=0.058, в среднем чеке между группами снизились с 25% до 5,8%. Аномалии очень сильно влияли на средний чек."
   ]
  },
  {
   "cell_type": "markdown",
   "metadata": {},
   "source": [
    "## Принимаем решение по результатам теста и объясняем его.  Остановить тест, зафиксировать победу группы В."
   ]
  },
  {
   "cell_type": "markdown",
   "metadata": {},
   "source": [
    "- Нет статистически значимое различие по конверсии между группами как по сырым данным(P-value=0,01679; 0,138), так и после фильтрации аномалий(P-value=0,00661; 0,188).\n",
    "- Есть статистически значимого различия по среднему чеку между группами по \"сырым\"(P-value=0,729; 0,259) и по \"очищенным\" данным(P-value=0,944; 0,058).\n",
    "- График различия конверсии между группами сообщает, что результаты группы B лучше группы A: имеют тенденцию к росту, либо зафиксировались около среднего значения.\n",
    "- График различия среднего чека резко менялись в несколько дат. Видимо,именно тогда были совершены анамальные заказы."
   ]
  }
 ],
 "metadata": {
  "ExecuteTimeLog": [
   {
    "duration": 1027,
    "start_time": "2021-10-27T17:08:50.602Z"
   },
   {
    "duration": 3,
    "start_time": "2021-10-27T17:08:54.338Z"
   },
   {
    "duration": 18,
    "start_time": "2021-10-27T17:11:05.190Z"
   },
   {
    "duration": 262,
    "start_time": "2021-10-27T17:14:02.767Z"
   },
   {
    "duration": -1728,
    "start_time": "2021-10-27T17:14:04.758Z"
   },
   {
    "duration": 17,
    "start_time": "2021-10-27T17:14:20.519Z"
   },
   {
    "duration": 10,
    "start_time": "2021-10-27T17:14:21.088Z"
   },
   {
    "duration": 7,
    "start_time": "2021-10-27T17:14:31.043Z"
   },
   {
    "duration": 6,
    "start_time": "2021-10-27T17:16:18.375Z"
   },
   {
    "duration": 6,
    "start_time": "2021-10-27T17:16:18.815Z"
   },
   {
    "duration": 9,
    "start_time": "2021-10-27T17:16:21.959Z"
   },
   {
    "duration": 5,
    "start_time": "2021-10-27T17:16:37.811Z"
   },
   {
    "duration": 3,
    "start_time": "2021-10-27T17:19:47.602Z"
   },
   {
    "duration": 20,
    "start_time": "2021-10-27T17:19:47.796Z"
   },
   {
    "duration": 6,
    "start_time": "2021-10-27T17:19:47.984Z"
   },
   {
    "duration": 61,
    "start_time": "2021-10-27T17:19:48.500Z"
   },
   {
    "duration": 6,
    "start_time": "2021-10-27T17:19:48.563Z"
   },
   {
    "duration": 22,
    "start_time": "2021-10-27T17:19:48.668Z"
   },
   {
    "duration": 6,
    "start_time": "2021-10-27T17:19:48.751Z"
   },
   {
    "duration": 8,
    "start_time": "2021-10-27T17:21:28.073Z"
   },
   {
    "duration": 3,
    "start_time": "2021-10-27T17:23:58.876Z"
   },
   {
    "duration": 21,
    "start_time": "2021-10-27T17:23:59.042Z"
   },
   {
    "duration": 6,
    "start_time": "2021-10-27T17:23:59.242Z"
   },
   {
    "duration": 54,
    "start_time": "2021-10-27T17:23:59.436Z"
   },
   {
    "duration": 6,
    "start_time": "2021-10-27T17:23:59.604Z"
   },
   {
    "duration": 7,
    "start_time": "2021-10-27T17:23:59.780Z"
   },
   {
    "duration": 8,
    "start_time": "2021-10-27T17:24:00.149Z"
   },
   {
    "duration": 6,
    "start_time": "2021-10-27T17:24:00.347Z"
   },
   {
    "duration": 12,
    "start_time": "2021-10-27T17:24:00.528Z"
   },
   {
    "duration": 6,
    "start_time": "2021-10-27T17:24:00.689Z"
   },
   {
    "duration": 22,
    "start_time": "2021-10-27T17:24:00.893Z"
   },
   {
    "duration": 6,
    "start_time": "2021-10-27T17:24:01.081Z"
   },
   {
    "duration": 8,
    "start_time": "2021-10-27T17:24:01.303Z"
   },
   {
    "duration": 8,
    "start_time": "2021-10-27T17:24:01.473Z"
   },
   {
    "duration": 6,
    "start_time": "2021-10-27T17:24:01.665Z"
   },
   {
    "duration": 13,
    "start_time": "2021-10-27T17:24:01.896Z"
   },
   {
    "duration": 7,
    "start_time": "2021-10-27T17:24:02.088Z"
   },
   {
    "duration": 3,
    "start_time": "2021-10-27T17:25:17.116Z"
   },
   {
    "duration": 20,
    "start_time": "2021-10-27T17:25:17.412Z"
   },
   {
    "duration": 6,
    "start_time": "2021-10-27T17:25:17.503Z"
   },
   {
    "duration": 45,
    "start_time": "2021-10-27T17:25:17.689Z"
   },
   {
    "duration": 6,
    "start_time": "2021-10-27T17:25:17.893Z"
   },
   {
    "duration": 8,
    "start_time": "2021-10-27T17:25:18.088Z"
   },
   {
    "duration": 7,
    "start_time": "2021-10-27T17:25:18.285Z"
   },
   {
    "duration": 5,
    "start_time": "2021-10-27T17:25:18.516Z"
   },
   {
    "duration": 12,
    "start_time": "2021-10-27T17:25:18.708Z"
   },
   {
    "duration": 6,
    "start_time": "2021-10-27T17:25:18.928Z"
   },
   {
    "duration": 22,
    "start_time": "2021-10-27T17:25:19.132Z"
   },
   {
    "duration": 7,
    "start_time": "2021-10-27T17:25:19.320Z"
   },
   {
    "duration": 7,
    "start_time": "2021-10-27T17:25:19.536Z"
   },
   {
    "duration": 7,
    "start_time": "2021-10-27T17:25:19.740Z"
   },
   {
    "duration": 6,
    "start_time": "2021-10-27T17:25:19.940Z"
   },
   {
    "duration": 8,
    "start_time": "2021-10-27T17:25:20.156Z"
   },
   {
    "duration": 5,
    "start_time": "2021-10-27T17:25:20.364Z"
   },
   {
    "duration": 3,
    "start_time": "2021-10-27T17:34:58.198Z"
   },
   {
    "duration": 16,
    "start_time": "2021-10-27T17:34:58.398Z"
   },
   {
    "duration": 8,
    "start_time": "2021-10-27T17:34:58.733Z"
   },
   {
    "duration": 6,
    "start_time": "2021-10-27T17:34:59.097Z"
   },
   {
    "duration": 43,
    "start_time": "2021-10-27T17:34:59.530Z"
   },
   {
    "duration": 7,
    "start_time": "2021-10-27T17:34:59.729Z"
   },
   {
    "duration": 8,
    "start_time": "2021-10-27T17:34:59.913Z"
   },
   {
    "duration": 7,
    "start_time": "2021-10-27T17:35:00.086Z"
   },
   {
    "duration": 6,
    "start_time": "2021-10-27T17:35:00.270Z"
   },
   {
    "duration": 12,
    "start_time": "2021-10-27T17:35:00.450Z"
   },
   {
    "duration": 6,
    "start_time": "2021-10-27T17:35:00.646Z"
   },
   {
    "duration": 17,
    "start_time": "2021-10-27T17:35:00.997Z"
   },
   {
    "duration": 7,
    "start_time": "2021-10-27T17:35:01.590Z"
   },
   {
    "duration": 8,
    "start_time": "2021-10-27T17:35:01.742Z"
   },
   {
    "duration": 6,
    "start_time": "2021-10-27T17:35:01.942Z"
   },
   {
    "duration": 6,
    "start_time": "2021-10-27T17:35:02.138Z"
   },
   {
    "duration": 8,
    "start_time": "2021-10-27T17:35:02.354Z"
   },
   {
    "duration": 4,
    "start_time": "2021-10-27T17:35:03.562Z"
   },
   {
    "duration": 8,
    "start_time": "2021-10-27T17:37:44.378Z"
   },
   {
    "duration": 3,
    "start_time": "2021-10-27T17:38:19.994Z"
   },
   {
    "duration": 16,
    "start_time": "2021-10-27T17:38:20.198Z"
   },
   {
    "duration": 8,
    "start_time": "2021-10-27T17:38:20.398Z"
   },
   {
    "duration": 7,
    "start_time": "2021-10-27T17:38:20.598Z"
   },
   {
    "duration": 35,
    "start_time": "2021-10-27T17:38:20.974Z"
   },
   {
    "duration": 7,
    "start_time": "2021-10-27T17:38:21.178Z"
   },
   {
    "duration": 9,
    "start_time": "2021-10-27T17:38:21.498Z"
   },
   {
    "duration": 7,
    "start_time": "2021-10-27T17:38:21.586Z"
   },
   {
    "duration": 6,
    "start_time": "2021-10-27T17:38:21.774Z"
   },
   {
    "duration": 11,
    "start_time": "2021-10-27T17:38:21.942Z"
   },
   {
    "duration": 6,
    "start_time": "2021-10-27T17:38:22.166Z"
   },
   {
    "duration": 15,
    "start_time": "2021-10-27T17:38:22.513Z"
   },
   {
    "duration": 6,
    "start_time": "2021-10-27T17:38:22.713Z"
   },
   {
    "duration": 7,
    "start_time": "2021-10-27T17:38:22.878Z"
   },
   {
    "duration": 7,
    "start_time": "2021-10-27T17:38:23.046Z"
   },
   {
    "duration": 6,
    "start_time": "2021-10-27T17:38:23.273Z"
   },
   {
    "duration": 8,
    "start_time": "2021-10-27T17:38:23.462Z"
   },
   {
    "duration": 5,
    "start_time": "2021-10-27T17:38:23.638Z"
   },
   {
    "duration": 704,
    "start_time": "2021-10-27T17:38:24.266Z"
   },
   {
    "duration": 6,
    "start_time": "2021-10-27T17:39:08.462Z"
   },
   {
    "duration": 4508,
    "start_time": "2021-10-27T17:41:58.183Z"
   },
   {
    "duration": 4114,
    "start_time": "2021-10-27T17:42:17.700Z"
   },
   {
    "duration": 4040,
    "start_time": "2021-10-27T17:42:49.467Z"
   },
   {
    "duration": 5068,
    "start_time": "2021-10-27T17:43:04.643Z"
   },
   {
    "duration": 6,
    "start_time": "2021-10-27T17:43:23.073Z"
   },
   {
    "duration": 6,
    "start_time": "2021-10-27T17:44:04.887Z"
   },
   {
    "duration": 6,
    "start_time": "2021-10-27T17:44:05.123Z"
   },
   {
    "duration": 6,
    "start_time": "2021-10-27T17:44:05.315Z"
   },
   {
    "duration": 8,
    "start_time": "2021-10-27T17:45:01.887Z"
   },
   {
    "duration": 7,
    "start_time": "2021-10-27T17:46:18.891Z"
   },
   {
    "duration": 8,
    "start_time": "2021-10-27T17:46:23.663Z"
   },
   {
    "duration": 167,
    "start_time": "2021-10-27T17:47:22.539Z"
   },
   {
    "duration": 9,
    "start_time": "2021-10-27T17:47:29.767Z"
   },
   {
    "duration": 1426,
    "start_time": "2021-10-28T11:55:58.524Z"
   },
   {
    "duration": 16,
    "start_time": "2021-10-28T11:55:59.953Z"
   },
   {
    "duration": 21,
    "start_time": "2021-10-28T11:55:59.972Z"
   },
   {
    "duration": 11,
    "start_time": "2021-10-28T11:55:59.997Z"
   },
   {
    "duration": 41,
    "start_time": "2021-10-28T11:56:00.011Z"
   },
   {
    "duration": 11,
    "start_time": "2021-10-28T11:56:00.055Z"
   },
   {
    "duration": 15,
    "start_time": "2021-10-28T11:56:00.068Z"
   },
   {
    "duration": 17,
    "start_time": "2021-10-28T11:56:00.088Z"
   },
   {
    "duration": 24,
    "start_time": "2021-10-28T11:56:00.108Z"
   },
   {
    "duration": 27,
    "start_time": "2021-10-28T11:56:00.135Z"
   },
   {
    "duration": 24,
    "start_time": "2021-10-28T11:56:00.165Z"
   },
   {
    "duration": 39,
    "start_time": "2021-10-28T11:56:00.192Z"
   },
   {
    "duration": 39,
    "start_time": "2021-10-28T11:56:00.234Z"
   },
   {
    "duration": 39,
    "start_time": "2021-10-28T11:56:00.275Z"
   },
   {
    "duration": 36,
    "start_time": "2021-10-28T11:56:00.316Z"
   },
   {
    "duration": 21,
    "start_time": "2021-10-28T11:56:00.355Z"
   },
   {
    "duration": 30,
    "start_time": "2021-10-28T11:56:00.378Z"
   },
   {
    "duration": 16,
    "start_time": "2021-10-28T11:56:00.410Z"
   },
   {
    "duration": 505,
    "start_time": "2021-10-28T11:56:00.429Z"
   },
   {
    "duration": -43,
    "start_time": "2021-10-28T11:56:00.980Z"
   },
   {
    "duration": -51,
    "start_time": "2021-10-28T11:56:00.989Z"
   },
   {
    "duration": -53,
    "start_time": "2021-10-28T11:56:00.993Z"
   },
   {
    "duration": -54,
    "start_time": "2021-10-28T11:56:00.995Z"
   },
   {
    "duration": 9,
    "start_time": "2021-10-28T11:56:23.287Z"
   },
   {
    "duration": 9,
    "start_time": "2021-10-28T11:56:25.303Z"
   },
   {
    "duration": 8,
    "start_time": "2021-10-28T11:56:26.832Z"
   },
   {
    "duration": 8,
    "start_time": "2021-10-28T12:02:35.444Z"
   },
   {
    "duration": 12,
    "start_time": "2021-10-28T12:02:39.440Z"
   },
   {
    "duration": 34,
    "start_time": "2021-10-28T12:13:40.615Z"
   },
   {
    "duration": 16,
    "start_time": "2021-10-28T12:19:32.634Z"
   },
   {
    "duration": 16,
    "start_time": "2021-10-28T12:19:51.891Z"
   },
   {
    "duration": 19,
    "start_time": "2021-10-28T12:20:10.590Z"
   },
   {
    "duration": 17,
    "start_time": "2021-10-28T12:20:30.239Z"
   },
   {
    "duration": 16,
    "start_time": "2021-10-28T12:20:46.063Z"
   },
   {
    "duration": 342,
    "start_time": "2021-10-28T12:25:22.544Z"
   },
   {
    "duration": 14,
    "start_time": "2021-10-28T12:25:54.180Z"
   },
   {
    "duration": 15,
    "start_time": "2021-10-28T12:26:03.144Z"
   },
   {
    "duration": 15,
    "start_time": "2021-10-28T12:26:14.875Z"
   },
   {
    "duration": 14,
    "start_time": "2021-10-28T12:39:51.022Z"
   },
   {
    "duration": 14,
    "start_time": "2021-10-28T12:50:22.288Z"
   },
   {
    "duration": 1574,
    "start_time": "2021-10-28T12:52:36.485Z"
   },
   {
    "duration": 17,
    "start_time": "2021-10-28T12:52:38.062Z"
   },
   {
    "duration": 18,
    "start_time": "2021-10-28T12:52:38.082Z"
   },
   {
    "duration": 12,
    "start_time": "2021-10-28T12:52:38.103Z"
   },
   {
    "duration": 80,
    "start_time": "2021-10-28T12:52:38.117Z"
   },
   {
    "duration": 9,
    "start_time": "2021-10-28T12:52:38.199Z"
   },
   {
    "duration": 14,
    "start_time": "2021-10-28T12:52:38.210Z"
   },
   {
    "duration": 11,
    "start_time": "2021-10-28T12:52:38.230Z"
   },
   {
    "duration": 13,
    "start_time": "2021-10-28T12:52:38.244Z"
   },
   {
    "duration": 40,
    "start_time": "2021-10-28T12:52:38.260Z"
   },
   {
    "duration": 7,
    "start_time": "2021-10-28T12:52:38.302Z"
   },
   {
    "duration": 24,
    "start_time": "2021-10-28T12:52:38.311Z"
   },
   {
    "duration": 10,
    "start_time": "2021-10-28T12:52:38.338Z"
   },
   {
    "duration": 39,
    "start_time": "2021-10-28T12:52:38.350Z"
   },
   {
    "duration": 12,
    "start_time": "2021-10-28T12:52:38.391Z"
   },
   {
    "duration": 9,
    "start_time": "2021-10-28T12:52:38.406Z"
   },
   {
    "duration": 13,
    "start_time": "2021-10-28T12:52:38.418Z"
   },
   {
    "duration": 51,
    "start_time": "2021-10-28T12:52:38.433Z"
   },
   {
    "duration": 17,
    "start_time": "2021-10-28T12:52:38.486Z"
   },
   {
    "duration": 8,
    "start_time": "2021-10-28T12:52:38.505Z"
   },
   {
    "duration": 13,
    "start_time": "2021-10-28T12:52:38.515Z"
   },
   {
    "duration": 15,
    "start_time": "2021-10-28T12:52:38.530Z"
   },
   {
    "duration": 41,
    "start_time": "2021-10-28T12:52:38.549Z"
   },
   {
    "duration": 15,
    "start_time": "2021-10-28T12:52:38.592Z"
   },
   {
    "duration": 22,
    "start_time": "2021-10-28T12:52:38.611Z"
   },
   {
    "duration": 9,
    "start_time": "2021-10-28T13:10:27.762Z"
   },
   {
    "duration": 8995,
    "start_time": "2021-10-28T13:10:56.207Z"
   },
   {
    "duration": 12,
    "start_time": "2021-10-28T13:11:50.027Z"
   },
   {
    "duration": 8880,
    "start_time": "2021-10-28T13:12:56.827Z"
   },
   {
    "duration": 353,
    "start_time": "2021-10-28T13:13:43.771Z"
   },
   {
    "duration": 275,
    "start_time": "2021-10-28T13:15:01.132Z"
   },
   {
    "duration": 16,
    "start_time": "2021-10-28T13:16:36.747Z"
   },
   {
    "duration": 551,
    "start_time": "2021-10-28T13:17:03.876Z"
   },
   {
    "duration": 281,
    "start_time": "2021-10-28T13:17:32.511Z"
   },
   {
    "duration": 10,
    "start_time": "2021-10-28T13:18:01.928Z"
   },
   {
    "duration": 1444,
    "start_time": "2021-10-28T13:19:15.224Z"
   },
   {
    "duration": 18,
    "start_time": "2021-10-28T13:19:16.671Z"
   },
   {
    "duration": 19,
    "start_time": "2021-10-28T13:19:16.692Z"
   },
   {
    "duration": 19,
    "start_time": "2021-10-28T13:19:16.713Z"
   },
   {
    "duration": 79,
    "start_time": "2021-10-28T13:19:16.735Z"
   },
   {
    "duration": 10,
    "start_time": "2021-10-28T13:19:16.817Z"
   },
   {
    "duration": 13,
    "start_time": "2021-10-28T13:19:16.830Z"
   },
   {
    "duration": 15,
    "start_time": "2021-10-28T13:19:16.847Z"
   },
   {
    "duration": 18,
    "start_time": "2021-10-28T13:19:16.866Z"
   },
   {
    "duration": 23,
    "start_time": "2021-10-28T13:19:16.886Z"
   },
   {
    "duration": 9,
    "start_time": "2021-10-28T13:19:16.911Z"
   },
   {
    "duration": 17,
    "start_time": "2021-10-28T13:19:16.923Z"
   },
   {
    "duration": 40,
    "start_time": "2021-10-28T13:19:16.943Z"
   },
   {
    "duration": 13,
    "start_time": "2021-10-28T13:19:16.986Z"
   },
   {
    "duration": 18,
    "start_time": "2021-10-28T13:19:17.002Z"
   },
   {
    "duration": 13,
    "start_time": "2021-10-28T13:19:17.023Z"
   },
   {
    "duration": 45,
    "start_time": "2021-10-28T13:19:17.039Z"
   },
   {
    "duration": 15,
    "start_time": "2021-10-28T13:19:17.087Z"
   },
   {
    "duration": 17,
    "start_time": "2021-10-28T13:19:17.104Z"
   },
   {
    "duration": 7,
    "start_time": "2021-10-28T13:19:17.124Z"
   },
   {
    "duration": 13,
    "start_time": "2021-10-28T13:19:17.134Z"
   },
   {
    "duration": 34,
    "start_time": "2021-10-28T13:19:17.149Z"
   },
   {
    "duration": 16,
    "start_time": "2021-10-28T13:19:17.187Z"
   },
   {
    "duration": 18,
    "start_time": "2021-10-28T13:19:17.205Z"
   },
   {
    "duration": 15,
    "start_time": "2021-10-28T13:19:17.225Z"
   },
   {
    "duration": 43,
    "start_time": "2021-10-28T13:19:17.242Z"
   },
   {
    "duration": 17,
    "start_time": "2021-10-28T13:19:17.287Z"
   },
   {
    "duration": 15,
    "start_time": "2021-10-28T13:19:17.306Z"
   },
   {
    "duration": 389,
    "start_time": "2021-10-28T13:19:17.323Z"
   },
   {
    "duration": 12,
    "start_time": "2021-10-28T13:19:17.715Z"
   },
   {
    "duration": 294,
    "start_time": "2021-10-28T13:19:17.730Z"
   },
   {
    "duration": 1454,
    "start_time": "2021-10-28T13:20:04.263Z"
   },
   {
    "duration": 18,
    "start_time": "2021-10-28T13:20:05.720Z"
   },
   {
    "duration": 25,
    "start_time": "2021-10-28T13:20:05.741Z"
   },
   {
    "duration": 15,
    "start_time": "2021-10-28T13:20:05.769Z"
   },
   {
    "duration": 76,
    "start_time": "2021-10-28T13:20:05.787Z"
   },
   {
    "duration": 12,
    "start_time": "2021-10-28T13:20:05.865Z"
   },
   {
    "duration": 18,
    "start_time": "2021-10-28T13:20:05.880Z"
   },
   {
    "duration": 16,
    "start_time": "2021-10-28T13:20:05.903Z"
   },
   {
    "duration": 10,
    "start_time": "2021-10-28T13:20:05.923Z"
   },
   {
    "duration": 22,
    "start_time": "2021-10-28T13:20:05.936Z"
   },
   {
    "duration": 28,
    "start_time": "2021-10-28T13:20:05.960Z"
   },
   {
    "duration": 20,
    "start_time": "2021-10-28T13:20:05.991Z"
   },
   {
    "duration": 33,
    "start_time": "2021-10-28T13:20:06.014Z"
   },
   {
    "duration": 23,
    "start_time": "2021-10-28T13:20:06.050Z"
   },
   {
    "duration": 27,
    "start_time": "2021-10-28T13:20:06.076Z"
   },
   {
    "duration": 13,
    "start_time": "2021-10-28T13:20:06.106Z"
   },
   {
    "duration": 22,
    "start_time": "2021-10-28T13:20:06.122Z"
   },
   {
    "duration": 13,
    "start_time": "2021-10-28T13:20:06.147Z"
   },
   {
    "duration": 19,
    "start_time": "2021-10-28T13:20:06.163Z"
   },
   {
    "duration": 9,
    "start_time": "2021-10-28T13:20:06.184Z"
   },
   {
    "duration": 19,
    "start_time": "2021-10-28T13:20:06.195Z"
   },
   {
    "duration": 17,
    "start_time": "2021-10-28T13:20:06.216Z"
   },
   {
    "duration": 14,
    "start_time": "2021-10-28T13:20:06.238Z"
   },
   {
    "duration": 13,
    "start_time": "2021-10-28T13:20:06.255Z"
   },
   {
    "duration": 20,
    "start_time": "2021-10-28T13:20:06.283Z"
   },
   {
    "duration": 16,
    "start_time": "2021-10-28T13:20:06.305Z"
   },
   {
    "duration": 22,
    "start_time": "2021-10-28T13:20:06.324Z"
   },
   {
    "duration": 42,
    "start_time": "2021-10-28T13:20:06.348Z"
   },
   {
    "duration": 7762,
    "start_time": "2021-10-28T13:20:06.392Z"
   },
   {
    "duration": -32,
    "start_time": "2021-10-28T13:20:14.188Z"
   },
   {
    "duration": -34,
    "start_time": "2021-10-28T13:20:14.192Z"
   },
   {
    "duration": 1436,
    "start_time": "2021-10-28T13:20:45.013Z"
   },
   {
    "duration": 18,
    "start_time": "2021-10-28T13:20:46.452Z"
   },
   {
    "duration": 24,
    "start_time": "2021-10-28T13:20:46.473Z"
   },
   {
    "duration": 19,
    "start_time": "2021-10-28T13:20:46.500Z"
   },
   {
    "duration": 45,
    "start_time": "2021-10-28T13:20:46.521Z"
   },
   {
    "duration": 16,
    "start_time": "2021-10-28T13:20:46.568Z"
   },
   {
    "duration": 25,
    "start_time": "2021-10-28T13:20:46.587Z"
   },
   {
    "duration": 11,
    "start_time": "2021-10-28T13:20:46.617Z"
   },
   {
    "duration": 18,
    "start_time": "2021-10-28T13:20:46.631Z"
   },
   {
    "duration": 36,
    "start_time": "2021-10-28T13:20:46.651Z"
   },
   {
    "duration": 7,
    "start_time": "2021-10-28T13:20:46.690Z"
   },
   {
    "duration": 24,
    "start_time": "2021-10-28T13:20:46.699Z"
   },
   {
    "duration": 12,
    "start_time": "2021-10-28T13:20:46.727Z"
   },
   {
    "duration": 22,
    "start_time": "2021-10-28T13:20:46.742Z"
   },
   {
    "duration": 17,
    "start_time": "2021-10-28T13:20:46.767Z"
   },
   {
    "duration": 18,
    "start_time": "2021-10-28T13:20:46.787Z"
   },
   {
    "duration": 24,
    "start_time": "2021-10-28T13:20:46.808Z"
   },
   {
    "duration": 12,
    "start_time": "2021-10-28T13:20:46.836Z"
   },
   {
    "duration": 33,
    "start_time": "2021-10-28T13:20:46.851Z"
   },
   {
    "duration": 19,
    "start_time": "2021-10-28T13:20:46.887Z"
   },
   {
    "duration": 16,
    "start_time": "2021-10-28T13:20:46.908Z"
   },
   {
    "duration": 20,
    "start_time": "2021-10-28T13:20:46.926Z"
   },
   {
    "duration": 14,
    "start_time": "2021-10-28T13:20:46.950Z"
   },
   {
    "duration": 32,
    "start_time": "2021-10-28T13:20:46.967Z"
   },
   {
    "duration": 19,
    "start_time": "2021-10-28T13:20:47.002Z"
   },
   {
    "duration": 23,
    "start_time": "2021-10-28T13:20:47.023Z"
   },
   {
    "duration": 36,
    "start_time": "2021-10-28T13:20:47.048Z"
   },
   {
    "duration": 361,
    "start_time": "2021-10-28T13:20:47.086Z"
   },
   {
    "duration": 10,
    "start_time": "2021-10-28T13:20:47.449Z"
   },
   {
    "duration": 303,
    "start_time": "2021-10-28T13:20:47.462Z"
   },
   {
    "duration": 8069,
    "start_time": "2021-10-28T13:22:39.989Z"
   },
   {
    "duration": 20,
    "start_time": "2021-10-28T13:24:26.933Z"
   },
   {
    "duration": 319,
    "start_time": "2021-10-28T13:26:36.529Z"
   },
   {
    "duration": 9,
    "start_time": "2021-10-28T13:31:55.673Z"
   },
   {
    "duration": 19,
    "start_time": "2021-10-28T13:31:55.685Z"
   },
   {
    "duration": 12,
    "start_time": "2021-10-28T13:31:55.706Z"
   },
   {
    "duration": 10,
    "start_time": "2021-10-28T13:31:55.721Z"
   },
   {
    "duration": 37,
    "start_time": "2021-10-28T13:31:55.733Z"
   },
   {
    "duration": 14,
    "start_time": "2021-10-28T13:31:55.773Z"
   },
   {
    "duration": 16,
    "start_time": "2021-10-28T13:31:55.789Z"
   },
   {
    "duration": 22,
    "start_time": "2021-10-28T13:31:55.808Z"
   },
   {
    "duration": 17,
    "start_time": "2021-10-28T13:31:55.833Z"
   },
   {
    "duration": 40,
    "start_time": "2021-10-28T13:31:55.853Z"
   },
   {
    "duration": 7,
    "start_time": "2021-10-28T13:31:55.896Z"
   },
   {
    "duration": 17,
    "start_time": "2021-10-28T13:31:55.906Z"
   },
   {
    "duration": 12,
    "start_time": "2021-10-28T13:31:55.925Z"
   },
   {
    "duration": 13,
    "start_time": "2021-10-28T13:31:55.939Z"
   },
   {
    "duration": 33,
    "start_time": "2021-10-28T13:31:55.955Z"
   },
   {
    "duration": 16,
    "start_time": "2021-10-28T13:31:55.990Z"
   },
   {
    "duration": 20,
    "start_time": "2021-10-28T13:31:56.008Z"
   },
   {
    "duration": 13,
    "start_time": "2021-10-28T13:31:56.031Z"
   },
   {
    "duration": 15,
    "start_time": "2021-10-28T13:31:56.046Z"
   },
   {
    "duration": 25,
    "start_time": "2021-10-28T13:31:56.063Z"
   },
   {
    "duration": 10,
    "start_time": "2021-10-28T13:31:56.090Z"
   },
   {
    "duration": 11,
    "start_time": "2021-10-28T13:31:56.102Z"
   },
   {
    "duration": 14,
    "start_time": "2021-10-28T13:31:56.116Z"
   },
   {
    "duration": 61,
    "start_time": "2021-10-28T13:31:56.133Z"
   },
   {
    "duration": 20,
    "start_time": "2021-10-28T13:31:56.197Z"
   },
   {
    "duration": 16,
    "start_time": "2021-10-28T13:31:56.220Z"
   },
   {
    "duration": 44,
    "start_time": "2021-10-28T13:31:56.238Z"
   },
   {
    "duration": 364,
    "start_time": "2021-10-28T13:31:56.285Z"
   },
   {
    "duration": 9,
    "start_time": "2021-10-28T13:31:56.652Z"
   },
   {
    "duration": 281,
    "start_time": "2021-10-28T13:31:56.663Z"
   },
   {
    "duration": 41,
    "start_time": "2021-10-28T13:31:56.946Z"
   },
   {
    "duration": 9,
    "start_time": "2021-10-28T13:31:56.989Z"
   },
   {
    "duration": 9,
    "start_time": "2021-10-28T13:31:57.000Z"
   },
   {
    "duration": 340,
    "start_time": "2021-10-28T13:31:57.011Z"
   },
   {
    "duration": 1268,
    "start_time": "2021-10-29T11:09:58.383Z"
   },
   {
    "duration": 19,
    "start_time": "2021-10-29T11:09:59.653Z"
   },
   {
    "duration": 17,
    "start_time": "2021-10-29T11:09:59.674Z"
   },
   {
    "duration": 8,
    "start_time": "2021-10-29T11:09:59.692Z"
   },
   {
    "duration": 44,
    "start_time": "2021-10-29T11:09:59.702Z"
   },
   {
    "duration": 8,
    "start_time": "2021-10-29T11:09:59.748Z"
   },
   {
    "duration": 15,
    "start_time": "2021-10-29T11:09:59.758Z"
   },
   {
    "duration": 17,
    "start_time": "2021-10-29T11:09:59.775Z"
   },
   {
    "duration": 21,
    "start_time": "2021-10-29T11:09:59.795Z"
   },
   {
    "duration": 19,
    "start_time": "2021-10-29T11:09:59.818Z"
   },
   {
    "duration": 6,
    "start_time": "2021-10-29T11:09:59.839Z"
   },
   {
    "duration": 29,
    "start_time": "2021-10-29T11:09:59.847Z"
   },
   {
    "duration": 7,
    "start_time": "2021-10-29T11:09:59.878Z"
   },
   {
    "duration": 17,
    "start_time": "2021-10-29T11:09:59.887Z"
   },
   {
    "duration": 18,
    "start_time": "2021-10-29T11:09:59.906Z"
   },
   {
    "duration": 14,
    "start_time": "2021-10-29T11:09:59.927Z"
   },
   {
    "duration": 13,
    "start_time": "2021-10-29T11:09:59.943Z"
   },
   {
    "duration": 10,
    "start_time": "2021-10-29T11:09:59.958Z"
   },
   {
    "duration": 15,
    "start_time": "2021-10-29T11:09:59.970Z"
   },
   {
    "duration": 12,
    "start_time": "2021-10-29T11:09:59.987Z"
   },
   {
    "duration": 23,
    "start_time": "2021-10-29T11:10:00.001Z"
   },
   {
    "duration": 20,
    "start_time": "2021-10-29T11:10:00.026Z"
   },
   {
    "duration": 20,
    "start_time": "2021-10-29T11:10:00.048Z"
   },
   {
    "duration": 21,
    "start_time": "2021-10-29T11:10:00.070Z"
   },
   {
    "duration": 14,
    "start_time": "2021-10-29T11:10:00.093Z"
   },
   {
    "duration": 35,
    "start_time": "2021-10-29T11:10:00.109Z"
   },
   {
    "duration": 20,
    "start_time": "2021-10-29T11:10:00.148Z"
   },
   {
    "duration": 226,
    "start_time": "2021-10-29T11:10:00.170Z"
   },
   {
    "duration": 9,
    "start_time": "2021-10-29T11:10:00.398Z"
   },
   {
    "duration": 190,
    "start_time": "2021-10-29T11:10:00.409Z"
   },
   {
    "duration": 16,
    "start_time": "2021-10-29T11:10:00.601Z"
   },
   {
    "duration": 8,
    "start_time": "2021-10-29T11:10:00.620Z"
   },
   {
    "duration": 30,
    "start_time": "2021-10-29T11:10:00.630Z"
   },
   {
    "duration": 249,
    "start_time": "2021-10-29T11:10:00.661Z"
   },
   {
    "duration": 428,
    "start_time": "2021-10-29T11:13:25.435Z"
   },
   {
    "duration": 367,
    "start_time": "2021-10-29T11:13:43.163Z"
   },
   {
    "duration": 437,
    "start_time": "2021-10-29T11:15:13.087Z"
   },
   {
    "duration": 184,
    "start_time": "2021-10-29T11:22:51.444Z"
   },
   {
    "duration": 346,
    "start_time": "2021-10-29T11:28:22.732Z"
   },
   {
    "duration": 333,
    "start_time": "2021-10-29T11:37:31.743Z"
   },
   {
    "duration": 7,
    "start_time": "2021-10-29T11:48:55.864Z"
   },
   {
    "duration": 481,
    "start_time": "2021-10-29T11:49:39.145Z"
   },
   {
    "duration": 333,
    "start_time": "2021-10-29T11:49:54.592Z"
   },
   {
    "duration": 7,
    "start_time": "2021-10-29T12:19:26.678Z"
   },
   {
    "duration": 7,
    "start_time": "2021-10-29T12:22:45.422Z"
   },
   {
    "duration": 14,
    "start_time": "2021-10-29T12:22:45.770Z"
   },
   {
    "duration": 4,
    "start_time": "2021-10-29T12:22:46.174Z"
   },
   {
    "duration": 165,
    "start_time": "2021-10-29T12:22:47.070Z"
   },
   {
    "duration": 168,
    "start_time": "2021-10-29T12:23:08.222Z"
   },
   {
    "duration": 187,
    "start_time": "2021-10-29T12:24:05.946Z"
   },
   {
    "duration": 176,
    "start_time": "2021-10-29T12:36:11.381Z"
   },
   {
    "duration": 513,
    "start_time": "2021-10-29T12:36:41.669Z"
   },
   {
    "duration": 190,
    "start_time": "2021-10-29T12:37:23.259Z"
   },
   {
    "duration": 166,
    "start_time": "2021-10-29T12:38:17.889Z"
   },
   {
    "duration": 190,
    "start_time": "2021-10-29T12:38:35.797Z"
   },
   {
    "duration": 184,
    "start_time": "2021-10-29T12:38:41.333Z"
   },
   {
    "duration": 278,
    "start_time": "2021-10-29T12:38:50.857Z"
   },
   {
    "duration": 198,
    "start_time": "2021-10-29T12:38:56.969Z"
   },
   {
    "duration": 172,
    "start_time": "2021-10-29T12:39:06.138Z"
   },
   {
    "duration": 203,
    "start_time": "2021-10-29T12:39:30.910Z"
   },
   {
    "duration": 202,
    "start_time": "2021-10-29T12:39:51.761Z"
   },
   {
    "duration": 201,
    "start_time": "2021-10-29T12:40:00.934Z"
   },
   {
    "duration": 184,
    "start_time": "2021-10-29T12:40:10.361Z"
   },
   {
    "duration": 190,
    "start_time": "2021-10-29T12:40:21.569Z"
   },
   {
    "duration": 211,
    "start_time": "2021-10-29T12:42:23.710Z"
   },
   {
    "duration": 13,
    "start_time": "2021-10-29T12:42:38.737Z"
   },
   {
    "duration": 237,
    "start_time": "2021-10-29T12:45:16.230Z"
   },
   {
    "duration": 15,
    "start_time": "2021-10-29T12:54:57.107Z"
   },
   {
    "duration": 288,
    "start_time": "2021-10-29T12:55:04.859Z"
   },
   {
    "duration": 332,
    "start_time": "2021-10-29T12:56:50.028Z"
   },
   {
    "duration": 425,
    "start_time": "2021-10-29T12:57:15.356Z"
   },
   {
    "duration": 16,
    "start_time": "2021-10-29T13:00:33.209Z"
   },
   {
    "duration": 370,
    "start_time": "2021-10-29T13:00:35.484Z"
   },
   {
    "duration": 373,
    "start_time": "2021-10-29T13:01:44.017Z"
   },
   {
    "duration": 365,
    "start_time": "2021-10-29T13:02:34.353Z"
   },
   {
    "duration": 358,
    "start_time": "2021-10-29T13:02:58.545Z"
   },
   {
    "duration": 340,
    "start_time": "2021-10-29T13:04:06.861Z"
   },
   {
    "duration": 337,
    "start_time": "2021-10-29T13:05:15.693Z"
   },
   {
    "duration": 1315,
    "start_time": "2021-10-29T13:05:42.829Z"
   },
   {
    "duration": 18,
    "start_time": "2021-10-29T13:05:44.146Z"
   },
   {
    "duration": 18,
    "start_time": "2021-10-29T13:05:44.167Z"
   },
   {
    "duration": 7,
    "start_time": "2021-10-29T13:05:44.187Z"
   },
   {
    "duration": 43,
    "start_time": "2021-10-29T13:05:44.196Z"
   },
   {
    "duration": 7,
    "start_time": "2021-10-29T13:05:44.241Z"
   },
   {
    "duration": 10,
    "start_time": "2021-10-29T13:05:44.250Z"
   },
   {
    "duration": 11,
    "start_time": "2021-10-29T13:05:44.263Z"
   },
   {
    "duration": 7,
    "start_time": "2021-10-29T13:05:44.277Z"
   },
   {
    "duration": 18,
    "start_time": "2021-10-29T13:05:44.285Z"
   },
   {
    "duration": 7,
    "start_time": "2021-10-29T13:05:44.306Z"
   },
   {
    "duration": 20,
    "start_time": "2021-10-29T13:05:44.315Z"
   },
   {
    "duration": 26,
    "start_time": "2021-10-29T13:05:44.337Z"
   },
   {
    "duration": 8,
    "start_time": "2021-10-29T13:05:44.366Z"
   },
   {
    "duration": 10,
    "start_time": "2021-10-29T13:05:44.376Z"
   },
   {
    "duration": 11,
    "start_time": "2021-10-29T13:05:44.388Z"
   },
   {
    "duration": 14,
    "start_time": "2021-10-29T13:05:44.401Z"
   },
   {
    "duration": 9,
    "start_time": "2021-10-29T13:05:44.417Z"
   },
   {
    "duration": 36,
    "start_time": "2021-10-29T13:05:44.428Z"
   },
   {
    "duration": 9,
    "start_time": "2021-10-29T13:05:44.466Z"
   },
   {
    "duration": 10,
    "start_time": "2021-10-29T13:05:44.477Z"
   },
   {
    "duration": 10,
    "start_time": "2021-10-29T13:05:44.489Z"
   },
   {
    "duration": 11,
    "start_time": "2021-10-29T13:05:44.502Z"
   },
   {
    "duration": 11,
    "start_time": "2021-10-29T13:05:44.515Z"
   },
   {
    "duration": 35,
    "start_time": "2021-10-29T13:05:44.528Z"
   },
   {
    "duration": 8,
    "start_time": "2021-10-29T13:05:44.565Z"
   },
   {
    "duration": 12,
    "start_time": "2021-10-29T13:05:44.575Z"
   },
   {
    "duration": 232,
    "start_time": "2021-10-29T13:05:44.588Z"
   },
   {
    "duration": 6,
    "start_time": "2021-10-29T13:05:44.822Z"
   },
   {
    "duration": 175,
    "start_time": "2021-10-29T13:05:44.830Z"
   },
   {
    "duration": 14,
    "start_time": "2021-10-29T13:05:45.007Z"
   },
   {
    "duration": 9,
    "start_time": "2021-10-29T13:05:45.023Z"
   },
   {
    "duration": 12,
    "start_time": "2021-10-29T13:05:45.033Z"
   },
   {
    "duration": 379,
    "start_time": "2021-10-29T13:05:45.047Z"
   },
   {
    "duration": 359,
    "start_time": "2021-10-29T13:05:45.427Z"
   },
   {
    "duration": 7,
    "start_time": "2021-10-29T13:05:45.788Z"
   },
   {
    "duration": 348,
    "start_time": "2021-10-29T13:05:45.797Z"
   },
   {
    "duration": 7,
    "start_time": "2021-10-29T13:05:46.147Z"
   },
   {
    "duration": 22,
    "start_time": "2021-10-29T13:05:46.155Z"
   },
   {
    "duration": 15,
    "start_time": "2021-10-29T13:05:46.179Z"
   },
   {
    "duration": 274,
    "start_time": "2021-10-29T13:05:46.196Z"
   },
   {
    "duration": 17,
    "start_time": "2021-10-29T13:05:46.472Z"
   },
   {
    "duration": 381,
    "start_time": "2021-10-29T13:05:46.491Z"
   },
   {
    "duration": 343,
    "start_time": "2021-10-29T13:14:10.386Z"
   },
   {
    "duration": 315,
    "start_time": "2021-10-29T13:42:18.250Z"
   },
   {
    "duration": 241,
    "start_time": "2021-10-29T13:42:28.870Z"
   },
   {
    "duration": 121,
    "start_time": "2021-10-29T13:43:17.359Z"
   },
   {
    "duration": 94,
    "start_time": "2021-10-29T13:45:26.887Z"
   },
   {
    "duration": 6182,
    "start_time": "2021-10-29T13:48:12.271Z"
   },
   {
    "duration": 268,
    "start_time": "2021-10-29T13:49:07.859Z"
   },
   {
    "duration": 264,
    "start_time": "2021-10-29T13:52:05.344Z"
   },
   {
    "duration": 107,
    "start_time": "2021-10-29T13:53:46.704Z"
   },
   {
    "duration": 1301,
    "start_time": "2021-10-29T13:54:32.449Z"
   },
   {
    "duration": 20,
    "start_time": "2021-10-29T13:54:33.752Z"
   },
   {
    "duration": 14,
    "start_time": "2021-10-29T13:54:33.775Z"
   },
   {
    "duration": 7,
    "start_time": "2021-10-29T13:54:33.791Z"
   },
   {
    "duration": 42,
    "start_time": "2021-10-29T13:54:33.800Z"
   },
   {
    "duration": 8,
    "start_time": "2021-10-29T13:54:33.844Z"
   },
   {
    "duration": 13,
    "start_time": "2021-10-29T13:54:33.855Z"
   },
   {
    "duration": 12,
    "start_time": "2021-10-29T13:54:33.870Z"
   },
   {
    "duration": 11,
    "start_time": "2021-10-29T13:54:33.885Z"
   },
   {
    "duration": 16,
    "start_time": "2021-10-29T13:54:33.898Z"
   },
   {
    "duration": 6,
    "start_time": "2021-10-29T13:54:33.916Z"
   },
   {
    "duration": 21,
    "start_time": "2021-10-29T13:54:33.924Z"
   },
   {
    "duration": 16,
    "start_time": "2021-10-29T13:54:33.947Z"
   },
   {
    "duration": 11,
    "start_time": "2021-10-29T13:54:33.965Z"
   },
   {
    "duration": 12,
    "start_time": "2021-10-29T13:54:33.978Z"
   },
   {
    "duration": 11,
    "start_time": "2021-10-29T13:54:33.992Z"
   },
   {
    "duration": 12,
    "start_time": "2021-10-29T13:54:34.004Z"
   },
   {
    "duration": 13,
    "start_time": "2021-10-29T13:54:34.018Z"
   },
   {
    "duration": 10,
    "start_time": "2021-10-29T13:54:34.033Z"
   },
   {
    "duration": 23,
    "start_time": "2021-10-29T13:54:34.045Z"
   },
   {
    "duration": 11,
    "start_time": "2021-10-29T13:54:34.070Z"
   },
   {
    "duration": 12,
    "start_time": "2021-10-29T13:54:34.084Z"
   },
   {
    "duration": 13,
    "start_time": "2021-10-29T13:54:34.098Z"
   },
   {
    "duration": 12,
    "start_time": "2021-10-29T13:54:34.114Z"
   },
   {
    "duration": 41,
    "start_time": "2021-10-29T13:54:34.128Z"
   },
   {
    "duration": 11,
    "start_time": "2021-10-29T13:54:34.171Z"
   },
   {
    "duration": 14,
    "start_time": "2021-10-29T13:54:34.185Z"
   },
   {
    "duration": 242,
    "start_time": "2021-10-29T13:54:34.201Z"
   },
   {
    "duration": 7,
    "start_time": "2021-10-29T13:54:34.445Z"
   },
   {
    "duration": 175,
    "start_time": "2021-10-29T13:54:34.464Z"
   },
   {
    "duration": 27,
    "start_time": "2021-10-29T13:54:34.641Z"
   },
   {
    "duration": 8,
    "start_time": "2021-10-29T13:54:34.670Z"
   },
   {
    "duration": 9,
    "start_time": "2021-10-29T13:54:34.679Z"
   },
   {
    "duration": 383,
    "start_time": "2021-10-29T13:54:34.690Z"
   },
   {
    "duration": 362,
    "start_time": "2021-10-29T13:54:35.075Z"
   },
   {
    "duration": 7,
    "start_time": "2021-10-29T13:54:35.439Z"
   },
   {
    "duration": 387,
    "start_time": "2021-10-29T13:54:35.448Z"
   },
   {
    "duration": 7,
    "start_time": "2021-10-29T13:54:35.836Z"
   },
   {
    "duration": 28,
    "start_time": "2021-10-29T13:54:35.845Z"
   },
   {
    "duration": 14,
    "start_time": "2021-10-29T13:54:35.875Z"
   },
   {
    "duration": 265,
    "start_time": "2021-10-29T13:54:35.891Z"
   },
   {
    "duration": 16,
    "start_time": "2021-10-29T13:54:36.158Z"
   },
   {
    "duration": 361,
    "start_time": "2021-10-29T13:54:36.175Z"
   },
   {
    "duration": 107,
    "start_time": "2021-10-29T13:54:36.538Z"
   },
   {
    "duration": 26,
    "start_time": "2021-10-29T13:54:36.647Z"
   },
   {
    "duration": 513,
    "start_time": "2021-10-29T13:54:36.675Z"
   },
   {
    "duration": 504,
    "start_time": "2021-10-29T13:59:03.949Z"
   },
   {
    "duration": 330,
    "start_time": "2021-10-29T13:59:16.365Z"
   },
   {
    "duration": 362,
    "start_time": "2021-10-29T13:59:30.733Z"
   },
   {
    "duration": 7,
    "start_time": "2021-10-29T14:06:27.302Z"
   },
   {
    "duration": 592,
    "start_time": "2021-10-29T14:11:30.403Z"
   },
   {
    "duration": 359,
    "start_time": "2021-10-29T14:12:37.863Z"
   },
   {
    "duration": 356,
    "start_time": "2021-10-29T14:13:00.772Z"
   },
   {
    "duration": 568,
    "start_time": "2021-10-29T14:13:16.039Z"
   },
   {
    "duration": 430,
    "start_time": "2021-10-29T14:13:31.720Z"
   },
   {
    "duration": 631,
    "start_time": "2021-10-29T14:13:54.447Z"
   },
   {
    "duration": 1017,
    "start_time": "2021-10-29T14:15:28.308Z"
   },
   {
    "duration": 1134,
    "start_time": "2021-10-29T14:15:46.936Z"
   },
   {
    "duration": 496,
    "start_time": "2021-10-29T14:16:29.092Z"
   },
   {
    "duration": 428,
    "start_time": "2021-10-29T14:17:07.308Z"
   },
   {
    "duration": 527,
    "start_time": "2021-10-29T14:17:38.636Z"
   },
   {
    "duration": 512,
    "start_time": "2021-10-29T14:17:54.024Z"
   },
   {
    "duration": 661,
    "start_time": "2021-10-29T14:18:20.708Z"
   },
   {
    "duration": 6442,
    "start_time": "2021-10-29T14:19:18.081Z"
   },
   {
    "duration": 181,
    "start_time": "2021-10-29T14:20:01.137Z"
   },
   {
    "duration": 172,
    "start_time": "2021-10-29T14:20:09.004Z"
   },
   {
    "duration": 245,
    "start_time": "2021-10-29T14:20:30.323Z"
   },
   {
    "duration": 230,
    "start_time": "2021-10-29T14:21:16.381Z"
   },
   {
    "duration": 395,
    "start_time": "2021-10-29T14:21:42.821Z"
   },
   {
    "duration": 349,
    "start_time": "2021-10-29T14:24:23.973Z"
   },
   {
    "duration": 395,
    "start_time": "2021-10-29T14:24:54.045Z"
   },
   {
    "duration": 486,
    "start_time": "2021-10-29T14:26:15.961Z"
   },
   {
    "duration": 340,
    "start_time": "2021-10-29T14:26:35.118Z"
   },
   {
    "duration": 360,
    "start_time": "2021-10-29T14:26:51.234Z"
   },
   {
    "duration": 453,
    "start_time": "2021-10-29T14:26:58.946Z"
   },
   {
    "duration": 366,
    "start_time": "2021-10-29T14:27:02.749Z"
   },
   {
    "duration": 119,
    "start_time": "2021-10-29T14:30:54.603Z"
   },
   {
    "duration": 6,
    "start_time": "2021-10-29T14:31:00.055Z"
   },
   {
    "duration": 5,
    "start_time": "2021-10-29T14:34:34.496Z"
   },
   {
    "duration": 269,
    "start_time": "2021-10-29T14:37:14.436Z"
   },
   {
    "duration": 124,
    "start_time": "2021-10-29T14:39:43.606Z"
   },
   {
    "duration": 134,
    "start_time": "2021-10-29T14:41:23.169Z"
   },
   {
    "duration": 5986,
    "start_time": "2021-10-29T14:42:18.857Z"
   },
   {
    "duration": 6103,
    "start_time": "2021-10-29T14:45:36.206Z"
   },
   {
    "duration": 127,
    "start_time": "2021-10-29T14:49:27.562Z"
   },
   {
    "duration": 6262,
    "start_time": "2021-10-29T14:49:35.798Z"
   },
   {
    "duration": 8,
    "start_time": "2021-10-29T14:53:16.191Z"
   },
   {
    "duration": 6425,
    "start_time": "2021-10-29T14:53:17.735Z"
   },
   {
    "duration": 6,
    "start_time": "2021-10-29T14:54:44.743Z"
   },
   {
    "duration": 1199,
    "start_time": "2021-10-29T14:55:29.860Z"
   },
   {
    "duration": 19,
    "start_time": "2021-10-29T14:55:31.061Z"
   },
   {
    "duration": 17,
    "start_time": "2021-10-29T14:55:31.085Z"
   },
   {
    "duration": 20,
    "start_time": "2021-10-29T14:55:31.104Z"
   },
   {
    "duration": 44,
    "start_time": "2021-10-29T14:55:31.126Z"
   },
   {
    "duration": 12,
    "start_time": "2021-10-29T14:55:31.172Z"
   },
   {
    "duration": 12,
    "start_time": "2021-10-29T14:55:31.187Z"
   },
   {
    "duration": 23,
    "start_time": "2021-10-29T14:55:31.201Z"
   },
   {
    "duration": 31,
    "start_time": "2021-10-29T14:55:31.226Z"
   },
   {
    "duration": 20,
    "start_time": "2021-10-29T14:55:31.259Z"
   },
   {
    "duration": 7,
    "start_time": "2021-10-29T14:55:31.280Z"
   },
   {
    "duration": 21,
    "start_time": "2021-10-29T14:55:31.288Z"
   },
   {
    "duration": 12,
    "start_time": "2021-10-29T14:55:31.311Z"
   },
   {
    "duration": 16,
    "start_time": "2021-10-29T14:55:31.325Z"
   },
   {
    "duration": 20,
    "start_time": "2021-10-29T14:55:31.343Z"
   },
   {
    "duration": 12,
    "start_time": "2021-10-29T14:55:31.364Z"
   },
   {
    "duration": 28,
    "start_time": "2021-10-29T14:55:31.378Z"
   },
   {
    "duration": 18,
    "start_time": "2021-10-29T14:55:31.408Z"
   },
   {
    "duration": 13,
    "start_time": "2021-10-29T14:55:31.427Z"
   },
   {
    "duration": 16,
    "start_time": "2021-10-29T14:55:31.442Z"
   },
   {
    "duration": 16,
    "start_time": "2021-10-29T14:55:31.460Z"
   },
   {
    "duration": 20,
    "start_time": "2021-10-29T14:55:31.480Z"
   },
   {
    "duration": 16,
    "start_time": "2021-10-29T14:55:31.503Z"
   },
   {
    "duration": 18,
    "start_time": "2021-10-29T14:55:31.521Z"
   },
   {
    "duration": 12,
    "start_time": "2021-10-29T14:55:31.541Z"
   },
   {
    "duration": 14,
    "start_time": "2021-10-29T14:55:31.555Z"
   },
   {
    "duration": 27,
    "start_time": "2021-10-29T14:55:31.571Z"
   },
   {
    "duration": 227,
    "start_time": "2021-10-29T14:55:31.600Z"
   },
   {
    "duration": 8,
    "start_time": "2021-10-29T14:55:31.828Z"
   },
   {
    "duration": 185,
    "start_time": "2021-10-29T14:55:31.838Z"
   },
   {
    "duration": 18,
    "start_time": "2021-10-29T14:55:32.025Z"
   },
   {
    "duration": 21,
    "start_time": "2021-10-29T14:55:32.045Z"
   },
   {
    "duration": 11,
    "start_time": "2021-10-29T14:55:32.069Z"
   },
   {
    "duration": 378,
    "start_time": "2021-10-29T14:55:32.082Z"
   },
   {
    "duration": 345,
    "start_time": "2021-10-29T14:55:32.464Z"
   },
   {
    "duration": 6,
    "start_time": "2021-10-29T14:55:32.811Z"
   },
   {
    "duration": 359,
    "start_time": "2021-10-29T14:55:32.819Z"
   },
   {
    "duration": 9,
    "start_time": "2021-10-29T14:55:33.180Z"
   },
   {
    "duration": 17,
    "start_time": "2021-10-29T14:55:33.190Z"
   },
   {
    "duration": 17,
    "start_time": "2021-10-29T14:55:33.209Z"
   },
   {
    "duration": 267,
    "start_time": "2021-10-29T14:55:33.228Z"
   },
   {
    "duration": 15,
    "start_time": "2021-10-29T14:55:33.497Z"
   },
   {
    "duration": 362,
    "start_time": "2021-10-29T14:55:33.514Z"
   },
   {
    "duration": 112,
    "start_time": "2021-10-29T14:55:33.878Z"
   },
   {
    "duration": 16,
    "start_time": "2021-10-29T14:55:33.992Z"
   },
   {
    "duration": 327,
    "start_time": "2021-10-29T14:55:34.009Z"
   },
   {
    "duration": 5,
    "start_time": "2021-10-29T14:55:34.338Z"
   },
   {
    "duration": 473,
    "start_time": "2021-10-29T14:55:34.345Z"
   },
   {
    "duration": 357,
    "start_time": "2021-10-29T14:55:34.819Z"
   },
   {
    "duration": 6,
    "start_time": "2021-10-29T14:55:35.178Z"
   },
   {
    "duration": 134,
    "start_time": "2021-10-29T14:55:35.186Z"
   },
   {
    "duration": 8,
    "start_time": "2021-10-29T14:55:35.322Z"
   },
   {
    "duration": 10,
    "start_time": "2021-10-29T14:55:35.332Z"
   },
   {
    "duration": 6618,
    "start_time": "2021-10-29T14:57:20.912Z"
   },
   {
    "duration": 6355,
    "start_time": "2021-10-29T14:58:20.710Z"
   },
   {
    "duration": 262,
    "start_time": "2021-10-29T14:59:06.981Z"
   },
   {
    "duration": 111,
    "start_time": "2021-10-29T15:00:54.334Z"
   },
   {
    "duration": 7,
    "start_time": "2021-10-29T15:01:01.679Z"
   },
   {
    "duration": 371,
    "start_time": "2021-10-29T15:01:18.534Z"
   },
   {
    "duration": 254,
    "start_time": "2021-10-29T15:01:42.613Z"
   },
   {
    "duration": 1191,
    "start_time": "2021-10-29T15:02:05.572Z"
   },
   {
    "duration": 19,
    "start_time": "2021-10-29T15:02:06.765Z"
   },
   {
    "duration": 21,
    "start_time": "2021-10-29T15:02:06.786Z"
   },
   {
    "duration": 23,
    "start_time": "2021-10-29T15:02:06.809Z"
   },
   {
    "duration": 57,
    "start_time": "2021-10-29T15:02:06.833Z"
   },
   {
    "duration": 24,
    "start_time": "2021-10-29T15:02:06.892Z"
   },
   {
    "duration": 33,
    "start_time": "2021-10-29T15:02:06.918Z"
   },
   {
    "duration": 33,
    "start_time": "2021-10-29T15:02:06.954Z"
   },
   {
    "duration": 22,
    "start_time": "2021-10-29T15:02:06.990Z"
   },
   {
    "duration": 49,
    "start_time": "2021-10-29T15:02:07.014Z"
   },
   {
    "duration": 16,
    "start_time": "2021-10-29T15:02:07.065Z"
   },
   {
    "duration": 44,
    "start_time": "2021-10-29T15:02:07.083Z"
   },
   {
    "duration": 32,
    "start_time": "2021-10-29T15:02:07.128Z"
   },
   {
    "duration": 29,
    "start_time": "2021-10-29T15:02:07.162Z"
   },
   {
    "duration": 28,
    "start_time": "2021-10-29T15:02:07.193Z"
   },
   {
    "duration": 21,
    "start_time": "2021-10-29T15:02:07.223Z"
   },
   {
    "duration": 32,
    "start_time": "2021-10-29T15:02:07.246Z"
   },
   {
    "duration": 30,
    "start_time": "2021-10-29T15:02:07.280Z"
   },
   {
    "duration": 28,
    "start_time": "2021-10-29T15:02:07.312Z"
   },
   {
    "duration": 34,
    "start_time": "2021-10-29T15:02:07.342Z"
   },
   {
    "duration": 23,
    "start_time": "2021-10-29T15:02:07.378Z"
   },
   {
    "duration": 28,
    "start_time": "2021-10-29T15:02:07.403Z"
   },
   {
    "duration": 47,
    "start_time": "2021-10-29T15:02:07.435Z"
   },
   {
    "duration": 34,
    "start_time": "2021-10-29T15:02:07.484Z"
   },
   {
    "duration": 12,
    "start_time": "2021-10-29T15:02:07.520Z"
   },
   {
    "duration": 19,
    "start_time": "2021-10-29T15:02:07.533Z"
   },
   {
    "duration": 31,
    "start_time": "2021-10-29T15:02:07.554Z"
   },
   {
    "duration": 261,
    "start_time": "2021-10-29T15:02:07.587Z"
   },
   {
    "duration": 8,
    "start_time": "2021-10-29T15:02:07.850Z"
   },
   {
    "duration": 180,
    "start_time": "2021-10-29T15:02:07.863Z"
   },
   {
    "duration": 30,
    "start_time": "2021-10-29T15:02:08.045Z"
   },
   {
    "duration": 20,
    "start_time": "2021-10-29T15:02:08.077Z"
   },
   {
    "duration": 26,
    "start_time": "2021-10-29T15:02:08.099Z"
   },
   {
    "duration": 409,
    "start_time": "2021-10-29T15:02:08.127Z"
   },
   {
    "duration": 359,
    "start_time": "2021-10-29T15:02:08.538Z"
   },
   {
    "duration": 9,
    "start_time": "2021-10-29T15:02:08.899Z"
   },
   {
    "duration": 374,
    "start_time": "2021-10-29T15:02:08.909Z"
   },
   {
    "duration": 7,
    "start_time": "2021-10-29T15:02:09.285Z"
   },
   {
    "duration": 38,
    "start_time": "2021-10-29T15:02:09.294Z"
   },
   {
    "duration": 42,
    "start_time": "2021-10-29T15:02:09.334Z"
   },
   {
    "duration": 288,
    "start_time": "2021-10-29T15:02:09.377Z"
   },
   {
    "duration": 16,
    "start_time": "2021-10-29T15:02:09.667Z"
   },
   {
    "duration": 402,
    "start_time": "2021-10-29T15:02:09.685Z"
   },
   {
    "duration": 123,
    "start_time": "2021-10-29T15:02:10.089Z"
   },
   {
    "duration": 16,
    "start_time": "2021-10-29T15:02:10.214Z"
   },
   {
    "duration": 395,
    "start_time": "2021-10-29T15:02:10.232Z"
   },
   {
    "duration": 7,
    "start_time": "2021-10-29T15:02:10.629Z"
   },
   {
    "duration": 482,
    "start_time": "2021-10-29T15:02:10.638Z"
   },
   {
    "duration": 390,
    "start_time": "2021-10-29T15:02:11.122Z"
   },
   {
    "duration": 5,
    "start_time": "2021-10-29T15:02:11.513Z"
   },
   {
    "duration": 138,
    "start_time": "2021-10-29T15:02:11.520Z"
   },
   {
    "duration": 8,
    "start_time": "2021-10-29T15:02:11.663Z"
   },
   {
    "duration": 367,
    "start_time": "2021-10-29T15:02:11.673Z"
   },
   {
    "duration": 3,
    "start_time": "2021-10-29T15:05:57.157Z"
   },
   {
    "duration": 12,
    "start_time": "2021-10-29T15:05:57.393Z"
   },
   {
    "duration": 1118,
    "start_time": "2021-10-29T15:06:51.325Z"
   },
   {
    "duration": 17,
    "start_time": "2021-10-29T15:06:52.444Z"
   },
   {
    "duration": 18,
    "start_time": "2021-10-29T15:06:52.463Z"
   },
   {
    "duration": 10,
    "start_time": "2021-10-29T15:06:52.483Z"
   },
   {
    "duration": 40,
    "start_time": "2021-10-29T15:06:52.495Z"
   },
   {
    "duration": 6,
    "start_time": "2021-10-29T15:06:52.537Z"
   },
   {
    "duration": 11,
    "start_time": "2021-10-29T15:06:52.545Z"
   },
   {
    "duration": 9,
    "start_time": "2021-10-29T15:06:52.558Z"
   },
   {
    "duration": 8,
    "start_time": "2021-10-29T15:06:52.569Z"
   },
   {
    "duration": 14,
    "start_time": "2021-10-29T15:06:52.579Z"
   },
   {
    "duration": 6,
    "start_time": "2021-10-29T15:06:52.595Z"
   },
   {
    "duration": 20,
    "start_time": "2021-10-29T15:06:52.602Z"
   },
   {
    "duration": 14,
    "start_time": "2021-10-29T15:06:52.624Z"
   },
   {
    "duration": 21,
    "start_time": "2021-10-29T15:06:52.640Z"
   },
   {
    "duration": 12,
    "start_time": "2021-10-29T15:06:52.663Z"
   },
   {
    "duration": 9,
    "start_time": "2021-10-29T15:06:52.677Z"
   },
   {
    "duration": 12,
    "start_time": "2021-10-29T15:06:52.688Z"
   },
   {
    "duration": 11,
    "start_time": "2021-10-29T15:06:52.702Z"
   },
   {
    "duration": 12,
    "start_time": "2021-10-29T15:06:52.714Z"
   },
   {
    "duration": 14,
    "start_time": "2021-10-29T15:06:52.727Z"
   },
   {
    "duration": 14,
    "start_time": "2021-10-29T15:06:52.743Z"
   },
   {
    "duration": 12,
    "start_time": "2021-10-29T15:06:52.759Z"
   },
   {
    "duration": 11,
    "start_time": "2021-10-29T15:06:52.774Z"
   },
   {
    "duration": 14,
    "start_time": "2021-10-29T15:06:52.787Z"
   },
   {
    "duration": 12,
    "start_time": "2021-10-29T15:06:52.802Z"
   },
   {
    "duration": 18,
    "start_time": "2021-10-29T15:06:52.816Z"
   },
   {
    "duration": 13,
    "start_time": "2021-10-29T15:06:52.836Z"
   },
   {
    "duration": 210,
    "start_time": "2021-10-29T15:06:52.864Z"
   },
   {
    "duration": 7,
    "start_time": "2021-10-29T15:06:53.075Z"
   },
   {
    "duration": 163,
    "start_time": "2021-10-29T15:06:53.083Z"
   },
   {
    "duration": 22,
    "start_time": "2021-10-29T15:06:53.247Z"
   },
   {
    "duration": 12,
    "start_time": "2021-10-29T15:06:53.271Z"
   },
   {
    "duration": 9,
    "start_time": "2021-10-29T15:06:53.285Z"
   },
   {
    "duration": 365,
    "start_time": "2021-10-29T15:06:53.296Z"
   },
   {
    "duration": 338,
    "start_time": "2021-10-29T15:06:53.664Z"
   },
   {
    "duration": 7,
    "start_time": "2021-10-29T15:06:54.004Z"
   },
   {
    "duration": 338,
    "start_time": "2021-10-29T15:06:54.012Z"
   },
   {
    "duration": 11,
    "start_time": "2021-10-29T15:06:54.352Z"
   },
   {
    "duration": 14,
    "start_time": "2021-10-29T15:06:54.365Z"
   },
   {
    "duration": 19,
    "start_time": "2021-10-29T15:06:54.381Z"
   },
   {
    "duration": 248,
    "start_time": "2021-10-29T15:06:54.402Z"
   },
   {
    "duration": 22,
    "start_time": "2021-10-29T15:06:54.652Z"
   },
   {
    "duration": 353,
    "start_time": "2021-10-29T15:06:54.675Z"
   },
   {
    "duration": 109,
    "start_time": "2021-10-29T15:06:55.029Z"
   },
   {
    "duration": 24,
    "start_time": "2021-10-29T15:06:55.140Z"
   },
   {
    "duration": 343,
    "start_time": "2021-10-29T15:06:55.166Z"
   },
   {
    "duration": 5,
    "start_time": "2021-10-29T15:06:55.510Z"
   },
   {
    "duration": 420,
    "start_time": "2021-10-29T15:06:55.516Z"
   },
   {
    "duration": 369,
    "start_time": "2021-10-29T15:06:55.938Z"
   },
   {
    "duration": 6,
    "start_time": "2021-10-29T15:06:56.309Z"
   },
   {
    "duration": 112,
    "start_time": "2021-10-29T15:06:56.317Z"
   },
   {
    "duration": 7,
    "start_time": "2021-10-29T15:06:56.431Z"
   },
   {
    "duration": 27,
    "start_time": "2021-10-29T15:06:56.440Z"
   },
   {
    "duration": 7246,
    "start_time": "2021-10-29T15:26:19.336Z"
   },
   {
    "duration": 7255,
    "start_time": "2021-10-29T15:27:06.021Z"
   },
   {
    "duration": 5,
    "start_time": "2021-10-29T15:28:08.326Z"
   },
   {
    "duration": 10,
    "start_time": "2021-10-29T15:39:24.718Z"
   },
   {
    "duration": 13,
    "start_time": "2021-10-29T15:43:55.203Z"
   },
   {
    "duration": 6774,
    "start_time": "2021-10-29T15:47:33.771Z"
   },
   {
    "duration": 13,
    "start_time": "2021-10-29T15:50:59.952Z"
   },
   {
    "duration": 6081,
    "start_time": "2021-10-29T15:55:58.052Z"
   },
   {
    "duration": 5676,
    "start_time": "2021-10-29T15:57:51.641Z"
   },
   {
    "duration": 6132,
    "start_time": "2021-10-29T16:01:29.657Z"
   },
   {
    "duration": 9,
    "start_time": "2021-10-29T16:04:11.650Z"
   },
   {
    "duration": 10,
    "start_time": "2021-10-29T16:05:28.617Z"
   },
   {
    "duration": 8,
    "start_time": "2021-10-29T16:05:40.594Z"
   },
   {
    "duration": 6737,
    "start_time": "2021-10-29T16:09:08.685Z"
   },
   {
    "duration": 6993,
    "start_time": "2021-10-29T16:16:33.460Z"
   },
   {
    "duration": 12,
    "start_time": "2021-10-29T16:19:58.420Z"
   },
   {
    "duration": 12,
    "start_time": "2021-10-29T16:22:09.660Z"
   },
   {
    "duration": 1207,
    "start_time": "2021-10-29T17:02:27.335Z"
   },
   {
    "duration": 18,
    "start_time": "2021-10-29T17:02:28.544Z"
   },
   {
    "duration": 21,
    "start_time": "2021-10-29T17:02:28.564Z"
   },
   {
    "duration": 13,
    "start_time": "2021-10-29T17:02:28.587Z"
   },
   {
    "duration": 50,
    "start_time": "2021-10-29T17:02:28.601Z"
   },
   {
    "duration": 8,
    "start_time": "2021-10-29T17:02:28.653Z"
   },
   {
    "duration": 11,
    "start_time": "2021-10-29T17:02:28.663Z"
   },
   {
    "duration": 10,
    "start_time": "2021-10-29T17:02:28.676Z"
   },
   {
    "duration": 7,
    "start_time": "2021-10-29T17:02:28.688Z"
   },
   {
    "duration": 16,
    "start_time": "2021-10-29T17:02:28.697Z"
   },
   {
    "duration": 6,
    "start_time": "2021-10-29T17:02:28.715Z"
   },
   {
    "duration": 20,
    "start_time": "2021-10-29T17:02:28.722Z"
   },
   {
    "duration": 20,
    "start_time": "2021-10-29T17:02:28.744Z"
   },
   {
    "duration": 15,
    "start_time": "2021-10-29T17:02:28.766Z"
   },
   {
    "duration": 15,
    "start_time": "2021-10-29T17:02:28.783Z"
   },
   {
    "duration": 13,
    "start_time": "2021-10-29T17:02:28.800Z"
   },
   {
    "duration": 13,
    "start_time": "2021-10-29T17:02:28.815Z"
   },
   {
    "duration": 12,
    "start_time": "2021-10-29T17:02:28.830Z"
   },
   {
    "duration": 19,
    "start_time": "2021-10-29T17:02:28.844Z"
   },
   {
    "duration": 9,
    "start_time": "2021-10-29T17:02:28.865Z"
   },
   {
    "duration": 11,
    "start_time": "2021-10-29T17:02:28.876Z"
   },
   {
    "duration": 10,
    "start_time": "2021-10-29T17:02:28.889Z"
   },
   {
    "duration": 15,
    "start_time": "2021-10-29T17:02:28.903Z"
   },
   {
    "duration": 15,
    "start_time": "2021-10-29T17:02:28.921Z"
   },
   {
    "duration": 30,
    "start_time": "2021-10-29T17:02:28.937Z"
   },
   {
    "duration": 10,
    "start_time": "2021-10-29T17:02:28.969Z"
   },
   {
    "duration": 15,
    "start_time": "2021-10-29T17:02:28.980Z"
   },
   {
    "duration": 235,
    "start_time": "2021-10-29T17:02:28.997Z"
   },
   {
    "duration": 7,
    "start_time": "2021-10-29T17:02:29.233Z"
   },
   {
    "duration": 180,
    "start_time": "2021-10-29T17:02:29.242Z"
   },
   {
    "duration": 13,
    "start_time": "2021-10-29T17:02:29.424Z"
   },
   {
    "duration": 24,
    "start_time": "2021-10-29T17:02:29.439Z"
   },
   {
    "duration": 5,
    "start_time": "2021-10-29T17:02:29.465Z"
   },
   {
    "duration": 374,
    "start_time": "2021-10-29T17:02:29.472Z"
   },
   {
    "duration": 362,
    "start_time": "2021-10-29T17:02:29.848Z"
   },
   {
    "duration": 7,
    "start_time": "2021-10-29T17:02:30.213Z"
   },
   {
    "duration": 427,
    "start_time": "2021-10-29T17:02:30.221Z"
   },
   {
    "duration": 7,
    "start_time": "2021-10-29T17:02:30.650Z"
   },
   {
    "duration": 30,
    "start_time": "2021-10-29T17:02:30.659Z"
   },
   {
    "duration": 25,
    "start_time": "2021-10-29T17:02:30.691Z"
   },
   {
    "duration": 266,
    "start_time": "2021-10-29T17:02:30.718Z"
   },
   {
    "duration": 19,
    "start_time": "2021-10-29T17:02:30.986Z"
   },
   {
    "duration": 407,
    "start_time": "2021-10-29T17:02:31.006Z"
   },
   {
    "duration": 167,
    "start_time": "2021-10-29T17:02:31.415Z"
   },
   {
    "duration": 17,
    "start_time": "2021-10-29T17:02:31.583Z"
   },
   {
    "duration": 444,
    "start_time": "2021-10-29T17:02:31.602Z"
   },
   {
    "duration": 15,
    "start_time": "2021-10-29T17:02:32.048Z"
   },
   {
    "duration": 494,
    "start_time": "2021-10-29T17:02:32.065Z"
   },
   {
    "duration": 394,
    "start_time": "2021-10-29T17:02:32.561Z"
   },
   {
    "duration": 8,
    "start_time": "2021-10-29T17:02:32.958Z"
   },
   {
    "duration": 134,
    "start_time": "2021-10-29T17:02:32.968Z"
   },
   {
    "duration": 8,
    "start_time": "2021-10-29T17:02:33.104Z"
   },
   {
    "duration": 17,
    "start_time": "2021-10-29T17:02:33.114Z"
   },
   {
    "duration": 5,
    "start_time": "2021-10-29T17:02:33.133Z"
   },
   {
    "duration": 33,
    "start_time": "2021-10-29T17:02:33.140Z"
   },
   {
    "duration": 12,
    "start_time": "2021-10-29T17:02:33.175Z"
   },
   {
    "duration": 9,
    "start_time": "2021-10-29T17:02:33.189Z"
   },
   {
    "duration": 13,
    "start_time": "2021-10-29T17:02:33.199Z"
   },
   {
    "duration": 11,
    "start_time": "2021-10-29T17:02:33.214Z"
   },
   {
    "duration": 44,
    "start_time": "2021-10-29T17:02:33.227Z"
   },
   {
    "duration": 7,
    "start_time": "2021-10-29T17:06:22.588Z"
   },
   {
    "duration": 1190,
    "start_time": "2021-10-29T17:07:28.964Z"
   },
   {
    "duration": 18,
    "start_time": "2021-10-29T17:07:30.155Z"
   },
   {
    "duration": 19,
    "start_time": "2021-10-29T17:07:30.175Z"
   },
   {
    "duration": 9,
    "start_time": "2021-10-29T17:07:30.196Z"
   },
   {
    "duration": 42,
    "start_time": "2021-10-29T17:07:30.207Z"
   },
   {
    "duration": 11,
    "start_time": "2021-10-29T17:07:30.251Z"
   },
   {
    "duration": 16,
    "start_time": "2021-10-29T17:07:30.264Z"
   },
   {
    "duration": 12,
    "start_time": "2021-10-29T17:07:30.283Z"
   },
   {
    "duration": 10,
    "start_time": "2021-10-29T17:07:30.297Z"
   },
   {
    "duration": 29,
    "start_time": "2021-10-29T17:07:30.309Z"
   },
   {
    "duration": 9,
    "start_time": "2021-10-29T17:07:30.339Z"
   },
   {
    "duration": 24,
    "start_time": "2021-10-29T17:07:30.350Z"
   },
   {
    "duration": 16,
    "start_time": "2021-10-29T17:07:30.376Z"
   },
   {
    "duration": 15,
    "start_time": "2021-10-29T17:07:30.394Z"
   },
   {
    "duration": 17,
    "start_time": "2021-10-29T17:07:30.411Z"
   },
   {
    "duration": 15,
    "start_time": "2021-10-29T17:07:30.430Z"
   },
   {
    "duration": 15,
    "start_time": "2021-10-29T17:07:30.447Z"
   },
   {
    "duration": 13,
    "start_time": "2021-10-29T17:07:30.464Z"
   },
   {
    "duration": 14,
    "start_time": "2021-10-29T17:07:30.479Z"
   },
   {
    "duration": 18,
    "start_time": "2021-10-29T17:07:30.495Z"
   },
   {
    "duration": 24,
    "start_time": "2021-10-29T17:07:30.515Z"
   },
   {
    "duration": 20,
    "start_time": "2021-10-29T17:07:30.541Z"
   },
   {
    "duration": 37,
    "start_time": "2021-10-29T17:07:30.565Z"
   },
   {
    "duration": 34,
    "start_time": "2021-10-29T17:07:30.604Z"
   },
   {
    "duration": 15,
    "start_time": "2021-10-29T17:07:30.641Z"
   },
   {
    "duration": 25,
    "start_time": "2021-10-29T17:07:30.657Z"
   },
   {
    "duration": 27,
    "start_time": "2021-10-29T17:07:30.684Z"
   },
   {
    "duration": 241,
    "start_time": "2021-10-29T17:07:30.713Z"
   },
   {
    "duration": 11,
    "start_time": "2021-10-29T17:07:30.955Z"
   },
   {
    "duration": 171,
    "start_time": "2021-10-29T17:07:30.968Z"
   },
   {
    "duration": 23,
    "start_time": "2021-10-29T17:07:31.141Z"
   },
   {
    "duration": 12,
    "start_time": "2021-10-29T17:07:31.166Z"
   },
   {
    "duration": 27,
    "start_time": "2021-10-29T17:07:31.180Z"
   },
   {
    "duration": 392,
    "start_time": "2021-10-29T17:07:31.209Z"
   },
   {
    "duration": 357,
    "start_time": "2021-10-29T17:07:31.603Z"
   },
   {
    "duration": 6,
    "start_time": "2021-10-29T17:07:31.963Z"
   },
   {
    "duration": 371,
    "start_time": "2021-10-29T17:07:31.971Z"
   },
   {
    "duration": 7,
    "start_time": "2021-10-29T17:07:32.343Z"
   },
   {
    "duration": 32,
    "start_time": "2021-10-29T17:07:32.351Z"
   },
   {
    "duration": 29,
    "start_time": "2021-10-29T17:07:32.385Z"
   },
   {
    "duration": 265,
    "start_time": "2021-10-29T17:07:32.416Z"
   },
   {
    "duration": 15,
    "start_time": "2021-10-29T17:07:32.683Z"
   },
   {
    "duration": 347,
    "start_time": "2021-10-29T17:07:32.699Z"
   },
   {
    "duration": 133,
    "start_time": "2021-10-29T17:07:33.048Z"
   },
   {
    "duration": 15,
    "start_time": "2021-10-29T17:07:33.183Z"
   },
   {
    "duration": 330,
    "start_time": "2021-10-29T17:07:33.199Z"
   },
   {
    "duration": 5,
    "start_time": "2021-10-29T17:07:33.530Z"
   },
   {
    "duration": 453,
    "start_time": "2021-10-29T17:07:33.537Z"
   },
   {
    "duration": 349,
    "start_time": "2021-10-29T17:07:33.992Z"
   },
   {
    "duration": 5,
    "start_time": "2021-10-29T17:07:34.343Z"
   },
   {
    "duration": 137,
    "start_time": "2021-10-29T17:07:34.350Z"
   },
   {
    "duration": 7,
    "start_time": "2021-10-29T17:07:34.489Z"
   },
   {
    "duration": 30,
    "start_time": "2021-10-29T17:07:34.499Z"
   },
   {
    "duration": 10,
    "start_time": "2021-10-29T17:07:34.531Z"
   },
   {
    "duration": 25,
    "start_time": "2021-10-29T17:07:34.543Z"
   },
   {
    "duration": 14,
    "start_time": "2021-10-29T17:07:34.570Z"
   },
   {
    "duration": 32,
    "start_time": "2021-10-29T17:07:34.586Z"
   },
   {
    "duration": 23,
    "start_time": "2021-10-29T17:07:34.620Z"
   },
   {
    "duration": 15,
    "start_time": "2021-10-29T17:07:34.645Z"
   },
   {
    "duration": 28,
    "start_time": "2021-10-29T17:07:34.662Z"
   },
   {
    "duration": 1193,
    "start_time": "2021-10-29T17:09:09.948Z"
   },
   {
    "duration": 19,
    "start_time": "2021-10-29T17:09:11.144Z"
   },
   {
    "duration": 14,
    "start_time": "2021-10-29T17:09:11.169Z"
   },
   {
    "duration": 24,
    "start_time": "2021-10-29T17:09:11.185Z"
   },
   {
    "duration": 54,
    "start_time": "2021-10-29T17:09:11.212Z"
   },
   {
    "duration": 19,
    "start_time": "2021-10-29T17:09:11.268Z"
   },
   {
    "duration": 17,
    "start_time": "2021-10-29T17:09:11.291Z"
   },
   {
    "duration": 18,
    "start_time": "2021-10-29T17:09:11.311Z"
   },
   {
    "duration": 16,
    "start_time": "2021-10-29T17:09:11.331Z"
   },
   {
    "duration": 18,
    "start_time": "2021-10-29T17:09:11.349Z"
   },
   {
    "duration": 7,
    "start_time": "2021-10-29T17:09:11.369Z"
   },
   {
    "duration": 26,
    "start_time": "2021-10-29T17:09:11.377Z"
   },
   {
    "duration": 21,
    "start_time": "2021-10-29T17:09:11.405Z"
   },
   {
    "duration": 15,
    "start_time": "2021-10-29T17:09:11.428Z"
   },
   {
    "duration": 22,
    "start_time": "2021-10-29T17:09:11.445Z"
   },
   {
    "duration": 9,
    "start_time": "2021-10-29T17:09:11.469Z"
   },
   {
    "duration": 22,
    "start_time": "2021-10-29T17:09:11.480Z"
   },
   {
    "duration": 9,
    "start_time": "2021-10-29T17:09:11.504Z"
   },
   {
    "duration": 23,
    "start_time": "2021-10-29T17:09:11.515Z"
   },
   {
    "duration": 12,
    "start_time": "2021-10-29T17:09:11.540Z"
   },
   {
    "duration": 16,
    "start_time": "2021-10-29T17:09:11.554Z"
   },
   {
    "duration": 17,
    "start_time": "2021-10-29T17:09:11.574Z"
   },
   {
    "duration": 15,
    "start_time": "2021-10-29T17:09:11.594Z"
   },
   {
    "duration": 15,
    "start_time": "2021-10-29T17:09:11.611Z"
   },
   {
    "duration": 12,
    "start_time": "2021-10-29T17:09:11.628Z"
   },
   {
    "duration": 26,
    "start_time": "2021-10-29T17:09:11.642Z"
   },
   {
    "duration": 15,
    "start_time": "2021-10-29T17:09:11.670Z"
   },
   {
    "duration": 238,
    "start_time": "2021-10-29T17:09:11.687Z"
   },
   {
    "duration": 7,
    "start_time": "2021-10-29T17:09:11.927Z"
   },
   {
    "duration": 164,
    "start_time": "2021-10-29T17:09:11.936Z"
   },
   {
    "duration": 14,
    "start_time": "2021-10-29T17:09:12.102Z"
   },
   {
    "duration": 12,
    "start_time": "2021-10-29T17:09:12.118Z"
   },
   {
    "duration": 14,
    "start_time": "2021-10-29T17:09:12.132Z"
   },
   {
    "duration": 394,
    "start_time": "2021-10-29T17:09:12.148Z"
   },
   {
    "duration": 349,
    "start_time": "2021-10-29T17:09:12.544Z"
   },
   {
    "duration": 7,
    "start_time": "2021-10-29T17:09:12.896Z"
   },
   {
    "duration": 362,
    "start_time": "2021-10-29T17:09:12.905Z"
   },
   {
    "duration": 7,
    "start_time": "2021-10-29T17:09:13.269Z"
   },
   {
    "duration": 17,
    "start_time": "2021-10-29T17:09:13.278Z"
   },
   {
    "duration": 18,
    "start_time": "2021-10-29T17:09:13.297Z"
   },
   {
    "duration": 261,
    "start_time": "2021-10-29T17:09:13.316Z"
   },
   {
    "duration": 15,
    "start_time": "2021-10-29T17:09:13.579Z"
   },
   {
    "duration": 354,
    "start_time": "2021-10-29T17:09:13.596Z"
   },
   {
    "duration": 130,
    "start_time": "2021-10-29T17:09:13.952Z"
   },
   {
    "duration": 15,
    "start_time": "2021-10-29T17:09:14.085Z"
   },
   {
    "duration": 346,
    "start_time": "2021-10-29T17:09:14.102Z"
   },
   {
    "duration": 5,
    "start_time": "2021-10-29T17:09:14.450Z"
   },
   {
    "duration": 487,
    "start_time": "2021-10-29T17:09:14.463Z"
   },
   {
    "duration": 399,
    "start_time": "2021-10-29T17:09:14.952Z"
   },
   {
    "duration": 14,
    "start_time": "2021-10-29T17:09:15.353Z"
   },
   {
    "duration": 132,
    "start_time": "2021-10-29T17:09:15.369Z"
   },
   {
    "duration": 7,
    "start_time": "2021-10-29T17:09:15.503Z"
   },
   {
    "duration": 29,
    "start_time": "2021-10-29T17:09:15.512Z"
   },
   {
    "duration": 6,
    "start_time": "2021-10-29T17:09:15.543Z"
   },
   {
    "duration": 21,
    "start_time": "2021-10-29T17:09:15.551Z"
   },
   {
    "duration": 18,
    "start_time": "2021-10-29T17:09:15.574Z"
   },
   {
    "duration": 21,
    "start_time": "2021-10-29T17:09:15.594Z"
   },
   {
    "duration": 11,
    "start_time": "2021-10-29T17:09:15.616Z"
   },
   {
    "duration": 10,
    "start_time": "2021-10-29T17:09:15.629Z"
   },
   {
    "duration": 28,
    "start_time": "2021-10-29T17:09:15.641Z"
   },
   {
    "duration": 1217,
    "start_time": "2021-10-29T17:15:07.938Z"
   },
   {
    "duration": 22,
    "start_time": "2021-10-29T17:15:09.157Z"
   },
   {
    "duration": 16,
    "start_time": "2021-10-29T17:15:09.181Z"
   },
   {
    "duration": 7,
    "start_time": "2021-10-29T17:15:09.198Z"
   },
   {
    "duration": 43,
    "start_time": "2021-10-29T17:15:09.207Z"
   },
   {
    "duration": 6,
    "start_time": "2021-10-29T17:15:09.252Z"
   },
   {
    "duration": 15,
    "start_time": "2021-10-29T17:15:09.260Z"
   },
   {
    "duration": 10,
    "start_time": "2021-10-29T17:15:09.278Z"
   },
   {
    "duration": 23,
    "start_time": "2021-10-29T17:15:09.290Z"
   },
   {
    "duration": 13,
    "start_time": "2021-10-29T17:15:09.315Z"
   },
   {
    "duration": 6,
    "start_time": "2021-10-29T17:15:09.330Z"
   },
   {
    "duration": 17,
    "start_time": "2021-10-29T17:15:09.337Z"
   },
   {
    "duration": 10,
    "start_time": "2021-10-29T17:15:09.356Z"
   },
   {
    "duration": 13,
    "start_time": "2021-10-29T17:15:09.367Z"
   },
   {
    "duration": 14,
    "start_time": "2021-10-29T17:15:09.382Z"
   },
   {
    "duration": 15,
    "start_time": "2021-10-29T17:15:09.397Z"
   },
   {
    "duration": 13,
    "start_time": "2021-10-29T17:15:09.413Z"
   },
   {
    "duration": 11,
    "start_time": "2021-10-29T17:15:09.428Z"
   },
   {
    "duration": 13,
    "start_time": "2021-10-29T17:15:09.441Z"
   },
   {
    "duration": 11,
    "start_time": "2021-10-29T17:15:09.456Z"
   },
   {
    "duration": 13,
    "start_time": "2021-10-29T17:15:09.469Z"
   },
   {
    "duration": 13,
    "start_time": "2021-10-29T17:15:09.483Z"
   },
   {
    "duration": 13,
    "start_time": "2021-10-29T17:15:09.499Z"
   },
   {
    "duration": 13,
    "start_time": "2021-10-29T17:15:09.514Z"
   },
   {
    "duration": 11,
    "start_time": "2021-10-29T17:15:09.528Z"
   },
   {
    "duration": 28,
    "start_time": "2021-10-29T17:15:09.541Z"
   },
   {
    "duration": 12,
    "start_time": "2021-10-29T17:15:09.571Z"
   },
   {
    "duration": 244,
    "start_time": "2021-10-29T17:15:09.585Z"
   },
   {
    "duration": 7,
    "start_time": "2021-10-29T17:15:09.830Z"
   },
   {
    "duration": 180,
    "start_time": "2021-10-29T17:15:09.839Z"
   },
   {
    "duration": 14,
    "start_time": "2021-10-29T17:15:10.021Z"
   },
   {
    "duration": 10,
    "start_time": "2021-10-29T17:15:10.037Z"
   },
   {
    "duration": 19,
    "start_time": "2021-10-29T17:15:10.048Z"
   },
   {
    "duration": 379,
    "start_time": "2021-10-29T17:15:10.069Z"
   },
   {
    "duration": 351,
    "start_time": "2021-10-29T17:15:10.450Z"
   },
   {
    "duration": 7,
    "start_time": "2021-10-29T17:15:10.803Z"
   },
   {
    "duration": 357,
    "start_time": "2021-10-29T17:15:10.811Z"
   },
   {
    "duration": 7,
    "start_time": "2021-10-29T17:15:11.170Z"
   },
   {
    "duration": 15,
    "start_time": "2021-10-29T17:15:11.178Z"
   },
   {
    "duration": 9,
    "start_time": "2021-10-29T17:15:11.194Z"
   },
   {
    "duration": 278,
    "start_time": "2021-10-29T17:15:11.205Z"
   },
   {
    "duration": 15,
    "start_time": "2021-10-29T17:15:11.484Z"
   },
   {
    "duration": 375,
    "start_time": "2021-10-29T17:15:11.500Z"
   },
   {
    "duration": 139,
    "start_time": "2021-10-29T17:15:11.877Z"
   },
   {
    "duration": 17,
    "start_time": "2021-10-29T17:15:12.019Z"
   },
   {
    "duration": 399,
    "start_time": "2021-10-29T17:15:12.038Z"
   },
   {
    "duration": 6,
    "start_time": "2021-10-29T17:15:12.440Z"
   },
   {
    "duration": 482,
    "start_time": "2021-10-29T17:15:12.448Z"
   },
   {
    "duration": 395,
    "start_time": "2021-10-29T17:15:12.931Z"
   },
   {
    "duration": 5,
    "start_time": "2021-10-29T17:15:13.328Z"
   },
   {
    "duration": 133,
    "start_time": "2021-10-29T17:15:13.335Z"
   },
   {
    "duration": 8,
    "start_time": "2021-10-29T17:15:13.470Z"
   },
   {
    "duration": 14,
    "start_time": "2021-10-29T17:15:13.480Z"
   },
   {
    "duration": 8,
    "start_time": "2021-10-29T17:15:13.496Z"
   },
   {
    "duration": 13,
    "start_time": "2021-10-29T17:15:13.506Z"
   },
   {
    "duration": 11,
    "start_time": "2021-10-29T17:15:13.521Z"
   },
   {
    "duration": 9,
    "start_time": "2021-10-29T17:15:13.564Z"
   },
   {
    "duration": 12,
    "start_time": "2021-10-29T17:15:13.575Z"
   },
   {
    "duration": 10,
    "start_time": "2021-10-29T17:15:13.588Z"
   },
   {
    "duration": 10,
    "start_time": "2021-10-29T17:15:13.600Z"
   },
   {
    "duration": 1573,
    "start_time": "2021-10-29T17:18:06.690Z"
   },
   {
    "duration": 19,
    "start_time": "2021-10-29T17:18:08.265Z"
   },
   {
    "duration": 32,
    "start_time": "2021-10-29T17:18:08.286Z"
   },
   {
    "duration": 12,
    "start_time": "2021-10-29T17:18:08.321Z"
   },
   {
    "duration": 46,
    "start_time": "2021-10-29T17:18:08.335Z"
   },
   {
    "duration": 14,
    "start_time": "2021-10-29T17:18:08.383Z"
   },
   {
    "duration": 25,
    "start_time": "2021-10-29T17:18:08.400Z"
   },
   {
    "duration": 31,
    "start_time": "2021-10-29T17:18:08.428Z"
   },
   {
    "duration": 27,
    "start_time": "2021-10-29T17:18:08.461Z"
   },
   {
    "duration": 30,
    "start_time": "2021-10-29T17:18:08.490Z"
   },
   {
    "duration": 16,
    "start_time": "2021-10-29T17:18:08.522Z"
   },
   {
    "duration": 45,
    "start_time": "2021-10-29T17:18:08.540Z"
   },
   {
    "duration": 15,
    "start_time": "2021-10-29T17:18:08.587Z"
   },
   {
    "duration": 11,
    "start_time": "2021-10-29T17:18:08.604Z"
   },
   {
    "duration": 8,
    "start_time": "2021-10-29T17:18:08.616Z"
   },
   {
    "duration": 10,
    "start_time": "2021-10-29T17:18:08.626Z"
   },
   {
    "duration": 12,
    "start_time": "2021-10-29T17:18:08.638Z"
   },
   {
    "duration": 12,
    "start_time": "2021-10-29T17:18:08.652Z"
   },
   {
    "duration": 9,
    "start_time": "2021-10-29T17:18:08.667Z"
   },
   {
    "duration": 15,
    "start_time": "2021-10-29T17:18:08.678Z"
   },
   {
    "duration": 11,
    "start_time": "2021-10-29T17:18:08.695Z"
   },
   {
    "duration": 13,
    "start_time": "2021-10-29T17:18:08.708Z"
   },
   {
    "duration": 16,
    "start_time": "2021-10-29T17:18:08.726Z"
   },
   {
    "duration": 15,
    "start_time": "2021-10-29T17:18:08.765Z"
   },
   {
    "duration": 11,
    "start_time": "2021-10-29T17:18:08.782Z"
   },
   {
    "duration": 9,
    "start_time": "2021-10-29T17:18:08.795Z"
   },
   {
    "duration": 16,
    "start_time": "2021-10-29T17:18:08.806Z"
   },
   {
    "duration": 264,
    "start_time": "2021-10-29T17:18:08.825Z"
   },
   {
    "duration": 11,
    "start_time": "2021-10-29T17:18:09.091Z"
   },
   {
    "duration": 210,
    "start_time": "2021-10-29T17:18:09.104Z"
   },
   {
    "duration": 14,
    "start_time": "2021-10-29T17:18:09.316Z"
   },
   {
    "duration": 6,
    "start_time": "2021-10-29T17:18:09.332Z"
   },
   {
    "duration": 5,
    "start_time": "2021-10-29T17:18:09.364Z"
   },
   {
    "duration": 427,
    "start_time": "2021-10-29T17:18:09.372Z"
   },
   {
    "duration": 420,
    "start_time": "2021-10-29T17:18:09.801Z"
   },
   {
    "duration": 8,
    "start_time": "2021-10-29T17:18:10.224Z"
   },
   {
    "duration": 378,
    "start_time": "2021-10-29T17:18:10.234Z"
   },
   {
    "duration": 7,
    "start_time": "2021-10-29T17:18:10.615Z"
   },
   {
    "duration": 13,
    "start_time": "2021-10-29T17:18:10.624Z"
   },
   {
    "duration": 30,
    "start_time": "2021-10-29T17:18:10.639Z"
   },
   {
    "duration": 431,
    "start_time": "2021-10-29T17:18:10.672Z"
   },
   {
    "duration": 25,
    "start_time": "2021-10-29T17:18:11.106Z"
   },
   {
    "duration": 559,
    "start_time": "2021-10-29T17:18:11.134Z"
   },
   {
    "duration": 248,
    "start_time": "2021-10-29T17:18:11.696Z"
   },
   {
    "duration": 36,
    "start_time": "2021-10-29T17:18:11.947Z"
   },
   {
    "duration": 360,
    "start_time": "2021-10-29T17:18:11.985Z"
   },
   {
    "duration": 6,
    "start_time": "2021-10-29T17:18:12.347Z"
   },
   {
    "duration": 466,
    "start_time": "2021-10-29T17:18:12.364Z"
   },
   {
    "duration": 414,
    "start_time": "2021-10-29T17:18:12.833Z"
   },
   {
    "duration": 14,
    "start_time": "2021-10-29T17:18:13.250Z"
   },
   {
    "duration": 126,
    "start_time": "2021-10-29T17:18:13.266Z"
   },
   {
    "duration": 8,
    "start_time": "2021-10-29T17:18:13.394Z"
   },
   {
    "duration": 34,
    "start_time": "2021-10-29T17:18:13.404Z"
   },
   {
    "duration": 22,
    "start_time": "2021-10-29T17:18:13.440Z"
   },
   {
    "duration": 30,
    "start_time": "2021-10-29T17:18:13.464Z"
   },
   {
    "duration": 18,
    "start_time": "2021-10-29T17:18:13.496Z"
   },
   {
    "duration": 49,
    "start_time": "2021-10-29T17:18:13.516Z"
   },
   {
    "duration": 32,
    "start_time": "2021-10-29T17:18:13.568Z"
   },
   {
    "duration": 33,
    "start_time": "2021-10-29T17:18:13.601Z"
   },
   {
    "duration": 21,
    "start_time": "2021-10-29T17:18:13.636Z"
   },
   {
    "duration": 1168,
    "start_time": "2021-10-30T09:31:19.152Z"
   },
   {
    "duration": 17,
    "start_time": "2021-10-30T09:31:20.322Z"
   },
   {
    "duration": 18,
    "start_time": "2021-10-30T09:31:20.341Z"
   },
   {
    "duration": 19,
    "start_time": "2021-10-30T09:31:20.361Z"
   },
   {
    "duration": 89,
    "start_time": "2021-10-30T09:31:20.382Z"
   },
   {
    "duration": 13,
    "start_time": "2021-10-30T09:31:20.473Z"
   },
   {
    "duration": 11,
    "start_time": "2021-10-30T09:31:20.488Z"
   },
   {
    "duration": 17,
    "start_time": "2021-10-30T09:31:20.501Z"
   },
   {
    "duration": 17,
    "start_time": "2021-10-30T09:31:20.520Z"
   },
   {
    "duration": 24,
    "start_time": "2021-10-30T09:31:20.539Z"
   },
   {
    "duration": 19,
    "start_time": "2021-10-30T09:31:20.564Z"
   },
   {
    "duration": 18,
    "start_time": "2021-10-30T09:31:20.585Z"
   },
   {
    "duration": 29,
    "start_time": "2021-10-30T09:31:20.604Z"
   },
   {
    "duration": 29,
    "start_time": "2021-10-30T09:31:20.635Z"
   },
   {
    "duration": 10,
    "start_time": "2021-10-30T09:31:20.666Z"
   },
   {
    "duration": 14,
    "start_time": "2021-10-30T09:31:20.677Z"
   },
   {
    "duration": 33,
    "start_time": "2021-10-30T09:31:20.692Z"
   },
   {
    "duration": 18,
    "start_time": "2021-10-30T09:31:20.726Z"
   },
   {
    "duration": 21,
    "start_time": "2021-10-30T09:31:20.745Z"
   },
   {
    "duration": 17,
    "start_time": "2021-10-30T09:31:20.768Z"
   },
   {
    "duration": 15,
    "start_time": "2021-10-30T09:31:20.787Z"
   },
   {
    "duration": 24,
    "start_time": "2021-10-30T09:31:20.804Z"
   },
   {
    "duration": 15,
    "start_time": "2021-10-30T09:31:20.834Z"
   },
   {
    "duration": 24,
    "start_time": "2021-10-30T09:31:20.852Z"
   },
   {
    "duration": 19,
    "start_time": "2021-10-30T09:31:20.878Z"
   },
   {
    "duration": 21,
    "start_time": "2021-10-30T09:31:20.899Z"
   },
   {
    "duration": 32,
    "start_time": "2021-10-30T09:31:20.922Z"
   },
   {
    "duration": 205,
    "start_time": "2021-10-30T09:31:20.956Z"
   },
   {
    "duration": 6,
    "start_time": "2021-10-30T09:31:21.163Z"
   },
   {
    "duration": 156,
    "start_time": "2021-10-30T09:31:21.170Z"
   },
   {
    "duration": 43,
    "start_time": "2021-10-30T09:31:21.327Z"
   },
   {
    "duration": 10,
    "start_time": "2021-10-30T09:31:21.372Z"
   },
   {
    "duration": 31,
    "start_time": "2021-10-30T09:31:21.383Z"
   },
   {
    "duration": 370,
    "start_time": "2021-10-30T09:31:21.416Z"
   },
   {
    "duration": 332,
    "start_time": "2021-10-30T09:31:21.788Z"
   },
   {
    "duration": 5,
    "start_time": "2021-10-30T09:31:22.122Z"
   },
   {
    "duration": 370,
    "start_time": "2021-10-30T09:31:22.129Z"
   },
   {
    "duration": 6,
    "start_time": "2021-10-30T09:31:22.501Z"
   },
   {
    "duration": 50,
    "start_time": "2021-10-30T09:31:22.508Z"
   },
   {
    "duration": 31,
    "start_time": "2021-10-30T09:31:22.560Z"
   },
   {
    "duration": 265,
    "start_time": "2021-10-30T09:31:22.593Z"
   },
   {
    "duration": 14,
    "start_time": "2021-10-30T09:31:22.859Z"
   },
   {
    "duration": 360,
    "start_time": "2021-10-30T09:31:22.875Z"
   },
   {
    "duration": 132,
    "start_time": "2021-10-30T09:31:23.237Z"
   },
   {
    "duration": 16,
    "start_time": "2021-10-30T09:31:23.371Z"
   },
   {
    "duration": 341,
    "start_time": "2021-10-30T09:31:23.389Z"
   },
   {
    "duration": 5,
    "start_time": "2021-10-30T09:31:23.731Z"
   },
   {
    "duration": 435,
    "start_time": "2021-10-30T09:31:23.737Z"
   },
   {
    "duration": 352,
    "start_time": "2021-10-30T09:31:24.173Z"
   },
   {
    "duration": 4,
    "start_time": "2021-10-30T09:31:24.527Z"
   },
   {
    "duration": 117,
    "start_time": "2021-10-30T09:31:24.532Z"
   },
   {
    "duration": 7,
    "start_time": "2021-10-30T09:31:24.651Z"
   },
   {
    "duration": 14,
    "start_time": "2021-10-30T09:31:24.663Z"
   },
   {
    "duration": 5,
    "start_time": "2021-10-30T09:31:24.679Z"
   },
   {
    "duration": 13,
    "start_time": "2021-10-30T09:31:24.686Z"
   },
   {
    "duration": 13,
    "start_time": "2021-10-30T09:31:24.701Z"
   },
   {
    "duration": 52,
    "start_time": "2021-10-30T09:31:24.716Z"
   },
   {
    "duration": 11,
    "start_time": "2021-10-30T09:31:24.769Z"
   },
   {
    "duration": 11,
    "start_time": "2021-10-30T09:31:24.782Z"
   },
   {
    "duration": 8,
    "start_time": "2021-10-30T09:31:24.795Z"
   },
   {
    "duration": 437,
    "start_time": "2021-10-30T10:57:20.143Z"
   },
   {
    "duration": 1259,
    "start_time": "2021-10-30T10:57:27.790Z"
   },
   {
    "duration": 26,
    "start_time": "2021-10-30T10:57:29.204Z"
   },
   {
    "duration": 3,
    "start_time": "2021-10-30T11:10:53.958Z"
   },
   {
    "duration": 23,
    "start_time": "2021-10-30T11:10:54.902Z"
   },
   {
    "duration": 2008,
    "start_time": "2021-10-30T11:20:39.240Z"
   },
   {
    "duration": 25,
    "start_time": "2021-10-30T11:20:41.250Z"
   },
   {
    "duration": 6,
    "start_time": "2021-10-30T11:20:41.277Z"
   },
   {
    "duration": 58,
    "start_time": "2021-10-30T11:20:41.285Z"
   },
   {
    "duration": 5,
    "start_time": "2021-10-30T11:20:41.345Z"
   },
   {
    "duration": 8,
    "start_time": "2021-10-30T11:20:41.352Z"
   },
   {
    "duration": 11,
    "start_time": "2021-10-30T11:20:41.362Z"
   },
   {
    "duration": 5,
    "start_time": "2021-10-30T11:20:41.376Z"
   },
   {
    "duration": 14,
    "start_time": "2021-10-30T11:20:41.383Z"
   },
   {
    "duration": 5,
    "start_time": "2021-10-30T11:20:41.398Z"
   },
   {
    "duration": 28,
    "start_time": "2021-10-30T11:20:41.405Z"
   },
   {
    "duration": 18,
    "start_time": "2021-10-30T11:20:41.434Z"
   },
   {
    "duration": 11,
    "start_time": "2021-10-30T11:20:41.453Z"
   },
   {
    "duration": 11,
    "start_time": "2021-10-30T11:20:41.466Z"
   },
   {
    "duration": 19,
    "start_time": "2021-10-30T11:20:41.478Z"
   },
   {
    "duration": 15,
    "start_time": "2021-10-30T11:20:41.499Z"
   },
   {
    "duration": 6,
    "start_time": "2021-10-30T11:20:41.516Z"
   },
   {
    "duration": 16,
    "start_time": "2021-10-30T11:20:41.524Z"
   },
   {
    "duration": 13,
    "start_time": "2021-10-30T11:20:41.543Z"
   },
   {
    "duration": 19,
    "start_time": "2021-10-30T11:20:41.558Z"
   },
   {
    "duration": 11,
    "start_time": "2021-10-30T11:20:41.579Z"
   },
   {
    "duration": 20,
    "start_time": "2021-10-30T11:20:41.591Z"
   },
   {
    "duration": 13,
    "start_time": "2021-10-30T11:20:41.615Z"
   },
   {
    "duration": 12,
    "start_time": "2021-10-30T11:20:41.631Z"
   },
   {
    "duration": 26,
    "start_time": "2021-10-30T11:20:41.645Z"
   },
   {
    "duration": 13,
    "start_time": "2021-10-30T11:20:41.673Z"
   },
   {
    "duration": 236,
    "start_time": "2021-10-30T11:20:41.687Z"
   },
   {
    "duration": 7,
    "start_time": "2021-10-30T11:20:41.924Z"
   },
   {
    "duration": 179,
    "start_time": "2021-10-30T11:20:41.933Z"
   },
   {
    "duration": 13,
    "start_time": "2021-10-30T11:20:42.114Z"
   },
   {
    "duration": 18,
    "start_time": "2021-10-30T11:20:42.129Z"
   },
   {
    "duration": 11,
    "start_time": "2021-10-30T11:20:42.149Z"
   },
   {
    "duration": 411,
    "start_time": "2021-10-30T11:20:42.162Z"
   },
   {
    "duration": 370,
    "start_time": "2021-10-30T11:20:42.575Z"
   },
   {
    "duration": 6,
    "start_time": "2021-10-30T11:20:42.947Z"
   },
   {
    "duration": 371,
    "start_time": "2021-10-30T11:20:42.955Z"
   },
   {
    "duration": 7,
    "start_time": "2021-10-30T11:20:43.327Z"
   },
   {
    "duration": 13,
    "start_time": "2021-10-30T11:20:43.335Z"
   },
   {
    "duration": 16,
    "start_time": "2021-10-30T11:20:43.350Z"
   },
   {
    "duration": 280,
    "start_time": "2021-10-30T11:20:43.367Z"
   },
   {
    "duration": 15,
    "start_time": "2021-10-30T11:20:43.649Z"
   },
   {
    "duration": 399,
    "start_time": "2021-10-30T11:20:43.667Z"
   },
   {
    "duration": 119,
    "start_time": "2021-10-30T11:20:44.068Z"
   },
   {
    "duration": 18,
    "start_time": "2021-10-30T11:20:44.189Z"
   },
   {
    "duration": 355,
    "start_time": "2021-10-30T11:20:44.210Z"
   },
   {
    "duration": 5,
    "start_time": "2021-10-30T11:20:44.566Z"
   },
   {
    "duration": 438,
    "start_time": "2021-10-30T11:20:44.573Z"
   },
   {
    "duration": 377,
    "start_time": "2021-10-30T11:20:45.013Z"
   },
   {
    "duration": 5,
    "start_time": "2021-10-30T11:20:45.391Z"
   },
   {
    "duration": 128,
    "start_time": "2021-10-30T11:20:45.406Z"
   },
   {
    "duration": 7,
    "start_time": "2021-10-30T11:20:45.536Z"
   },
   {
    "duration": 11,
    "start_time": "2021-10-30T11:20:45.545Z"
   },
   {
    "duration": 11,
    "start_time": "2021-10-30T11:20:45.558Z"
   },
   {
    "duration": 19,
    "start_time": "2021-10-30T11:20:45.571Z"
   },
   {
    "duration": 32,
    "start_time": "2021-10-30T11:20:45.592Z"
   },
   {
    "duration": 9,
    "start_time": "2021-10-30T11:20:45.625Z"
   },
   {
    "duration": 16,
    "start_time": "2021-10-30T11:20:45.635Z"
   },
   {
    "duration": 15,
    "start_time": "2021-10-30T11:20:45.652Z"
   },
   {
    "duration": 8,
    "start_time": "2021-10-30T11:20:45.669Z"
   },
   {
    "duration": 164,
    "start_time": "2021-10-30T11:40:09.506Z"
   },
   {
    "duration": 113,
    "start_time": "2021-10-30T11:40:34.919Z"
   },
   {
    "duration": 22,
    "start_time": "2021-10-30T11:46:31.943Z"
   },
   {
    "duration": 1197,
    "start_time": "2021-10-30T11:49:36.629Z"
   },
   {
    "duration": 26,
    "start_time": "2021-10-30T11:49:37.828Z"
   },
   {
    "duration": 7,
    "start_time": "2021-10-30T11:49:37.857Z"
   },
   {
    "duration": 52,
    "start_time": "2021-10-30T11:49:37.866Z"
   },
   {
    "duration": 7,
    "start_time": "2021-10-30T11:49:37.921Z"
   },
   {
    "duration": 10,
    "start_time": "2021-10-30T11:49:37.930Z"
   },
   {
    "duration": 9,
    "start_time": "2021-10-30T11:49:37.942Z"
   },
   {
    "duration": 5,
    "start_time": "2021-10-30T11:49:37.954Z"
   },
   {
    "duration": 47,
    "start_time": "2021-10-30T11:49:37.962Z"
   },
   {
    "duration": 8,
    "start_time": "2021-10-30T11:49:38.011Z"
   },
   {
    "duration": 16,
    "start_time": "2021-10-30T11:49:38.021Z"
   },
   {
    "duration": 12,
    "start_time": "2021-10-30T11:49:38.039Z"
   },
   {
    "duration": 14,
    "start_time": "2021-10-30T11:49:38.053Z"
   },
   {
    "duration": 9,
    "start_time": "2021-10-30T11:49:38.069Z"
   },
   {
    "duration": 7,
    "start_time": "2021-10-30T11:49:38.080Z"
   },
   {
    "duration": 29,
    "start_time": "2021-10-30T11:49:38.089Z"
   },
   {
    "duration": 6,
    "start_time": "2021-10-30T11:49:38.121Z"
   },
   {
    "duration": 8,
    "start_time": "2021-10-30T11:49:38.129Z"
   },
   {
    "duration": 8,
    "start_time": "2021-10-30T11:49:38.139Z"
   },
   {
    "duration": 8,
    "start_time": "2021-10-30T11:49:38.148Z"
   },
   {
    "duration": 8,
    "start_time": "2021-10-30T11:49:38.158Z"
   },
   {
    "duration": 45,
    "start_time": "2021-10-30T11:49:38.168Z"
   },
   {
    "duration": 12,
    "start_time": "2021-10-30T11:49:38.218Z"
   },
   {
    "duration": 12,
    "start_time": "2021-10-30T11:49:38.232Z"
   },
   {
    "duration": 14,
    "start_time": "2021-10-30T11:49:38.246Z"
   },
   {
    "duration": 13,
    "start_time": "2021-10-30T11:49:38.262Z"
   },
   {
    "duration": 261,
    "start_time": "2021-10-30T11:49:38.277Z"
   },
   {
    "duration": 7,
    "start_time": "2021-10-30T11:49:38.540Z"
   },
   {
    "duration": 178,
    "start_time": "2021-10-30T11:49:38.548Z"
   },
   {
    "duration": 13,
    "start_time": "2021-10-30T11:49:38.727Z"
   },
   {
    "duration": 7,
    "start_time": "2021-10-30T11:49:38.741Z"
   },
   {
    "duration": 6,
    "start_time": "2021-10-30T11:49:38.750Z"
   },
   {
    "duration": 393,
    "start_time": "2021-10-30T11:49:38.757Z"
   },
   {
    "duration": 370,
    "start_time": "2021-10-30T11:49:39.151Z"
   },
   {
    "duration": 6,
    "start_time": "2021-10-30T11:49:39.523Z"
   },
   {
    "duration": 351,
    "start_time": "2021-10-30T11:49:39.531Z"
   },
   {
    "duration": 6,
    "start_time": "2021-10-30T11:49:39.885Z"
   },
   {
    "duration": 27,
    "start_time": "2021-10-30T11:49:39.892Z"
   },
   {
    "duration": 10,
    "start_time": "2021-10-30T11:49:39.921Z"
   },
   {
    "duration": 282,
    "start_time": "2021-10-30T11:49:39.933Z"
   },
   {
    "duration": 16,
    "start_time": "2021-10-30T11:49:40.217Z"
   },
   {
    "duration": 369,
    "start_time": "2021-10-30T11:49:40.235Z"
   },
   {
    "duration": 131,
    "start_time": "2021-10-30T11:49:40.608Z"
   },
   {
    "duration": 14,
    "start_time": "2021-10-30T11:49:40.742Z"
   },
   {
    "duration": 341,
    "start_time": "2021-10-30T11:49:40.758Z"
   },
   {
    "duration": 9,
    "start_time": "2021-10-30T11:49:41.102Z"
   },
   {
    "duration": 482,
    "start_time": "2021-10-30T11:49:41.114Z"
   },
   {
    "duration": 386,
    "start_time": "2021-10-30T11:49:41.606Z"
   },
   {
    "duration": 15,
    "start_time": "2021-10-30T11:49:41.994Z"
   },
   {
    "duration": 121,
    "start_time": "2021-10-30T11:49:42.011Z"
   },
   {
    "duration": 7,
    "start_time": "2021-10-30T11:49:42.134Z"
   },
   {
    "duration": 14,
    "start_time": "2021-10-30T11:49:42.143Z"
   },
   {
    "duration": 5,
    "start_time": "2021-10-30T11:49:42.159Z"
   },
   {
    "duration": 14,
    "start_time": "2021-10-30T11:49:42.166Z"
   },
   {
    "duration": 41,
    "start_time": "2021-10-30T11:49:42.182Z"
   },
   {
    "duration": 9,
    "start_time": "2021-10-30T11:49:42.225Z"
   },
   {
    "duration": 12,
    "start_time": "2021-10-30T11:49:42.236Z"
   },
   {
    "duration": 9,
    "start_time": "2021-10-30T11:49:42.250Z"
   },
   {
    "duration": 9,
    "start_time": "2021-10-30T11:49:42.261Z"
   },
   {
    "duration": 47,
    "start_time": "2021-10-30T11:54:37.715Z"
   },
   {
    "duration": 7,
    "start_time": "2021-10-30T11:54:38.341Z"
   },
   {
    "duration": 9,
    "start_time": "2021-10-30T11:54:44.925Z"
   },
   {
    "duration": 8,
    "start_time": "2021-10-30T11:54:47.165Z"
   },
   {
    "duration": 7,
    "start_time": "2021-10-30T11:54:55.313Z"
   },
   {
    "duration": 14,
    "start_time": "2021-10-30T11:54:56.245Z"
   },
   {
    "duration": 7,
    "start_time": "2021-10-30T11:54:56.971Z"
   },
   {
    "duration": 16,
    "start_time": "2021-10-30T11:55:03.487Z"
   },
   {
    "duration": 7,
    "start_time": "2021-10-30T11:55:07.561Z"
   },
   {
    "duration": 7,
    "start_time": "2021-10-30T11:55:09.149Z"
   },
   {
    "duration": 7,
    "start_time": "2021-10-30T11:55:10.129Z"
   },
   {
    "duration": 6,
    "start_time": "2021-10-30T11:55:10.753Z"
   },
   {
    "duration": 10,
    "start_time": "2021-10-30T11:55:11.509Z"
   },
   {
    "duration": 5,
    "start_time": "2021-10-30T11:55:12.394Z"
   },
   {
    "duration": 7,
    "start_time": "2021-10-30T11:55:16.937Z"
   },
   {
    "duration": 10,
    "start_time": "2021-10-30T11:55:20.802Z"
   },
   {
    "duration": 8,
    "start_time": "2021-10-30T11:55:21.306Z"
   },
   {
    "duration": 7,
    "start_time": "2021-10-30T11:55:21.750Z"
   },
   {
    "duration": 9,
    "start_time": "2021-10-30T11:55:22.177Z"
   },
   {
    "duration": 5,
    "start_time": "2021-10-30T11:56:57.470Z"
   },
   {
    "duration": 25,
    "start_time": "2021-10-30T11:57:04.998Z"
   },
   {
    "duration": 23,
    "start_time": "2021-10-30T11:57:37.381Z"
   },
   {
    "duration": 3,
    "start_time": "2021-10-30T11:59:47.286Z"
   },
   {
    "duration": 22,
    "start_time": "2021-10-30T11:59:49.546Z"
   },
   {
    "duration": 6,
    "start_time": "2021-10-30T11:59:51.854Z"
   },
   {
    "duration": 38,
    "start_time": "2021-10-30T11:59:52.807Z"
   },
   {
    "duration": 7,
    "start_time": "2021-10-30T11:59:53.146Z"
   },
   {
    "duration": 8,
    "start_time": "2021-10-30T11:59:53.726Z"
   },
   {
    "duration": 10,
    "start_time": "2021-10-30T11:59:54.302Z"
   },
   {
    "duration": 7,
    "start_time": "2021-10-30T11:59:54.806Z"
   },
   {
    "duration": 13,
    "start_time": "2021-10-30T11:59:55.470Z"
   },
   {
    "duration": 6,
    "start_time": "2021-10-30T11:59:55.718Z"
   },
   {
    "duration": 16,
    "start_time": "2021-10-30T11:59:56.178Z"
   },
   {
    "duration": 7,
    "start_time": "2021-10-30T11:59:56.586Z"
   },
   {
    "duration": 8,
    "start_time": "2021-10-30T11:59:57.002Z"
   },
   {
    "duration": 7,
    "start_time": "2021-10-30T11:59:57.230Z"
   },
   {
    "duration": 6,
    "start_time": "2021-10-30T11:59:57.462Z"
   },
   {
    "duration": 8,
    "start_time": "2021-10-30T11:59:57.874Z"
   },
   {
    "duration": 5,
    "start_time": "2021-10-30T11:59:58.158Z"
   },
   {
    "duration": 7,
    "start_time": "2021-10-30T11:59:58.894Z"
   },
   {
    "duration": 6,
    "start_time": "2021-10-30T11:59:59.122Z"
   },
   {
    "duration": 7,
    "start_time": "2021-10-30T11:59:59.346Z"
   },
   {
    "duration": 7,
    "start_time": "2021-10-30T11:59:59.583Z"
   },
   {
    "duration": 9,
    "start_time": "2021-10-30T11:59:59.822Z"
   },
   {
    "duration": 11,
    "start_time": "2021-10-30T12:00:01.962Z"
   },
   {
    "duration": 3,
    "start_time": "2021-10-30T12:00:45.454Z"
   },
   {
    "duration": 22,
    "start_time": "2021-10-30T12:00:47.719Z"
   },
   {
    "duration": 3,
    "start_time": "2021-10-30T12:00:58.438Z"
   },
   {
    "duration": 23,
    "start_time": "2021-10-30T12:00:59.878Z"
   },
   {
    "duration": 8821,
    "start_time": "2021-10-30T12:10:26.243Z"
   },
   {
    "duration": 1201,
    "start_time": "2021-10-30T12:51:51.341Z"
   },
   {
    "duration": 28,
    "start_time": "2021-10-30T12:51:52.544Z"
   },
   {
    "duration": 7,
    "start_time": "2021-10-30T12:51:52.575Z"
   },
   {
    "duration": 39,
    "start_time": "2021-10-30T12:51:52.584Z"
   },
   {
    "duration": 9,
    "start_time": "2021-10-30T12:51:52.625Z"
   },
   {
    "duration": 12,
    "start_time": "2021-10-30T12:51:52.636Z"
   },
   {
    "duration": 15,
    "start_time": "2021-10-30T12:51:52.650Z"
   },
   {
    "duration": 7,
    "start_time": "2021-10-30T12:51:52.668Z"
   },
   {
    "duration": 15,
    "start_time": "2021-10-30T12:51:52.678Z"
   },
   {
    "duration": 11,
    "start_time": "2021-10-30T12:51:52.695Z"
   },
   {
    "duration": 17,
    "start_time": "2021-10-30T12:51:52.708Z"
   },
   {
    "duration": 10,
    "start_time": "2021-10-30T12:51:52.727Z"
   },
   {
    "duration": 15,
    "start_time": "2021-10-30T12:51:52.739Z"
   },
   {
    "duration": 15,
    "start_time": "2021-10-30T12:51:52.756Z"
   },
   {
    "duration": 11,
    "start_time": "2021-10-30T12:51:52.772Z"
   },
   {
    "duration": 10,
    "start_time": "2021-10-30T12:51:52.785Z"
   },
   {
    "duration": 17,
    "start_time": "2021-10-30T12:51:52.797Z"
   },
   {
    "duration": 10,
    "start_time": "2021-10-30T12:51:52.815Z"
   },
   {
    "duration": 11,
    "start_time": "2021-10-30T12:51:52.826Z"
   },
   {
    "duration": 11,
    "start_time": "2021-10-30T12:51:52.839Z"
   },
   {
    "duration": 13,
    "start_time": "2021-10-30T12:51:52.852Z"
   },
   {
    "duration": 19,
    "start_time": "2021-10-30T12:51:52.867Z"
   },
   {
    "duration": 17,
    "start_time": "2021-10-30T12:51:52.890Z"
   },
   {
    "duration": 11,
    "start_time": "2021-10-30T12:51:52.910Z"
   },
   {
    "duration": 10,
    "start_time": "2021-10-30T12:51:52.923Z"
   },
   {
    "duration": 12,
    "start_time": "2021-10-30T12:51:52.935Z"
   },
   {
    "duration": 251,
    "start_time": "2021-10-30T12:51:52.949Z"
   },
   {
    "duration": 11,
    "start_time": "2021-10-30T12:51:53.202Z"
   },
   {
    "duration": 172,
    "start_time": "2021-10-30T12:51:53.215Z"
   },
   {
    "duration": 23,
    "start_time": "2021-10-30T12:51:53.390Z"
   },
   {
    "duration": 10,
    "start_time": "2021-10-30T12:51:53.416Z"
   },
   {
    "duration": 17,
    "start_time": "2021-10-30T12:51:53.428Z"
   },
   {
    "duration": 380,
    "start_time": "2021-10-30T12:51:53.447Z"
   },
   {
    "duration": 352,
    "start_time": "2021-10-30T12:51:53.829Z"
   },
   {
    "duration": 7,
    "start_time": "2021-10-30T12:51:54.183Z"
   },
   {
    "duration": 365,
    "start_time": "2021-10-30T12:51:54.192Z"
   },
   {
    "duration": 6,
    "start_time": "2021-10-30T12:51:54.558Z"
   },
   {
    "duration": 11,
    "start_time": "2021-10-30T12:51:54.566Z"
   },
   {
    "duration": 34,
    "start_time": "2021-10-30T12:51:54.579Z"
   },
   {
    "duration": 270,
    "start_time": "2021-10-30T12:51:54.615Z"
   },
   {
    "duration": 28,
    "start_time": "2021-10-30T12:51:54.887Z"
   },
   {
    "duration": 368,
    "start_time": "2021-10-30T12:51:54.917Z"
   },
   {
    "duration": 171,
    "start_time": "2021-10-30T12:51:55.287Z"
   },
   {
    "duration": 20,
    "start_time": "2021-10-30T12:51:55.460Z"
   },
   {
    "duration": 479,
    "start_time": "2021-10-30T12:51:55.482Z"
   },
   {
    "duration": 6,
    "start_time": "2021-10-30T12:51:55.963Z"
   },
   {
    "duration": 567,
    "start_time": "2021-10-30T12:51:55.971Z"
   },
   {
    "duration": 455,
    "start_time": "2021-10-30T12:51:56.540Z"
   },
   {
    "duration": 12,
    "start_time": "2021-10-30T12:51:56.997Z"
   },
   {
    "duration": 200,
    "start_time": "2021-10-30T12:51:57.011Z"
   },
   {
    "duration": 9,
    "start_time": "2021-10-30T12:51:57.213Z"
   },
   {
    "duration": 25,
    "start_time": "2021-10-30T12:51:57.223Z"
   },
   {
    "duration": 7,
    "start_time": "2021-10-30T12:51:57.250Z"
   },
   {
    "duration": 24,
    "start_time": "2021-10-30T12:51:57.258Z"
   },
   {
    "duration": 25,
    "start_time": "2021-10-30T12:51:57.283Z"
   },
   {
    "duration": 13,
    "start_time": "2021-10-30T12:51:57.311Z"
   },
   {
    "duration": 10,
    "start_time": "2021-10-30T12:51:57.326Z"
   },
   {
    "duration": 10,
    "start_time": "2021-10-30T12:51:57.338Z"
   },
   {
    "duration": 10,
    "start_time": "2021-10-30T12:51:57.350Z"
   },
   {
    "duration": 17,
    "start_time": "2021-10-30T12:53:22.474Z"
   },
   {
    "duration": 23,
    "start_time": "2021-10-30T12:53:36.629Z"
   },
   {
    "duration": 3,
    "start_time": "2021-10-30T12:53:45.074Z"
   },
   {
    "duration": 22,
    "start_time": "2021-10-30T12:53:50.190Z"
   },
   {
    "duration": 50,
    "start_time": "2021-10-30T12:55:00.895Z"
   },
   {
    "duration": 1164,
    "start_time": "2021-10-30T13:01:49.975Z"
   },
   {
    "duration": 27,
    "start_time": "2021-10-30T13:01:51.142Z"
   },
   {
    "duration": 10,
    "start_time": "2021-10-30T13:01:51.171Z"
   },
   {
    "duration": 44,
    "start_time": "2021-10-30T13:01:51.183Z"
   },
   {
    "duration": 10,
    "start_time": "2021-10-30T13:01:51.229Z"
   },
   {
    "duration": 15,
    "start_time": "2021-10-30T13:01:51.241Z"
   },
   {
    "duration": 9,
    "start_time": "2021-10-30T13:01:51.258Z"
   },
   {
    "duration": 6,
    "start_time": "2021-10-30T13:01:51.271Z"
   },
   {
    "duration": 16,
    "start_time": "2021-10-30T13:01:51.279Z"
   },
   {
    "duration": 7,
    "start_time": "2021-10-30T13:01:51.307Z"
   },
   {
    "duration": 17,
    "start_time": "2021-10-30T13:01:51.316Z"
   },
   {
    "duration": 7,
    "start_time": "2021-10-30T13:01:51.335Z"
   },
   {
    "duration": 10,
    "start_time": "2021-10-30T13:01:51.344Z"
   },
   {
    "duration": 8,
    "start_time": "2021-10-30T13:01:51.355Z"
   },
   {
    "duration": 6,
    "start_time": "2021-10-30T13:01:51.365Z"
   },
   {
    "duration": 34,
    "start_time": "2021-10-30T13:01:51.372Z"
   },
   {
    "duration": 6,
    "start_time": "2021-10-30T13:01:51.408Z"
   },
   {
    "duration": 8,
    "start_time": "2021-10-30T13:01:51.416Z"
   },
   {
    "duration": 10,
    "start_time": "2021-10-30T13:01:51.426Z"
   },
   {
    "duration": 11,
    "start_time": "2021-10-30T13:01:51.438Z"
   },
   {
    "duration": 14,
    "start_time": "2021-10-30T13:01:51.451Z"
   },
   {
    "duration": 12,
    "start_time": "2021-10-30T13:01:51.466Z"
   },
   {
    "duration": 11,
    "start_time": "2021-10-30T13:01:51.510Z"
   },
   {
    "duration": 10,
    "start_time": "2021-10-30T13:01:51.524Z"
   },
   {
    "duration": 13,
    "start_time": "2021-10-30T13:01:51.535Z"
   },
   {
    "duration": 10,
    "start_time": "2021-10-30T13:01:51.550Z"
   },
   {
    "duration": 238,
    "start_time": "2021-10-30T13:01:51.562Z"
   },
   {
    "duration": 7,
    "start_time": "2021-10-30T13:01:51.806Z"
   },
   {
    "duration": 169,
    "start_time": "2021-10-30T13:01:51.815Z"
   },
   {
    "duration": 29,
    "start_time": "2021-10-30T13:01:51.986Z"
   },
   {
    "duration": 16,
    "start_time": "2021-10-30T13:01:52.017Z"
   },
   {
    "duration": 10,
    "start_time": "2021-10-30T13:01:52.035Z"
   },
   {
    "duration": 360,
    "start_time": "2021-10-30T13:01:52.047Z"
   },
   {
    "duration": 341,
    "start_time": "2021-10-30T13:01:52.409Z"
   },
   {
    "duration": 6,
    "start_time": "2021-10-30T13:01:52.752Z"
   },
   {
    "duration": 345,
    "start_time": "2021-10-30T13:01:52.760Z"
   },
   {
    "duration": 7,
    "start_time": "2021-10-30T13:01:53.107Z"
   },
   {
    "duration": 14,
    "start_time": "2021-10-30T13:01:53.115Z"
   },
   {
    "duration": 15,
    "start_time": "2021-10-30T13:01:53.130Z"
   },
   {
    "duration": 260,
    "start_time": "2021-10-30T13:01:53.146Z"
   },
   {
    "duration": 13,
    "start_time": "2021-10-30T13:01:53.408Z"
   },
   {
    "duration": 355,
    "start_time": "2021-10-30T13:01:53.423Z"
   },
   {
    "duration": 134,
    "start_time": "2021-10-30T13:01:53.779Z"
   },
   {
    "duration": 14,
    "start_time": "2021-10-30T13:01:53.915Z"
   },
   {
    "duration": 342,
    "start_time": "2021-10-30T13:01:53.931Z"
   },
   {
    "duration": 4,
    "start_time": "2021-10-30T13:01:54.275Z"
   },
   {
    "duration": 411,
    "start_time": "2021-10-30T13:01:54.281Z"
   },
   {
    "duration": 380,
    "start_time": "2021-10-30T13:01:54.694Z"
   },
   {
    "duration": 5,
    "start_time": "2021-10-30T13:01:55.077Z"
   },
   {
    "duration": 137,
    "start_time": "2021-10-30T13:01:55.084Z"
   },
   {
    "duration": 7,
    "start_time": "2021-10-30T13:01:55.223Z"
   },
   {
    "duration": 19,
    "start_time": "2021-10-30T13:01:55.232Z"
   },
   {
    "duration": 15,
    "start_time": "2021-10-30T13:01:55.253Z"
   },
   {
    "duration": 18,
    "start_time": "2021-10-30T13:01:55.269Z"
   },
   {
    "duration": 21,
    "start_time": "2021-10-30T13:01:55.288Z"
   },
   {
    "duration": 14,
    "start_time": "2021-10-30T13:01:55.311Z"
   },
   {
    "duration": 20,
    "start_time": "2021-10-30T13:01:55.326Z"
   },
   {
    "duration": 10,
    "start_time": "2021-10-30T13:01:55.348Z"
   },
   {
    "duration": 15,
    "start_time": "2021-10-30T13:01:55.360Z"
   },
   {
    "duration": 1130,
    "start_time": "2021-10-30T16:04:57.833Z"
   },
   {
    "duration": 25,
    "start_time": "2021-10-30T16:04:58.965Z"
   },
   {
    "duration": 11,
    "start_time": "2021-10-30T16:04:58.992Z"
   },
   {
    "duration": 39,
    "start_time": "2021-10-30T16:04:59.005Z"
   },
   {
    "duration": 9,
    "start_time": "2021-10-30T16:04:59.046Z"
   },
   {
    "duration": 8,
    "start_time": "2021-10-30T16:04:59.057Z"
   },
   {
    "duration": 9,
    "start_time": "2021-10-30T16:04:59.067Z"
   },
   {
    "duration": 7,
    "start_time": "2021-10-30T16:04:59.079Z"
   },
   {
    "duration": 12,
    "start_time": "2021-10-30T16:04:59.088Z"
   },
   {
    "duration": 7,
    "start_time": "2021-10-30T16:04:59.102Z"
   },
   {
    "duration": 48,
    "start_time": "2021-10-30T16:04:59.110Z"
   },
   {
    "duration": 11,
    "start_time": "2021-10-30T16:04:59.161Z"
   },
   {
    "duration": 9,
    "start_time": "2021-10-30T16:04:59.173Z"
   },
   {
    "duration": 9,
    "start_time": "2021-10-30T16:04:59.184Z"
   },
   {
    "duration": 19,
    "start_time": "2021-10-30T16:04:59.194Z"
   },
   {
    "duration": 9,
    "start_time": "2021-10-30T16:04:59.215Z"
   },
   {
    "duration": 6,
    "start_time": "2021-10-30T16:04:59.226Z"
   },
   {
    "duration": 7,
    "start_time": "2021-10-30T16:04:59.234Z"
   },
   {
    "duration": 7,
    "start_time": "2021-10-30T16:04:59.244Z"
   },
   {
    "duration": 8,
    "start_time": "2021-10-30T16:04:59.252Z"
   },
   {
    "duration": 7,
    "start_time": "2021-10-30T16:04:59.261Z"
   },
   {
    "duration": 9,
    "start_time": "2021-10-30T16:04:59.269Z"
   },
   {
    "duration": 5,
    "start_time": "2021-10-30T16:04:59.281Z"
   },
   {
    "duration": 6,
    "start_time": "2021-10-30T16:04:59.288Z"
   },
   {
    "duration": 15,
    "start_time": "2021-10-30T16:04:59.295Z"
   },
   {
    "duration": 40,
    "start_time": "2021-10-30T16:04:59.312Z"
   },
   {
    "duration": 10,
    "start_time": "2021-10-30T16:04:59.354Z"
   },
   {
    "duration": 19,
    "start_time": "2021-10-30T16:04:59.365Z"
   },
   {
    "duration": 222,
    "start_time": "2021-10-30T16:04:59.385Z"
   },
   {
    "duration": 7,
    "start_time": "2021-10-30T16:04:59.608Z"
   },
   {
    "duration": 165,
    "start_time": "2021-10-30T16:04:59.617Z"
   },
   {
    "duration": 17,
    "start_time": "2021-10-30T16:04:59.784Z"
   },
   {
    "duration": 19,
    "start_time": "2021-10-30T16:04:59.802Z"
   },
   {
    "duration": 18,
    "start_time": "2021-10-30T16:04:59.823Z"
   },
   {
    "duration": 359,
    "start_time": "2021-10-30T16:04:59.843Z"
   },
   {
    "duration": 343,
    "start_time": "2021-10-30T16:05:00.204Z"
   },
   {
    "duration": 6,
    "start_time": "2021-10-30T16:05:00.549Z"
   },
   {
    "duration": 330,
    "start_time": "2021-10-30T16:05:00.557Z"
   },
   {
    "duration": 7,
    "start_time": "2021-10-30T16:05:00.888Z"
   },
   {
    "duration": 17,
    "start_time": "2021-10-30T16:05:00.896Z"
   },
   {
    "duration": 19,
    "start_time": "2021-10-30T16:05:00.915Z"
   },
   {
    "duration": 251,
    "start_time": "2021-10-30T16:05:00.936Z"
   },
   {
    "duration": 13,
    "start_time": "2021-10-30T16:05:01.189Z"
   },
   {
    "duration": 372,
    "start_time": "2021-10-30T16:05:01.204Z"
   },
   {
    "duration": 118,
    "start_time": "2021-10-30T16:05:01.578Z"
   },
   {
    "duration": 13,
    "start_time": "2021-10-30T16:05:01.698Z"
   },
   {
    "duration": 392,
    "start_time": "2021-10-30T16:05:01.712Z"
   },
   {
    "duration": 5,
    "start_time": "2021-10-30T16:05:02.105Z"
   },
   {
    "duration": 416,
    "start_time": "2021-10-30T16:05:02.111Z"
   },
   {
    "duration": 401,
    "start_time": "2021-10-30T16:05:02.528Z"
   },
   {
    "duration": 5,
    "start_time": "2021-10-30T16:05:02.930Z"
   },
   {
    "duration": 126,
    "start_time": "2021-10-30T16:05:02.945Z"
   },
   {
    "duration": 7,
    "start_time": "2021-10-30T16:05:03.072Z"
   },
   {
    "duration": 12,
    "start_time": "2021-10-30T16:05:03.081Z"
   },
   {
    "duration": 4,
    "start_time": "2021-10-30T16:05:03.095Z"
   },
   {
    "duration": 12,
    "start_time": "2021-10-30T16:05:03.101Z"
   },
   {
    "duration": 34,
    "start_time": "2021-10-30T16:05:03.114Z"
   },
   {
    "duration": 8,
    "start_time": "2021-10-30T16:05:03.149Z"
   },
   {
    "duration": 12,
    "start_time": "2021-10-30T16:05:03.159Z"
   },
   {
    "duration": 9,
    "start_time": "2021-10-30T16:05:03.172Z"
   },
   {
    "duration": 8,
    "start_time": "2021-10-30T16:05:03.183Z"
   },
   {
    "duration": 9,
    "start_time": "2021-10-30T16:16:20.668Z"
   },
   {
    "duration": 8,
    "start_time": "2021-10-30T16:16:50.547Z"
   },
   {
    "duration": 12,
    "start_time": "2021-10-30T16:17:09.460Z"
   },
   {
    "duration": 4,
    "start_time": "2021-10-30T16:17:48.791Z"
   },
   {
    "duration": 346,
    "start_time": "2021-10-30T16:18:17.355Z"
   },
   {
    "duration": 14,
    "start_time": "2021-10-30T16:19:02.423Z"
   },
   {
    "duration": 15,
    "start_time": "2021-10-30T16:20:33.764Z"
   },
   {
    "duration": 17,
    "start_time": "2021-10-30T16:21:04.565Z"
   },
   {
    "duration": 15,
    "start_time": "2021-10-30T16:21:43.364Z"
   },
   {
    "duration": 484,
    "start_time": "2021-10-30T16:22:35.054Z"
   },
   {
    "duration": 273,
    "start_time": "2021-10-30T16:31:25.334Z"
   },
   {
    "duration": 451,
    "start_time": "2021-10-30T16:32:25.182Z"
   },
   {
    "duration": 12,
    "start_time": "2021-10-30T16:32:43.998Z"
   },
   {
    "duration": 848,
    "start_time": "2021-10-30T16:34:03.650Z"
   },
   {
    "duration": 275,
    "start_time": "2021-10-30T16:34:57.854Z"
   },
   {
    "duration": 259,
    "start_time": "2021-10-30T16:38:03.107Z"
   },
   {
    "duration": 260,
    "start_time": "2021-10-30T16:38:24.367Z"
   },
   {
    "duration": 246,
    "start_time": "2021-10-30T16:38:46.787Z"
   },
   {
    "duration": 631,
    "start_time": "2021-10-30T16:39:17.123Z"
   },
   {
    "duration": 12,
    "start_time": "2021-10-30T16:41:56.355Z"
   },
   {
    "duration": 282,
    "start_time": "2021-10-30T16:42:34.199Z"
   },
   {
    "duration": 15,
    "start_time": "2021-10-30T16:42:47.171Z"
   },
   {
    "duration": 16,
    "start_time": "2021-10-30T16:43:00.231Z"
   },
   {
    "duration": 14,
    "start_time": "2021-10-30T16:43:38.291Z"
   },
   {
    "duration": 15,
    "start_time": "2021-10-30T16:44:29.156Z"
   },
   {
    "duration": 15,
    "start_time": "2021-10-30T16:44:51.600Z"
   },
   {
    "duration": 15,
    "start_time": "2021-10-30T16:45:04.247Z"
   },
   {
    "duration": 11,
    "start_time": "2021-10-30T16:45:18.020Z"
   },
   {
    "duration": 360,
    "start_time": "2021-10-30T16:45:26.152Z"
   },
   {
    "duration": 14,
    "start_time": "2021-10-30T16:45:36.124Z"
   },
   {
    "duration": 8,
    "start_time": "2021-10-30T16:55:14.105Z"
   },
   {
    "duration": 13,
    "start_time": "2021-10-30T16:56:32.353Z"
   },
   {
    "duration": 14,
    "start_time": "2021-10-30T16:56:45.345Z"
   },
   {
    "duration": 9,
    "start_time": "2021-10-30T16:57:24.326Z"
   },
   {
    "duration": 11,
    "start_time": "2021-10-30T16:58:25.936Z"
   },
   {
    "duration": 11,
    "start_time": "2021-10-30T16:59:29.902Z"
   },
   {
    "duration": 11,
    "start_time": "2021-10-30T16:59:34.346Z"
   },
   {
    "duration": 9,
    "start_time": "2021-10-30T16:59:45.322Z"
   },
   {
    "duration": 10,
    "start_time": "2021-10-30T17:00:07.874Z"
   },
   {
    "duration": 9,
    "start_time": "2021-10-30T17:00:31.726Z"
   },
   {
    "duration": 253,
    "start_time": "2021-10-30T17:04:17.446Z"
   },
   {
    "duration": 255,
    "start_time": "2021-10-30T17:04:34.182Z"
   },
   {
    "duration": 295,
    "start_time": "2021-10-30T17:04:54.414Z"
   },
   {
    "duration": 244,
    "start_time": "2021-10-30T17:05:01.499Z"
   },
   {
    "duration": 250,
    "start_time": "2021-10-30T17:05:52.731Z"
   },
   {
    "duration": 1135,
    "start_time": "2021-10-30T17:20:47.921Z"
   },
   {
    "duration": 25,
    "start_time": "2021-10-30T17:20:49.058Z"
   },
   {
    "duration": 15,
    "start_time": "2021-10-30T17:20:49.085Z"
   },
   {
    "duration": 55,
    "start_time": "2021-10-30T17:20:49.102Z"
   },
   {
    "duration": 18,
    "start_time": "2021-10-30T17:20:49.158Z"
   },
   {
    "duration": 24,
    "start_time": "2021-10-30T17:20:49.178Z"
   },
   {
    "duration": 29,
    "start_time": "2021-10-30T17:20:49.203Z"
   },
   {
    "duration": 24,
    "start_time": "2021-10-30T17:20:49.235Z"
   },
   {
    "duration": 17,
    "start_time": "2021-10-30T17:20:49.262Z"
   },
   {
    "duration": 18,
    "start_time": "2021-10-30T17:20:49.281Z"
   },
   {
    "duration": 25,
    "start_time": "2021-10-30T17:20:49.301Z"
   },
   {
    "duration": 25,
    "start_time": "2021-10-30T17:20:49.327Z"
   },
   {
    "duration": 30,
    "start_time": "2021-10-30T17:20:49.354Z"
   },
   {
    "duration": 23,
    "start_time": "2021-10-30T17:20:49.386Z"
   },
   {
    "duration": 17,
    "start_time": "2021-10-30T17:20:49.411Z"
   },
   {
    "duration": 25,
    "start_time": "2021-10-30T17:20:49.430Z"
   },
   {
    "duration": 16,
    "start_time": "2021-10-30T17:20:49.456Z"
   },
   {
    "duration": 24,
    "start_time": "2021-10-30T17:20:49.473Z"
   },
   {
    "duration": 20,
    "start_time": "2021-10-30T17:20:49.499Z"
   },
   {
    "duration": 15,
    "start_time": "2021-10-30T17:20:49.521Z"
   },
   {
    "duration": 11,
    "start_time": "2021-10-30T17:20:49.537Z"
   },
   {
    "duration": 14,
    "start_time": "2021-10-30T17:20:49.550Z"
   },
   {
    "duration": 23,
    "start_time": "2021-10-30T17:20:49.568Z"
   },
   {
    "duration": 28,
    "start_time": "2021-10-30T17:20:49.594Z"
   },
   {
    "duration": 27,
    "start_time": "2021-10-30T17:20:49.623Z"
   },
   {
    "duration": 19,
    "start_time": "2021-10-30T17:20:49.652Z"
   },
   {
    "duration": 457,
    "start_time": "2021-10-30T17:20:49.673Z"
   },
   {
    "duration": 10,
    "start_time": "2021-10-30T17:20:50.132Z"
   },
   {
    "duration": 36,
    "start_time": "2021-10-30T17:20:50.144Z"
   },
   {
    "duration": 215,
    "start_time": "2021-10-30T17:20:50.182Z"
   },
   {
    "duration": 7,
    "start_time": "2021-10-30T17:20:50.399Z"
   },
   {
    "duration": 162,
    "start_time": "2021-10-30T17:20:50.407Z"
   },
   {
    "duration": 26,
    "start_time": "2021-10-30T17:20:50.571Z"
   },
   {
    "duration": 16,
    "start_time": "2021-10-30T17:20:50.599Z"
   },
   {
    "duration": 18,
    "start_time": "2021-10-30T17:20:50.617Z"
   },
   {
    "duration": 349,
    "start_time": "2021-10-30T17:20:50.636Z"
   },
   {
    "duration": 338,
    "start_time": "2021-10-30T17:20:50.987Z"
   },
   {
    "duration": 7,
    "start_time": "2021-10-30T17:20:51.327Z"
   },
   {
    "duration": 394,
    "start_time": "2021-10-30T17:20:51.336Z"
   },
   {
    "duration": 11,
    "start_time": "2021-10-30T17:20:51.733Z"
   },
   {
    "duration": 10,
    "start_time": "2021-10-30T17:20:51.746Z"
   },
   {
    "duration": 10,
    "start_time": "2021-10-30T17:20:51.758Z"
   },
   {
    "duration": 318,
    "start_time": "2021-10-30T17:20:51.770Z"
   },
   {
    "duration": 15,
    "start_time": "2021-10-30T17:20:52.090Z"
   },
   {
    "duration": 380,
    "start_time": "2021-10-30T17:20:52.106Z"
   },
   {
    "duration": 112,
    "start_time": "2021-10-30T17:20:52.488Z"
   },
   {
    "duration": 14,
    "start_time": "2021-10-30T17:20:52.602Z"
   },
   {
    "duration": 382,
    "start_time": "2021-10-30T17:20:52.618Z"
   },
   {
    "duration": 4,
    "start_time": "2021-10-30T17:20:53.002Z"
   },
   {
    "duration": 375,
    "start_time": "2021-10-30T17:20:53.008Z"
   },
   {
    "duration": 338,
    "start_time": "2021-10-30T17:20:53.384Z"
   },
   {
    "duration": 5,
    "start_time": "2021-10-30T17:20:53.724Z"
   },
   {
    "duration": 121,
    "start_time": "2021-10-30T17:20:53.731Z"
   },
   {
    "duration": 9,
    "start_time": "2021-10-30T17:20:53.854Z"
   },
   {
    "duration": 15,
    "start_time": "2021-10-30T17:20:53.865Z"
   },
   {
    "duration": 6,
    "start_time": "2021-10-30T17:20:53.882Z"
   },
   {
    "duration": 13,
    "start_time": "2021-10-30T17:20:53.889Z"
   },
   {
    "duration": 42,
    "start_time": "2021-10-30T17:20:53.903Z"
   },
   {
    "duration": 8,
    "start_time": "2021-10-30T17:20:53.947Z"
   },
   {
    "duration": 10,
    "start_time": "2021-10-30T17:20:53.957Z"
   },
   {
    "duration": 9,
    "start_time": "2021-10-30T17:20:53.968Z"
   },
   {
    "duration": 8,
    "start_time": "2021-10-30T17:20:53.978Z"
   },
   {
    "duration": 329,
    "start_time": "2021-10-30T17:44:23.525Z"
   },
   {
    "duration": 7049,
    "start_time": "2021-10-30T17:45:00.537Z"
   },
   {
    "duration": 6,
    "start_time": "2021-10-30T17:48:07.522Z"
   },
   {
    "duration": 6,
    "start_time": "2021-10-30T17:48:12.638Z"
   },
   {
    "duration": 5,
    "start_time": "2021-10-30T17:49:05.910Z"
   },
   {
    "duration": 6,
    "start_time": "2021-10-30T17:49:08.997Z"
   },
   {
    "duration": 6,
    "start_time": "2021-10-30T17:49:11.378Z"
   },
   {
    "duration": 900,
    "start_time": "2021-10-30T18:34:12.313Z"
   },
   {
    "duration": 639,
    "start_time": "2021-10-30T18:34:30.868Z"
   },
   {
    "duration": 645,
    "start_time": "2021-10-30T18:34:52.597Z"
   },
   {
    "duration": 659,
    "start_time": "2021-10-30T18:35:02.617Z"
   },
   {
    "duration": 11,
    "start_time": "2021-10-30T18:41:26.738Z"
   },
   {
    "duration": 10,
    "start_time": "2021-10-30T18:41:46.573Z"
   },
   {
    "duration": 6,
    "start_time": "2021-10-30T18:42:20.633Z"
   },
   {
    "duration": 8,
    "start_time": "2021-10-30T18:42:25.015Z"
   },
   {
    "duration": 10,
    "start_time": "2021-10-30T18:42:37.233Z"
   },
   {
    "duration": 9,
    "start_time": "2021-10-30T18:42:50.630Z"
   },
   {
    "duration": 15,
    "start_time": "2021-10-30T18:52:55.895Z"
   },
   {
    "duration": 255,
    "start_time": "2021-10-30T18:53:46.146Z"
   },
   {
    "duration": 270,
    "start_time": "2021-10-30T18:57:05.380Z"
   },
   {
    "duration": 321,
    "start_time": "2021-10-30T18:57:18.672Z"
   },
   {
    "duration": 258,
    "start_time": "2021-10-30T18:57:40.952Z"
   },
   {
    "duration": 1202,
    "start_time": "2021-10-30T18:57:58.492Z"
   },
   {
    "duration": 26,
    "start_time": "2021-10-30T18:57:59.696Z"
   },
   {
    "duration": 7,
    "start_time": "2021-10-30T18:57:59.724Z"
   },
   {
    "duration": 54,
    "start_time": "2021-10-30T18:57:59.732Z"
   },
   {
    "duration": 20,
    "start_time": "2021-10-30T18:57:59.788Z"
   },
   {
    "duration": 18,
    "start_time": "2021-10-30T18:57:59.809Z"
   },
   {
    "duration": 18,
    "start_time": "2021-10-30T18:57:59.829Z"
   },
   {
    "duration": 12,
    "start_time": "2021-10-30T18:57:59.851Z"
   },
   {
    "duration": 28,
    "start_time": "2021-10-30T18:57:59.866Z"
   },
   {
    "duration": 6,
    "start_time": "2021-10-30T18:57:59.895Z"
   },
   {
    "duration": 23,
    "start_time": "2021-10-30T18:57:59.902Z"
   },
   {
    "duration": 13,
    "start_time": "2021-10-30T18:57:59.927Z"
   },
   {
    "duration": 24,
    "start_time": "2021-10-30T18:57:59.941Z"
   },
   {
    "duration": 20,
    "start_time": "2021-10-30T18:57:59.967Z"
   },
   {
    "duration": 13,
    "start_time": "2021-10-30T18:57:59.989Z"
   },
   {
    "duration": 13,
    "start_time": "2021-10-30T18:58:00.004Z"
   },
   {
    "duration": 21,
    "start_time": "2021-10-30T18:58:00.019Z"
   },
   {
    "duration": 19,
    "start_time": "2021-10-30T18:58:00.042Z"
   },
   {
    "duration": 17,
    "start_time": "2021-10-30T18:58:00.063Z"
   },
   {
    "duration": 27,
    "start_time": "2021-10-30T18:58:00.082Z"
   },
   {
    "duration": 19,
    "start_time": "2021-10-30T18:58:00.110Z"
   },
   {
    "duration": 19,
    "start_time": "2021-10-30T18:58:00.131Z"
   },
   {
    "duration": 5,
    "start_time": "2021-10-30T18:58:00.156Z"
   },
   {
    "duration": 400,
    "start_time": "2021-10-30T18:58:00.164Z"
   },
   {
    "duration": 194,
    "start_time": "2021-10-30T18:58:00.373Z"
   },
   {
    "duration": 192,
    "start_time": "2021-10-30T18:58:00.376Z"
   },
   {
    "duration": 189,
    "start_time": "2021-10-30T18:58:00.380Z"
   },
   {
    "duration": 172,
    "start_time": "2021-10-30T18:58:00.399Z"
   },
   {
    "duration": 156,
    "start_time": "2021-10-30T18:58:00.416Z"
   },
   {
    "duration": 140,
    "start_time": "2021-10-30T18:58:00.434Z"
   },
   {
    "duration": 127,
    "start_time": "2021-10-30T18:58:00.448Z"
   },
   {
    "duration": 114,
    "start_time": "2021-10-30T18:58:00.462Z"
   },
   {
    "duration": 100,
    "start_time": "2021-10-30T18:58:00.477Z"
   },
   {
    "duration": 96,
    "start_time": "2021-10-30T18:58:00.482Z"
   },
   {
    "duration": 79,
    "start_time": "2021-10-30T18:58:00.499Z"
   },
   {
    "duration": 62,
    "start_time": "2021-10-30T18:58:00.517Z"
   },
   {
    "duration": 46,
    "start_time": "2021-10-30T18:58:00.534Z"
   },
   {
    "duration": 32,
    "start_time": "2021-10-30T18:58:00.549Z"
   },
   {
    "duration": 16,
    "start_time": "2021-10-30T18:58:00.566Z"
   },
   {
    "duration": 1,
    "start_time": "2021-10-30T18:58:00.582Z"
   },
   {
    "duration": -15,
    "start_time": "2021-10-30T18:58:00.600Z"
   },
   {
    "duration": -19,
    "start_time": "2021-10-30T18:58:00.605Z"
   },
   {
    "duration": -24,
    "start_time": "2021-10-30T18:58:00.611Z"
   },
   {
    "duration": -28,
    "start_time": "2021-10-30T18:58:00.616Z"
   },
   {
    "duration": -33,
    "start_time": "2021-10-30T18:58:00.622Z"
   },
   {
    "duration": -37,
    "start_time": "2021-10-30T18:58:00.627Z"
   },
   {
    "duration": -41,
    "start_time": "2021-10-30T18:58:00.632Z"
   },
   {
    "duration": -46,
    "start_time": "2021-10-30T18:58:00.638Z"
   },
   {
    "duration": -49,
    "start_time": "2021-10-30T18:58:00.642Z"
   },
   {
    "duration": -52,
    "start_time": "2021-10-30T18:58:00.646Z"
   },
   {
    "duration": -56,
    "start_time": "2021-10-30T18:58:00.651Z"
   },
   {
    "duration": -58,
    "start_time": "2021-10-30T18:58:00.655Z"
   },
   {
    "duration": -61,
    "start_time": "2021-10-30T18:58:00.659Z"
   },
   {
    "duration": -64,
    "start_time": "2021-10-30T18:58:00.663Z"
   },
   {
    "duration": -67,
    "start_time": "2021-10-30T18:58:00.667Z"
   },
   {
    "duration": -70,
    "start_time": "2021-10-30T18:58:00.671Z"
   },
   {
    "duration": -72,
    "start_time": "2021-10-30T18:58:00.674Z"
   },
   {
    "duration": -75,
    "start_time": "2021-10-30T18:58:00.678Z"
   },
   {
    "duration": -77,
    "start_time": "2021-10-30T18:58:00.681Z"
   },
   {
    "duration": -79,
    "start_time": "2021-10-30T18:58:00.684Z"
   },
   {
    "duration": -82,
    "start_time": "2021-10-30T18:58:00.688Z"
   },
   {
    "duration": -48,
    "start_time": "2021-10-30T18:58:00.691Z"
   },
   {
    "duration": -49,
    "start_time": "2021-10-30T18:58:00.694Z"
   },
   {
    "duration": -64,
    "start_time": "2021-10-30T18:58:00.709Z"
   },
   {
    "duration": 257,
    "start_time": "2021-10-30T18:58:27.804Z"
   },
   {
    "duration": 8,
    "start_time": "2021-10-30T18:58:34.544Z"
   },
   {
    "duration": 17,
    "start_time": "2021-10-30T18:58:57.724Z"
   },
   {
    "duration": 17,
    "start_time": "2021-10-30T18:59:12.908Z"
   },
   {
    "duration": 5,
    "start_time": "2021-10-30T19:02:53.593Z"
   },
   {
    "duration": 8,
    "start_time": "2021-10-30T19:04:31.153Z"
   },
   {
    "duration": 7,
    "start_time": "2021-10-30T19:04:47.429Z"
   },
   {
    "duration": 8,
    "start_time": "2021-10-30T19:07:21.873Z"
   },
   {
    "duration": 9,
    "start_time": "2021-10-30T19:07:23.945Z"
   },
   {
    "duration": 7161,
    "start_time": "2021-10-30T19:07:26.037Z"
   },
   {
    "duration": 10,
    "start_time": "2021-10-30T19:09:06.729Z"
   },
   {
    "duration": 6925,
    "start_time": "2021-10-30T19:09:08.469Z"
   },
   {
    "duration": 601,
    "start_time": "2021-10-30T19:09:14.796Z"
   },
   {
    "duration": 3,
    "start_time": "2021-10-30T19:09:31.414Z"
   },
   {
    "duration": 22,
    "start_time": "2021-10-30T19:09:31.806Z"
   },
   {
    "duration": 6,
    "start_time": "2021-10-30T19:09:31.985Z"
   },
   {
    "duration": 37,
    "start_time": "2021-10-30T19:09:32.353Z"
   },
   {
    "duration": 6,
    "start_time": "2021-10-30T19:09:32.518Z"
   },
   {
    "duration": 8,
    "start_time": "2021-10-30T19:09:32.713Z"
   },
   {
    "duration": 7,
    "start_time": "2021-10-30T19:09:32.898Z"
   },
   {
    "duration": 7,
    "start_time": "2021-10-30T19:09:33.057Z"
   },
   {
    "duration": 16,
    "start_time": "2021-10-30T19:09:33.453Z"
   },
   {
    "duration": 6,
    "start_time": "2021-10-30T19:09:33.617Z"
   },
   {
    "duration": 16,
    "start_time": "2021-10-30T19:09:34.010Z"
   },
   {
    "duration": 7,
    "start_time": "2021-10-30T19:09:34.209Z"
   },
   {
    "duration": 8,
    "start_time": "2021-10-30T19:09:34.389Z"
   },
   {
    "duration": 8,
    "start_time": "2021-10-30T19:09:34.585Z"
   },
   {
    "duration": 6,
    "start_time": "2021-10-30T19:09:34.814Z"
   },
   {
    "duration": 9,
    "start_time": "2021-10-30T19:09:34.989Z"
   },
   {
    "duration": 5,
    "start_time": "2021-10-30T19:09:35.185Z"
   },
   {
    "duration": 7,
    "start_time": "2021-10-30T19:09:35.789Z"
   },
   {
    "duration": 6,
    "start_time": "2021-10-30T19:09:35.977Z"
   },
   {
    "duration": 6,
    "start_time": "2021-10-30T19:09:36.210Z"
   },
   {
    "duration": 6,
    "start_time": "2021-10-30T19:09:36.414Z"
   },
   {
    "duration": 8,
    "start_time": "2021-10-30T19:09:36.573Z"
   },
   {
    "duration": 7,
    "start_time": "2021-10-30T19:09:36.785Z"
   },
   {
    "duration": 7,
    "start_time": "2021-10-30T19:09:37.006Z"
   },
   {
    "duration": 6787,
    "start_time": "2021-10-30T19:09:37.205Z"
   },
   {
    "duration": 624,
    "start_time": "2021-10-30T19:09:43.370Z"
   },
   {
    "duration": 621,
    "start_time": "2021-10-30T19:09:43.374Z"
   },
   {
    "duration": 6,
    "start_time": "2021-10-30T19:10:08.242Z"
   },
   {
    "duration": 9,
    "start_time": "2021-10-30T19:10:11.354Z"
   },
   {
    "duration": 283,
    "start_time": "2021-10-30T19:11:00.018Z"
   },
   {
    "duration": 262,
    "start_time": "2021-10-30T19:11:10.058Z"
   },
   {
    "duration": 6,
    "start_time": "2021-10-30T19:11:16.630Z"
   },
   {
    "duration": 6,
    "start_time": "2021-10-30T19:11:58.322Z"
   },
   {
    "duration": 8,
    "start_time": "2021-10-30T19:12:02.266Z"
   },
   {
    "duration": 7,
    "start_time": "2021-10-30T19:12:03.150Z"
   },
   {
    "duration": 11,
    "start_time": "2021-10-30T19:15:18.102Z"
   },
   {
    "duration": 5,
    "start_time": "2021-10-30T19:15:35.815Z"
   },
   {
    "duration": 9,
    "start_time": "2021-10-30T19:15:52.363Z"
   },
   {
    "duration": 6,
    "start_time": "2021-10-30T19:15:53.210Z"
   },
   {
    "duration": 9,
    "start_time": "2021-10-30T19:16:08.306Z"
   },
   {
    "duration": 11,
    "start_time": "2021-10-30T19:16:22.094Z"
   },
   {
    "duration": 14,
    "start_time": "2021-10-30T19:18:13.327Z"
   },
   {
    "duration": 10,
    "start_time": "2021-10-30T19:22:07.803Z"
   },
   {
    "duration": 261,
    "start_time": "2021-10-30T19:22:17.855Z"
   },
   {
    "duration": 11,
    "start_time": "2021-10-30T19:22:48.023Z"
   },
   {
    "duration": 12,
    "start_time": "2021-10-30T19:31:48.332Z"
   },
   {
    "duration": 12,
    "start_time": "2021-10-30T19:31:51.840Z"
   },
   {
    "duration": 459,
    "start_time": "2021-10-30T19:31:53.244Z"
   },
   {
    "duration": 278,
    "start_time": "2021-10-30T19:32:50.557Z"
   },
   {
    "duration": 27,
    "start_time": "2021-10-30T19:33:10.541Z"
   },
   {
    "duration": 357,
    "start_time": "2021-10-30T19:33:38.749Z"
   },
   {
    "duration": 27,
    "start_time": "2021-10-30T19:34:02.741Z"
   },
   {
    "duration": 20,
    "start_time": "2021-10-30T19:35:06.223Z"
   },
   {
    "duration": 21,
    "start_time": "2021-10-30T19:35:24.477Z"
   },
   {
    "duration": 22,
    "start_time": "2021-10-30T19:35:43.121Z"
   },
   {
    "duration": 12,
    "start_time": "2021-10-30T19:44:42.551Z"
   },
   {
    "duration": 9,
    "start_time": "2021-10-30T19:46:03.587Z"
   },
   {
    "duration": 7,
    "start_time": "2021-10-30T19:47:52.743Z"
   },
   {
    "duration": 7,
    "start_time": "2021-10-30T19:48:08.635Z"
   },
   {
    "duration": 90,
    "start_time": "2021-10-30T19:48:51.679Z"
   },
   {
    "duration": 522,
    "start_time": "2021-10-30T19:49:02.667Z"
   },
   {
    "duration": 9,
    "start_time": "2021-10-30T19:50:01.856Z"
   },
   {
    "duration": 6,
    "start_time": "2021-10-30T19:50:29.084Z"
   },
   {
    "duration": 6,
    "start_time": "2021-10-30T19:50:59.336Z"
   },
   {
    "duration": 274,
    "start_time": "2021-10-30T19:51:46.564Z"
   },
   {
    "duration": 385,
    "start_time": "2021-10-30T19:51:51.727Z"
   },
   {
    "duration": 286,
    "start_time": "2021-10-30T19:52:52.408Z"
   },
   {
    "duration": 6,
    "start_time": "2021-10-30T19:53:02.308Z"
   },
   {
    "duration": 6,
    "start_time": "2021-10-30T19:53:41.136Z"
   },
   {
    "duration": 4,
    "start_time": "2021-10-30T20:13:52.207Z"
   },
   {
    "duration": 4,
    "start_time": "2021-10-30T20:14:21.471Z"
   },
   {
    "duration": 1187,
    "start_time": "2021-10-30T20:17:54.008Z"
   },
   {
    "duration": 27,
    "start_time": "2021-10-30T20:17:55.197Z"
   },
   {
    "duration": 8,
    "start_time": "2021-10-30T20:17:55.227Z"
   },
   {
    "duration": 45,
    "start_time": "2021-10-30T20:17:55.237Z"
   },
   {
    "duration": 16,
    "start_time": "2021-10-30T20:17:55.284Z"
   },
   {
    "duration": 12,
    "start_time": "2021-10-30T20:17:55.302Z"
   },
   {
    "duration": 17,
    "start_time": "2021-10-30T20:17:55.316Z"
   },
   {
    "duration": 6,
    "start_time": "2021-10-30T20:17:55.336Z"
   },
   {
    "duration": 21,
    "start_time": "2021-10-30T20:17:55.345Z"
   },
   {
    "duration": 7,
    "start_time": "2021-10-30T20:17:55.368Z"
   },
   {
    "duration": 17,
    "start_time": "2021-10-30T20:17:55.377Z"
   },
   {
    "duration": 11,
    "start_time": "2021-10-30T20:17:55.395Z"
   },
   {
    "duration": 11,
    "start_time": "2021-10-30T20:17:55.408Z"
   },
   {
    "duration": 11,
    "start_time": "2021-10-30T20:17:55.421Z"
   },
   {
    "duration": 14,
    "start_time": "2021-10-30T20:17:55.433Z"
   },
   {
    "duration": 8,
    "start_time": "2021-10-30T20:17:55.449Z"
   },
   {
    "duration": 8,
    "start_time": "2021-10-30T20:17:55.459Z"
   },
   {
    "duration": 7,
    "start_time": "2021-10-30T20:17:55.469Z"
   },
   {
    "duration": 7,
    "start_time": "2021-10-30T20:17:55.478Z"
   },
   {
    "duration": 6,
    "start_time": "2021-10-30T20:17:55.487Z"
   },
   {
    "duration": 9,
    "start_time": "2021-10-30T20:17:55.495Z"
   },
   {
    "duration": 45,
    "start_time": "2021-10-30T20:17:55.506Z"
   },
   {
    "duration": 15,
    "start_time": "2021-10-30T20:17:55.555Z"
   },
   {
    "duration": 7,
    "start_time": "2021-10-30T20:17:55.573Z"
   },
   {
    "duration": 16,
    "start_time": "2021-10-30T20:17:55.582Z"
   },
   {
    "duration": 4,
    "start_time": "2021-10-30T20:17:55.600Z"
   },
   {
    "duration": 14,
    "start_time": "2021-10-30T20:17:55.606Z"
   },
   {
    "duration": 36,
    "start_time": "2021-10-30T20:17:55.621Z"
   },
   {
    "duration": 693,
    "start_time": "2021-10-30T20:17:55.659Z"
   },
   {
    "duration": 13,
    "start_time": "2021-10-30T20:17:56.356Z"
   },
   {
    "duration": 15,
    "start_time": "2021-10-30T20:17:56.371Z"
   },
   {
    "duration": 282,
    "start_time": "2021-10-30T20:17:56.388Z"
   },
   {
    "duration": 7,
    "start_time": "2021-10-30T20:17:56.672Z"
   },
   {
    "duration": 181,
    "start_time": "2021-10-30T20:17:56.681Z"
   },
   {
    "duration": 16,
    "start_time": "2021-10-30T20:17:56.865Z"
   },
   {
    "duration": 7,
    "start_time": "2021-10-30T20:17:56.883Z"
   },
   {
    "duration": 10,
    "start_time": "2021-10-30T20:17:56.892Z"
   },
   {
    "duration": 426,
    "start_time": "2021-10-30T20:17:56.904Z"
   },
   {
    "duration": 366,
    "start_time": "2021-10-30T20:17:57.332Z"
   },
   {
    "duration": 7,
    "start_time": "2021-10-30T20:17:57.699Z"
   },
   {
    "duration": 437,
    "start_time": "2021-10-30T20:17:57.707Z"
   },
   {
    "duration": 11,
    "start_time": "2021-10-30T20:17:58.147Z"
   },
   {
    "duration": 22,
    "start_time": "2021-10-30T20:17:58.160Z"
   },
   {
    "duration": 21,
    "start_time": "2021-10-30T20:17:58.183Z"
   },
   {
    "duration": 318,
    "start_time": "2021-10-30T20:17:58.206Z"
   },
   {
    "duration": 24,
    "start_time": "2021-10-30T20:17:58.526Z"
   },
   {
    "duration": 368,
    "start_time": "2021-10-30T20:17:58.554Z"
   },
   {
    "duration": 139,
    "start_time": "2021-10-30T20:17:58.924Z"
   },
   {
    "duration": 14,
    "start_time": "2021-10-30T20:17:59.066Z"
   },
   {
    "duration": 343,
    "start_time": "2021-10-30T20:17:59.082Z"
   },
   {
    "duration": 5,
    "start_time": "2021-10-30T20:17:59.427Z"
   },
   {
    "duration": 380,
    "start_time": "2021-10-30T20:17:59.433Z"
   },
   {
    "duration": 408,
    "start_time": "2021-10-30T20:17:59.815Z"
   },
   {
    "duration": 5,
    "start_time": "2021-10-30T20:18:00.224Z"
   },
   {
    "duration": 145,
    "start_time": "2021-10-30T20:18:00.230Z"
   },
   {
    "duration": 7,
    "start_time": "2021-10-30T20:18:00.377Z"
   },
   {
    "duration": 24,
    "start_time": "2021-10-30T20:18:00.385Z"
   },
   {
    "duration": 4,
    "start_time": "2021-10-30T20:18:00.411Z"
   },
   {
    "duration": 18,
    "start_time": "2021-10-30T20:18:00.416Z"
   },
   {
    "duration": 27,
    "start_time": "2021-10-30T20:18:00.435Z"
   },
   {
    "duration": 11,
    "start_time": "2021-10-30T20:18:00.464Z"
   },
   {
    "duration": 15,
    "start_time": "2021-10-30T20:18:00.477Z"
   },
   {
    "duration": 17,
    "start_time": "2021-10-30T20:18:00.494Z"
   },
   {
    "duration": 18,
    "start_time": "2021-10-30T20:18:00.513Z"
   },
   {
    "duration": 1177,
    "start_time": "2021-10-30T20:37:57.764Z"
   },
   {
    "duration": 29,
    "start_time": "2021-10-30T20:37:58.943Z"
   },
   {
    "duration": 6,
    "start_time": "2021-10-30T20:37:58.974Z"
   },
   {
    "duration": 38,
    "start_time": "2021-10-30T20:37:58.982Z"
   },
   {
    "duration": 7,
    "start_time": "2021-10-30T20:37:59.022Z"
   },
   {
    "duration": 9,
    "start_time": "2021-10-30T20:37:59.031Z"
   },
   {
    "duration": 11,
    "start_time": "2021-10-30T20:37:59.041Z"
   },
   {
    "duration": 8,
    "start_time": "2021-10-30T20:37:59.055Z"
   },
   {
    "duration": 14,
    "start_time": "2021-10-30T20:37:59.065Z"
   },
   {
    "duration": 5,
    "start_time": "2021-10-30T20:37:59.080Z"
   },
   {
    "duration": 15,
    "start_time": "2021-10-30T20:37:59.087Z"
   },
   {
    "duration": 8,
    "start_time": "2021-10-30T20:37:59.104Z"
   },
   {
    "duration": 33,
    "start_time": "2021-10-30T20:37:59.113Z"
   },
   {
    "duration": 9,
    "start_time": "2021-10-30T20:37:59.149Z"
   },
   {
    "duration": 10,
    "start_time": "2021-10-30T20:37:59.160Z"
   },
   {
    "duration": 7,
    "start_time": "2021-10-30T20:37:59.172Z"
   },
   {
    "duration": 7,
    "start_time": "2021-10-30T20:37:59.181Z"
   },
   {
    "duration": 12,
    "start_time": "2021-10-30T20:37:59.190Z"
   },
   {
    "duration": 9,
    "start_time": "2021-10-30T20:37:59.204Z"
   },
   {
    "duration": 32,
    "start_time": "2021-10-30T20:37:59.214Z"
   },
   {
    "duration": 10,
    "start_time": "2021-10-30T20:37:59.248Z"
   },
   {
    "duration": 11,
    "start_time": "2021-10-30T20:37:59.262Z"
   },
   {
    "duration": 5,
    "start_time": "2021-10-30T20:37:59.277Z"
   },
   {
    "duration": 7,
    "start_time": "2021-10-30T20:37:59.284Z"
   },
   {
    "duration": 15,
    "start_time": "2021-10-30T20:37:59.293Z"
   },
   {
    "duration": 36,
    "start_time": "2021-10-30T20:37:59.310Z"
   },
   {
    "duration": 16,
    "start_time": "2021-10-30T20:37:59.347Z"
   },
   {
    "duration": 14,
    "start_time": "2021-10-30T20:37:59.366Z"
   },
   {
    "duration": 552,
    "start_time": "2021-10-30T20:37:59.381Z"
   },
   {
    "duration": 8,
    "start_time": "2021-10-30T20:37:59.935Z"
   },
   {
    "duration": 16,
    "start_time": "2021-10-30T20:37:59.945Z"
   },
   {
    "duration": 241,
    "start_time": "2021-10-30T20:37:59.963Z"
   },
   {
    "duration": 7,
    "start_time": "2021-10-30T20:38:00.206Z"
   },
   {
    "duration": 175,
    "start_time": "2021-10-30T20:38:00.215Z"
   },
   {
    "duration": 12,
    "start_time": "2021-10-30T20:38:00.392Z"
   },
   {
    "duration": 14,
    "start_time": "2021-10-30T20:38:00.405Z"
   },
   {
    "duration": 30,
    "start_time": "2021-10-30T20:38:00.421Z"
   },
   {
    "duration": 381,
    "start_time": "2021-10-30T20:38:00.453Z"
   },
   {
    "duration": 371,
    "start_time": "2021-10-30T20:38:00.844Z"
   },
   {
    "duration": 31,
    "start_time": "2021-10-30T20:38:01.217Z"
   },
   {
    "duration": 409,
    "start_time": "2021-10-30T20:38:01.250Z"
   },
   {
    "duration": 7,
    "start_time": "2021-10-30T20:38:01.661Z"
   },
   {
    "duration": 27,
    "start_time": "2021-10-30T20:38:01.670Z"
   },
   {
    "duration": 20,
    "start_time": "2021-10-30T20:38:01.699Z"
   },
   {
    "duration": 363,
    "start_time": "2021-10-30T20:38:01.721Z"
   },
   {
    "duration": 13,
    "start_time": "2021-10-30T20:38:02.086Z"
   },
   {
    "duration": 420,
    "start_time": "2021-10-30T20:38:02.101Z"
   },
   {
    "duration": 252,
    "start_time": "2021-10-30T20:38:02.522Z"
   },
   {
    "duration": 69,
    "start_time": "2021-10-30T20:38:02.776Z"
   },
   {
    "duration": 478,
    "start_time": "2021-10-30T20:38:02.847Z"
   },
   {
    "duration": 5,
    "start_time": "2021-10-30T20:38:03.327Z"
   },
   {
    "duration": 435,
    "start_time": "2021-10-30T20:38:03.333Z"
   },
   {
    "duration": 377,
    "start_time": "2021-10-30T20:38:03.770Z"
   },
   {
    "duration": 6,
    "start_time": "2021-10-30T20:38:04.150Z"
   },
   {
    "duration": 132,
    "start_time": "2021-10-30T20:38:04.160Z"
   },
   {
    "duration": 6,
    "start_time": "2021-10-30T20:38:04.294Z"
   },
   {
    "duration": 12,
    "start_time": "2021-10-30T20:38:04.302Z"
   },
   {
    "duration": 5,
    "start_time": "2021-10-30T20:38:04.316Z"
   },
   {
    "duration": 40,
    "start_time": "2021-10-30T20:38:04.322Z"
   },
   {
    "duration": 16,
    "start_time": "2021-10-30T20:38:04.364Z"
   },
   {
    "duration": 9,
    "start_time": "2021-10-30T20:38:04.382Z"
   },
   {
    "duration": 11,
    "start_time": "2021-10-30T20:38:04.393Z"
   },
   {
    "duration": 51,
    "start_time": "2021-10-30T20:38:04.406Z"
   },
   {
    "duration": 11,
    "start_time": "2021-10-30T20:38:04.459Z"
   },
   {
    "duration": 18,
    "start_time": "2021-10-30T20:39:08.353Z"
   },
   {
    "duration": 438,
    "start_time": "2021-10-30T20:42:22.321Z"
   },
   {
    "duration": 14,
    "start_time": "2021-10-30T20:42:44.152Z"
   },
   {
    "duration": 13,
    "start_time": "2021-10-30T20:48:59.449Z"
   },
   {
    "duration": 10,
    "start_time": "2021-10-30T20:50:47.130Z"
   },
   {
    "duration": 92,
    "start_time": "2021-10-30T20:52:29.886Z"
   },
   {
    "duration": 9,
    "start_time": "2021-10-30T20:53:06.110Z"
   },
   {
    "duration": 12,
    "start_time": "2021-10-30T20:55:46.530Z"
   },
   {
    "duration": 13,
    "start_time": "2021-10-30T20:58:49.064Z"
   },
   {
    "duration": 1244,
    "start_time": "2021-10-30T21:00:26.862Z"
   },
   {
    "duration": 26,
    "start_time": "2021-10-30T21:00:28.108Z"
   },
   {
    "duration": 10,
    "start_time": "2021-10-30T21:00:28.136Z"
   },
   {
    "duration": 39,
    "start_time": "2021-10-30T21:00:28.148Z"
   },
   {
    "duration": 7,
    "start_time": "2021-10-30T21:00:28.189Z"
   },
   {
    "duration": 9,
    "start_time": "2021-10-30T21:00:28.198Z"
   },
   {
    "duration": 9,
    "start_time": "2021-10-30T21:00:28.208Z"
   },
   {
    "duration": 7,
    "start_time": "2021-10-30T21:00:28.220Z"
   },
   {
    "duration": 12,
    "start_time": "2021-10-30T21:00:28.229Z"
   },
   {
    "duration": 6,
    "start_time": "2021-10-30T21:00:28.242Z"
   },
   {
    "duration": 19,
    "start_time": "2021-10-30T21:00:28.251Z"
   },
   {
    "duration": 12,
    "start_time": "2021-10-30T21:00:28.273Z"
   },
   {
    "duration": 10,
    "start_time": "2021-10-30T21:00:28.287Z"
   },
   {
    "duration": 15,
    "start_time": "2021-10-30T21:00:28.298Z"
   },
   {
    "duration": 6,
    "start_time": "2021-10-30T21:00:28.314Z"
   },
   {
    "duration": 10,
    "start_time": "2021-10-30T21:00:28.322Z"
   },
   {
    "duration": 7,
    "start_time": "2021-10-30T21:00:28.345Z"
   },
   {
    "duration": 10,
    "start_time": "2021-10-30T21:00:28.354Z"
   },
   {
    "duration": 15,
    "start_time": "2021-10-30T21:00:28.366Z"
   },
   {
    "duration": 14,
    "start_time": "2021-10-30T21:00:28.382Z"
   },
   {
    "duration": 18,
    "start_time": "2021-10-30T21:00:28.398Z"
   },
   {
    "duration": 9,
    "start_time": "2021-10-30T21:00:28.418Z"
   },
   {
    "duration": 8,
    "start_time": "2021-10-30T21:00:28.443Z"
   },
   {
    "duration": 9,
    "start_time": "2021-10-30T21:00:28.454Z"
   },
   {
    "duration": 13,
    "start_time": "2021-10-30T21:00:28.465Z"
   },
   {
    "duration": 3,
    "start_time": "2021-10-30T21:00:28.480Z"
   },
   {
    "duration": 14,
    "start_time": "2021-10-30T21:00:28.484Z"
   },
   {
    "duration": 12,
    "start_time": "2021-10-30T21:00:28.499Z"
   },
   {
    "duration": 577,
    "start_time": "2021-10-30T21:00:28.513Z"
   },
   {
    "duration": 10,
    "start_time": "2021-10-30T21:00:29.092Z"
   },
   {
    "duration": 25,
    "start_time": "2021-10-30T21:00:29.103Z"
   },
   {
    "duration": 278,
    "start_time": "2021-10-30T21:00:29.130Z"
   },
   {
    "duration": 7,
    "start_time": "2021-10-30T21:00:29.410Z"
   },
   {
    "duration": 196,
    "start_time": "2021-10-30T21:00:29.418Z"
   },
   {
    "duration": 14,
    "start_time": "2021-10-30T21:00:29.616Z"
   },
   {
    "duration": 10,
    "start_time": "2021-10-30T21:00:29.631Z"
   },
   {
    "duration": 11,
    "start_time": "2021-10-30T21:00:29.644Z"
   },
   {
    "duration": 392,
    "start_time": "2021-10-30T21:00:29.658Z"
   },
   {
    "duration": 518,
    "start_time": "2021-10-30T21:00:30.052Z"
   },
   {
    "duration": 8,
    "start_time": "2021-10-30T21:00:30.573Z"
   },
   {
    "duration": 493,
    "start_time": "2021-10-30T21:00:30.582Z"
   },
   {
    "duration": 6,
    "start_time": "2021-10-30T21:00:31.077Z"
   },
   {
    "duration": 24,
    "start_time": "2021-10-30T21:00:31.085Z"
   },
   {
    "duration": 33,
    "start_time": "2021-10-30T21:00:31.111Z"
   },
   {
    "duration": 364,
    "start_time": "2021-10-30T21:00:31.146Z"
   },
   {
    "duration": 14,
    "start_time": "2021-10-30T21:00:31.512Z"
   },
   {
    "duration": 413,
    "start_time": "2021-10-30T21:00:31.527Z"
   },
   {
    "duration": 147,
    "start_time": "2021-10-30T21:00:31.942Z"
   },
   {
    "duration": 14,
    "start_time": "2021-10-30T21:00:32.090Z"
   },
   {
    "duration": 405,
    "start_time": "2021-10-30T21:00:32.106Z"
   },
   {
    "duration": 5,
    "start_time": "2021-10-30T21:00:32.512Z"
   },
   {
    "duration": 418,
    "start_time": "2021-10-30T21:00:32.518Z"
   },
   {
    "duration": 416,
    "start_time": "2021-10-30T21:00:32.938Z"
   },
   {
    "duration": 7,
    "start_time": "2021-10-30T21:00:33.356Z"
   },
   {
    "duration": 153,
    "start_time": "2021-10-30T21:00:33.365Z"
   },
   {
    "duration": 6,
    "start_time": "2021-10-30T21:00:33.520Z"
   },
   {
    "duration": 17,
    "start_time": "2021-10-30T21:00:33.544Z"
   },
   {
    "duration": 6,
    "start_time": "2021-10-30T21:00:33.563Z"
   },
   {
    "duration": 14,
    "start_time": "2021-10-30T21:00:33.571Z"
   },
   {
    "duration": 16,
    "start_time": "2021-10-30T21:00:33.586Z"
   },
   {
    "duration": 24,
    "start_time": "2021-10-30T21:00:33.603Z"
   },
   {
    "duration": 28,
    "start_time": "2021-10-30T21:00:33.629Z"
   },
   {
    "duration": 14,
    "start_time": "2021-10-30T21:00:33.659Z"
   },
   {
    "duration": 26,
    "start_time": "2021-10-30T21:00:33.675Z"
   },
   {
    "duration": 13,
    "start_time": "2021-10-30T21:03:13.962Z"
   },
   {
    "duration": 10,
    "start_time": "2021-10-30T21:04:27.215Z"
   },
   {
    "duration": 426,
    "start_time": "2021-10-30T21:35:50.760Z"
   },
   {
    "duration": 5,
    "start_time": "2021-10-30T21:36:17.140Z"
   },
   {
    "duration": 6,
    "start_time": "2021-10-30T21:38:40.824Z"
   },
   {
    "duration": 4,
    "start_time": "2021-10-30T21:38:52.620Z"
   },
   {
    "duration": 5,
    "start_time": "2021-10-30T21:40:29.728Z"
   },
   {
    "duration": 1088,
    "start_time": "2021-10-30T21:41:06.787Z"
   },
   {
    "duration": 25,
    "start_time": "2021-10-30T21:41:07.876Z"
   },
   {
    "duration": 13,
    "start_time": "2021-10-30T21:41:07.903Z"
   },
   {
    "duration": 40,
    "start_time": "2021-10-30T21:41:07.918Z"
   },
   {
    "duration": 12,
    "start_time": "2021-10-30T21:41:07.961Z"
   },
   {
    "duration": 12,
    "start_time": "2021-10-30T21:41:07.975Z"
   },
   {
    "duration": 14,
    "start_time": "2021-10-30T21:41:07.989Z"
   },
   {
    "duration": 12,
    "start_time": "2021-10-30T21:41:08.005Z"
   },
   {
    "duration": 14,
    "start_time": "2021-10-30T21:41:08.019Z"
   },
   {
    "duration": 5,
    "start_time": "2021-10-30T21:41:08.034Z"
   },
   {
    "duration": 18,
    "start_time": "2021-10-30T21:41:08.044Z"
   },
   {
    "duration": 8,
    "start_time": "2021-10-30T21:41:08.064Z"
   },
   {
    "duration": 9,
    "start_time": "2021-10-30T21:41:08.073Z"
   },
   {
    "duration": 7,
    "start_time": "2021-10-30T21:41:08.084Z"
   },
   {
    "duration": 5,
    "start_time": "2021-10-30T21:41:08.093Z"
   },
   {
    "duration": 8,
    "start_time": "2021-10-30T21:41:08.100Z"
   },
   {
    "duration": 6,
    "start_time": "2021-10-30T21:41:08.110Z"
   },
   {
    "duration": 28,
    "start_time": "2021-10-30T21:41:08.118Z"
   },
   {
    "duration": 13,
    "start_time": "2021-10-30T21:41:08.147Z"
   },
   {
    "duration": 16,
    "start_time": "2021-10-30T21:41:08.162Z"
   },
   {
    "duration": 10,
    "start_time": "2021-10-30T21:41:08.180Z"
   },
   {
    "duration": 11,
    "start_time": "2021-10-30T21:41:08.191Z"
   },
   {
    "duration": 5,
    "start_time": "2021-10-30T21:41:08.205Z"
   },
   {
    "duration": 10,
    "start_time": "2021-10-30T21:41:08.213Z"
   },
   {
    "duration": 32,
    "start_time": "2021-10-30T21:41:08.225Z"
   },
   {
    "duration": 7,
    "start_time": "2021-10-30T21:41:08.259Z"
   },
   {
    "duration": 13,
    "start_time": "2021-10-30T21:41:08.268Z"
   },
   {
    "duration": 14,
    "start_time": "2021-10-30T21:41:08.282Z"
   },
   {
    "duration": 529,
    "start_time": "2021-10-30T21:41:08.298Z"
   },
   {
    "duration": 9,
    "start_time": "2021-10-30T21:41:08.829Z"
   },
   {
    "duration": 13,
    "start_time": "2021-10-30T21:41:08.840Z"
   },
   {
    "duration": 231,
    "start_time": "2021-10-30T21:41:08.855Z"
   },
   {
    "duration": 7,
    "start_time": "2021-10-30T21:41:09.087Z"
   },
   {
    "duration": 183,
    "start_time": "2021-10-30T21:41:09.096Z"
   },
   {
    "duration": 12,
    "start_time": "2021-10-30T21:41:09.280Z"
   },
   {
    "duration": 6,
    "start_time": "2021-10-30T21:41:09.293Z"
   },
   {
    "duration": 9,
    "start_time": "2021-10-30T21:41:09.301Z"
   },
   {
    "duration": 389,
    "start_time": "2021-10-30T21:41:09.311Z"
   },
   {
    "duration": 365,
    "start_time": "2021-10-30T21:41:09.702Z"
   },
   {
    "duration": 6,
    "start_time": "2021-10-30T21:41:10.069Z"
   },
   {
    "duration": 363,
    "start_time": "2021-10-30T21:41:10.076Z"
   },
   {
    "duration": 9,
    "start_time": "2021-10-30T21:41:10.441Z"
   },
   {
    "duration": 16,
    "start_time": "2021-10-30T21:41:10.452Z"
   },
   {
    "duration": 12,
    "start_time": "2021-10-30T21:41:10.470Z"
   },
   {
    "duration": 338,
    "start_time": "2021-10-30T21:41:10.484Z"
   },
   {
    "duration": 26,
    "start_time": "2021-10-30T21:41:10.825Z"
   },
   {
    "duration": 368,
    "start_time": "2021-10-30T21:41:10.853Z"
   },
   {
    "duration": 134,
    "start_time": "2021-10-30T21:41:11.223Z"
   },
   {
    "duration": 15,
    "start_time": "2021-10-30T21:41:11.358Z"
   },
   {
    "duration": 351,
    "start_time": "2021-10-30T21:41:11.374Z"
   },
   {
    "duration": 4,
    "start_time": "2021-10-30T21:41:11.727Z"
   },
   {
    "duration": 394,
    "start_time": "2021-10-30T21:41:11.745Z"
   },
   {
    "duration": 383,
    "start_time": "2021-10-30T21:41:12.140Z"
   },
   {
    "duration": 4,
    "start_time": "2021-10-30T21:41:12.525Z"
   },
   {
    "duration": 148,
    "start_time": "2021-10-30T21:41:12.531Z"
   },
   {
    "duration": 7,
    "start_time": "2021-10-30T21:41:12.681Z"
   },
   {
    "duration": 18,
    "start_time": "2021-10-30T21:41:12.690Z"
   },
   {
    "duration": 5,
    "start_time": "2021-10-30T21:41:12.710Z"
   },
   {
    "duration": 17,
    "start_time": "2021-10-30T21:41:12.716Z"
   },
   {
    "duration": 20,
    "start_time": "2021-10-30T21:41:12.745Z"
   },
   {
    "duration": 5,
    "start_time": "2021-10-30T21:41:12.767Z"
   },
   {
    "duration": 15,
    "start_time": "2021-10-30T21:41:12.774Z"
   },
   {
    "duration": 23,
    "start_time": "2021-10-30T21:41:12.791Z"
   },
   {
    "duration": 10,
    "start_time": "2021-10-30T21:41:12.816Z"
   },
   {
    "duration": 25,
    "start_time": "2021-10-30T21:41:12.828Z"
   },
   {
    "duration": 1406,
    "start_time": "2021-10-30T21:55:18.235Z"
   },
   {
    "duration": 27,
    "start_time": "2021-10-30T21:55:19.643Z"
   },
   {
    "duration": 5,
    "start_time": "2021-10-30T21:55:19.672Z"
   },
   {
    "duration": 39,
    "start_time": "2021-10-30T21:55:19.679Z"
   },
   {
    "duration": 6,
    "start_time": "2021-10-30T21:55:19.720Z"
   },
   {
    "duration": 9,
    "start_time": "2021-10-30T21:55:19.727Z"
   },
   {
    "duration": 12,
    "start_time": "2021-10-30T21:55:19.738Z"
   },
   {
    "duration": 14,
    "start_time": "2021-10-30T21:55:19.753Z"
   },
   {
    "duration": 13,
    "start_time": "2021-10-30T21:55:19.768Z"
   },
   {
    "duration": 6,
    "start_time": "2021-10-30T21:55:19.783Z"
   },
   {
    "duration": 17,
    "start_time": "2021-10-30T21:55:19.791Z"
   },
   {
    "duration": 10,
    "start_time": "2021-10-30T21:55:19.810Z"
   },
   {
    "duration": 8,
    "start_time": "2021-10-30T21:55:19.822Z"
   },
   {
    "duration": 10,
    "start_time": "2021-10-30T21:55:19.846Z"
   },
   {
    "duration": 8,
    "start_time": "2021-10-30T21:55:19.859Z"
   },
   {
    "duration": 8,
    "start_time": "2021-10-30T21:55:19.869Z"
   },
   {
    "duration": 8,
    "start_time": "2021-10-30T21:55:19.879Z"
   },
   {
    "duration": 6,
    "start_time": "2021-10-30T21:55:19.889Z"
   },
   {
    "duration": 7,
    "start_time": "2021-10-30T21:55:19.897Z"
   },
   {
    "duration": 40,
    "start_time": "2021-10-30T21:55:19.906Z"
   },
   {
    "duration": 19,
    "start_time": "2021-10-30T21:55:19.948Z"
   },
   {
    "duration": 15,
    "start_time": "2021-10-30T21:55:19.969Z"
   },
   {
    "duration": 7,
    "start_time": "2021-10-30T21:55:19.988Z"
   },
   {
    "duration": 12,
    "start_time": "2021-10-30T21:55:19.997Z"
   },
   {
    "duration": 19,
    "start_time": "2021-10-30T21:55:20.010Z"
   },
   {
    "duration": 14,
    "start_time": "2021-10-30T21:55:20.031Z"
   },
   {
    "duration": 28,
    "start_time": "2021-10-30T21:55:20.047Z"
   },
   {
    "duration": 17,
    "start_time": "2021-10-30T21:55:20.076Z"
   },
   {
    "duration": 526,
    "start_time": "2021-10-30T21:55:20.095Z"
   },
   {
    "duration": 10,
    "start_time": "2021-10-30T21:55:20.623Z"
   },
   {
    "duration": 21,
    "start_time": "2021-10-30T21:55:20.634Z"
   },
   {
    "duration": 244,
    "start_time": "2021-10-30T21:55:20.658Z"
   },
   {
    "duration": 7,
    "start_time": "2021-10-30T21:55:20.904Z"
   },
   {
    "duration": 186,
    "start_time": "2021-10-30T21:55:20.913Z"
   },
   {
    "duration": 17,
    "start_time": "2021-10-30T21:55:21.101Z"
   },
   {
    "duration": 15,
    "start_time": "2021-10-30T21:55:21.119Z"
   },
   {
    "duration": 11,
    "start_time": "2021-10-30T21:55:21.144Z"
   },
   {
    "duration": 387,
    "start_time": "2021-10-30T21:55:21.158Z"
   },
   {
    "duration": 517,
    "start_time": "2021-10-30T21:55:21.547Z"
   },
   {
    "duration": 7,
    "start_time": "2021-10-30T21:55:22.066Z"
   },
   {
    "duration": 431,
    "start_time": "2021-10-30T21:55:22.075Z"
   },
   {
    "duration": 8,
    "start_time": "2021-10-30T21:55:22.508Z"
   },
   {
    "duration": 26,
    "start_time": "2021-10-30T21:55:22.518Z"
   },
   {
    "duration": 22,
    "start_time": "2021-10-30T21:55:22.547Z"
   },
   {
    "duration": 323,
    "start_time": "2021-10-30T21:55:22.571Z"
   },
   {
    "duration": 13,
    "start_time": "2021-10-30T21:55:22.896Z"
   },
   {
    "duration": 411,
    "start_time": "2021-10-30T21:55:22.911Z"
   },
   {
    "duration": 142,
    "start_time": "2021-10-30T21:55:23.324Z"
   },
   {
    "duration": 16,
    "start_time": "2021-10-30T21:55:23.472Z"
   },
   {
    "duration": 337,
    "start_time": "2021-10-30T21:55:23.489Z"
   },
   {
    "duration": 5,
    "start_time": "2021-10-30T21:55:23.828Z"
   },
   {
    "duration": 384,
    "start_time": "2021-10-30T21:55:23.835Z"
   },
   {
    "duration": 402,
    "start_time": "2021-10-30T21:55:24.221Z"
   },
   {
    "duration": 5,
    "start_time": "2021-10-30T21:55:24.625Z"
   },
   {
    "duration": 145,
    "start_time": "2021-10-30T21:55:24.631Z"
   },
   {
    "duration": 7,
    "start_time": "2021-10-30T21:55:24.777Z"
   },
   {
    "duration": 15,
    "start_time": "2021-10-30T21:55:24.785Z"
   },
   {
    "duration": 4,
    "start_time": "2021-10-30T21:55:24.802Z"
   },
   {
    "duration": 12,
    "start_time": "2021-10-30T21:55:24.807Z"
   },
   {
    "duration": 19,
    "start_time": "2021-10-30T21:55:24.846Z"
   },
   {
    "duration": 6,
    "start_time": "2021-10-30T21:55:24.867Z"
   },
   {
    "duration": 12,
    "start_time": "2021-10-30T21:55:24.875Z"
   },
   {
    "duration": 11,
    "start_time": "2021-10-30T21:55:24.889Z"
   },
   {
    "duration": 10,
    "start_time": "2021-10-30T21:55:24.901Z"
   },
   {
    "duration": 42,
    "start_time": "2021-10-30T21:55:24.912Z"
   },
   {
    "duration": 1537,
    "start_time": "2021-10-31T08:28:41.767Z"
   },
   {
    "duration": 27,
    "start_time": "2021-10-31T08:28:43.307Z"
   },
   {
    "duration": 14,
    "start_time": "2021-10-31T08:28:43.337Z"
   },
   {
    "duration": 36,
    "start_time": "2021-10-31T08:28:43.355Z"
   },
   {
    "duration": 13,
    "start_time": "2021-10-31T08:28:43.394Z"
   },
   {
    "duration": 25,
    "start_time": "2021-10-31T08:28:43.409Z"
   },
   {
    "duration": 11,
    "start_time": "2021-10-31T08:28:43.437Z"
   },
   {
    "duration": 8,
    "start_time": "2021-10-31T08:28:43.451Z"
   },
   {
    "duration": 12,
    "start_time": "2021-10-31T08:28:43.462Z"
   },
   {
    "duration": 7,
    "start_time": "2021-10-31T08:28:43.477Z"
   },
   {
    "duration": 46,
    "start_time": "2021-10-31T08:28:43.486Z"
   },
   {
    "duration": 17,
    "start_time": "2021-10-31T08:28:43.535Z"
   },
   {
    "duration": 11,
    "start_time": "2021-10-31T08:28:43.555Z"
   },
   {
    "duration": 14,
    "start_time": "2021-10-31T08:28:43.569Z"
   },
   {
    "duration": 44,
    "start_time": "2021-10-31T08:28:43.586Z"
   },
   {
    "duration": 10,
    "start_time": "2021-10-31T08:28:43.633Z"
   },
   {
    "duration": 8,
    "start_time": "2021-10-31T08:28:43.646Z"
   },
   {
    "duration": 13,
    "start_time": "2021-10-31T08:28:43.658Z"
   },
   {
    "duration": 58,
    "start_time": "2021-10-31T08:28:43.674Z"
   },
   {
    "duration": 20,
    "start_time": "2021-10-31T08:28:43.734Z"
   },
   {
    "duration": 16,
    "start_time": "2021-10-31T08:28:43.757Z"
   },
   {
    "duration": 18,
    "start_time": "2021-10-31T08:28:43.776Z"
   },
   {
    "duration": 30,
    "start_time": "2021-10-31T08:28:43.800Z"
   },
   {
    "duration": 7,
    "start_time": "2021-10-31T08:28:43.834Z"
   },
   {
    "duration": 16,
    "start_time": "2021-10-31T08:28:43.844Z"
   },
   {
    "duration": 5,
    "start_time": "2021-10-31T08:28:43.863Z"
   },
   {
    "duration": 16,
    "start_time": "2021-10-31T08:28:43.870Z"
   },
   {
    "duration": 54,
    "start_time": "2021-10-31T08:28:43.889Z"
   },
   {
    "duration": 49251,
    "start_time": "2021-10-31T08:28:43.945Z"
   },
   {
    "duration": 12,
    "start_time": "2021-10-31T08:29:33.198Z"
   },
   {
    "duration": 18,
    "start_time": "2021-10-31T08:29:33.212Z"
   },
   {
    "duration": 267,
    "start_time": "2021-10-31T08:29:33.232Z"
   },
   {
    "duration": 11,
    "start_time": "2021-10-31T08:29:33.502Z"
   },
   {
    "duration": 239,
    "start_time": "2021-10-31T08:29:33.515Z"
   },
   {
    "duration": 81,
    "start_time": "2021-10-31T08:29:33.757Z"
   },
   {
    "duration": 11,
    "start_time": "2021-10-31T08:29:33.840Z"
   },
   {
    "duration": 12,
    "start_time": "2021-10-31T08:29:33.854Z"
   },
   {
    "duration": 981,
    "start_time": "2021-10-31T08:29:33.869Z"
   },
   {
    "duration": 860,
    "start_time": "2021-10-31T08:29:34.852Z"
   },
   {
    "duration": 17,
    "start_time": "2021-10-31T08:29:35.714Z"
   },
   {
    "duration": 610,
    "start_time": "2021-10-31T08:29:35.733Z"
   },
   {
    "duration": 8,
    "start_time": "2021-10-31T08:29:36.345Z"
   },
   {
    "duration": 19,
    "start_time": "2021-10-31T08:29:36.355Z"
   },
   {
    "duration": 13,
    "start_time": "2021-10-31T08:29:36.430Z"
   },
   {
    "duration": 915,
    "start_time": "2021-10-31T08:29:36.445Z"
   },
   {
    "duration": -523,
    "start_time": "2021-10-31T08:29:37.885Z"
   },
   {
    "duration": -526,
    "start_time": "2021-10-31T08:29:37.890Z"
   },
   {
    "duration": -530,
    "start_time": "2021-10-31T08:29:37.895Z"
   },
   {
    "duration": -538,
    "start_time": "2021-10-31T08:29:37.904Z"
   },
   {
    "duration": -17924,
    "start_time": "2021-10-31T08:29:55.291Z"
   },
   {
    "duration": -17930,
    "start_time": "2021-10-31T08:29:55.298Z"
   },
   {
    "duration": -17935,
    "start_time": "2021-10-31T08:29:55.305Z"
   },
   {
    "duration": -17940,
    "start_time": "2021-10-31T08:29:55.311Z"
   },
   {
    "duration": -17946,
    "start_time": "2021-10-31T08:29:55.318Z"
   },
   {
    "duration": -17951,
    "start_time": "2021-10-31T08:29:55.324Z"
   },
   {
    "duration": -17956,
    "start_time": "2021-10-31T08:29:55.330Z"
   },
   {
    "duration": -17959,
    "start_time": "2021-10-31T08:29:55.335Z"
   },
   {
    "duration": -17965,
    "start_time": "2021-10-31T08:29:55.342Z"
   },
   {
    "duration": -17969,
    "start_time": "2021-10-31T08:29:55.347Z"
   },
   {
    "duration": -17974,
    "start_time": "2021-10-31T08:29:55.353Z"
   },
   {
    "duration": -17978,
    "start_time": "2021-10-31T08:29:55.358Z"
   },
   {
    "duration": -17982,
    "start_time": "2021-10-31T08:29:55.363Z"
   },
   {
    "duration": -17986,
    "start_time": "2021-10-31T08:29:55.369Z"
   },
   {
    "duration": -17994,
    "start_time": "2021-10-31T08:29:55.378Z"
   },
   {
    "duration": -17999,
    "start_time": "2021-10-31T08:29:55.384Z"
   },
   {
    "duration": 19,
    "start_time": "2021-10-31T08:35:10.358Z"
   },
   {
    "duration": 602,
    "start_time": "2021-10-31T08:35:11.973Z"
   },
   {
    "duration": 111,
    "start_time": "2021-10-31T08:35:16.764Z"
   },
   {
    "duration": 20,
    "start_time": "2021-10-31T08:35:18.899Z"
   },
   {
    "duration": 558,
    "start_time": "2021-10-31T08:35:20.604Z"
   },
   {
    "duration": 7,
    "start_time": "2021-10-31T08:35:34.075Z"
   },
   {
    "duration": 508,
    "start_time": "2021-10-31T08:35:35.723Z"
   },
   {
    "duration": 624,
    "start_time": "2021-10-31T08:35:38.293Z"
   },
   {
    "duration": 106,
    "start_time": "2021-10-31T08:35:43.052Z"
   },
   {
    "duration": 9,
    "start_time": "2021-10-31T08:35:44.955Z"
   },
   {
    "duration": 18,
    "start_time": "2021-10-31T08:35:47.043Z"
   },
   {
    "duration": 7,
    "start_time": "2021-10-31T08:35:49.546Z"
   },
   {
    "duration": 16,
    "start_time": "2021-10-31T08:35:51.602Z"
   },
   {
    "duration": 16,
    "start_time": "2021-10-31T08:35:53.563Z"
   },
   {
    "duration": 6,
    "start_time": "2021-10-31T08:35:55.330Z"
   },
   {
    "duration": 11,
    "start_time": "2021-10-31T08:35:58.267Z"
   },
   {
    "duration": 1444,
    "start_time": "2021-10-31T09:17:42.578Z"
   },
   {
    "duration": 32,
    "start_time": "2021-10-31T09:17:44.024Z"
   },
   {
    "duration": 9,
    "start_time": "2021-10-31T09:17:44.058Z"
   },
   {
    "duration": 45,
    "start_time": "2021-10-31T09:17:44.070Z"
   },
   {
    "duration": 17,
    "start_time": "2021-10-31T09:17:44.117Z"
   },
   {
    "duration": 20,
    "start_time": "2021-10-31T09:17:44.136Z"
   },
   {
    "duration": 22,
    "start_time": "2021-10-31T09:17:44.158Z"
   },
   {
    "duration": 16,
    "start_time": "2021-10-31T09:17:44.183Z"
   },
   {
    "duration": 21,
    "start_time": "2021-10-31T09:17:44.201Z"
   },
   {
    "duration": 9,
    "start_time": "2021-10-31T09:17:44.228Z"
   },
   {
    "duration": 22,
    "start_time": "2021-10-31T09:17:44.239Z"
   },
   {
    "duration": 15,
    "start_time": "2021-10-31T09:17:44.263Z"
   },
   {
    "duration": 14,
    "start_time": "2021-10-31T09:17:44.281Z"
   },
   {
    "duration": 33,
    "start_time": "2021-10-31T09:17:44.298Z"
   },
   {
    "duration": 8,
    "start_time": "2021-10-31T09:17:44.334Z"
   },
   {
    "duration": 12,
    "start_time": "2021-10-31T09:17:44.344Z"
   },
   {
    "duration": 12,
    "start_time": "2021-10-31T09:17:44.358Z"
   },
   {
    "duration": 11,
    "start_time": "2021-10-31T09:17:44.373Z"
   },
   {
    "duration": 45,
    "start_time": "2021-10-31T09:17:44.386Z"
   },
   {
    "duration": 19,
    "start_time": "2021-10-31T09:17:44.434Z"
   },
   {
    "duration": 18,
    "start_time": "2021-10-31T09:17:44.455Z"
   },
   {
    "duration": 18,
    "start_time": "2021-10-31T09:17:44.476Z"
   },
   {
    "duration": 26,
    "start_time": "2021-10-31T09:17:44.503Z"
   },
   {
    "duration": 8,
    "start_time": "2021-10-31T09:17:44.533Z"
   },
   {
    "duration": 18,
    "start_time": "2021-10-31T09:17:44.544Z"
   },
   {
    "duration": 6,
    "start_time": "2021-10-31T09:17:44.565Z"
   },
   {
    "duration": 65,
    "start_time": "2021-10-31T09:17:44.574Z"
   },
   {
    "duration": 17,
    "start_time": "2021-10-31T09:17:44.642Z"
   },
   {
    "duration": 501,
    "start_time": "2021-10-31T09:17:44.662Z"
   },
   {
    "duration": 13,
    "start_time": "2021-10-31T09:17:45.166Z"
   },
   {
    "duration": 19,
    "start_time": "2021-10-31T09:17:45.181Z"
   },
   {
    "duration": 470,
    "start_time": "2021-10-31T09:17:45.203Z"
   },
   {
    "duration": 10,
    "start_time": "2021-10-31T09:17:45.675Z"
   },
   {
    "duration": 282,
    "start_time": "2021-10-31T09:17:45.687Z"
   },
   {
    "duration": 19,
    "start_time": "2021-10-31T09:17:45.972Z"
   },
   {
    "duration": 35,
    "start_time": "2021-10-31T09:17:45.994Z"
   },
   {
    "duration": 10,
    "start_time": "2021-10-31T09:17:46.031Z"
   },
   {
    "duration": 605,
    "start_time": "2021-10-31T09:17:46.044Z"
   },
   {
    "duration": 580,
    "start_time": "2021-10-31T09:17:46.652Z"
   },
   {
    "duration": 10,
    "start_time": "2021-10-31T09:17:47.235Z"
   },
   {
    "duration": 510,
    "start_time": "2021-10-31T09:17:47.247Z"
   },
   {
    "duration": 9,
    "start_time": "2021-10-31T09:17:47.759Z"
   },
   {
    "duration": 18,
    "start_time": "2021-10-31T09:17:47.771Z"
   },
   {
    "duration": 46,
    "start_time": "2021-10-31T09:17:47.792Z"
   },
   {
    "duration": 580,
    "start_time": "2021-10-31T09:17:47.841Z"
   },
   {
    "duration": 22,
    "start_time": "2021-10-31T09:17:48.428Z"
   },
   {
    "duration": 482,
    "start_time": "2021-10-31T09:17:48.453Z"
   },
   {
    "duration": 315,
    "start_time": "2021-10-31T09:17:48.938Z"
   },
   {
    "duration": 24,
    "start_time": "2021-10-31T09:17:49.256Z"
   },
   {
    "duration": 513,
    "start_time": "2021-10-31T09:17:49.283Z"
   },
   {
    "duration": 6,
    "start_time": "2021-10-31T09:17:49.798Z"
   },
   {
    "duration": 518,
    "start_time": "2021-10-31T09:17:49.806Z"
   },
   {
    "duration": 501,
    "start_time": "2021-10-31T09:17:50.328Z"
   },
   {
    "duration": 7,
    "start_time": "2021-10-31T09:17:50.831Z"
   },
   {
    "duration": 320,
    "start_time": "2021-10-31T09:17:50.840Z"
   },
   {
    "duration": 10,
    "start_time": "2021-10-31T09:17:51.163Z"
   },
   {
    "duration": 26,
    "start_time": "2021-10-31T09:17:51.175Z"
   },
   {
    "duration": 11,
    "start_time": "2021-10-31T09:17:51.204Z"
   },
   {
    "duration": 16,
    "start_time": "2021-10-31T09:17:51.230Z"
   },
   {
    "duration": 17,
    "start_time": "2021-10-31T09:17:51.248Z"
   },
   {
    "duration": 24,
    "start_time": "2021-10-31T09:17:51.267Z"
   },
   {
    "duration": 41,
    "start_time": "2021-10-31T09:17:51.293Z"
   },
   {
    "duration": 18,
    "start_time": "2021-10-31T09:17:51.336Z"
   },
   {
    "duration": 17,
    "start_time": "2021-10-31T09:17:51.357Z"
   },
   {
    "duration": 20,
    "start_time": "2021-10-31T09:17:51.376Z"
   },
   {
    "duration": 378,
    "start_time": "2021-10-31T09:24:17.103Z"
   },
   {
    "duration": 479,
    "start_time": "2021-10-31T09:25:24.271Z"
   },
   {
    "duration": 9,
    "start_time": "2021-10-31T09:28:56.191Z"
   },
   {
    "duration": 726,
    "start_time": "2021-10-31T09:30:03.187Z"
   },
   {
    "duration": 1545,
    "start_time": "2021-10-31T09:31:01.594Z"
   },
   {
    "duration": 30,
    "start_time": "2021-10-31T09:31:03.142Z"
   },
   {
    "duration": 26,
    "start_time": "2021-10-31T09:31:03.175Z"
   },
   {
    "duration": 40,
    "start_time": "2021-10-31T09:31:03.204Z"
   },
   {
    "duration": 9,
    "start_time": "2021-10-31T09:31:03.247Z"
   },
   {
    "duration": 27,
    "start_time": "2021-10-31T09:31:03.258Z"
   },
   {
    "duration": 17,
    "start_time": "2021-10-31T09:31:03.287Z"
   },
   {
    "duration": 17,
    "start_time": "2021-10-31T09:31:03.308Z"
   },
   {
    "duration": 37,
    "start_time": "2021-10-31T09:31:03.327Z"
   },
   {
    "duration": 8,
    "start_time": "2021-10-31T09:31:03.367Z"
   },
   {
    "duration": 29,
    "start_time": "2021-10-31T09:31:03.377Z"
   },
   {
    "duration": 10,
    "start_time": "2021-10-31T09:31:03.409Z"
   },
   {
    "duration": 25,
    "start_time": "2021-10-31T09:31:03.422Z"
   },
   {
    "duration": 19,
    "start_time": "2021-10-31T09:31:03.449Z"
   },
   {
    "duration": 35,
    "start_time": "2021-10-31T09:31:03.470Z"
   },
   {
    "duration": 30,
    "start_time": "2021-10-31T09:31:03.507Z"
   },
   {
    "duration": 12,
    "start_time": "2021-10-31T09:31:03.539Z"
   },
   {
    "duration": 41,
    "start_time": "2021-10-31T09:31:03.553Z"
   },
   {
    "duration": 33,
    "start_time": "2021-10-31T09:31:03.596Z"
   },
   {
    "duration": 37,
    "start_time": "2021-10-31T09:31:03.632Z"
   },
   {
    "duration": 27,
    "start_time": "2021-10-31T09:31:03.672Z"
   },
   {
    "duration": 37,
    "start_time": "2021-10-31T09:31:03.702Z"
   },
   {
    "duration": 14,
    "start_time": "2021-10-31T09:31:03.745Z"
   },
   {
    "duration": 25,
    "start_time": "2021-10-31T09:31:03.763Z"
   },
   {
    "duration": 34,
    "start_time": "2021-10-31T09:31:03.790Z"
   },
   {
    "duration": 27,
    "start_time": "2021-10-31T09:31:03.827Z"
   },
   {
    "duration": 26,
    "start_time": "2021-10-31T09:31:03.857Z"
   },
   {
    "duration": 22,
    "start_time": "2021-10-31T09:31:03.886Z"
   },
   {
    "duration": 647,
    "start_time": "2021-10-31T09:31:03.912Z"
   },
   {
    "duration": 14,
    "start_time": "2021-10-31T09:31:04.563Z"
   },
   {
    "duration": 18,
    "start_time": "2021-10-31T09:31:04.580Z"
   },
   {
    "duration": 603,
    "start_time": "2021-10-31T09:31:04.601Z"
   },
   {
    "duration": 21,
    "start_time": "2021-10-31T09:31:05.207Z"
   },
   {
    "duration": 288,
    "start_time": "2021-10-31T09:31:05.232Z"
   },
   {
    "duration": 27,
    "start_time": "2021-10-31T09:31:05.522Z"
   },
   {
    "duration": 8,
    "start_time": "2021-10-31T09:31:05.552Z"
   },
   {
    "duration": 13,
    "start_time": "2021-10-31T09:31:05.563Z"
   },
   {
    "duration": 632,
    "start_time": "2021-10-31T09:31:05.579Z"
   },
   {
    "duration": 567,
    "start_time": "2021-10-31T09:31:06.213Z"
   },
   {
    "duration": 9,
    "start_time": "2021-10-31T09:31:06.782Z"
   },
   {
    "duration": 561,
    "start_time": "2021-10-31T09:31:06.793Z"
   },
   {
    "duration": 9,
    "start_time": "2021-10-31T09:31:07.356Z"
   },
   {
    "duration": 19,
    "start_time": "2021-10-31T09:31:07.367Z"
   },
   {
    "duration": 48,
    "start_time": "2021-10-31T09:31:07.390Z"
   },
   {
    "duration": 493,
    "start_time": "2021-10-31T09:31:07.440Z"
   },
   {
    "duration": 22,
    "start_time": "2021-10-31T09:31:07.936Z"
   },
   {
    "duration": 624,
    "start_time": "2021-10-31T09:31:07.962Z"
   },
   {
    "duration": 226,
    "start_time": "2021-10-31T09:31:08.589Z"
   },
   {
    "duration": 33,
    "start_time": "2021-10-31T09:31:08.818Z"
   },
   {
    "duration": 511,
    "start_time": "2021-10-31T09:31:08.854Z"
   },
   {
    "duration": 6,
    "start_time": "2021-10-31T09:31:09.367Z"
   },
   {
    "duration": 554,
    "start_time": "2021-10-31T09:31:09.376Z"
   },
   {
    "duration": 535,
    "start_time": "2021-10-31T09:31:09.933Z"
   },
   {
    "duration": 7,
    "start_time": "2021-10-31T09:31:10.470Z"
   },
   {
    "duration": 244,
    "start_time": "2021-10-31T09:31:10.479Z"
   },
   {
    "duration": 10,
    "start_time": "2021-10-31T09:31:10.725Z"
   },
   {
    "duration": 22,
    "start_time": "2021-10-31T09:31:10.737Z"
   },
   {
    "duration": 11,
    "start_time": "2021-10-31T09:31:10.761Z"
   },
   {
    "duration": 29,
    "start_time": "2021-10-31T09:31:10.774Z"
   },
   {
    "duration": 39,
    "start_time": "2021-10-31T09:31:10.805Z"
   },
   {
    "duration": 8,
    "start_time": "2021-10-31T09:31:10.846Z"
   },
   {
    "duration": 399,
    "start_time": "2021-10-31T09:31:10.856Z"
   },
   {
    "duration": 521,
    "start_time": "2021-10-31T09:31:10.736Z"
   },
   {
    "duration": 514,
    "start_time": "2021-10-31T09:31:10.745Z"
   },
   {
    "duration": 487,
    "start_time": "2021-10-31T09:31:10.773Z"
   },
   {
    "duration": 484,
    "start_time": "2021-10-31T09:31:10.777Z"
   },
   {
    "duration": 263,
    "start_time": "2021-10-31T09:35:33.498Z"
   },
   {
    "duration": 8,
    "start_time": "2021-10-31T09:36:00.355Z"
   },
   {
    "duration": 8,
    "start_time": "2021-10-31T09:36:09.267Z"
   },
   {
    "duration": 1558,
    "start_time": "2021-10-31T09:36:23.840Z"
   },
   {
    "duration": 30,
    "start_time": "2021-10-31T09:36:25.400Z"
   },
   {
    "duration": 10,
    "start_time": "2021-10-31T09:36:25.432Z"
   },
   {
    "duration": 62,
    "start_time": "2021-10-31T09:36:25.445Z"
   },
   {
    "duration": 21,
    "start_time": "2021-10-31T09:36:25.509Z"
   },
   {
    "duration": 21,
    "start_time": "2021-10-31T09:36:25.533Z"
   },
   {
    "duration": 33,
    "start_time": "2021-10-31T09:36:25.557Z"
   },
   {
    "duration": 21,
    "start_time": "2021-10-31T09:36:25.594Z"
   },
   {
    "duration": 24,
    "start_time": "2021-10-31T09:36:25.618Z"
   },
   {
    "duration": 8,
    "start_time": "2021-10-31T09:36:25.645Z"
   },
   {
    "duration": 28,
    "start_time": "2021-10-31T09:36:25.656Z"
   },
   {
    "duration": 23,
    "start_time": "2021-10-31T09:36:25.687Z"
   },
   {
    "duration": 22,
    "start_time": "2021-10-31T09:36:25.712Z"
   },
   {
    "duration": 13,
    "start_time": "2021-10-31T09:36:25.736Z"
   },
   {
    "duration": 11,
    "start_time": "2021-10-31T09:36:25.751Z"
   },
   {
    "duration": 28,
    "start_time": "2021-10-31T09:36:25.764Z"
   },
   {
    "duration": 13,
    "start_time": "2021-10-31T09:36:25.794Z"
   },
   {
    "duration": 30,
    "start_time": "2021-10-31T09:36:25.809Z"
   },
   {
    "duration": 17,
    "start_time": "2021-10-31T09:36:25.841Z"
   },
   {
    "duration": 44,
    "start_time": "2021-10-31T09:36:25.861Z"
   },
   {
    "duration": 19,
    "start_time": "2021-10-31T09:36:25.908Z"
   },
   {
    "duration": 31,
    "start_time": "2021-10-31T09:36:25.929Z"
   },
   {
    "duration": 11,
    "start_time": "2021-10-31T09:36:25.966Z"
   },
   {
    "duration": 16,
    "start_time": "2021-10-31T09:36:25.982Z"
   },
   {
    "duration": 48,
    "start_time": "2021-10-31T09:36:26.001Z"
   },
   {
    "duration": 8,
    "start_time": "2021-10-31T09:36:26.052Z"
   },
   {
    "duration": 34,
    "start_time": "2021-10-31T09:36:26.062Z"
   },
   {
    "duration": 38,
    "start_time": "2021-10-31T09:36:26.099Z"
   },
   {
    "duration": 523,
    "start_time": "2021-10-31T09:36:26.139Z"
   },
   {
    "duration": 13,
    "start_time": "2021-10-31T09:36:26.664Z"
   },
   {
    "duration": 24,
    "start_time": "2021-10-31T09:36:26.679Z"
   },
   {
    "duration": 385,
    "start_time": "2021-10-31T09:36:26.706Z"
   },
   {
    "duration": 11,
    "start_time": "2021-10-31T09:36:27.094Z"
   },
   {
    "duration": 306,
    "start_time": "2021-10-31T09:36:27.109Z"
   },
   {
    "duration": 20,
    "start_time": "2021-10-31T09:36:27.429Z"
   },
   {
    "duration": 11,
    "start_time": "2021-10-31T09:36:27.452Z"
   },
   {
    "duration": 11,
    "start_time": "2021-10-31T09:36:27.465Z"
   },
   {
    "duration": 629,
    "start_time": "2021-10-31T09:36:27.478Z"
   },
   {
    "duration": 564,
    "start_time": "2021-10-31T09:36:28.110Z"
   },
   {
    "duration": 8,
    "start_time": "2021-10-31T09:36:28.677Z"
   },
   {
    "duration": 547,
    "start_time": "2021-10-31T09:36:28.688Z"
   },
   {
    "duration": 8,
    "start_time": "2021-10-31T09:36:29.238Z"
   },
   {
    "duration": 21,
    "start_time": "2021-10-31T09:36:29.249Z"
   },
   {
    "duration": 25,
    "start_time": "2021-10-31T09:36:29.274Z"
   },
   {
    "duration": 492,
    "start_time": "2021-10-31T09:36:29.302Z"
   },
   {
    "duration": 32,
    "start_time": "2021-10-31T09:36:29.797Z"
   },
   {
    "duration": 500,
    "start_time": "2021-10-31T09:36:29.832Z"
   },
   {
    "duration": 229,
    "start_time": "2021-10-31T09:36:30.335Z"
   },
   {
    "duration": 21,
    "start_time": "2021-10-31T09:36:30.567Z"
   },
   {
    "duration": 514,
    "start_time": "2021-10-31T09:36:30.590Z"
   },
   {
    "duration": 7,
    "start_time": "2021-10-31T09:36:31.106Z"
   },
   {
    "duration": 519,
    "start_time": "2021-10-31T09:36:31.115Z"
   },
   {
    "duration": 502,
    "start_time": "2021-10-31T09:36:31.636Z"
   },
   {
    "duration": 7,
    "start_time": "2021-10-31T09:36:32.141Z"
   },
   {
    "duration": 232,
    "start_time": "2021-10-31T09:36:32.151Z"
   },
   {
    "duration": 12,
    "start_time": "2021-10-31T09:36:32.386Z"
   },
   {
    "duration": 38,
    "start_time": "2021-10-31T09:36:32.401Z"
   },
   {
    "duration": 7,
    "start_time": "2021-10-31T09:36:32.442Z"
   },
   {
    "duration": 20,
    "start_time": "2021-10-31T09:36:32.452Z"
   },
   {
    "duration": 59,
    "start_time": "2021-10-31T09:36:32.475Z"
   },
   {
    "duration": 10,
    "start_time": "2021-10-31T09:36:32.537Z"
   },
   {
    "duration": 12,
    "start_time": "2021-10-31T09:36:32.549Z"
   },
   {
    "duration": 12,
    "start_time": "2021-10-31T09:36:32.563Z"
   },
   {
    "duration": 53,
    "start_time": "2021-10-31T09:36:32.577Z"
   },
   {
    "duration": 13,
    "start_time": "2021-10-31T09:36:32.633Z"
   },
   {
    "duration": 13,
    "start_time": "2021-10-31T09:36:32.648Z"
   },
   {
    "duration": 1617,
    "start_time": "2021-10-31T09:41:10.607Z"
   },
   {
    "duration": 36,
    "start_time": "2021-10-31T09:41:12.226Z"
   },
   {
    "duration": 9,
    "start_time": "2021-10-31T09:41:12.266Z"
   },
   {
    "duration": 46,
    "start_time": "2021-10-31T09:41:12.277Z"
   },
   {
    "duration": 14,
    "start_time": "2021-10-31T09:41:12.326Z"
   },
   {
    "duration": 14,
    "start_time": "2021-10-31T09:41:12.343Z"
   },
   {
    "duration": 23,
    "start_time": "2021-10-31T09:41:12.360Z"
   },
   {
    "duration": 40,
    "start_time": "2021-10-31T09:41:12.388Z"
   },
   {
    "duration": 22,
    "start_time": "2021-10-31T09:41:12.432Z"
   },
   {
    "duration": 9,
    "start_time": "2021-10-31T09:41:12.458Z"
   },
   {
    "duration": 23,
    "start_time": "2021-10-31T09:41:12.469Z"
   },
   {
    "duration": 11,
    "start_time": "2021-10-31T09:41:12.495Z"
   },
   {
    "duration": 12,
    "start_time": "2021-10-31T09:41:12.530Z"
   },
   {
    "duration": 16,
    "start_time": "2021-10-31T09:41:12.545Z"
   },
   {
    "duration": 8,
    "start_time": "2021-10-31T09:41:12.565Z"
   },
   {
    "duration": 13,
    "start_time": "2021-10-31T09:41:12.576Z"
   },
   {
    "duration": 9,
    "start_time": "2021-10-31T09:41:12.631Z"
   },
   {
    "duration": 14,
    "start_time": "2021-10-31T09:41:12.642Z"
   },
   {
    "duration": 10,
    "start_time": "2021-10-31T09:41:12.659Z"
   },
   {
    "duration": 15,
    "start_time": "2021-10-31T09:41:12.672Z"
   },
   {
    "duration": 46,
    "start_time": "2021-10-31T09:41:12.689Z"
   },
   {
    "duration": 13,
    "start_time": "2021-10-31T09:41:12.738Z"
   },
   {
    "duration": 10,
    "start_time": "2021-10-31T09:41:12.759Z"
   },
   {
    "duration": 8,
    "start_time": "2021-10-31T09:41:12.773Z"
   },
   {
    "duration": 65,
    "start_time": "2021-10-31T09:41:12.783Z"
   },
   {
    "duration": 5,
    "start_time": "2021-10-31T09:41:12.851Z"
   },
   {
    "duration": 30,
    "start_time": "2021-10-31T09:41:12.859Z"
   },
   {
    "duration": 16,
    "start_time": "2021-10-31T09:41:12.891Z"
   },
   {
    "duration": 786,
    "start_time": "2021-10-31T09:41:12.909Z"
   },
   {
    "duration": 13,
    "start_time": "2021-10-31T09:41:13.698Z"
   },
   {
    "duration": 30,
    "start_time": "2021-10-31T09:41:13.713Z"
   },
   {
    "duration": 429,
    "start_time": "2021-10-31T09:41:13.746Z"
   },
   {
    "duration": 10,
    "start_time": "2021-10-31T09:41:14.177Z"
   },
   {
    "duration": 303,
    "start_time": "2021-10-31T09:41:14.191Z"
   },
   {
    "duration": 34,
    "start_time": "2021-10-31T09:41:14.497Z"
   },
   {
    "duration": 8,
    "start_time": "2021-10-31T09:41:14.534Z"
   },
   {
    "duration": 8,
    "start_time": "2021-10-31T09:41:14.544Z"
   },
   {
    "duration": 638,
    "start_time": "2021-10-31T09:41:14.554Z"
   },
   {
    "duration": 582,
    "start_time": "2021-10-31T09:41:15.194Z"
   },
   {
    "duration": 9,
    "start_time": "2021-10-31T09:41:15.778Z"
   },
   {
    "duration": 582,
    "start_time": "2021-10-31T09:41:15.789Z"
   },
   {
    "duration": 9,
    "start_time": "2021-10-31T09:41:16.373Z"
   },
   {
    "duration": 18,
    "start_time": "2021-10-31T09:41:16.384Z"
   },
   {
    "duration": 40,
    "start_time": "2021-10-31T09:41:16.404Z"
   },
   {
    "duration": 524,
    "start_time": "2021-10-31T09:41:16.447Z"
   },
   {
    "duration": 25,
    "start_time": "2021-10-31T09:41:16.974Z"
   },
   {
    "duration": 601,
    "start_time": "2021-10-31T09:41:17.002Z"
   },
   {
    "duration": 205,
    "start_time": "2021-10-31T09:41:17.606Z"
   },
   {
    "duration": 34,
    "start_time": "2021-10-31T09:41:17.813Z"
   },
   {
    "duration": 506,
    "start_time": "2021-10-31T09:41:17.850Z"
   },
   {
    "duration": 8,
    "start_time": "2021-10-31T09:41:18.359Z"
   },
   {
    "duration": 536,
    "start_time": "2021-10-31T09:41:18.369Z"
   },
   {
    "duration": 544,
    "start_time": "2021-10-31T09:41:18.907Z"
   },
   {
    "duration": 8,
    "start_time": "2021-10-31T09:41:19.454Z"
   },
   {
    "duration": 223,
    "start_time": "2021-10-31T09:41:19.465Z"
   },
   {
    "duration": 11,
    "start_time": "2021-10-31T09:41:19.690Z"
   },
   {
    "duration": 36,
    "start_time": "2021-10-31T09:41:19.704Z"
   },
   {
    "duration": 6,
    "start_time": "2021-10-31T09:41:19.742Z"
   },
   {
    "duration": 21,
    "start_time": "2021-10-31T09:41:19.750Z"
   },
   {
    "duration": 17,
    "start_time": "2021-10-31T09:41:19.774Z"
   },
   {
    "duration": 49,
    "start_time": "2021-10-31T09:41:19.794Z"
   },
   {
    "duration": 11,
    "start_time": "2021-10-31T09:41:19.846Z"
   },
   {
    "duration": 23,
    "start_time": "2021-10-31T09:41:19.859Z"
   },
   {
    "duration": 27,
    "start_time": "2021-10-31T09:41:19.884Z"
   },
   {
    "duration": 24,
    "start_time": "2021-10-31T09:41:19.913Z"
   },
   {
    "duration": 34,
    "start_time": "2021-10-31T09:41:19.939Z"
   },
   {
    "duration": 1430,
    "start_time": "2021-10-31T09:46:14.485Z"
   },
   {
    "duration": 31,
    "start_time": "2021-10-31T09:46:15.918Z"
   },
   {
    "duration": 13,
    "start_time": "2021-10-31T09:46:15.952Z"
   },
   {
    "duration": 39,
    "start_time": "2021-10-31T09:46:15.967Z"
   },
   {
    "duration": 8,
    "start_time": "2021-10-31T09:46:16.009Z"
   },
   {
    "duration": 11,
    "start_time": "2021-10-31T09:46:16.019Z"
   },
   {
    "duration": 12,
    "start_time": "2021-10-31T09:46:16.032Z"
   },
   {
    "duration": 8,
    "start_time": "2021-10-31T09:46:16.047Z"
   },
   {
    "duration": 16,
    "start_time": "2021-10-31T09:46:16.058Z"
   },
   {
    "duration": 7,
    "start_time": "2021-10-31T09:46:16.077Z"
   },
   {
    "duration": 46,
    "start_time": "2021-10-31T09:46:16.086Z"
   },
   {
    "duration": 12,
    "start_time": "2021-10-31T09:46:16.135Z"
   },
   {
    "duration": 12,
    "start_time": "2021-10-31T09:46:16.149Z"
   },
   {
    "duration": 10,
    "start_time": "2021-10-31T09:46:16.163Z"
   },
   {
    "duration": 9,
    "start_time": "2021-10-31T09:46:16.176Z"
   },
   {
    "duration": 48,
    "start_time": "2021-10-31T09:46:16.187Z"
   },
   {
    "duration": 9,
    "start_time": "2021-10-31T09:46:16.238Z"
   },
   {
    "duration": 10,
    "start_time": "2021-10-31T09:46:16.249Z"
   },
   {
    "duration": 9,
    "start_time": "2021-10-31T09:46:16.261Z"
   },
   {
    "duration": 13,
    "start_time": "2021-10-31T09:46:16.272Z"
   },
   {
    "duration": 50,
    "start_time": "2021-10-31T09:46:16.287Z"
   },
   {
    "duration": 12,
    "start_time": "2021-10-31T09:46:16.340Z"
   },
   {
    "duration": 8,
    "start_time": "2021-10-31T09:46:16.359Z"
   },
   {
    "duration": 7,
    "start_time": "2021-10-31T09:46:16.370Z"
   },
   {
    "duration": 55,
    "start_time": "2021-10-31T09:46:16.380Z"
   },
   {
    "duration": 5,
    "start_time": "2021-10-31T09:46:16.438Z"
   },
   {
    "duration": 17,
    "start_time": "2021-10-31T09:46:16.445Z"
   },
   {
    "duration": 17,
    "start_time": "2021-10-31T09:46:16.465Z"
   },
   {
    "duration": 591,
    "start_time": "2021-10-31T09:46:16.484Z"
   },
   {
    "duration": 13,
    "start_time": "2021-10-31T09:46:17.078Z"
   },
   {
    "duration": 36,
    "start_time": "2021-10-31T09:46:17.094Z"
   },
   {
    "duration": 368,
    "start_time": "2021-10-31T09:46:17.132Z"
   },
   {
    "duration": 10,
    "start_time": "2021-10-31T09:46:17.503Z"
   },
   {
    "duration": 313,
    "start_time": "2021-10-31T09:46:17.516Z"
   },
   {
    "duration": 19,
    "start_time": "2021-10-31T09:46:17.831Z"
   },
   {
    "duration": 10,
    "start_time": "2021-10-31T09:46:17.852Z"
   },
   {
    "duration": 9,
    "start_time": "2021-10-31T09:46:17.864Z"
   },
   {
    "duration": 613,
    "start_time": "2021-10-31T09:46:17.875Z"
   },
   {
    "duration": 575,
    "start_time": "2021-10-31T09:46:18.490Z"
   },
   {
    "duration": 14,
    "start_time": "2021-10-31T09:46:19.069Z"
   },
   {
    "duration": 561,
    "start_time": "2021-10-31T09:46:19.087Z"
   },
   {
    "duration": 9,
    "start_time": "2021-10-31T09:46:19.651Z"
   },
   {
    "duration": 17,
    "start_time": "2021-10-31T09:46:19.662Z"
   },
   {
    "duration": 16,
    "start_time": "2021-10-31T09:46:19.681Z"
   },
   {
    "duration": 477,
    "start_time": "2021-10-31T09:46:19.729Z"
   },
   {
    "duration": 28,
    "start_time": "2021-10-31T09:46:20.208Z"
   },
   {
    "duration": 493,
    "start_time": "2021-10-31T09:46:20.239Z"
   },
   {
    "duration": 278,
    "start_time": "2021-10-31T09:46:20.735Z"
   },
   {
    "duration": 22,
    "start_time": "2021-10-31T09:46:21.029Z"
   },
   {
    "duration": 462,
    "start_time": "2021-10-31T09:46:21.053Z"
   },
   {
    "duration": 13,
    "start_time": "2021-10-31T09:46:21.518Z"
   },
   {
    "duration": 523,
    "start_time": "2021-10-31T09:46:21.533Z"
   },
   {
    "duration": 476,
    "start_time": "2021-10-31T09:46:22.059Z"
   },
   {
    "duration": 6,
    "start_time": "2021-10-31T09:46:22.537Z"
   },
   {
    "duration": 229,
    "start_time": "2021-10-31T09:46:22.546Z"
   },
   {
    "duration": 9,
    "start_time": "2021-10-31T09:46:22.778Z"
   },
   {
    "duration": 20,
    "start_time": "2021-10-31T09:46:22.790Z"
   },
   {
    "duration": 19,
    "start_time": "2021-10-31T09:46:22.813Z"
   },
   {
    "duration": 17,
    "start_time": "2021-10-31T09:46:22.834Z"
   },
   {
    "duration": 16,
    "start_time": "2021-10-31T09:46:22.853Z"
   },
   {
    "duration": 8,
    "start_time": "2021-10-31T09:46:22.872Z"
   },
   {
    "duration": 53,
    "start_time": "2021-10-31T09:46:22.882Z"
   },
   {
    "duration": 12,
    "start_time": "2021-10-31T09:46:22.938Z"
   },
   {
    "duration": 13,
    "start_time": "2021-10-31T09:46:22.952Z"
   },
   {
    "duration": 13,
    "start_time": "2021-10-31T09:46:22.967Z"
   },
   {
    "duration": 54,
    "start_time": "2021-10-31T09:46:22.983Z"
   },
   {
    "duration": 1491,
    "start_time": "2021-10-31T09:51:41.612Z"
   },
   {
    "duration": 32,
    "start_time": "2021-10-31T09:51:43.107Z"
   },
   {
    "duration": 15,
    "start_time": "2021-10-31T09:51:43.142Z"
   },
   {
    "duration": 36,
    "start_time": "2021-10-31T09:51:43.161Z"
   },
   {
    "duration": 8,
    "start_time": "2021-10-31T09:51:43.200Z"
   },
   {
    "duration": 18,
    "start_time": "2021-10-31T09:51:43.211Z"
   },
   {
    "duration": 15,
    "start_time": "2021-10-31T09:51:43.232Z"
   },
   {
    "duration": 8,
    "start_time": "2021-10-31T09:51:43.250Z"
   },
   {
    "duration": 25,
    "start_time": "2021-10-31T09:51:43.260Z"
   },
   {
    "duration": 7,
    "start_time": "2021-10-31T09:51:43.288Z"
   },
   {
    "duration": 36,
    "start_time": "2021-10-31T09:51:43.297Z"
   },
   {
    "duration": 10,
    "start_time": "2021-10-31T09:51:43.336Z"
   },
   {
    "duration": 11,
    "start_time": "2021-10-31T09:51:43.349Z"
   },
   {
    "duration": 11,
    "start_time": "2021-10-31T09:51:43.362Z"
   },
   {
    "duration": 18,
    "start_time": "2021-10-31T09:51:43.375Z"
   },
   {
    "duration": 42,
    "start_time": "2021-10-31T09:51:43.396Z"
   },
   {
    "duration": 8,
    "start_time": "2021-10-31T09:51:43.440Z"
   },
   {
    "duration": 13,
    "start_time": "2021-10-31T09:51:43.450Z"
   },
   {
    "duration": 17,
    "start_time": "2021-10-31T09:51:43.466Z"
   },
   {
    "duration": 10,
    "start_time": "2021-10-31T09:51:43.486Z"
   },
   {
    "duration": 37,
    "start_time": "2021-10-31T09:51:43.498Z"
   },
   {
    "duration": 14,
    "start_time": "2021-10-31T09:51:43.538Z"
   },
   {
    "duration": 8,
    "start_time": "2021-10-31T09:51:43.557Z"
   },
   {
    "duration": 8,
    "start_time": "2021-10-31T09:51:43.568Z"
   },
   {
    "duration": 51,
    "start_time": "2021-10-31T09:51:43.579Z"
   },
   {
    "duration": 4,
    "start_time": "2021-10-31T09:51:43.633Z"
   },
   {
    "duration": 21,
    "start_time": "2021-10-31T09:51:43.640Z"
   },
   {
    "duration": 16,
    "start_time": "2021-10-31T09:51:43.663Z"
   },
   {
    "duration": 508,
    "start_time": "2021-10-31T09:51:43.682Z"
   },
   {
    "duration": 12,
    "start_time": "2021-10-31T09:51:44.193Z"
   },
   {
    "duration": 34,
    "start_time": "2021-10-31T09:51:44.208Z"
   },
   {
    "duration": 360,
    "start_time": "2021-10-31T09:51:44.244Z"
   },
   {
    "duration": 10,
    "start_time": "2021-10-31T09:51:44.606Z"
   },
   {
    "duration": 281,
    "start_time": "2021-10-31T09:51:44.618Z"
   },
   {
    "duration": 34,
    "start_time": "2021-10-31T09:51:44.901Z"
   },
   {
    "duration": 8,
    "start_time": "2021-10-31T09:51:44.937Z"
   },
   {
    "duration": 9,
    "start_time": "2021-10-31T09:51:44.947Z"
   },
   {
    "duration": 592,
    "start_time": "2021-10-31T09:51:44.958Z"
   },
   {
    "duration": 562,
    "start_time": "2021-10-31T09:51:45.552Z"
   },
   {
    "duration": 17,
    "start_time": "2021-10-31T09:51:46.116Z"
   },
   {
    "duration": 517,
    "start_time": "2021-10-31T09:51:46.136Z"
   },
   {
    "duration": 8,
    "start_time": "2021-10-31T09:51:46.655Z"
   },
   {
    "duration": 18,
    "start_time": "2021-10-31T09:51:46.665Z"
   },
   {
    "duration": 15,
    "start_time": "2021-10-31T09:51:46.686Z"
   },
   {
    "duration": 502,
    "start_time": "2021-10-31T09:51:46.730Z"
   },
   {
    "duration": 20,
    "start_time": "2021-10-31T09:51:47.234Z"
   },
   {
    "duration": 593,
    "start_time": "2021-10-31T09:51:47.257Z"
   },
   {
    "duration": 226,
    "start_time": "2021-10-31T09:51:47.853Z"
   },
   {
    "duration": 22,
    "start_time": "2021-10-31T09:51:48.082Z"
   },
   {
    "duration": 492,
    "start_time": "2021-10-31T09:51:48.106Z"
   },
   {
    "duration": 7,
    "start_time": "2021-10-31T09:51:48.600Z"
   },
   {
    "duration": 549,
    "start_time": "2021-10-31T09:51:48.609Z"
   },
   {
    "duration": 487,
    "start_time": "2021-10-31T09:51:49.161Z"
   },
   {
    "duration": 6,
    "start_time": "2021-10-31T09:51:49.650Z"
   },
   {
    "duration": 223,
    "start_time": "2021-10-31T09:51:49.658Z"
   },
   {
    "duration": 10,
    "start_time": "2021-10-31T09:51:49.883Z"
   },
   {
    "duration": 33,
    "start_time": "2021-10-31T09:51:49.895Z"
   },
   {
    "duration": 5,
    "start_time": "2021-10-31T09:51:49.931Z"
   },
   {
    "duration": 16,
    "start_time": "2021-10-31T09:51:49.939Z"
   },
   {
    "duration": 18,
    "start_time": "2021-10-31T09:51:49.958Z"
   },
   {
    "duration": 50,
    "start_time": "2021-10-31T09:51:49.979Z"
   },
   {
    "duration": 9,
    "start_time": "2021-10-31T09:51:50.032Z"
   },
   {
    "duration": 20,
    "start_time": "2021-10-31T09:51:50.043Z"
   },
   {
    "duration": 22,
    "start_time": "2021-10-31T09:51:50.066Z"
   },
   {
    "duration": 41,
    "start_time": "2021-10-31T09:51:50.090Z"
   },
   {
    "duration": 14,
    "start_time": "2021-10-31T09:51:50.133Z"
   },
   {
    "duration": 1501,
    "start_time": "2021-10-31T20:51:27.121Z"
   },
   {
    "duration": 31,
    "start_time": "2021-10-31T20:51:28.625Z"
   },
   {
    "duration": 9,
    "start_time": "2021-10-31T20:51:28.659Z"
   },
   {
    "duration": 38,
    "start_time": "2021-10-31T20:51:28.671Z"
   },
   {
    "duration": 10,
    "start_time": "2021-10-31T20:51:28.711Z"
   },
   {
    "duration": 16,
    "start_time": "2021-10-31T20:51:28.723Z"
   },
   {
    "duration": 12,
    "start_time": "2021-10-31T20:51:28.742Z"
   },
   {
    "duration": 8,
    "start_time": "2021-10-31T20:51:28.757Z"
   },
   {
    "duration": 18,
    "start_time": "2021-10-31T20:51:28.770Z"
   },
   {
    "duration": 11,
    "start_time": "2021-10-31T20:51:28.830Z"
   },
   {
    "duration": 20,
    "start_time": "2021-10-31T20:51:28.843Z"
   },
   {
    "duration": 11,
    "start_time": "2021-10-31T20:51:28.866Z"
   },
   {
    "duration": 13,
    "start_time": "2021-10-31T20:51:28.880Z"
   },
   {
    "duration": 46,
    "start_time": "2021-10-31T20:51:28.895Z"
   },
   {
    "duration": 9,
    "start_time": "2021-10-31T20:51:28.944Z"
   },
   {
    "duration": 13,
    "start_time": "2021-10-31T20:51:28.956Z"
   },
   {
    "duration": 8,
    "start_time": "2021-10-31T20:51:28.971Z"
   },
   {
    "duration": 56,
    "start_time": "2021-10-31T20:51:28.981Z"
   },
   {
    "duration": 12,
    "start_time": "2021-10-31T20:51:29.040Z"
   },
   {
    "duration": 11,
    "start_time": "2021-10-31T20:51:29.055Z"
   },
   {
    "duration": 11,
    "start_time": "2021-10-31T20:51:29.069Z"
   },
   {
    "duration": 58,
    "start_time": "2021-10-31T20:51:29.083Z"
   },
   {
    "duration": 8,
    "start_time": "2021-10-31T20:51:29.149Z"
   },
   {
    "duration": 8,
    "start_time": "2021-10-31T20:51:29.162Z"
   },
   {
    "duration": 63,
    "start_time": "2021-10-31T20:51:29.173Z"
   },
   {
    "duration": 6,
    "start_time": "2021-10-31T20:51:29.239Z"
   },
   {
    "duration": 20,
    "start_time": "2021-10-31T20:51:29.248Z"
   },
   {
    "duration": 18,
    "start_time": "2021-10-31T20:51:29.271Z"
   },
   {
    "duration": 47371,
    "start_time": "2021-10-31T20:51:29.331Z"
   },
   {
    "duration": 14,
    "start_time": "2021-10-31T20:52:16.705Z"
   },
   {
    "duration": 15,
    "start_time": "2021-10-31T20:52:16.728Z"
   },
   {
    "duration": 374,
    "start_time": "2021-10-31T20:52:16.746Z"
   },
   {
    "duration": 10,
    "start_time": "2021-10-31T20:52:17.128Z"
   },
   {
    "duration": 270,
    "start_time": "2021-10-31T20:52:17.140Z"
   },
   {
    "duration": 28,
    "start_time": "2021-10-31T20:52:17.413Z"
   },
   {
    "duration": 10,
    "start_time": "2021-10-31T20:52:17.444Z"
   },
   {
    "duration": 9,
    "start_time": "2021-10-31T20:52:17.456Z"
   },
   {
    "duration": 993,
    "start_time": "2021-10-31T20:52:17.467Z"
   },
   {
    "duration": 735,
    "start_time": "2021-10-31T20:52:18.463Z"
   },
   {
    "duration": 8,
    "start_time": "2021-10-31T20:52:19.201Z"
   },
   {
    "duration": 530,
    "start_time": "2021-10-31T20:52:19.211Z"
   },
   {
    "duration": 8,
    "start_time": "2021-10-31T20:52:19.743Z"
   },
   {
    "duration": 17,
    "start_time": "2021-10-31T20:52:19.753Z"
   },
   {
    "duration": 15,
    "start_time": "2021-10-31T20:52:19.773Z"
   },
   {
    "duration": 676,
    "start_time": "2021-10-31T20:52:19.790Z"
   },
   {
    "duration": 21,
    "start_time": "2021-10-31T20:52:20.469Z"
   },
   {
    "duration": 528,
    "start_time": "2021-10-31T20:52:20.492Z"
   },
   {
    "duration": 220,
    "start_time": "2021-10-31T20:52:21.023Z"
   },
   {
    "duration": 21,
    "start_time": "2021-10-31T20:52:21.246Z"
   },
   {
    "duration": 456,
    "start_time": "2021-10-31T20:52:21.269Z"
   },
   {
    "duration": 7,
    "start_time": "2021-10-31T20:52:21.729Z"
   },
   {
    "duration": 494,
    "start_time": "2021-10-31T20:52:21.738Z"
   },
   {
    "duration": 568,
    "start_time": "2021-10-31T20:52:22.235Z"
   },
   {
    "duration": 6,
    "start_time": "2021-10-31T20:52:22.805Z"
   },
   {
    "duration": 222,
    "start_time": "2021-10-31T20:52:22.813Z"
   },
   {
    "duration": 9,
    "start_time": "2021-10-31T20:52:23.038Z"
   },
   {
    "duration": 16,
    "start_time": "2021-10-31T20:52:23.050Z"
   },
   {
    "duration": 5,
    "start_time": "2021-10-31T20:52:23.069Z"
   },
   {
    "duration": 17,
    "start_time": "2021-10-31T20:52:23.076Z"
   },
   {
    "duration": 15,
    "start_time": "2021-10-31T20:52:23.096Z"
   },
   {
    "duration": 20,
    "start_time": "2021-10-31T20:52:23.113Z"
   },
   {
    "duration": 8,
    "start_time": "2021-10-31T20:52:23.141Z"
   },
   {
    "duration": 11,
    "start_time": "2021-10-31T20:52:23.151Z"
   },
   {
    "duration": 11,
    "start_time": "2021-10-31T20:52:23.165Z"
   },
   {
    "duration": 13,
    "start_time": "2021-10-31T20:52:23.178Z"
   },
   {
    "duration": 12,
    "start_time": "2021-10-31T20:52:23.193Z"
   },
   {
    "duration": 1509,
    "start_time": "2022-01-18T15:25:14.708Z"
   },
   {
    "duration": 42,
    "start_time": "2022-01-18T15:25:16.221Z"
   },
   {
    "duration": 14,
    "start_time": "2022-01-18T15:25:16.266Z"
   },
   {
    "duration": 36,
    "start_time": "2022-01-18T15:25:16.283Z"
   },
   {
    "duration": 31,
    "start_time": "2022-01-18T15:25:16.322Z"
   },
   {
    "duration": 33,
    "start_time": "2022-01-18T15:25:16.356Z"
   },
   {
    "duration": 20,
    "start_time": "2022-01-18T15:25:16.392Z"
   },
   {
    "duration": 32,
    "start_time": "2022-01-18T15:25:16.416Z"
   },
   {
    "duration": 21,
    "start_time": "2022-01-18T15:25:16.453Z"
   },
   {
    "duration": 14,
    "start_time": "2022-01-18T15:25:16.476Z"
   },
   {
    "duration": 19,
    "start_time": "2022-01-18T15:25:16.492Z"
   },
   {
    "duration": 17,
    "start_time": "2022-01-18T15:25:16.513Z"
   },
   {
    "duration": 18,
    "start_time": "2022-01-18T15:25:16.533Z"
   },
   {
    "duration": 11,
    "start_time": "2022-01-18T15:25:16.553Z"
   },
   {
    "duration": 8,
    "start_time": "2022-01-18T15:25:16.566Z"
   },
   {
    "duration": 18,
    "start_time": "2022-01-18T15:25:16.577Z"
   },
   {
    "duration": 28,
    "start_time": "2022-01-18T15:25:16.597Z"
   },
   {
    "duration": 26,
    "start_time": "2022-01-18T15:25:16.628Z"
   },
   {
    "duration": 8,
    "start_time": "2022-01-18T15:25:16.657Z"
   },
   {
    "duration": 10,
    "start_time": "2022-01-18T15:25:16.668Z"
   },
   {
    "duration": 25,
    "start_time": "2022-01-18T15:25:16.681Z"
   },
   {
    "duration": 17,
    "start_time": "2022-01-18T15:25:16.725Z"
   },
   {
    "duration": 17,
    "start_time": "2022-01-18T15:25:16.750Z"
   },
   {
    "duration": 17,
    "start_time": "2022-01-18T15:25:16.771Z"
   },
   {
    "duration": 36,
    "start_time": "2022-01-18T15:25:16.791Z"
   },
   {
    "duration": 15,
    "start_time": "2022-01-18T15:25:16.829Z"
   },
   {
    "duration": 28,
    "start_time": "2022-01-18T15:25:16.846Z"
   },
   {
    "duration": 16,
    "start_time": "2022-01-18T15:25:16.877Z"
   },
   {
    "duration": 777,
    "start_time": "2022-01-18T15:25:16.895Z"
   },
   {
    "duration": 13,
    "start_time": "2022-01-18T15:25:17.675Z"
   },
   {
    "duration": 35,
    "start_time": "2022-01-18T15:25:17.690Z"
   },
   {
    "duration": 415,
    "start_time": "2022-01-18T15:25:17.728Z"
   },
   {
    "duration": 16,
    "start_time": "2022-01-18T15:25:18.145Z"
   },
   {
    "duration": 299,
    "start_time": "2022-01-18T15:25:18.164Z"
   },
   {
    "duration": 20,
    "start_time": "2022-01-18T15:25:18.466Z"
   },
   {
    "duration": 8,
    "start_time": "2022-01-18T15:25:18.489Z"
   },
   {
    "duration": 6,
    "start_time": "2022-01-18T15:25:18.523Z"
   },
   {
    "duration": 622,
    "start_time": "2022-01-18T15:25:18.532Z"
   },
   {
    "duration": 566,
    "start_time": "2022-01-18T15:25:19.157Z"
   },
   {
    "duration": 9,
    "start_time": "2022-01-18T15:25:19.726Z"
   },
   {
    "duration": 524,
    "start_time": "2022-01-18T15:25:19.737Z"
   },
   {
    "duration": 9,
    "start_time": "2022-01-18T15:25:20.263Z"
   },
   {
    "duration": 19,
    "start_time": "2022-01-18T15:25:20.275Z"
   },
   {
    "duration": 47,
    "start_time": "2022-01-18T15:25:20.297Z"
   },
   {
    "duration": 457,
    "start_time": "2022-01-18T15:25:20.347Z"
   },
   {
    "duration": 35,
    "start_time": "2022-01-18T15:25:20.806Z"
   },
   {
    "duration": 492,
    "start_time": "2022-01-18T15:25:20.844Z"
   },
   {
    "duration": 316,
    "start_time": "2022-01-18T15:25:21.339Z"
   },
   {
    "duration": 28,
    "start_time": "2022-01-18T15:25:21.658Z"
   },
   {
    "duration": 512,
    "start_time": "2022-01-18T15:25:21.689Z"
   },
   {
    "duration": 7,
    "start_time": "2022-01-18T15:25:22.204Z"
   },
   {
    "duration": 535,
    "start_time": "2022-01-18T15:25:22.213Z"
   },
   {
    "duration": 494,
    "start_time": "2022-01-18T15:25:22.750Z"
   },
   {
    "duration": 8,
    "start_time": "2022-01-18T15:25:23.247Z"
   },
   {
    "duration": 275,
    "start_time": "2022-01-18T15:25:23.258Z"
   },
   {
    "duration": 11,
    "start_time": "2022-01-18T15:25:23.537Z"
   },
   {
    "duration": 32,
    "start_time": "2022-01-18T15:25:23.550Z"
   },
   {
    "duration": 6,
    "start_time": "2022-01-18T15:25:23.584Z"
   },
   {
    "duration": 35,
    "start_time": "2022-01-18T15:25:23.592Z"
   },
   {
    "duration": 20,
    "start_time": "2022-01-18T15:25:23.630Z"
   },
   {
    "duration": 9,
    "start_time": "2022-01-18T15:25:23.652Z"
   },
   {
    "duration": 9,
    "start_time": "2022-01-18T15:25:23.664Z"
   },
   {
    "duration": 55,
    "start_time": "2022-01-18T15:25:23.675Z"
   },
   {
    "duration": 22,
    "start_time": "2022-01-18T15:25:23.732Z"
   },
   {
    "duration": 13,
    "start_time": "2022-01-18T15:25:23.757Z"
   },
   {
    "duration": 13,
    "start_time": "2022-01-18T15:25:23.772Z"
   },
   {
    "duration": 1121,
    "start_time": "2022-01-26T01:11:27.781Z"
   },
   {
    "duration": 25,
    "start_time": "2022-01-26T01:11:28.904Z"
   },
   {
    "duration": 59,
    "start_time": "2022-01-26T01:11:28.931Z"
   },
   {
    "duration": 70,
    "start_time": "2022-01-26T01:11:28.992Z"
   },
   {
    "duration": 33,
    "start_time": "2022-01-26T01:11:29.064Z"
   },
   {
    "duration": 48,
    "start_time": "2022-01-26T01:11:29.099Z"
   },
   {
    "duration": 37,
    "start_time": "2022-01-26T01:11:29.149Z"
   },
   {
    "duration": 44,
    "start_time": "2022-01-26T01:11:29.189Z"
   },
   {
    "duration": 62,
    "start_time": "2022-01-26T01:11:29.235Z"
   },
   {
    "duration": 28,
    "start_time": "2022-01-26T01:11:29.299Z"
   },
   {
    "duration": 39,
    "start_time": "2022-01-26T01:11:29.328Z"
   },
   {
    "duration": 39,
    "start_time": "2022-01-26T01:11:29.369Z"
   },
   {
    "duration": 28,
    "start_time": "2022-01-26T01:11:29.410Z"
   },
   {
    "duration": 33,
    "start_time": "2022-01-26T01:11:29.440Z"
   },
   {
    "duration": 27,
    "start_time": "2022-01-26T01:11:29.475Z"
   },
   {
    "duration": 40,
    "start_time": "2022-01-26T01:11:29.504Z"
   },
   {
    "duration": 27,
    "start_time": "2022-01-26T01:11:29.545Z"
   },
   {
    "duration": 36,
    "start_time": "2022-01-26T01:11:29.574Z"
   },
   {
    "duration": 28,
    "start_time": "2022-01-26T01:11:29.612Z"
   },
   {
    "duration": 32,
    "start_time": "2022-01-26T01:11:29.642Z"
   },
   {
    "duration": 37,
    "start_time": "2022-01-26T01:11:29.677Z"
   },
   {
    "duration": 28,
    "start_time": "2022-01-26T01:11:29.716Z"
   },
   {
    "duration": 22,
    "start_time": "2022-01-26T01:11:29.750Z"
   },
   {
    "duration": 34,
    "start_time": "2022-01-26T01:11:29.775Z"
   },
   {
    "duration": 34,
    "start_time": "2022-01-26T01:11:29.811Z"
   },
   {
    "duration": 21,
    "start_time": "2022-01-26T01:11:29.846Z"
   },
   {
    "duration": 42,
    "start_time": "2022-01-26T01:11:29.868Z"
   },
   {
    "duration": 27,
    "start_time": "2022-01-26T01:11:29.912Z"
   },
   {
    "duration": 888,
    "start_time": "2022-01-26T01:11:29.940Z"
   },
   {
    "duration": 10,
    "start_time": "2022-01-26T01:11:30.830Z"
   },
   {
    "duration": 39,
    "start_time": "2022-01-26T01:11:30.842Z"
   },
   {
    "duration": 223,
    "start_time": "2022-01-26T01:11:30.883Z"
   },
   {
    "duration": 7,
    "start_time": "2022-01-26T01:11:31.108Z"
   },
   {
    "duration": 173,
    "start_time": "2022-01-26T01:11:31.116Z"
   },
   {
    "duration": 42,
    "start_time": "2022-01-26T01:11:31.291Z"
   },
   {
    "duration": 29,
    "start_time": "2022-01-26T01:11:31.335Z"
   },
   {
    "duration": 37,
    "start_time": "2022-01-26T01:11:31.365Z"
   },
   {
    "duration": 410,
    "start_time": "2022-01-26T01:11:31.404Z"
   },
   {
    "duration": 345,
    "start_time": "2022-01-26T01:11:31.815Z"
   },
   {
    "duration": 7,
    "start_time": "2022-01-26T01:11:32.162Z"
   },
   {
    "duration": 449,
    "start_time": "2022-01-26T01:11:32.170Z"
   },
   {
    "duration": 6,
    "start_time": "2022-01-26T01:11:32.621Z"
   },
   {
    "duration": 41,
    "start_time": "2022-01-26T01:11:32.628Z"
   },
   {
    "duration": 50,
    "start_time": "2022-01-26T01:11:32.671Z"
   },
   {
    "duration": 343,
    "start_time": "2022-01-26T01:11:32.723Z"
   },
   {
    "duration": 14,
    "start_time": "2022-01-26T01:11:33.068Z"
   },
   {
    "duration": 339,
    "start_time": "2022-01-26T01:11:33.084Z"
   },
   {
    "duration": 169,
    "start_time": "2022-01-26T01:11:33.425Z"
   },
   {
    "duration": 27,
    "start_time": "2022-01-26T01:11:33.595Z"
   },
   {
    "duration": 339,
    "start_time": "2022-01-26T01:11:33.625Z"
   },
   {
    "duration": 5,
    "start_time": "2022-01-26T01:11:33.966Z"
   },
   {
    "duration": 348,
    "start_time": "2022-01-26T01:11:33.972Z"
   },
   {
    "duration": 358,
    "start_time": "2022-01-26T01:11:34.322Z"
   },
   {
    "duration": 4,
    "start_time": "2022-01-26T01:11:34.682Z"
   },
   {
    "duration": 120,
    "start_time": "2022-01-26T01:11:34.688Z"
   },
   {
    "duration": 6,
    "start_time": "2022-01-26T01:11:34.810Z"
   },
   {
    "duration": 34,
    "start_time": "2022-01-26T01:11:34.818Z"
   },
   {
    "duration": 16,
    "start_time": "2022-01-26T01:11:34.853Z"
   },
   {
    "duration": 37,
    "start_time": "2022-01-26T01:11:34.870Z"
   },
   {
    "duration": 12,
    "start_time": "2022-01-26T01:11:34.909Z"
   },
   {
    "duration": 34,
    "start_time": "2022-01-26T01:11:34.922Z"
   },
   {
    "duration": 29,
    "start_time": "2022-01-26T01:11:34.958Z"
   },
   {
    "duration": 15,
    "start_time": "2022-01-26T01:11:34.988Z"
   },
   {
    "duration": 37,
    "start_time": "2022-01-26T01:11:35.005Z"
   },
   {
    "duration": 22,
    "start_time": "2022-01-26T01:11:35.044Z"
   },
   {
    "duration": 18,
    "start_time": "2022-01-26T01:11:35.068Z"
   },
   {
    "duration": 1490,
    "start_time": "2022-02-14T19:40:51.731Z"
   },
   {
    "duration": 32,
    "start_time": "2022-02-14T19:40:53.224Z"
   },
   {
    "duration": 8,
    "start_time": "2022-02-14T19:40:53.259Z"
   },
   {
    "duration": 25,
    "start_time": "2022-02-14T19:40:53.270Z"
   },
   {
    "duration": 8,
    "start_time": "2022-02-14T19:40:53.297Z"
   },
   {
    "duration": 29,
    "start_time": "2022-02-14T19:40:53.307Z"
   },
   {
    "duration": 12,
    "start_time": "2022-02-14T19:40:53.342Z"
   },
   {
    "duration": 8,
    "start_time": "2022-02-14T19:40:53.359Z"
   },
   {
    "duration": 63,
    "start_time": "2022-02-14T19:40:53.370Z"
   },
   {
    "duration": 10,
    "start_time": "2022-02-14T19:40:53.436Z"
   },
   {
    "duration": 15,
    "start_time": "2022-02-14T19:40:53.449Z"
   },
   {
    "duration": 12,
    "start_time": "2022-02-14T19:40:53.466Z"
   },
   {
    "duration": 13,
    "start_time": "2022-02-14T19:40:53.480Z"
   },
   {
    "duration": 11,
    "start_time": "2022-02-14T19:40:53.533Z"
   },
   {
    "duration": 10,
    "start_time": "2022-02-14T19:40:53.547Z"
   },
   {
    "duration": 13,
    "start_time": "2022-02-14T19:40:53.560Z"
   },
   {
    "duration": 59,
    "start_time": "2022-02-14T19:40:53.576Z"
   },
   {
    "duration": 9,
    "start_time": "2022-02-14T19:40:53.637Z"
   },
   {
    "duration": 10,
    "start_time": "2022-02-14T19:40:53.648Z"
   },
   {
    "duration": 8,
    "start_time": "2022-02-14T19:40:53.661Z"
   },
   {
    "duration": 9,
    "start_time": "2022-02-14T19:40:53.671Z"
   },
   {
    "duration": 52,
    "start_time": "2022-02-14T19:40:53.686Z"
   },
   {
    "duration": 7,
    "start_time": "2022-02-14T19:40:53.742Z"
   },
   {
    "duration": 8,
    "start_time": "2022-02-14T19:40:53.751Z"
   },
   {
    "duration": 12,
    "start_time": "2022-02-14T19:40:53.762Z"
   },
   {
    "duration": 5,
    "start_time": "2022-02-14T19:40:53.777Z"
   },
   {
    "duration": 66,
    "start_time": "2022-02-14T19:40:53.784Z"
   },
   {
    "duration": 19,
    "start_time": "2022-02-14T19:40:53.852Z"
   },
   {
    "duration": 563,
    "start_time": "2022-02-14T19:40:53.874Z"
   },
   {
    "duration": 13,
    "start_time": "2022-02-14T19:40:54.440Z"
   },
   {
    "duration": 19,
    "start_time": "2022-02-14T19:40:54.456Z"
   },
   {
    "duration": 377,
    "start_time": "2022-02-14T19:40:54.478Z"
   },
   {
    "duration": 10,
    "start_time": "2022-02-14T19:40:54.858Z"
   },
   {
    "duration": 294,
    "start_time": "2022-02-14T19:40:54.870Z"
   },
   {
    "duration": 24,
    "start_time": "2022-02-14T19:40:55.167Z"
   },
   {
    "duration": 9,
    "start_time": "2022-02-14T19:40:55.193Z"
   },
   {
    "duration": 30,
    "start_time": "2022-02-14T19:40:55.204Z"
   },
   {
    "duration": 582,
    "start_time": "2022-02-14T19:40:55.237Z"
   },
   {
    "duration": 565,
    "start_time": "2022-02-14T19:40:55.821Z"
   },
   {
    "duration": 9,
    "start_time": "2022-02-14T19:40:56.388Z"
   },
   {
    "duration": 548,
    "start_time": "2022-02-14T19:40:56.399Z"
   },
   {
    "duration": 8,
    "start_time": "2022-02-14T19:40:56.950Z"
   },
   {
    "duration": 17,
    "start_time": "2022-02-14T19:40:56.961Z"
   },
   {
    "duration": 14,
    "start_time": "2022-02-14T19:40:56.981Z"
   },
   {
    "duration": 525,
    "start_time": "2022-02-14T19:40:56.998Z"
   },
   {
    "duration": 19,
    "start_time": "2022-02-14T19:40:57.532Z"
   },
   {
    "duration": 483,
    "start_time": "2022-02-14T19:40:57.554Z"
   },
   {
    "duration": 217,
    "start_time": "2022-02-14T19:40:58.040Z"
   },
   {
    "duration": 22,
    "start_time": "2022-02-14T19:40:58.260Z"
   },
   {
    "duration": 525,
    "start_time": "2022-02-14T19:40:58.284Z"
   },
   {
    "duration": 6,
    "start_time": "2022-02-14T19:40:58.812Z"
   },
   {
    "duration": 499,
    "start_time": "2022-02-14T19:40:58.833Z"
   },
   {
    "duration": 506,
    "start_time": "2022-02-14T19:40:59.335Z"
   },
   {
    "duration": 8,
    "start_time": "2022-02-14T19:40:59.844Z"
   },
   {
    "duration": 226,
    "start_time": "2022-02-14T19:40:59.854Z"
   },
   {
    "duration": 10,
    "start_time": "2022-02-14T19:41:00.082Z"
   },
   {
    "duration": 35,
    "start_time": "2022-02-14T19:41:00.095Z"
   },
   {
    "duration": 11,
    "start_time": "2022-02-14T19:41:00.132Z"
   },
   {
    "duration": 17,
    "start_time": "2022-02-14T19:41:00.146Z"
   },
   {
    "duration": 16,
    "start_time": "2022-02-14T19:41:00.166Z"
   },
   {
    "duration": 17,
    "start_time": "2022-02-14T19:41:00.184Z"
   },
   {
    "duration": 9,
    "start_time": "2022-02-14T19:41:00.233Z"
   },
   {
    "duration": 14,
    "start_time": "2022-02-14T19:41:00.244Z"
   },
   {
    "duration": 13,
    "start_time": "2022-02-14T19:41:00.261Z"
   },
   {
    "duration": 13,
    "start_time": "2022-02-14T19:41:00.276Z"
   },
   {
    "duration": 49,
    "start_time": "2022-02-14T19:41:00.291Z"
   },
   {
    "duration": 1469,
    "start_time": "2022-02-14T20:36:33.414Z"
   },
   {
    "duration": 25,
    "start_time": "2022-02-14T20:36:34.886Z"
   },
   {
    "duration": 19,
    "start_time": "2022-02-14T20:36:34.914Z"
   },
   {
    "duration": 22,
    "start_time": "2022-02-14T20:36:34.936Z"
   },
   {
    "duration": 9,
    "start_time": "2022-02-14T20:36:34.961Z"
   },
   {
    "duration": 18,
    "start_time": "2022-02-14T20:36:34.973Z"
   },
   {
    "duration": 12,
    "start_time": "2022-02-14T20:36:34.994Z"
   },
   {
    "duration": 26,
    "start_time": "2022-02-14T20:36:35.010Z"
   },
   {
    "duration": 18,
    "start_time": "2022-02-14T20:36:35.039Z"
   },
   {
    "duration": 8,
    "start_time": "2022-02-14T20:36:35.060Z"
   },
   {
    "duration": 13,
    "start_time": "2022-02-14T20:36:35.070Z"
   },
   {
    "duration": 48,
    "start_time": "2022-02-14T20:36:35.085Z"
   },
   {
    "duration": 14,
    "start_time": "2022-02-14T20:36:35.136Z"
   },
   {
    "duration": 12,
    "start_time": "2022-02-14T20:36:35.152Z"
   },
   {
    "duration": 8,
    "start_time": "2022-02-14T20:36:35.166Z"
   },
   {
    "duration": 12,
    "start_time": "2022-02-14T20:36:35.176Z"
   },
   {
    "duration": 44,
    "start_time": "2022-02-14T20:36:35.190Z"
   },
   {
    "duration": 10,
    "start_time": "2022-02-14T20:36:35.236Z"
   },
   {
    "duration": 8,
    "start_time": "2022-02-14T20:36:35.249Z"
   },
   {
    "duration": 18,
    "start_time": "2022-02-14T20:36:35.259Z"
   },
   {
    "duration": 21,
    "start_time": "2022-02-14T20:36:35.279Z"
   },
   {
    "duration": 42,
    "start_time": "2022-02-14T20:36:35.302Z"
   },
   {
    "duration": 8,
    "start_time": "2022-02-14T20:36:35.350Z"
   },
   {
    "duration": 16,
    "start_time": "2022-02-14T20:36:35.362Z"
   },
   {
    "duration": 26,
    "start_time": "2022-02-14T20:36:35.380Z"
   },
   {
    "duration": 25,
    "start_time": "2022-02-14T20:36:35.408Z"
   },
   {
    "duration": 25,
    "start_time": "2022-02-14T20:36:35.435Z"
   },
   {
    "duration": 16,
    "start_time": "2022-02-14T20:36:35.462Z"
   },
   {
    "duration": 802,
    "start_time": "2022-02-14T20:36:35.481Z"
   },
   {
    "duration": 18,
    "start_time": "2022-02-14T20:36:36.287Z"
   },
   {
    "duration": 36,
    "start_time": "2022-02-14T20:36:36.308Z"
   },
   {
    "duration": 411,
    "start_time": "2022-02-14T20:36:36.346Z"
   },
   {
    "duration": 11,
    "start_time": "2022-02-14T20:36:36.759Z"
   },
   {
    "duration": 291,
    "start_time": "2022-02-14T20:36:36.772Z"
   },
   {
    "duration": 19,
    "start_time": "2022-02-14T20:36:37.065Z"
   },
   {
    "duration": 12,
    "start_time": "2022-02-14T20:36:37.087Z"
   },
   {
    "duration": 33,
    "start_time": "2022-02-14T20:36:37.101Z"
   },
   {
    "duration": 570,
    "start_time": "2022-02-14T20:36:37.136Z"
   },
   {
    "duration": 544,
    "start_time": "2022-02-14T20:36:37.708Z"
   },
   {
    "duration": 9,
    "start_time": "2022-02-14T20:36:38.254Z"
   },
   {
    "duration": 480,
    "start_time": "2022-02-14T20:36:38.265Z"
   },
   {
    "duration": 8,
    "start_time": "2022-02-14T20:36:38.748Z"
   },
   {
    "duration": 21,
    "start_time": "2022-02-14T20:36:38.758Z"
   },
   {
    "duration": 16,
    "start_time": "2022-02-14T20:36:38.781Z"
   },
   {
    "duration": 479,
    "start_time": "2022-02-14T20:36:38.799Z"
   },
   {
    "duration": 19,
    "start_time": "2022-02-14T20:36:39.281Z"
   },
   {
    "duration": 520,
    "start_time": "2022-02-14T20:36:39.302Z"
   },
   {
    "duration": 209,
    "start_time": "2022-02-14T20:36:39.824Z"
   },
   {
    "duration": 22,
    "start_time": "2022-02-14T20:36:40.036Z"
   },
   {
    "duration": 489,
    "start_time": "2022-02-14T20:36:40.061Z"
   },
   {
    "duration": 7,
    "start_time": "2022-02-14T20:36:40.552Z"
   },
   {
    "duration": 505,
    "start_time": "2022-02-14T20:36:40.560Z"
   },
   {
    "duration": 498,
    "start_time": "2022-02-14T20:36:41.067Z"
   },
   {
    "duration": 7,
    "start_time": "2022-02-14T20:36:41.567Z"
   },
   {
    "duration": 215,
    "start_time": "2022-02-14T20:36:41.576Z"
   },
   {
    "duration": 11,
    "start_time": "2022-02-14T20:36:41.793Z"
   },
   {
    "duration": 32,
    "start_time": "2022-02-14T20:36:41.806Z"
   },
   {
    "duration": 6,
    "start_time": "2022-02-14T20:36:41.840Z"
   },
   {
    "duration": 18,
    "start_time": "2022-02-14T20:36:41.848Z"
   },
   {
    "duration": 16,
    "start_time": "2022-02-14T20:36:41.868Z"
   },
   {
    "duration": 49,
    "start_time": "2022-02-14T20:36:41.886Z"
   },
   {
    "duration": 8,
    "start_time": "2022-02-14T20:36:41.938Z"
   },
   {
    "duration": 15,
    "start_time": "2022-02-14T20:36:41.948Z"
   },
   {
    "duration": 19,
    "start_time": "2022-02-14T20:36:41.965Z"
   },
   {
    "duration": 47,
    "start_time": "2022-02-14T20:36:41.987Z"
   },
   {
    "duration": 15,
    "start_time": "2022-02-14T20:36:42.036Z"
   },
   {
    "duration": 14,
    "start_time": "2022-02-14T20:40:08.766Z"
   },
   {
    "duration": 215,
    "start_time": "2022-02-14T20:46:20.323Z"
   },
   {
    "duration": 207,
    "start_time": "2022-02-14T20:46:26.687Z"
   },
   {
    "duration": 1419,
    "start_time": "2022-02-14T20:53:44.580Z"
   },
   {
    "duration": 38,
    "start_time": "2022-02-14T20:53:46.003Z"
   },
   {
    "duration": 14,
    "start_time": "2022-02-14T20:53:46.045Z"
   },
   {
    "duration": 32,
    "start_time": "2022-02-14T20:53:46.062Z"
   },
   {
    "duration": 12,
    "start_time": "2022-02-14T20:53:46.096Z"
   },
   {
    "duration": 32,
    "start_time": "2022-02-14T20:53:46.111Z"
   },
   {
    "duration": 14,
    "start_time": "2022-02-14T20:53:46.146Z"
   },
   {
    "duration": 8,
    "start_time": "2022-02-14T20:53:46.165Z"
   },
   {
    "duration": 20,
    "start_time": "2022-02-14T20:53:46.177Z"
   },
   {
    "duration": 10,
    "start_time": "2022-02-14T20:53:46.234Z"
   },
   {
    "duration": 16,
    "start_time": "2022-02-14T20:53:46.246Z"
   },
   {
    "duration": 12,
    "start_time": "2022-02-14T20:53:46.265Z"
   },
   {
    "duration": 13,
    "start_time": "2022-02-14T20:53:46.280Z"
   },
   {
    "duration": 39,
    "start_time": "2022-02-14T20:53:46.296Z"
   },
   {
    "duration": 10,
    "start_time": "2022-02-14T20:53:46.337Z"
   },
   {
    "duration": 12,
    "start_time": "2022-02-14T20:53:46.349Z"
   },
   {
    "duration": 9,
    "start_time": "2022-02-14T20:53:46.363Z"
   },
   {
    "duration": 8,
    "start_time": "2022-02-14T20:53:46.375Z"
   },
   {
    "duration": 49,
    "start_time": "2022-02-14T20:53:46.385Z"
   },
   {
    "duration": 11,
    "start_time": "2022-02-14T20:53:46.437Z"
   },
   {
    "duration": 11,
    "start_time": "2022-02-14T20:53:46.450Z"
   },
   {
    "duration": 11,
    "start_time": "2022-02-14T20:53:46.464Z"
   },
   {
    "duration": 7,
    "start_time": "2022-02-14T20:53:46.483Z"
   },
   {
    "duration": 7,
    "start_time": "2022-02-14T20:53:46.534Z"
   },
   {
    "duration": 14,
    "start_time": "2022-02-14T20:53:46.544Z"
   },
   {
    "duration": 5,
    "start_time": "2022-02-14T20:53:46.560Z"
   },
   {
    "duration": 18,
    "start_time": "2022-02-14T20:53:46.568Z"
   },
   {
    "duration": 17,
    "start_time": "2022-02-14T20:53:46.633Z"
   },
   {
    "duration": 576,
    "start_time": "2022-02-14T20:53:46.653Z"
   },
   {
    "duration": 13,
    "start_time": "2022-02-14T20:53:47.233Z"
   },
   {
    "duration": 24,
    "start_time": "2022-02-14T20:53:47.248Z"
   },
   {
    "duration": 361,
    "start_time": "2022-02-14T20:53:47.275Z"
   },
   {
    "duration": 10,
    "start_time": "2022-02-14T20:53:47.638Z"
   },
   {
    "duration": 283,
    "start_time": "2022-02-14T20:53:47.651Z"
   },
   {
    "duration": 21,
    "start_time": "2022-02-14T20:53:47.936Z"
   },
   {
    "duration": 7,
    "start_time": "2022-02-14T20:53:47.959Z"
   },
   {
    "duration": 10,
    "start_time": "2022-02-14T20:53:47.968Z"
   },
   {
    "duration": 605,
    "start_time": "2022-02-14T20:53:47.980Z"
   },
   {
    "duration": 552,
    "start_time": "2022-02-14T20:53:48.587Z"
   },
   {
    "duration": 9,
    "start_time": "2022-02-14T20:53:49.141Z"
   },
   {
    "duration": 495,
    "start_time": "2022-02-14T20:53:49.152Z"
   },
   {
    "duration": 11,
    "start_time": "2022-02-14T20:53:49.650Z"
   },
   {
    "duration": 20,
    "start_time": "2022-02-14T20:53:49.663Z"
   },
   {
    "duration": 23,
    "start_time": "2022-02-14T20:53:49.685Z"
   },
   {
    "duration": 473,
    "start_time": "2022-02-14T20:53:49.711Z"
   },
   {
    "duration": 19,
    "start_time": "2022-02-14T20:53:50.187Z"
   },
   {
    "duration": 533,
    "start_time": "2022-02-14T20:53:50.208Z"
   },
   {
    "duration": 194,
    "start_time": "2022-02-14T20:53:50.743Z"
   },
   {
    "duration": 22,
    "start_time": "2022-02-14T20:53:50.939Z"
   },
   {
    "duration": 455,
    "start_time": "2022-02-14T20:53:50.963Z"
   },
   {
    "duration": 12,
    "start_time": "2022-02-14T20:53:51.421Z"
   },
   {
    "duration": 497,
    "start_time": "2022-02-14T20:53:51.436Z"
   },
   {
    "duration": 497,
    "start_time": "2022-02-14T20:53:51.935Z"
   },
   {
    "duration": 6,
    "start_time": "2022-02-14T20:53:52.434Z"
   },
   {
    "duration": 222,
    "start_time": "2022-02-14T20:53:52.442Z"
   },
   {
    "duration": 10,
    "start_time": "2022-02-14T20:53:52.667Z"
   },
   {
    "duration": 19,
    "start_time": "2022-02-14T20:53:52.679Z"
   },
   {
    "duration": 31,
    "start_time": "2022-02-14T20:53:52.702Z"
   },
   {
    "duration": 18,
    "start_time": "2022-02-14T20:53:52.736Z"
   },
   {
    "duration": 17,
    "start_time": "2022-02-14T20:53:52.756Z"
   },
   {
    "duration": 12,
    "start_time": "2022-02-14T20:53:52.775Z"
   },
   {
    "duration": 47,
    "start_time": "2022-02-14T20:53:52.790Z"
   },
   {
    "duration": 15,
    "start_time": "2022-02-14T20:53:52.839Z"
   },
   {
    "duration": 14,
    "start_time": "2022-02-14T20:53:52.856Z"
   },
   {
    "duration": 14,
    "start_time": "2022-02-14T20:53:52.873Z"
   },
   {
    "duration": 51,
    "start_time": "2022-02-14T20:53:52.890Z"
   },
   {
    "duration": 1565,
    "start_time": "2022-02-20T19:01:40.176Z"
   },
   {
    "duration": 28,
    "start_time": "2022-02-20T19:01:41.744Z"
   },
   {
    "duration": 11,
    "start_time": "2022-02-20T19:01:41.777Z"
   },
   {
    "duration": 25,
    "start_time": "2022-02-20T19:01:41.791Z"
   },
   {
    "duration": 32,
    "start_time": "2022-02-20T19:01:41.818Z"
   },
   {
    "duration": 14,
    "start_time": "2022-02-20T19:01:41.852Z"
   },
   {
    "duration": 12,
    "start_time": "2022-02-20T19:01:41.869Z"
   },
   {
    "duration": 12,
    "start_time": "2022-02-20T19:01:41.884Z"
   },
   {
    "duration": 51,
    "start_time": "2022-02-20T19:01:41.898Z"
   },
   {
    "duration": 8,
    "start_time": "2022-02-20T19:01:41.952Z"
   },
   {
    "duration": 14,
    "start_time": "2022-02-20T19:01:41.962Z"
   },
   {
    "duration": 11,
    "start_time": "2022-02-20T19:01:41.978Z"
   },
   {
    "duration": 13,
    "start_time": "2022-02-20T19:01:41.992Z"
   },
   {
    "duration": 45,
    "start_time": "2022-02-20T19:01:42.008Z"
   },
   {
    "duration": 14,
    "start_time": "2022-02-20T19:01:42.056Z"
   },
   {
    "duration": 14,
    "start_time": "2022-02-20T19:01:42.072Z"
   },
   {
    "duration": 8,
    "start_time": "2022-02-20T19:01:42.089Z"
   },
   {
    "duration": 51,
    "start_time": "2022-02-20T19:01:42.099Z"
   },
   {
    "duration": 12,
    "start_time": "2022-02-20T19:01:42.153Z"
   },
   {
    "duration": 14,
    "start_time": "2022-02-20T19:01:42.168Z"
   },
   {
    "duration": 12,
    "start_time": "2022-02-20T19:01:42.185Z"
   },
   {
    "duration": 51,
    "start_time": "2022-02-20T19:01:42.200Z"
   },
   {
    "duration": 8,
    "start_time": "2022-02-20T19:01:42.259Z"
   },
   {
    "duration": 9,
    "start_time": "2022-02-20T19:01:42.272Z"
   },
   {
    "duration": 21,
    "start_time": "2022-02-20T19:01:42.284Z"
   },
   {
    "duration": 43,
    "start_time": "2022-02-20T19:01:42.307Z"
   },
   {
    "duration": 22,
    "start_time": "2022-02-20T19:01:42.353Z"
   },
   {
    "duration": 16,
    "start_time": "2022-02-20T19:01:42.377Z"
   },
   {
    "duration": 671,
    "start_time": "2022-02-20T19:01:42.396Z"
   },
   {
    "duration": 13,
    "start_time": "2022-02-20T19:01:43.069Z"
   },
   {
    "duration": 16,
    "start_time": "2022-02-20T19:01:43.085Z"
   },
   {
    "duration": 399,
    "start_time": "2022-02-20T19:01:43.103Z"
   },
   {
    "duration": 13,
    "start_time": "2022-02-20T19:01:43.505Z"
   },
   {
    "duration": 302,
    "start_time": "2022-02-20T19:01:43.521Z"
   },
   {
    "duration": 33,
    "start_time": "2022-02-20T19:01:43.826Z"
   },
   {
    "duration": 9,
    "start_time": "2022-02-20T19:01:43.862Z"
   },
   {
    "duration": 10,
    "start_time": "2022-02-20T19:01:43.874Z"
   },
   {
    "duration": 619,
    "start_time": "2022-02-20T19:01:43.886Z"
   },
   {
    "duration": 569,
    "start_time": "2022-02-20T19:01:44.508Z"
   },
   {
    "duration": 10,
    "start_time": "2022-02-20T19:01:45.081Z"
   },
   {
    "duration": 573,
    "start_time": "2022-02-20T19:01:45.094Z"
   },
   {
    "duration": 10,
    "start_time": "2022-02-20T19:01:45.670Z"
   },
   {
    "duration": 19,
    "start_time": "2022-02-20T19:01:45.683Z"
   },
   {
    "duration": 46,
    "start_time": "2022-02-20T19:01:45.705Z"
   },
   {
    "duration": 501,
    "start_time": "2022-02-20T19:01:45.753Z"
   },
   {
    "duration": 23,
    "start_time": "2022-02-20T19:01:46.256Z"
   },
   {
    "duration": 511,
    "start_time": "2022-02-20T19:01:46.282Z"
   },
   {
    "duration": 215,
    "start_time": "2022-02-20T19:01:46.795Z"
   },
   {
    "duration": 37,
    "start_time": "2022-02-20T19:01:47.012Z"
   },
   {
    "duration": 559,
    "start_time": "2022-02-20T19:01:47.052Z"
   },
   {
    "duration": 6,
    "start_time": "2022-02-20T19:01:47.614Z"
   },
   {
    "duration": 567,
    "start_time": "2022-02-20T19:01:47.623Z"
   },
   {
    "duration": 531,
    "start_time": "2022-02-20T19:01:48.192Z"
   },
   {
    "duration": 21,
    "start_time": "2022-02-20T19:01:48.727Z"
   },
   {
    "duration": 237,
    "start_time": "2022-02-20T19:01:48.751Z"
   },
   {
    "duration": 10,
    "start_time": "2022-02-20T19:01:48.991Z"
   },
   {
    "duration": 30,
    "start_time": "2022-02-20T19:01:49.003Z"
   },
   {
    "duration": 14,
    "start_time": "2022-02-20T19:01:49.036Z"
   },
   {
    "duration": 25,
    "start_time": "2022-02-20T19:01:49.053Z"
   },
   {
    "duration": 21,
    "start_time": "2022-02-20T19:01:49.080Z"
   },
   {
    "duration": 20,
    "start_time": "2022-02-20T19:01:49.103Z"
   },
   {
    "duration": 25,
    "start_time": "2022-02-20T19:01:49.125Z"
   },
   {
    "duration": 24,
    "start_time": "2022-02-20T19:01:49.153Z"
   },
   {
    "duration": 25,
    "start_time": "2022-02-20T19:01:49.180Z"
   },
   {
    "duration": 13,
    "start_time": "2022-02-20T19:01:49.208Z"
   },
   {
    "duration": 31,
    "start_time": "2022-02-20T19:01:49.224Z"
   }
  ],
  "kernelspec": {
   "display_name": "Python 3",
   "language": "python",
   "name": "python3"
  },
  "language_info": {
   "codemirror_mode": {
    "name": "ipython",
    "version": 3
   },
   "file_extension": ".py",
   "mimetype": "text/x-python",
   "name": "python",
   "nbconvert_exporter": "python",
   "pygments_lexer": "ipython3",
   "version": "3.7.8"
  },
  "toc": {
   "base_numbering": 1,
   "nav_menu": {},
   "number_sections": true,
   "sideBar": true,
   "skip_h1_title": true,
   "title_cell": "Table of Contents",
   "title_sidebar": "Contents",
   "toc_cell": false,
   "toc_position": {
    "height": "calc(100% - 180px)",
    "left": "10px",
    "top": "150px",
    "width": "286.237px"
   },
   "toc_section_display": true,
   "toc_window_display": true
  }
 },
 "nbformat": 4,
 "nbformat_minor": 2
}
